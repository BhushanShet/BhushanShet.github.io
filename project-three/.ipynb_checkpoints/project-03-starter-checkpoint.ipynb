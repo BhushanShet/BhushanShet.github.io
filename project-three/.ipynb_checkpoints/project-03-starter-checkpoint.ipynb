{
 "cells": [
  {
   "cell_type": "markdown",
   "metadata": {},
   "source": [
    "<img src=\"http://imgur.com/1ZcRyrc.png\" style=\"float: left; margin: 15px; height: 80px\">\n",
    "\n",
    "# Project 3\n",
    "\n",
    "### Regression and Classification with the Ames Housing Data\n",
    "\n",
    "---\n",
    "\n",
    "You have just joined a new \"full stack\" real estate company in Ames, Iowa. The strategy of the firm is two-fold:\n",
    "- Own the entire process from the purchase of the land all the way to sale of the house, and anything in between.\n",
    "- Use statistical analysis to optimize investment and maximize return.\n",
    "\n",
    "The company is still small, and though investment is substantial the short-term goals of the company are more oriented towards purchasing existing houses and flipping them as opposed to constructing entirely new houses. That being said, the company has access to a large construction workforce operating at rock-bottom prices.\n",
    "\n",
    "This project uses the [Ames housing data recently made available on kaggle](https://www.kaggle.com/c/house-prices-advanced-regression-techniques)."
   ]
  },
  {
   "cell_type": "code",
   "execution_count": 1,
   "metadata": {
    "collapsed": true
   },
   "outputs": [],
   "source": [
    "import numpy as np\n",
    "import scipy.stats as stats\n",
    "import seaborn as sns\n",
    "import matplotlib.pyplot as plt\n",
    "import pandas as pd\n",
    "from sklearn import linear_model\n",
    "from sklearn.metrics import mean_squared_error, mean_absolute_error, classification_report, confusion_matrix, roc_curve\n",
    "from sklearn.preprocessing import StandardScaler\n",
    "from sklearn.model_selection import train_test_split, cross_val_score, cross_val_predict, GridSearchCV \n",
    "from sklearn.linear_model import Ridge\n",
    "import patsy\n",
    "\n",
    "sns.set_style('whitegrid')\n",
    "\n",
    "#pd.set_option('display.max_columns', None)\n",
    "#pd.set_option('display.max_rows', None)"
   ]
  },
  {
   "cell_type": "markdown",
   "metadata": {},
   "source": [
    "<img src=\"http://imgur.com/l5NasQj.png\" style=\"float: left; margin: 25px 15px 0px 0px; height: 25px\">\n",
    "\n",
    "## 1. Estimating the value of homes from fixed characteristics.\n",
    "\n",
    "---\n",
    "\n",
    "Your superiors have outlined this year's strategy for the company:\n",
    "1. Develop an algorithm to reliably estimate the value of residential houses based on *fixed* characteristics.\n",
    "2. Identify characteristics of houses that the company can cost-effectively change/renovate with their construction team.\n",
    "3. Evaluate the mean dollar value of different renovations.\n",
    "\n",
    "Then we can use that to buy houses that are likely to sell for more than the cost of the purchase plus renovations.\n",
    "\n",
    "Your first job is to tackle #1. You have a dataset of housing sale data with a huge amount of features identifying different aspects of the house. The full description of the data features can be found in a separate file:\n",
    "\n",
    "    housing.csv\n",
    "    data_description.txt\n",
    "    \n",
    "You need to build a reliable estimator for the price of the house given characteristics of the house that cannot be renovated. Some examples include:\n",
    "- The neighborhood\n",
    "- Square feet\n",
    "- Bedrooms, bathrooms\n",
    "- Basement and garage space\n",
    "\n",
    "and many more. \n",
    "\n",
    "Some examples of things that **ARE renovate-able:**\n",
    "- Roof and exterior features\n",
    "- \"Quality\" metrics, such as kitchen quality\n",
    "- \"Condition\" metrics, such as condition of garage\n",
    "- Heating and electrical components\n",
    "\n",
    "and generally anything you deem can be modified without having to undergo major construction on the house.\n",
    "\n",
    "---\n",
    "\n",
    "**Your goals:**\n",
    "1. Perform any cleaning, feature engineering, and EDA you deem necessary.\n",
    "- Be sure to remove any houses that are not residential from the dataset.\n",
    "- Identify **fixed** features that can predict price.\n",
    "- Train a model on pre-2010 data and evaluate its performance on the 2010 houses.\n",
    "- Characterize your model. How well does it perform? What are the best estimates of price?\n",
    "\n",
    "> **Note:** The EDA and feature engineering component to this project is not trivial! Be sure to always think critically and creatively. Justify your actions! Use the data description file!"
   ]
  },
  {
   "cell_type": "code",
   "execution_count": 2,
   "metadata": {},
   "outputs": [
    {
     "data": {
      "text/plain": [
       "(1460, 81)"
      ]
     },
     "execution_count": 2,
     "metadata": {},
     "output_type": "execute_result"
    }
   ],
   "source": [
    "# Load the data\n",
    "house = pd.read_csv('./housing.csv')\n",
    "house.shape"
   ]
  },
  {
   "cell_type": "code",
   "execution_count": 3,
   "metadata": {},
   "outputs": [
    {
     "data": {
      "text/html": [
       "<div>\n",
       "<style>\n",
       "    .dataframe thead tr:only-child th {\n",
       "        text-align: right;\n",
       "    }\n",
       "\n",
       "    .dataframe thead th {\n",
       "        text-align: left;\n",
       "    }\n",
       "\n",
       "    .dataframe tbody tr th {\n",
       "        vertical-align: top;\n",
       "    }\n",
       "</style>\n",
       "<table border=\"1\" class=\"dataframe\">\n",
       "  <thead>\n",
       "    <tr style=\"text-align: right;\">\n",
       "      <th></th>\n",
       "      <th>Id</th>\n",
       "      <th>MSSubClass</th>\n",
       "      <th>MSZoning</th>\n",
       "      <th>LotFrontage</th>\n",
       "      <th>LotArea</th>\n",
       "      <th>Street</th>\n",
       "      <th>Alley</th>\n",
       "      <th>LotShape</th>\n",
       "      <th>LandContour</th>\n",
       "      <th>Utilities</th>\n",
       "      <th>...</th>\n",
       "      <th>PoolArea</th>\n",
       "      <th>PoolQC</th>\n",
       "      <th>Fence</th>\n",
       "      <th>MiscFeature</th>\n",
       "      <th>MiscVal</th>\n",
       "      <th>MoSold</th>\n",
       "      <th>YrSold</th>\n",
       "      <th>SaleType</th>\n",
       "      <th>SaleCondition</th>\n",
       "      <th>SalePrice</th>\n",
       "    </tr>\n",
       "  </thead>\n",
       "  <tbody>\n",
       "    <tr>\n",
       "      <th>0</th>\n",
       "      <td>1</td>\n",
       "      <td>60</td>\n",
       "      <td>RL</td>\n",
       "      <td>65.0</td>\n",
       "      <td>8450</td>\n",
       "      <td>Pave</td>\n",
       "      <td>NaN</td>\n",
       "      <td>Reg</td>\n",
       "      <td>Lvl</td>\n",
       "      <td>AllPub</td>\n",
       "      <td>...</td>\n",
       "      <td>0</td>\n",
       "      <td>NaN</td>\n",
       "      <td>NaN</td>\n",
       "      <td>NaN</td>\n",
       "      <td>0</td>\n",
       "      <td>2</td>\n",
       "      <td>2008</td>\n",
       "      <td>WD</td>\n",
       "      <td>Normal</td>\n",
       "      <td>208500</td>\n",
       "    </tr>\n",
       "  </tbody>\n",
       "</table>\n",
       "<p>1 rows × 81 columns</p>\n",
       "</div>"
      ],
      "text/plain": [
       "   Id  MSSubClass MSZoning  LotFrontage  LotArea Street Alley LotShape  \\\n",
       "0   1          60       RL         65.0     8450   Pave   NaN      Reg   \n",
       "\n",
       "  LandContour Utilities    ...     PoolArea PoolQC Fence MiscFeature MiscVal  \\\n",
       "0         Lvl    AllPub    ...            0    NaN   NaN         NaN       0   \n",
       "\n",
       "  MoSold YrSold  SaleType  SaleCondition  SalePrice  \n",
       "0      2   2008        WD         Normal     208500  \n",
       "\n",
       "[1 rows x 81 columns]"
      ]
     },
     "execution_count": 3,
     "metadata": {},
     "output_type": "execute_result"
    }
   ],
   "source": [
    "# A:\n",
    "house.head(1)"
   ]
  },
  {
   "cell_type": "code",
   "execution_count": 4,
   "metadata": {},
   "outputs": [
    {
     "data": {
      "text/plain": [
       "array([dtype('int64'), dtype('O'), dtype('float64')], dtype=object)"
      ]
     },
     "execution_count": 4,
     "metadata": {},
     "output_type": "execute_result"
    }
   ],
   "source": [
    "house.dtypes.unique()"
   ]
  },
  {
   "cell_type": "code",
   "execution_count": 5,
   "metadata": {},
   "outputs": [
    {
     "name": "stdout",
     "output_type": "stream",
     "text": [
      "Id int64\n",
      "MSSubClass int64\n",
      "MSZoning object\n",
      "LotFrontage float64\n",
      "LotArea int64\n",
      "Street object\n",
      "Alley object\n",
      "LotShape object\n",
      "LandContour object\n",
      "Utilities object\n",
      "LotConfig object\n",
      "LandSlope object\n",
      "Neighborhood object\n",
      "Condition1 object\n",
      "Condition2 object\n",
      "BldgType object\n",
      "HouseStyle object\n",
      "OverallQual int64\n",
      "OverallCond int64\n",
      "YearBuilt int64\n",
      "YearRemodAdd int64\n",
      "RoofStyle object\n",
      "RoofMatl object\n",
      "Exterior1st object\n",
      "Exterior2nd object\n",
      "MasVnrType object\n",
      "MasVnrArea float64\n",
      "ExterQual object\n",
      "ExterCond object\n",
      "Foundation object\n",
      "BsmtQual object\n",
      "BsmtCond object\n",
      "BsmtExposure object\n",
      "BsmtFinType1 object\n",
      "BsmtFinSF1 int64\n",
      "BsmtFinType2 object\n",
      "BsmtFinSF2 int64\n",
      "BsmtUnfSF int64\n",
      "TotalBsmtSF int64\n",
      "Heating object\n",
      "HeatingQC object\n",
      "CentralAir object\n",
      "Electrical object\n",
      "1stFlrSF int64\n",
      "2ndFlrSF int64\n",
      "LowQualFinSF int64\n",
      "GrLivArea int64\n",
      "BsmtFullBath int64\n",
      "BsmtHalfBath int64\n",
      "FullBath int64\n",
      "HalfBath int64\n",
      "BedroomAbvGr int64\n",
      "KitchenAbvGr int64\n",
      "KitchenQual object\n",
      "TotRmsAbvGrd int64\n",
      "Functional object\n",
      "Fireplaces int64\n",
      "FireplaceQu object\n",
      "GarageType object\n",
      "GarageYrBlt float64\n",
      "GarageFinish object\n",
      "GarageCars int64\n",
      "GarageArea int64\n",
      "GarageQual object\n",
      "GarageCond object\n",
      "PavedDrive object\n",
      "WoodDeckSF int64\n",
      "OpenPorchSF int64\n",
      "EnclosedPorch int64\n",
      "3SsnPorch int64\n",
      "ScreenPorch int64\n",
      "PoolArea int64\n",
      "PoolQC object\n",
      "Fence object\n",
      "MiscFeature object\n",
      "MiscVal int64\n",
      "MoSold int64\n",
      "YrSold int64\n",
      "SaleType object\n",
      "SaleCondition object\n",
      "SalePrice int64\n"
     ]
    }
   ],
   "source": [
    "for i in house.columns:\n",
    "    print i, house[i].dtypes"
   ]
  },
  {
   "cell_type": "code",
   "execution_count": 6,
   "metadata": {},
   "outputs": [
    {
     "data": {
      "text/plain": [
       "Index([u'Id', u'MSSubClass', u'MSZoning', u'LotFrontage', u'LotArea',\n",
       "       u'Street', u'Alley', u'LotShape', u'LandContour', u'Utilities',\n",
       "       u'LotConfig', u'LandSlope', u'Neighborhood', u'Condition1',\n",
       "       u'Condition2', u'BldgType', u'HouseStyle', u'OverallQual',\n",
       "       u'OverallCond', u'YearBuilt', u'YearRemodAdd', u'RoofStyle',\n",
       "       u'RoofMatl', u'Exterior1st', u'Exterior2nd', u'MasVnrType',\n",
       "       u'MasVnrArea', u'ExterQual', u'ExterCond', u'Foundation', u'BsmtQual',\n",
       "       u'BsmtCond', u'BsmtExposure', u'BsmtFinType1', u'BsmtFinSF1',\n",
       "       u'BsmtFinType2', u'BsmtFinSF2', u'BsmtUnfSF', u'TotalBsmtSF',\n",
       "       u'Heating', u'HeatingQC', u'CentralAir', u'Electrical', u'1stFlrSF',\n",
       "       u'2ndFlrSF', u'LowQualFinSF', u'GrLivArea', u'BsmtFullBath',\n",
       "       u'BsmtHalfBath', u'FullBath', u'HalfBath', u'BedroomAbvGr',\n",
       "       u'KitchenAbvGr', u'KitchenQual', u'TotRmsAbvGrd', u'Functional',\n",
       "       u'Fireplaces', u'FireplaceQu', u'GarageType', u'GarageYrBlt',\n",
       "       u'GarageFinish', u'GarageCars', u'GarageArea', u'GarageQual',\n",
       "       u'GarageCond', u'PavedDrive', u'WoodDeckSF', u'OpenPorchSF',\n",
       "       u'EnclosedPorch', u'3SsnPorch', u'ScreenPorch', u'PoolArea', u'PoolQC',\n",
       "       u'Fence', u'MiscFeature', u'MiscVal', u'MoSold', u'YrSold', u'SaleType',\n",
       "       u'SaleCondition', u'SalePrice'],\n",
       "      dtype='object')"
      ]
     },
     "execution_count": 6,
     "metadata": {},
     "output_type": "execute_result"
    }
   ],
   "source": [
    "house.columns"
   ]
  },
  {
   "cell_type": "markdown",
   "metadata": {},
   "source": [
    "### Drop the ID "
   ]
  },
  {
   "cell_type": "code",
   "execution_count": 7,
   "metadata": {},
   "outputs": [
    {
     "data": {
      "text/html": [
       "<div>\n",
       "<style>\n",
       "    .dataframe thead tr:only-child th {\n",
       "        text-align: right;\n",
       "    }\n",
       "\n",
       "    .dataframe thead th {\n",
       "        text-align: left;\n",
       "    }\n",
       "\n",
       "    .dataframe tbody tr th {\n",
       "        vertical-align: top;\n",
       "    }\n",
       "</style>\n",
       "<table border=\"1\" class=\"dataframe\">\n",
       "  <thead>\n",
       "    <tr style=\"text-align: right;\">\n",
       "      <th></th>\n",
       "      <th>MSSubClass</th>\n",
       "      <th>MSZoning</th>\n",
       "      <th>LotFrontage</th>\n",
       "      <th>LotArea</th>\n",
       "      <th>Street</th>\n",
       "      <th>Alley</th>\n",
       "      <th>LotShape</th>\n",
       "      <th>LandContour</th>\n",
       "      <th>Utilities</th>\n",
       "      <th>LotConfig</th>\n",
       "      <th>...</th>\n",
       "      <th>PoolArea</th>\n",
       "      <th>PoolQC</th>\n",
       "      <th>Fence</th>\n",
       "      <th>MiscFeature</th>\n",
       "      <th>MiscVal</th>\n",
       "      <th>MoSold</th>\n",
       "      <th>YrSold</th>\n",
       "      <th>SaleType</th>\n",
       "      <th>SaleCondition</th>\n",
       "      <th>SalePrice</th>\n",
       "    </tr>\n",
       "  </thead>\n",
       "  <tbody>\n",
       "    <tr>\n",
       "      <th>0</th>\n",
       "      <td>60</td>\n",
       "      <td>RL</td>\n",
       "      <td>65.0</td>\n",
       "      <td>8450</td>\n",
       "      <td>Pave</td>\n",
       "      <td>NaN</td>\n",
       "      <td>Reg</td>\n",
       "      <td>Lvl</td>\n",
       "      <td>AllPub</td>\n",
       "      <td>Inside</td>\n",
       "      <td>...</td>\n",
       "      <td>0</td>\n",
       "      <td>NaN</td>\n",
       "      <td>NaN</td>\n",
       "      <td>NaN</td>\n",
       "      <td>0</td>\n",
       "      <td>2</td>\n",
       "      <td>2008</td>\n",
       "      <td>WD</td>\n",
       "      <td>Normal</td>\n",
       "      <td>208500</td>\n",
       "    </tr>\n",
       "  </tbody>\n",
       "</table>\n",
       "<p>1 rows × 80 columns</p>\n",
       "</div>"
      ],
      "text/plain": [
       "   MSSubClass MSZoning  LotFrontage  LotArea Street Alley LotShape  \\\n",
       "0          60       RL         65.0     8450   Pave   NaN      Reg   \n",
       "\n",
       "  LandContour Utilities LotConfig    ...     PoolArea PoolQC Fence  \\\n",
       "0         Lvl    AllPub    Inside    ...            0    NaN   NaN   \n",
       "\n",
       "  MiscFeature MiscVal MoSold  YrSold  SaleType  SaleCondition  SalePrice  \n",
       "0         NaN       0      2    2008        WD         Normal     208500  \n",
       "\n",
       "[1 rows x 80 columns]"
      ]
     },
     "execution_count": 7,
     "metadata": {},
     "output_type": "execute_result"
    }
   ],
   "source": [
    "house = house.drop('Id', axis=1)\n",
    "house.head(1)"
   ]
  },
  {
   "cell_type": "markdown",
   "metadata": {},
   "source": []
  },
  {
   "cell_type": "markdown",
   "metadata": {},
   "source": [
    "### Change MSSubclass from codes to the respective categories"
   ]
  },
  {
   "cell_type": "code",
   "execution_count": 8,
   "metadata": {
    "collapsed": true
   },
   "outputs": [],
   "source": [
    "swap = {20:'OneStory1946New', 30:'OneStory1945Old', 40:'OneStory', 45:'OneHalfStoryUF',\n",
    "         50:'OneHalfStoryF', 60:'TwoStory1946New', 70:'TwoStory1945Old', 75:'TwoHalfStory',\n",
    "         80:'SplitMultiLevel', 85:'SplitFoyer', 90:'Duplex', 120:'OneStoryPUD1946New',\n",
    "         150:'OneHalfStoryPUD', 160:'TwoStoryPUD1946New', 180:'PUDMultiLevel', 190:'TwoFamConv'}"
   ]
  },
  {
   "cell_type": "code",
   "execution_count": 9,
   "metadata": {},
   "outputs": [
    {
     "data": {
      "text/html": [
       "<div>\n",
       "<style>\n",
       "    .dataframe thead tr:only-child th {\n",
       "        text-align: right;\n",
       "    }\n",
       "\n",
       "    .dataframe thead th {\n",
       "        text-align: left;\n",
       "    }\n",
       "\n",
       "    .dataframe tbody tr th {\n",
       "        vertical-align: top;\n",
       "    }\n",
       "</style>\n",
       "<table border=\"1\" class=\"dataframe\">\n",
       "  <thead>\n",
       "    <tr style=\"text-align: right;\">\n",
       "      <th></th>\n",
       "      <th>MSSubClass</th>\n",
       "      <th>MSZoning</th>\n",
       "      <th>LotFrontage</th>\n",
       "      <th>LotArea</th>\n",
       "      <th>Street</th>\n",
       "      <th>Alley</th>\n",
       "      <th>LotShape</th>\n",
       "      <th>LandContour</th>\n",
       "      <th>Utilities</th>\n",
       "      <th>LotConfig</th>\n",
       "      <th>...</th>\n",
       "      <th>PoolArea</th>\n",
       "      <th>PoolQC</th>\n",
       "      <th>Fence</th>\n",
       "      <th>MiscFeature</th>\n",
       "      <th>MiscVal</th>\n",
       "      <th>MoSold</th>\n",
       "      <th>YrSold</th>\n",
       "      <th>SaleType</th>\n",
       "      <th>SaleCondition</th>\n",
       "      <th>SalePrice</th>\n",
       "    </tr>\n",
       "  </thead>\n",
       "  <tbody>\n",
       "    <tr>\n",
       "      <th>0</th>\n",
       "      <td>TwoStory1946New</td>\n",
       "      <td>RL</td>\n",
       "      <td>65.0</td>\n",
       "      <td>8450</td>\n",
       "      <td>Pave</td>\n",
       "      <td>NaN</td>\n",
       "      <td>Reg</td>\n",
       "      <td>Lvl</td>\n",
       "      <td>AllPub</td>\n",
       "      <td>Inside</td>\n",
       "      <td>...</td>\n",
       "      <td>0</td>\n",
       "      <td>NaN</td>\n",
       "      <td>NaN</td>\n",
       "      <td>NaN</td>\n",
       "      <td>0</td>\n",
       "      <td>2</td>\n",
       "      <td>2008</td>\n",
       "      <td>WD</td>\n",
       "      <td>Normal</td>\n",
       "      <td>208500</td>\n",
       "    </tr>\n",
       "    <tr>\n",
       "      <th>1</th>\n",
       "      <td>OneStory1946New</td>\n",
       "      <td>RL</td>\n",
       "      <td>80.0</td>\n",
       "      <td>9600</td>\n",
       "      <td>Pave</td>\n",
       "      <td>NaN</td>\n",
       "      <td>Reg</td>\n",
       "      <td>Lvl</td>\n",
       "      <td>AllPub</td>\n",
       "      <td>FR2</td>\n",
       "      <td>...</td>\n",
       "      <td>0</td>\n",
       "      <td>NaN</td>\n",
       "      <td>NaN</td>\n",
       "      <td>NaN</td>\n",
       "      <td>0</td>\n",
       "      <td>5</td>\n",
       "      <td>2007</td>\n",
       "      <td>WD</td>\n",
       "      <td>Normal</td>\n",
       "      <td>181500</td>\n",
       "    </tr>\n",
       "    <tr>\n",
       "      <th>2</th>\n",
       "      <td>TwoStory1946New</td>\n",
       "      <td>RL</td>\n",
       "      <td>68.0</td>\n",
       "      <td>11250</td>\n",
       "      <td>Pave</td>\n",
       "      <td>NaN</td>\n",
       "      <td>IR1</td>\n",
       "      <td>Lvl</td>\n",
       "      <td>AllPub</td>\n",
       "      <td>Inside</td>\n",
       "      <td>...</td>\n",
       "      <td>0</td>\n",
       "      <td>NaN</td>\n",
       "      <td>NaN</td>\n",
       "      <td>NaN</td>\n",
       "      <td>0</td>\n",
       "      <td>9</td>\n",
       "      <td>2008</td>\n",
       "      <td>WD</td>\n",
       "      <td>Normal</td>\n",
       "      <td>223500</td>\n",
       "    </tr>\n",
       "    <tr>\n",
       "      <th>3</th>\n",
       "      <td>TwoStory1945Old</td>\n",
       "      <td>RL</td>\n",
       "      <td>60.0</td>\n",
       "      <td>9550</td>\n",
       "      <td>Pave</td>\n",
       "      <td>NaN</td>\n",
       "      <td>IR1</td>\n",
       "      <td>Lvl</td>\n",
       "      <td>AllPub</td>\n",
       "      <td>Corner</td>\n",
       "      <td>...</td>\n",
       "      <td>0</td>\n",
       "      <td>NaN</td>\n",
       "      <td>NaN</td>\n",
       "      <td>NaN</td>\n",
       "      <td>0</td>\n",
       "      <td>2</td>\n",
       "      <td>2006</td>\n",
       "      <td>WD</td>\n",
       "      <td>Abnorml</td>\n",
       "      <td>140000</td>\n",
       "    </tr>\n",
       "    <tr>\n",
       "      <th>4</th>\n",
       "      <td>TwoStory1946New</td>\n",
       "      <td>RL</td>\n",
       "      <td>84.0</td>\n",
       "      <td>14260</td>\n",
       "      <td>Pave</td>\n",
       "      <td>NaN</td>\n",
       "      <td>IR1</td>\n",
       "      <td>Lvl</td>\n",
       "      <td>AllPub</td>\n",
       "      <td>FR2</td>\n",
       "      <td>...</td>\n",
       "      <td>0</td>\n",
       "      <td>NaN</td>\n",
       "      <td>NaN</td>\n",
       "      <td>NaN</td>\n",
       "      <td>0</td>\n",
       "      <td>12</td>\n",
       "      <td>2008</td>\n",
       "      <td>WD</td>\n",
       "      <td>Normal</td>\n",
       "      <td>250000</td>\n",
       "    </tr>\n",
       "  </tbody>\n",
       "</table>\n",
       "<p>5 rows × 80 columns</p>\n",
       "</div>"
      ],
      "text/plain": [
       "        MSSubClass MSZoning  LotFrontage  LotArea Street Alley LotShape  \\\n",
       "0  TwoStory1946New       RL         65.0     8450   Pave   NaN      Reg   \n",
       "1  OneStory1946New       RL         80.0     9600   Pave   NaN      Reg   \n",
       "2  TwoStory1946New       RL         68.0    11250   Pave   NaN      IR1   \n",
       "3  TwoStory1945Old       RL         60.0     9550   Pave   NaN      IR1   \n",
       "4  TwoStory1946New       RL         84.0    14260   Pave   NaN      IR1   \n",
       "\n",
       "  LandContour Utilities LotConfig    ...     PoolArea PoolQC Fence  \\\n",
       "0         Lvl    AllPub    Inside    ...            0    NaN   NaN   \n",
       "1         Lvl    AllPub       FR2    ...            0    NaN   NaN   \n",
       "2         Lvl    AllPub    Inside    ...            0    NaN   NaN   \n",
       "3         Lvl    AllPub    Corner    ...            0    NaN   NaN   \n",
       "4         Lvl    AllPub       FR2    ...            0    NaN   NaN   \n",
       "\n",
       "  MiscFeature MiscVal MoSold  YrSold  SaleType  SaleCondition  SalePrice  \n",
       "0         NaN       0      2    2008        WD         Normal     208500  \n",
       "1         NaN       0      5    2007        WD         Normal     181500  \n",
       "2         NaN       0      9    2008        WD         Normal     223500  \n",
       "3         NaN       0      2    2006        WD        Abnorml     140000  \n",
       "4         NaN       0     12    2008        WD         Normal     250000  \n",
       "\n",
       "[5 rows x 80 columns]"
      ]
     },
     "execution_count": 9,
     "metadata": {},
     "output_type": "execute_result"
    }
   ],
   "source": [
    "house.MSSubClass.replace(swap, inplace=True)\n",
    "house.head()"
   ]
  },
  {
   "cell_type": "markdown",
   "metadata": {},
   "source": [
    "##### Rename column names to prevent conflict with patsy"
   ]
  },
  {
   "cell_type": "code",
   "execution_count": 10,
   "metadata": {
    "collapsed": true
   },
   "outputs": [],
   "source": [
    "house = house.rename(columns={'1stFlrSF': 'FirstFlrSF', '2ndFlrSF': 'SecondFlrSF', '3SsnPorch': 'ThreePorch'})"
   ]
  },
  {
   "cell_type": "code",
   "execution_count": 11,
   "metadata": {},
   "outputs": [
    {
     "name": "stdout",
     "output_type": "stream",
     "text": [
      "LotFrontage 259\n",
      "Alley 1369\n",
      "MasVnrType 8\n",
      "MasVnrArea 8\n",
      "BsmtQual 37\n",
      "BsmtCond 37\n",
      "BsmtExposure 38\n",
      "BsmtFinType1 37\n",
      "BsmtFinType2 38\n",
      "Electrical 1\n",
      "FireplaceQu 690\n",
      "GarageType 81\n",
      "GarageYrBlt 81\n",
      "GarageFinish 81\n",
      "GarageQual 81\n",
      "GarageCond 81\n",
      "PoolQC 1453\n",
      "Fence 1179\n",
      "MiscFeature 1406\n"
     ]
    }
   ],
   "source": [
    "for i in house.columns:\n",
    "    if house[i].isnull().sum() !=0:\n",
    "        print i, house[i].isnull().sum()"
   ]
  },
  {
   "cell_type": "markdown",
   "metadata": {},
   "source": [
    "### Understand the meaning of the null values . Some of the null values actually indicate the absence of a specific feature"
   ]
  },
  {
   "cell_type": "markdown",
   "metadata": {},
   "source": [
    "37 houses have no basement.\n",
    "\n",
    "1365 houses have no alley access.\n",
    "\n",
    "690 houses have no fireplace.\n",
    "\n",
    "79 houses have no garage.\n",
    "\n",
    "1451 houses have no pool.\n",
    "\n",
    "1176 houses have no fence.\n",
    "\n",
    "1402 houses have no miscellaneous features."
   ]
  },
  {
   "cell_type": "markdown",
   "metadata": {},
   "source": [
    "### Actual missing data is the following "
   ]
  },
  {
   "cell_type": "markdown",
   "metadata": {},
   "source": [
    "LotFrontage has 259 missing values.\n",
    "\n",
    "MasVnrType + MasVnrArea have 8 missing values.\n",
    "\n",
    "Electrical has 1 missing value.\n",
    "\n",
    "Bsmtexposure and Bsmntfin have 1 missing value."
   ]
  },
  {
   "cell_type": "markdown",
   "metadata": {},
   "source": [
    "### Swap all the null values in feature to None for better understanding "
   ]
  },
  {
   "cell_type": "code",
   "execution_count": 12,
   "metadata": {},
   "outputs": [
    {
     "data": {
      "text/plain": [
       "SBrkr    1334\n",
       "FuseA      94\n",
       "FuseF      27\n",
       "FuseP       3\n",
       "Mix         1\n",
       "Name: Electrical, dtype: int64"
      ]
     },
     "execution_count": 12,
     "metadata": {},
     "output_type": "execute_result"
    }
   ],
   "source": [
    "# Resolve the 1 missing value in the electrical feature Since it's a single value . \n",
    "\n",
    "house['Electrical'].value_counts()"
   ]
  },
  {
   "cell_type": "code",
   "execution_count": 13,
   "metadata": {
    "collapsed": true
   },
   "outputs": [],
   "source": [
    "# Since 1334 values belong to Sbrkr we can impute the null value with Sbrkr"
   ]
  },
  {
   "cell_type": "code",
   "execution_count": 14,
   "metadata": {
    "collapsed": true
   },
   "outputs": [],
   "source": [
    "house.loc[house['Electrical'].isnull(),'Electrical'] = 'SBrkr'"
   ]
  },
  {
   "cell_type": "code",
   "execution_count": 15,
   "metadata": {},
   "outputs": [
    {
     "data": {
      "text/plain": [
       "SBrkr    1335\n",
       "FuseA      94\n",
       "FuseF      27\n",
       "FuseP       3\n",
       "Mix         1\n",
       "Name: Electrical, dtype: int64"
      ]
     },
     "execution_count": 15,
     "metadata": {},
     "output_type": "execute_result"
    }
   ],
   "source": [
    "house['Electrical'].value_counts()"
   ]
  },
  {
   "cell_type": "code",
   "execution_count": 16,
   "metadata": {},
   "outputs": [
    {
     "name": "stdout",
     "output_type": "stream",
     "text": [
      "Alley Grvl    50\n",
      "Pave    41\n",
      "Name: Alley, dtype: int64\n",
      "Alley None    1369\n",
      "Grvl      50\n",
      "Pave      41\n",
      "Name: Alley, dtype: int64\n",
      "MasVnrType None       864\n",
      "BrkFace    445\n",
      "Stone      128\n",
      "BrkCmn      15\n",
      "Name: MasVnrType, dtype: int64\n",
      "MasVnrType None       872\n",
      "BrkFace    445\n",
      "Stone      128\n",
      "BrkCmn      15\n",
      "Name: MasVnrType, dtype: int64\n",
      "BsmtQual TA    649\n",
      "Gd    618\n",
      "Ex    121\n",
      "Fa     35\n",
      "Name: BsmtQual, dtype: int64\n",
      "BsmtQual TA      649\n",
      "Gd      618\n",
      "Ex      121\n",
      "None     37\n",
      "Fa       35\n",
      "Name: BsmtQual, dtype: int64\n",
      "BsmtCond TA    1311\n",
      "Gd      65\n",
      "Fa      45\n",
      "Po       2\n",
      "Name: BsmtCond, dtype: int64\n",
      "BsmtCond TA      1311\n",
      "Gd        65\n",
      "Fa        45\n",
      "None      37\n",
      "Po         2\n",
      "Name: BsmtCond, dtype: int64\n",
      "BsmtExposure No    953\n",
      "Av    221\n",
      "Gd    134\n",
      "Mn    114\n",
      "Name: BsmtExposure, dtype: int64\n",
      "BsmtExposure No      953\n",
      "Av      221\n",
      "Gd      134\n",
      "Mn      114\n",
      "None     38\n",
      "Name: BsmtExposure, dtype: int64\n",
      "BsmtFinType1 Unf    430\n",
      "GLQ    418\n",
      "ALQ    220\n",
      "BLQ    148\n",
      "Rec    133\n",
      "LwQ     74\n",
      "Name: BsmtFinType1, dtype: int64\n",
      "BsmtFinType1 Unf     430\n",
      "GLQ     418\n",
      "ALQ     220\n",
      "BLQ     148\n",
      "Rec     133\n",
      "LwQ      74\n",
      "None     37\n",
      "Name: BsmtFinType1, dtype: int64\n",
      "BsmtFinType2 Unf    1256\n",
      "Rec      54\n",
      "LwQ      46\n",
      "BLQ      33\n",
      "ALQ      19\n",
      "GLQ      14\n",
      "Name: BsmtFinType2, dtype: int64\n",
      "BsmtFinType2 Unf     1256\n",
      "Rec       54\n",
      "LwQ       46\n",
      "None      38\n",
      "BLQ       33\n",
      "ALQ       19\n",
      "GLQ       14\n",
      "Name: BsmtFinType2, dtype: int64\n",
      "FireplaceQu Gd    380\n",
      "TA    313\n",
      "Fa     33\n",
      "Ex     24\n",
      "Po     20\n",
      "Name: FireplaceQu, dtype: int64\n",
      "FireplaceQu None    690\n",
      "Gd      380\n",
      "TA      313\n",
      "Fa       33\n",
      "Ex       24\n",
      "Po       20\n",
      "Name: FireplaceQu, dtype: int64\n",
      "GarageType Attchd     870\n",
      "Detchd     387\n",
      "BuiltIn     88\n",
      "Basment     19\n",
      "CarPort      9\n",
      "2Types       6\n",
      "Name: GarageType, dtype: int64\n",
      "GarageType Attchd     870\n",
      "Detchd     387\n",
      "BuiltIn     88\n",
      "None        81\n",
      "Basment     19\n",
      "CarPort      9\n",
      "2Types       6\n",
      "Name: GarageType, dtype: int64\n",
      "GarageFinish Unf    605\n",
      "RFn    422\n",
      "Fin    352\n",
      "Name: GarageFinish, dtype: int64\n",
      "GarageFinish Unf     605\n",
      "RFn     422\n",
      "Fin     352\n",
      "None     81\n",
      "Name: GarageFinish, dtype: int64\n",
      "GarageQual TA    1311\n",
      "Fa      48\n",
      "Gd      14\n",
      "Ex       3\n",
      "Po       3\n",
      "Name: GarageQual, dtype: int64\n",
      "GarageQual TA      1311\n",
      "None      81\n",
      "Fa        48\n",
      "Gd        14\n",
      "Ex         3\n",
      "Po         3\n",
      "Name: GarageQual, dtype: int64\n",
      "GarageCond TA    1326\n",
      "Fa      35\n",
      "Gd       9\n",
      "Po       7\n",
      "Ex       2\n",
      "Name: GarageCond, dtype: int64\n",
      "GarageCond TA      1326\n",
      "None      81\n",
      "Fa        35\n",
      "Gd         9\n",
      "Po         7\n",
      "Ex         2\n",
      "Name: GarageCond, dtype: int64\n",
      "PoolQC Gd    3\n",
      "Ex    2\n",
      "Fa    2\n",
      "Name: PoolQC, dtype: int64\n",
      "PoolQC None    1453\n",
      "Gd         3\n",
      "Ex         2\n",
      "Fa         2\n",
      "Name: PoolQC, dtype: int64\n",
      "Fence MnPrv    157\n",
      "GdPrv     59\n",
      "GdWo      54\n",
      "MnWw      11\n",
      "Name: Fence, dtype: int64\n",
      "Fence None     1179\n",
      "MnPrv     157\n",
      "GdPrv      59\n",
      "GdWo       54\n",
      "MnWw       11\n",
      "Name: Fence, dtype: int64\n",
      "MiscFeature Shed    49\n",
      "Othr     2\n",
      "Gar2     2\n",
      "TenC     1\n",
      "Name: MiscFeature, dtype: int64\n",
      "MiscFeature None    1406\n",
      "Shed      49\n",
      "Othr       2\n",
      "Gar2       2\n",
      "TenC       1\n",
      "Name: MiscFeature, dtype: int64\n"
     ]
    }
   ],
   "source": [
    "for c in house.columns[house.isnull().sum() > 0]:\n",
    "    if house[c].dtype == object:\n",
    "        print c,house[c].value_counts()\n",
    "        house[c] = house[c].fillna(\"None\")\n",
    "        print c,house[c].value_counts()"
   ]
  },
  {
   "cell_type": "code",
   "execution_count": 17,
   "metadata": {},
   "outputs": [
    {
     "name": "stdout",
     "output_type": "stream",
     "text": [
      "LotFrontage 259\n",
      "MasVnrArea 8\n",
      "GarageYrBlt 81\n"
     ]
    }
   ],
   "source": [
    "for i in house.columns:\n",
    "    if house[i].isnull().sum() !=0:\n",
    "        print i, house[i].isnull().sum()"
   ]
  },
  {
   "cell_type": "code",
   "execution_count": 18,
   "metadata": {},
   "outputs": [
    {
     "data": {
      "text/plain": [
       "array([ 2003.,  1976.,  2001.,  1998.,  2000.,  1993.,  2004.,  1973.,\n",
       "        1931.,  1939.,  1965.,  2005.,  1962.,  2006.,  1960.,  1991.,\n",
       "        1970.,  1967.,  1958.,  1930.,  2002.,  1968.,  2007.,  2008.,\n",
       "        1957.,  1920.,  1966.,  1959.,  1995.,  1954.,  1953.,    nan,\n",
       "        1983.,  1977.,  1997.,  1985.,  1963.,  1981.,  1964.,  1999.,\n",
       "        1935.,  1990.,  1945.,  1987.,  1989.,  1915.,  1956.,  1948.,\n",
       "        1974.,  2009.,  1950.,  1961.,  1921.,  1900.,  1979.,  1951.,\n",
       "        1969.,  1936.,  1975.,  1971.,  1923.,  1984.,  1926.,  1955.,\n",
       "        1986.,  1988.,  1916.,  1932.,  1972.,  1918.,  1980.,  1924.,\n",
       "        1996.,  1940.,  1949.,  1994.,  1910.,  1978.,  1982.,  1992.,\n",
       "        1925.,  1941.,  2010.,  1927.,  1947.,  1937.,  1942.,  1938.,\n",
       "        1952.,  1928.,  1922.,  1934.,  1906.,  1914.,  1946.,  1908.,\n",
       "        1929.,  1933.])"
      ]
     },
     "execution_count": 18,
     "metadata": {},
     "output_type": "execute_result"
    }
   ],
   "source": [
    "house['GarageYrBlt'].unique()"
   ]
  },
  {
   "cell_type": "markdown",
   "metadata": {},
   "source": [
    "##### For the 81 values missing in GarageyrBlt we can check if they can be  substituted with the value from YearBuilt. First lets check if the other values are similar to eachother"
   ]
  },
  {
   "cell_type": "code",
   "execution_count": 19,
   "metadata": {},
   "outputs": [
    {
     "name": "stdout",
     "output_type": "stream",
     "text": [
      "1089 Similar values\n"
     ]
    }
   ],
   "source": [
    "v = 0\n",
    "for x in house[house.GarageYrBlt.notnull()][['GarageYrBlt','YearBuilt']].values:\n",
    "    if x[0] == x[1]:\n",
    "        v += 1\n",
    "print str(v) + ' Similar values'"
   ]
  },
  {
   "cell_type": "markdown",
   "metadata": {
    "collapsed": true
   },
   "source": [
    "##### So based on this we could be safe to impute the values from YearBuilt into GarageYrBlt"
   ]
  },
  {
   "cell_type": "code",
   "execution_count": 20,
   "metadata": {
    "collapsed": true
   },
   "outputs": [],
   "source": [
    "house.loc[house['GarageYrBlt'].isnull(), 'GarageYrBlt'] = house[house['GarageYrBlt'].isnull()]['YearBuilt']"
   ]
  },
  {
   "cell_type": "code",
   "execution_count": 21,
   "metadata": {},
   "outputs": [
    {
     "name": "stdout",
     "output_type": "stream",
     "text": [
      "LotFrontage 259\n",
      "MasVnrArea 8\n"
     ]
    }
   ],
   "source": [
    "for i in house.columns:\n",
    "    if house[i].isnull().sum() !=0:\n",
    "        print i, house[i].isnull().sum()"
   ]
  },
  {
   "cell_type": "markdown",
   "metadata": {
    "collapsed": true
   },
   "source": [
    "#### For MasVnrArea we can replace it with 0 as per description provided "
   ]
  },
  {
   "cell_type": "code",
   "execution_count": 22,
   "metadata": {
    "collapsed": true
   },
   "outputs": [],
   "source": [
    "house.loc[house['MasVnrArea'].isnull(), 'MasVnrArea'] = 0"
   ]
  },
  {
   "cell_type": "code",
   "execution_count": 23,
   "metadata": {},
   "outputs": [
    {
     "name": "stdout",
     "output_type": "stream",
     "text": [
      "LotFrontage 259\n"
     ]
    }
   ],
   "source": [
    "for i in house.columns:\n",
    "    if house[i].isnull().sum() !=0:\n",
    "        print i, house[i].isnull().sum()"
   ]
  },
  {
   "cell_type": "markdown",
   "metadata": {
    "collapsed": true
   },
   "source": [
    "#### For LotFrontage we can impute the mean value of the the existing values in the column. "
   ]
  },
  {
   "cell_type": "code",
   "execution_count": 24,
   "metadata": {
    "collapsed": true
   },
   "outputs": [],
   "source": [
    "house.LotFrontage = house.LotFrontage.fillna(np.mean(house.LotFrontage))"
   ]
  },
  {
   "cell_type": "code",
   "execution_count": 25,
   "metadata": {
    "collapsed": true
   },
   "outputs": [],
   "source": [
    "for i in house.columns:\n",
    "    if house[i].isnull().sum() !=0:\n",
    "        print i, house[i].isnull().sum()"
   ]
  },
  {
   "cell_type": "markdown",
   "metadata": {
    "collapsed": true
   },
   "source": [
    "#### All null values have been resolved so we can proceed with analysing the data"
   ]
  },
  {
   "cell_type": "markdown",
   "metadata": {},
   "source": [
    "##### Drop all the values for commercial properties "
   ]
  },
  {
   "cell_type": "code",
   "execution_count": 26,
   "metadata": {},
   "outputs": [
    {
     "data": {
      "text/plain": [
       "array(['RL', 'RM', 'C (all)', 'FV', 'RH'], dtype=object)"
      ]
     },
     "execution_count": 26,
     "metadata": {},
     "output_type": "execute_result"
    }
   ],
   "source": [
    "house.MSZoning.unique()"
   ]
  },
  {
   "cell_type": "code",
   "execution_count": 27,
   "metadata": {
    "collapsed": true
   },
   "outputs": [],
   "source": [
    "house = house[house.MSZoning != 'C (all)']"
   ]
  },
  {
   "cell_type": "markdown",
   "metadata": {},
   "source": [
    "##### Lets look at the obvious connection between Saleprice (Target) & Area"
   ]
  },
  {
   "cell_type": "code",
   "execution_count": 28,
   "metadata": {},
   "outputs": [
    {
     "data": {
      "text/plain": [
       "<matplotlib.collections.PathCollection at 0xd1da5c0>"
      ]
     },
     "execution_count": 28,
     "metadata": {},
     "output_type": "execute_result"
    }
   ],
   "source": [
    "plt.scatter(house.SalePrice, house.GrLivArea)"
   ]
  },
  {
   "cell_type": "code",
   "execution_count": 29,
   "metadata": {
    "collapsed": true
   },
   "outputs": [],
   "source": [
    "# Remove outliers where GrLivArea > 4000\n",
    "house = house[house.GrLivArea < 4000]"
   ]
  },
  {
   "cell_type": "code",
   "execution_count": 30,
   "metadata": {
    "collapsed": true
   },
   "outputs": [],
   "source": [
    "house = house.sort_values('YrSold')"
   ]
  },
  {
   "cell_type": "code",
   "execution_count": 31,
   "metadata": {
    "collapsed": true
   },
   "outputs": [],
   "source": [
    "house = house.reset_index(drop = True)"
   ]
  },
  {
   "cell_type": "markdown",
   "metadata": {},
   "source": [
    "##### Set the target "
   ]
  },
  {
   "cell_type": "code",
   "execution_count": 32,
   "metadata": {
    "collapsed": true
   },
   "outputs": [],
   "source": [
    "y_train = house[house['YrSold']<2010]['SalePrice']"
   ]
  },
  {
   "cell_type": "code",
   "execution_count": 33,
   "metadata": {
    "collapsed": true
   },
   "outputs": [],
   "source": [
    "y_test = house[house['YrSold']>=2010]['SalePrice']"
   ]
  },
  {
   "cell_type": "markdown",
   "metadata": {},
   "source": [
    "##### Create a List of Fixed characteristics  "
   ]
  },
  {
   "cell_type": "code",
   "execution_count": 34,
   "metadata": {
    "collapsed": true
   },
   "outputs": [],
   "source": [
    "fxd = ['SaleCondition', 'MSSubClass', 'MSZoning', 'LotFrontage', 'LotArea', 'Street', 'Alley', \n",
    "'LotShape', 'LandContour', 'LotConfig', 'LandSlope', 'Neighborhood', 'Condition1', 'Condition2',\n",
    "'BldgType', 'HouseStyle', 'YearBuilt', 'YearRemodAdd', 'Foundation', 'BsmtQual', 'BsmtExposure',\n",
    "'BsmtFinSF1', 'BsmtFinSF2', 'TotalBsmtSF', 'FirstFlrSF', 'SecondFlrSF', 'GrLivArea', 'BsmtFullBath',\n",
    "'BsmtHalfBath', 'FullBath', 'HalfBath', 'Fireplaces', 'GarageType', 'GarageYrBlt', 'GarageCars',\n",
    "'GarageArea', 'WoodDeckSF', 'OpenPorchSF', 'EnclosedPorch', 'ThreePorch', 'ScreenPorch', 'PoolArea',\n",
    "'MoSold',  'BedroomAbvGr', 'KitchenAbvGr','TotRmsAbvGrd','YrSold']"
   ]
  },
  {
   "cell_type": "code",
   "execution_count": 35,
   "metadata": {},
   "outputs": [],
   "source": [
    "nonfxd = []\n",
    "for y in house.columns:\n",
    "    if y not in fxd:\n",
    "        nonfxd.append(y)"
   ]
  },
  {
   "cell_type": "code",
   "execution_count": 36,
   "metadata": {
    "collapsed": true
   },
   "outputs": [],
   "source": [
    "fxdcat = []\n",
    "fxdcon = []"
   ]
  },
  {
   "cell_type": "code",
   "execution_count": 37,
   "metadata": {
    "collapsed": true
   },
   "outputs": [],
   "source": [
    "fxdcat = house[fxd].select_dtypes(include = [object]).columns"
   ]
  },
  {
   "cell_type": "code",
   "execution_count": 38,
   "metadata": {},
   "outputs": [
    {
     "name": "stdout",
     "output_type": "stream",
     "text": [
      "Index([u'SaleCondition', u'MSSubClass', u'MSZoning', u'Street', u'Alley',\n",
      "       u'LotShape', u'LandContour', u'LotConfig', u'LandSlope',\n",
      "       u'Neighborhood', u'Condition1', u'Condition2', u'BldgType',\n",
      "       u'HouseStyle', u'Foundation', u'BsmtQual', u'BsmtExposure',\n",
      "       u'GarageType'],\n",
      "      dtype='object')\n"
     ]
    }
   ],
   "source": [
    "print fxdcat"
   ]
  },
  {
   "cell_type": "code",
   "execution_count": 39,
   "metadata": {
    "collapsed": true
   },
   "outputs": [],
   "source": [
    "fxdcon = house[fxd].select_dtypes(exclude = [object]).columns"
   ]
  },
  {
   "cell_type": "code",
   "execution_count": 40,
   "metadata": {},
   "outputs": [
    {
     "name": "stdout",
     "output_type": "stream",
     "text": [
      "Index([u'LotFrontage', u'LotArea', u'YearBuilt', u'YearRemodAdd',\n",
      "       u'BsmtFinSF1', u'BsmtFinSF2', u'TotalBsmtSF', u'FirstFlrSF',\n",
      "       u'SecondFlrSF', u'GrLivArea', u'BsmtFullBath', u'BsmtHalfBath',\n",
      "       u'FullBath', u'HalfBath', u'Fireplaces', u'GarageYrBlt', u'GarageCars',\n",
      "       u'GarageArea', u'WoodDeckSF', u'OpenPorchSF', u'EnclosedPorch',\n",
      "       u'ThreePorch', u'ScreenPorch', u'PoolArea', u'MoSold', u'BedroomAbvGr',\n",
      "       u'KitchenAbvGr', u'TotRmsAbvGrd', u'YrSold'],\n",
      "      dtype='object')\n"
     ]
    }
   ],
   "source": [
    "print fxdcon"
   ]
  },
  {
   "cell_type": "code",
   "execution_count": 41,
   "metadata": {
    "collapsed": true
   },
   "outputs": [],
   "source": [
    "corrfxd = \" ~ \" + \" + \".join(fxd) + \" + \" + \"SalePrice\" + \"-1\""
   ]
  },
  {
   "cell_type": "code",
   "execution_count": 42,
   "metadata": {},
   "outputs": [
    {
     "name": "stdout",
     "output_type": "stream",
     "text": [
      " ~ SaleCondition + MSSubClass + MSZoning + LotFrontage + LotArea + Street + Alley + LotShape + LandContour + LotConfig + LandSlope + Neighborhood + Condition1 + Condition2 + BldgType + HouseStyle + YearBuilt + YearRemodAdd + Foundation + BsmtQual + BsmtExposure + BsmtFinSF1 + BsmtFinSF2 + TotalBsmtSF + FirstFlrSF + SecondFlrSF + GrLivArea + BsmtFullBath + BsmtHalfBath + FullBath + HalfBath + Fireplaces + GarageType + GarageYrBlt + GarageCars + GarageArea + WoodDeckSF + OpenPorchSF + EnclosedPorch + ThreePorch + ScreenPorch + PoolArea + MoSold + BedroomAbvGr + KitchenAbvGr + TotRmsAbvGrd + YrSold + SalePrice-1\n"
     ]
    }
   ],
   "source": [
    "print corrfxd"
   ]
  },
  {
   "cell_type": "code",
   "execution_count": 43,
   "metadata": {
    "collapsed": true
   },
   "outputs": [],
   "source": [
    "X_correlate = patsy.dmatrix(corrfxd, data=house, return_type='dataframe')"
   ]
  },
  {
   "cell_type": "code",
   "execution_count": 44,
   "metadata": {
    "collapsed": true
   },
   "outputs": [],
   "source": [
    "corrmat = X_correlate.corr()"
   ]
  },
  {
   "cell_type": "code",
   "execution_count": 45,
   "metadata": {},
   "outputs": [
    {
     "data": {
      "text/plain": [
       "SalePrice                        1.000000\n",
       "GrLivArea                        0.720743\n",
       "GarageCars                       0.651195\n",
       "TotalBsmtSF                      0.645274\n",
       "GarageArea                       0.643874\n",
       "FirstFlrSF                       0.622735\n",
       "FullBath                         0.554926\n",
       "TotRmsAbvGrd                     0.537203\n",
       "YearBuilt                        0.530009\n",
       "GarageYrBlt                      0.519068\n",
       "YearRemodAdd                     0.515539\n",
       "Foundation[T.PConc]              0.502367\n",
       "Fireplaces                       0.463039\n",
       "Neighborhood[T.NridgHt]          0.420375\n",
       "BsmtFinSF1                       0.393968\n",
       "MSSubClass[T.TwoStory1946New]    0.371612\n",
       "SaleCondition[Partial]           0.371388\n",
       "OpenPorchSF                      0.345063\n",
       "LotFrontage                      0.341382\n",
       "GarageType[T.Attchd]             0.333203\n",
       "WoodDeckSF                       0.318834\n",
       "BsmtExposure[T.Gd]               0.307083\n",
       "SecondFlrSF                      0.297647\n",
       "Neighborhood[T.NoRidge]          0.290219\n",
       "HalfBath                         0.279647\n",
       "Name: SalePrice, dtype: float64"
      ]
     },
     "execution_count": 45,
     "metadata": {},
     "output_type": "execute_result"
    }
   ],
   "source": [
    "corrmat.sort_values('SalePrice', ascending=False)[0:25]['SalePrice']"
   ]
  },
  {
   "cell_type": "code",
   "execution_count": 83,
   "metadata": {},
   "outputs": [
    {
     "data": {
      "image/png": "[encoded data removed]",
      "text/plain": [
       "<matplotlib.figure.Figure at 0x1483e2b0>"
      ]
     },
     "metadata": {},
     "output_type": "display_data"
    }
   ],
   "source": [
    "fig, ax = plt.subplots(figsize=(25,15))\n",
    "cols = corrmat.nlargest(25, 'SalePrice')['SalePrice'].index\n",
    "cm = np.corrcoef(X_correlate[cols].values.T)\n",
    "sns.set(font_scale=1.3)\n",
    "mask = np.zeros_like(cm, dtype=np.bool)\n",
    "mask[np.triu_indices_from(mask)] = True\n",
    "ax = sns.heatmap(cm, cbar=True, annot=True,mask=mask, square=True, annot_kws={'size': 10}, fmt='.2f', yticklabels=map(lambda x: x.upper(), cols.values), xticklabels=map(lambda x: x.upper(), cols.values))\n",
    "plt.show()"
   ]
  },
  {
   "cell_type": "markdown",
   "metadata": {
    "collapsed": true
   },
   "source": [
    "##### Regression with all the fixed features"
   ]
  },
  {
   "cell_type": "code",
   "execution_count": 84,
   "metadata": {
    "collapsed": true
   },
   "outputs": [],
   "source": [
    "x_fixed = \" ~ \"+\"+\".join(fxdcon)+\"+\".join([\"C(\"+x+\")\" for x in fxdcat])"
   ]
  },
  {
   "cell_type": "code",
   "execution_count": 85,
   "metadata": {},
   "outputs": [
    {
     "data": {
      "text/plain": [
       "' ~ LotFrontage+LotArea+YearBuilt+YearRemodAdd+BsmtFinSF1+BsmtFinSF2+TotalBsmtSF+FirstFlrSF+SecondFlrSF+GrLivArea+BsmtFullBath+BsmtHalfBath+FullBath+HalfBath+Fireplaces+GarageYrBlt+GarageCars+GarageArea+WoodDeckSF+OpenPorchSF+EnclosedPorch+ThreePorch+ScreenPorch+PoolArea+MoSold+BedroomAbvGr+KitchenAbvGr+TotRmsAbvGrd+YrSoldC(SaleCondition)+C(MSSubClass)+C(MSZoning)+C(Street)+C(Alley)+C(LotShape)+C(LandContour)+C(LotConfig)+C(LandSlope)+C(Neighborhood)+C(Condition1)+C(Condition2)+C(BldgType)+C(HouseStyle)+C(Foundation)+C(BsmtQual)+C(BsmtExposure)+C(GarageType)'"
      ]
     },
     "execution_count": 85,
     "metadata": {},
     "output_type": "execute_result"
    }
   ],
   "source": [
    "x_fixed"
   ]
  },
  {
   "cell_type": "code",
   "execution_count": 86,
   "metadata": {
    "collapsed": true
   },
   "outputs": [],
   "source": [
    "x_fix = ' ~ LotFrontage+LotArea+YearBuilt+YearRemodAdd+BsmtFinSF1+BsmtFinSF2+TotalBsmtSF+FirstFlrSF+SecondFlrSF+GrLivArea+BsmtFullBath+BsmtHalfBath+FullBath+HalfBath+Fireplaces+GarageYrBlt+GarageCars+GarageArea+WoodDeckSF+OpenPorchSF+EnclosedPorch+ThreePorch+ScreenPorch+PoolArea+MoSold+BedroomAbvGr+KitchenAbvGr+TotRmsAbvGrd+YrSold+C(SaleCondition)+C(MSSubClass)+C(MSZoning)+C(Street)+C(Alley)+C(LotShape)+C(LandContour)+C(LotConfig)+C(LandSlope)+C(Neighborhood)+C(Condition1)+C(Condition2)+C(BldgType)+C(HouseStyle)+C(Foundation)+C(BsmtQual)+C(BsmtExposure)+C(GarageType)-1'\n",
    "\n"
   ]
  },
  {
   "cell_type": "code",
   "execution_count": 87,
   "metadata": {
    "collapsed": true
   },
   "outputs": [],
   "source": [
    "X = patsy.dmatrix(x_fix, data=house, return_type='dataframe')"
   ]
  },
  {
   "cell_type": "code",
   "execution_count": 88,
   "metadata": {
    "collapsed": true
   },
   "outputs": [],
   "source": [
    "X_train = X[X['YrSold']< 2010]\n",
    "X_test = X[X['YrSold']>= 2010]"
   ]
  },
  {
   "cell_type": "code",
   "execution_count": 89,
   "metadata": {
    "collapsed": true
   },
   "outputs": [],
   "source": [
    "X_train = X_train.reset_index(drop=True)\n",
    "X_test = X_test.reset_index(drop=True)"
   ]
  },
  {
   "cell_type": "code",
   "execution_count": 90,
   "metadata": {},
   "outputs": [],
   "source": [
    "nscols = [co for co in X_train.columns if co.startswith('C')]"
   ]
  },
  {
   "cell_type": "code",
   "execution_count": 91,
   "metadata": {},
   "outputs": [],
   "source": [
    "scols = [c for c in X_train.columns if c in fxdcon]"
   ]
  },
  {
   "cell_type": "code",
   "execution_count": 92,
   "metadata": {},
   "outputs": [
    {
     "data": {
      "text/plain": [
       "True"
      ]
     },
     "execution_count": 92,
     "metadata": {},
     "output_type": "execute_result"
    }
   ],
   "source": [
    " len(X_train.columns) == len(nscols) + len(scols)"
   ]
  },
  {
   "cell_type": "code",
   "execution_count": 93,
   "metadata": {
    "collapsed": true
   },
   "outputs": [],
   "source": [
    "standard = StandardScaler()\n",
    "standard.fit(X_train[scols])\n",
    "X_std = pd.DataFrame(standard.transform(X_train[scols]),columns=scols)\n",
    "X_nonstd = X_train[nscols]"
   ]
  },
  {
   "cell_type": "code",
   "execution_count": 94,
   "metadata": {
    "collapsed": true
   },
   "outputs": [],
   "source": [
    "Xfix_train = X_std.combine_first(X_nonstd)"
   ]
  },
  {
   "cell_type": "code",
   "execution_count": 95,
   "metadata": {},
   "outputs": [
    {
     "data": {
      "text/html": [
       "<div>\n",
       "<style>\n",
       "    .dataframe thead tr:only-child th {\n",
       "        text-align: right;\n",
       "    }\n",
       "\n",
       "    .dataframe thead th {\n",
       "        text-align: left;\n",
       "    }\n",
       "\n",
       "    .dataframe tbody tr th {\n",
       "        vertical-align: top;\n",
       "    }\n",
       "</style>\n",
       "<table border=\"1\" class=\"dataframe\">\n",
       "  <thead>\n",
       "    <tr style=\"text-align: right;\">\n",
       "      <th></th>\n",
       "      <th>BedroomAbvGr</th>\n",
       "      <th>BsmtFinSF1</th>\n",
       "      <th>BsmtFinSF2</th>\n",
       "      <th>BsmtFullBath</th>\n",
       "      <th>BsmtHalfBath</th>\n",
       "      <th>C(Alley)[T.None]</th>\n",
       "      <th>C(Alley)[T.Pave]</th>\n",
       "      <th>C(BldgType)[T.2fmCon]</th>\n",
       "      <th>C(BldgType)[T.Duplex]</th>\n",
       "      <th>C(BldgType)[T.TwnhsE]</th>\n",
       "      <th>...</th>\n",
       "      <th>PoolArea</th>\n",
       "      <th>ScreenPorch</th>\n",
       "      <th>SecondFlrSF</th>\n",
       "      <th>ThreePorch</th>\n",
       "      <th>TotRmsAbvGrd</th>\n",
       "      <th>TotalBsmtSF</th>\n",
       "      <th>WoodDeckSF</th>\n",
       "      <th>YearBuilt</th>\n",
       "      <th>YearRemodAdd</th>\n",
       "      <th>YrSold</th>\n",
       "    </tr>\n",
       "  </thead>\n",
       "  <tbody>\n",
       "    <tr>\n",
       "      <th>0</th>\n",
       "      <td>0.164513</td>\n",
       "      <td>-0.112997</td>\n",
       "      <td>-0.285582</td>\n",
       "      <td>-0.801908</td>\n",
       "      <td>-0.250446</td>\n",
       "      <td>1.0</td>\n",
       "      <td>0.0</td>\n",
       "      <td>0.0</td>\n",
       "      <td>0.0</td>\n",
       "      <td>0.0</td>\n",
       "      <td>...</td>\n",
       "      <td>-0.062143</td>\n",
       "      <td>-0.270429</td>\n",
       "      <td>1.030988</td>\n",
       "      <td>-0.118686</td>\n",
       "      <td>0.304867</td>\n",
       "      <td>-0.705669</td>\n",
       "      <td>-0.753853</td>\n",
       "      <td>0.678250</td>\n",
       "      <td>0.343540</td>\n",
       "      <td>-1.349392</td>\n",
       "    </tr>\n",
       "    <tr>\n",
       "      <th>1</th>\n",
       "      <td>0.164513</td>\n",
       "      <td>1.210050</td>\n",
       "      <td>-0.285582</td>\n",
       "      <td>1.136670</td>\n",
       "      <td>-0.250446</td>\n",
       "      <td>1.0</td>\n",
       "      <td>0.0</td>\n",
       "      <td>0.0</td>\n",
       "      <td>0.0</td>\n",
       "      <td>0.0</td>\n",
       "      <td>...</td>\n",
       "      <td>-0.062143</td>\n",
       "      <td>6.328288</td>\n",
       "      <td>1.135160</td>\n",
       "      <td>-0.118686</td>\n",
       "      <td>0.304867</td>\n",
       "      <td>0.082426</td>\n",
       "      <td>0.930819</td>\n",
       "      <td>0.876474</td>\n",
       "      <td>0.634931</td>\n",
       "      <td>-1.349392</td>\n",
       "    </tr>\n",
       "    <tr>\n",
       "      <th>2</th>\n",
       "      <td>0.164513</td>\n",
       "      <td>-0.315291</td>\n",
       "      <td>1.600020</td>\n",
       "      <td>-0.801908</td>\n",
       "      <td>3.788386</td>\n",
       "      <td>1.0</td>\n",
       "      <td>0.0</td>\n",
       "      <td>0.0</td>\n",
       "      <td>0.0</td>\n",
       "      <td>0.0</td>\n",
       "      <td>...</td>\n",
       "      <td>-0.062143</td>\n",
       "      <td>-0.270429</td>\n",
       "      <td>-0.804750</td>\n",
       "      <td>-0.118686</td>\n",
       "      <td>-0.317569</td>\n",
       "      <td>0.024228</td>\n",
       "      <td>0.606844</td>\n",
       "      <td>-0.445018</td>\n",
       "      <td>-1.307678</td>\n",
       "      <td>-1.349392</td>\n",
       "    </tr>\n",
       "    <tr>\n",
       "      <th>3</th>\n",
       "      <td>-1.061159</td>\n",
       "      <td>-0.110672</td>\n",
       "      <td>-0.285582</td>\n",
       "      <td>-0.801908</td>\n",
       "      <td>-0.250446</td>\n",
       "      <td>1.0</td>\n",
       "      <td>0.0</td>\n",
       "      <td>0.0</td>\n",
       "      <td>0.0</td>\n",
       "      <td>0.0</td>\n",
       "      <td>...</td>\n",
       "      <td>-0.062143</td>\n",
       "      <td>-0.270429</td>\n",
       "      <td>0.128166</td>\n",
       "      <td>-0.118686</td>\n",
       "      <td>-0.317569</td>\n",
       "      <td>-0.271611</td>\n",
       "      <td>-0.753853</td>\n",
       "      <td>-1.039690</td>\n",
       "      <td>0.732062</td>\n",
       "      <td>-1.349392</td>\n",
       "    </tr>\n",
       "  </tbody>\n",
       "</table>\n",
       "<p>4 rows × 136 columns</p>\n",
       "</div>"
      ],
      "text/plain": [
       "   BedroomAbvGr  BsmtFinSF1  BsmtFinSF2  BsmtFullBath  BsmtHalfBath  \\\n",
       "0      0.164513   -0.112997   -0.285582     -0.801908     -0.250446   \n",
       "1      0.164513    1.210050   -0.285582      1.136670     -0.250446   \n",
       "2      0.164513   -0.315291    1.600020     -0.801908      3.788386   \n",
       "3     -1.061159   -0.110672   -0.285582     -0.801908     -0.250446   \n",
       "\n",
       "   C(Alley)[T.None]  C(Alley)[T.Pave]  C(BldgType)[T.2fmCon]  \\\n",
       "0               1.0               0.0                    0.0   \n",
       "1               1.0               0.0                    0.0   \n",
       "2               1.0               0.0                    0.0   \n",
       "3               1.0               0.0                    0.0   \n",
       "\n",
       "   C(BldgType)[T.Duplex]  C(BldgType)[T.TwnhsE]    ...     PoolArea  \\\n",
       "0                    0.0                    0.0    ...    -0.062143   \n",
       "1                    0.0                    0.0    ...    -0.062143   \n",
       "2                    0.0                    0.0    ...    -0.062143   \n",
       "3                    0.0                    0.0    ...    -0.062143   \n",
       "\n",
       "   ScreenPorch  SecondFlrSF  ThreePorch  TotRmsAbvGrd  TotalBsmtSF  \\\n",
       "0    -0.270429     1.030988   -0.118686      0.304867    -0.705669   \n",
       "1     6.328288     1.135160   -0.118686      0.304867     0.082426   \n",
       "2    -0.270429    -0.804750   -0.118686     -0.317569     0.024228   \n",
       "3    -0.270429     0.128166   -0.118686     -0.317569    -0.271611   \n",
       "\n",
       "   WoodDeckSF  YearBuilt  YearRemodAdd    YrSold  \n",
       "0   -0.753853   0.678250      0.343540 -1.349392  \n",
       "1    0.930819   0.876474      0.634931 -1.349392  \n",
       "2    0.606844  -0.445018     -1.307678 -1.349392  \n",
       "3   -0.753853  -1.039690      0.732062 -1.349392  \n",
       "\n",
       "[4 rows x 136 columns]"
      ]
     },
     "execution_count": 95,
     "metadata": {},
     "output_type": "execute_result"
    }
   ],
   "source": [
    "Xfix_train.head(4)"
   ]
  },
  {
   "cell_type": "code",
   "execution_count": 96,
   "metadata": {},
   "outputs": [
    {
     "data": {
      "text/plain": [
       "(1274, 136)"
      ]
     },
     "execution_count": 96,
     "metadata": {},
     "output_type": "execute_result"
    }
   ],
   "source": [
    "Xfix_train.shape"
   ]
  },
  {
   "cell_type": "code",
   "execution_count": 97,
   "metadata": {
    "collapsed": true
   },
   "outputs": [],
   "source": [
    "standard.fit(X_test[scols])\n",
    "X_std_test = pd.DataFrame(standard.transform(X_test[scols]),columns=scols)\n",
    "X_nonstd_test = X_test[nscols]"
   ]
  },
  {
   "cell_type": "code",
   "execution_count": 98,
   "metadata": {
    "collapsed": true
   },
   "outputs": [],
   "source": [
    "Xfix_test = X_std_test.combine_first(X_nonstd_test)"
   ]
  },
  {
   "cell_type": "code",
   "execution_count": 99,
   "metadata": {},
   "outputs": [
    {
     "data": {
      "text/html": [
       "<div>\n",
       "<style>\n",
       "    .dataframe thead tr:only-child th {\n",
       "        text-align: right;\n",
       "    }\n",
       "\n",
       "    .dataframe thead th {\n",
       "        text-align: left;\n",
       "    }\n",
       "\n",
       "    .dataframe tbody tr th {\n",
       "        vertical-align: top;\n",
       "    }\n",
       "</style>\n",
       "<table border=\"1\" class=\"dataframe\">\n",
       "  <thead>\n",
       "    <tr style=\"text-align: right;\">\n",
       "      <th></th>\n",
       "      <th>BedroomAbvGr</th>\n",
       "      <th>BsmtFinSF1</th>\n",
       "      <th>BsmtFinSF2</th>\n",
       "      <th>BsmtFullBath</th>\n",
       "      <th>BsmtHalfBath</th>\n",
       "      <th>C(Alley)[T.None]</th>\n",
       "      <th>C(Alley)[T.Pave]</th>\n",
       "      <th>C(BldgType)[T.2fmCon]</th>\n",
       "      <th>C(BldgType)[T.Duplex]</th>\n",
       "      <th>C(BldgType)[T.TwnhsE]</th>\n",
       "      <th>...</th>\n",
       "      <th>PoolArea</th>\n",
       "      <th>ScreenPorch</th>\n",
       "      <th>SecondFlrSF</th>\n",
       "      <th>ThreePorch</th>\n",
       "      <th>TotRmsAbvGrd</th>\n",
       "      <th>TotalBsmtSF</th>\n",
       "      <th>WoodDeckSF</th>\n",
       "      <th>YearBuilt</th>\n",
       "      <th>YearRemodAdd</th>\n",
       "      <th>YrSold</th>\n",
       "    </tr>\n",
       "  </thead>\n",
       "  <tbody>\n",
       "    <tr>\n",
       "      <th>0</th>\n",
       "      <td>0.137569</td>\n",
       "      <td>0.170007</td>\n",
       "      <td>-0.326069</td>\n",
       "      <td>0.923649</td>\n",
       "      <td>-0.133235</td>\n",
       "      <td>1.0</td>\n",
       "      <td>0.0</td>\n",
       "      <td>0.0</td>\n",
       "      <td>0.0</td>\n",
       "      <td>0.0</td>\n",
       "      <td>...</td>\n",
       "      <td>0.0</td>\n",
       "      <td>-0.273834</td>\n",
       "      <td>1.262869</td>\n",
       "      <td>-0.105288</td>\n",
       "      <td>0.297029</td>\n",
       "      <td>-0.589117</td>\n",
       "      <td>-0.754544</td>\n",
       "      <td>1.005593</td>\n",
       "      <td>0.712169</td>\n",
       "      <td>0.0</td>\n",
       "    </tr>\n",
       "    <tr>\n",
       "      <th>1</th>\n",
       "      <td>0.137569</td>\n",
       "      <td>-1.067434</td>\n",
       "      <td>-0.326069</td>\n",
       "      <td>-0.990418</td>\n",
       "      <td>-0.133235</td>\n",
       "      <td>1.0</td>\n",
       "      <td>0.0</td>\n",
       "      <td>0.0</td>\n",
       "      <td>0.0</td>\n",
       "      <td>0.0</td>\n",
       "      <td>...</td>\n",
       "      <td>0.0</td>\n",
       "      <td>-0.273834</td>\n",
       "      <td>-0.734816</td>\n",
       "      <td>-0.105288</td>\n",
       "      <td>-0.311174</td>\n",
       "      <td>0.409906</td>\n",
       "      <td>-0.754544</td>\n",
       "      <td>1.326686</td>\n",
       "      <td>1.156521</td>\n",
       "      <td>0.0</td>\n",
       "    </tr>\n",
       "    <tr>\n",
       "      <th>2</th>\n",
       "      <td>0.137569</td>\n",
       "      <td>-0.208422</td>\n",
       "      <td>4.526478</td>\n",
       "      <td>0.923649</td>\n",
       "      <td>-0.133235</td>\n",
       "      <td>1.0</td>\n",
       "      <td>0.0</td>\n",
       "      <td>0.0</td>\n",
       "      <td>0.0</td>\n",
       "      <td>0.0</td>\n",
       "      <td>...</td>\n",
       "      <td>0.0</td>\n",
       "      <td>-0.273834</td>\n",
       "      <td>-0.734816</td>\n",
       "      <td>-0.105288</td>\n",
       "      <td>0.905232</td>\n",
       "      <td>1.455001</td>\n",
       "      <td>-0.754544</td>\n",
       "      <td>1.112624</td>\n",
       "      <td>0.860287</td>\n",
       "      <td>0.0</td>\n",
       "    </tr>\n",
       "    <tr>\n",
       "      <th>3</th>\n",
       "      <td>0.137569</td>\n",
       "      <td>-1.067434</td>\n",
       "      <td>-0.326069</td>\n",
       "      <td>-0.990418</td>\n",
       "      <td>-0.133235</td>\n",
       "      <td>1.0</td>\n",
       "      <td>0.0</td>\n",
       "      <td>0.0</td>\n",
       "      <td>0.0</td>\n",
       "      <td>0.0</td>\n",
       "      <td>...</td>\n",
       "      <td>0.0</td>\n",
       "      <td>-0.273834</td>\n",
       "      <td>1.042194</td>\n",
       "      <td>-0.105288</td>\n",
       "      <td>0.905232</td>\n",
       "      <td>-0.526072</td>\n",
       "      <td>-0.754544</td>\n",
       "      <td>-2.026951</td>\n",
       "      <td>-1.756454</td>\n",
       "      <td>0.0</td>\n",
       "    </tr>\n",
       "    <tr>\n",
       "      <th>4</th>\n",
       "      <td>1.382933</td>\n",
       "      <td>-1.067434</td>\n",
       "      <td>-0.326069</td>\n",
       "      <td>-0.990418</td>\n",
       "      <td>-0.133235</td>\n",
       "      <td>1.0</td>\n",
       "      <td>0.0</td>\n",
       "      <td>1.0</td>\n",
       "      <td>0.0</td>\n",
       "      <td>0.0</td>\n",
       "      <td>...</td>\n",
       "      <td>0.0</td>\n",
       "      <td>-0.273834</td>\n",
       "      <td>1.077037</td>\n",
       "      <td>-0.105288</td>\n",
       "      <td>0.905232</td>\n",
       "      <td>-1.689982</td>\n",
       "      <td>1.733190</td>\n",
       "      <td>-2.562106</td>\n",
       "      <td>0.514679</td>\n",
       "      <td>0.0</td>\n",
       "    </tr>\n",
       "  </tbody>\n",
       "</table>\n",
       "<p>5 rows × 136 columns</p>\n",
       "</div>"
      ],
      "text/plain": [
       "   BedroomAbvGr  BsmtFinSF1  BsmtFinSF2  BsmtFullBath  BsmtHalfBath  \\\n",
       "0      0.137569    0.170007   -0.326069      0.923649     -0.133235   \n",
       "1      0.137569   -1.067434   -0.326069     -0.990418     -0.133235   \n",
       "2      0.137569   -0.208422    4.526478      0.923649     -0.133235   \n",
       "3      0.137569   -1.067434   -0.326069     -0.990418     -0.133235   \n",
       "4      1.382933   -1.067434   -0.326069     -0.990418     -0.133235   \n",
       "\n",
       "   C(Alley)[T.None]  C(Alley)[T.Pave]  C(BldgType)[T.2fmCon]  \\\n",
       "0               1.0               0.0                    0.0   \n",
       "1               1.0               0.0                    0.0   \n",
       "2               1.0               0.0                    0.0   \n",
       "3               1.0               0.0                    0.0   \n",
       "4               1.0               0.0                    1.0   \n",
       "\n",
       "   C(BldgType)[T.Duplex]  C(BldgType)[T.TwnhsE]   ...    PoolArea  \\\n",
       "0                    0.0                    0.0   ...         0.0   \n",
       "1                    0.0                    0.0   ...         0.0   \n",
       "2                    0.0                    0.0   ...         0.0   \n",
       "3                    0.0                    0.0   ...         0.0   \n",
       "4                    0.0                    0.0   ...         0.0   \n",
       "\n",
       "   ScreenPorch  SecondFlrSF  ThreePorch  TotRmsAbvGrd  TotalBsmtSF  \\\n",
       "0    -0.273834     1.262869   -0.105288      0.297029    -0.589117   \n",
       "1    -0.273834    -0.734816   -0.105288     -0.311174     0.409906   \n",
       "2    -0.273834    -0.734816   -0.105288      0.905232     1.455001   \n",
       "3    -0.273834     1.042194   -0.105288      0.905232    -0.526072   \n",
       "4    -0.273834     1.077037   -0.105288      0.905232    -1.689982   \n",
       "\n",
       "   WoodDeckSF  YearBuilt  YearRemodAdd  YrSold  \n",
       "0   -0.754544   1.005593      0.712169     0.0  \n",
       "1   -0.754544   1.326686      1.156521     0.0  \n",
       "2   -0.754544   1.112624      0.860287     0.0  \n",
       "3   -0.754544  -2.026951     -1.756454     0.0  \n",
       "4    1.733190  -2.562106      0.514679     0.0  \n",
       "\n",
       "[5 rows x 136 columns]"
      ]
     },
     "execution_count": 99,
     "metadata": {},
     "output_type": "execute_result"
    }
   ],
   "source": [
    "Xfix_test.head()"
   ]
  },
  {
   "cell_type": "code",
   "execution_count": 100,
   "metadata": {
    "collapsed": true
   },
   "outputs": [],
   "source": [
    "lr = linear_model.LinearRegression()"
   ]
  },
  {
   "cell_type": "code",
   "execution_count": 101,
   "metadata": {},
   "outputs": [],
   "source": [
    "model = lr.fit(Xfix_train, y_train)\n",
    "pred_train = model.predict(Xfix_train)\n",
    "pred_test = model.predict(Xfix_test)\n"
   ]
  },
  {
   "cell_type": "code",
   "execution_count": 102,
   "metadata": {
    "collapsed": true
   },
   "outputs": [],
   "source": [
    "def errorind(model,xtr,ytr,xte,yte):\n",
    "    pred_tr = model.predict(xtr)\n",
    "    pred_te = model.predict(xte)\n",
    "    print 'Training Set'\n",
    "    print 'R Square :',model.score(xtr, ytr)\n",
    "    print 'RMSE :',mean_squared_error(ytr, pred_tr)\n",
    "    print 'MAE :',mean_absolute_error(ytr, pred_tr)\n",
    "    print 'Test Set'\n",
    "    print 'R Square :',model.score(xte, yte)\n",
    "    print 'RMSE :',mean_squared_error(yte, pred_te)\n",
    "    print 'MAE :',mean_absolute_error(yte, pred_te)"
   ]
  },
  {
   "cell_type": "code",
   "execution_count": 103,
   "metadata": {},
   "outputs": [
    {
     "name": "stdout",
     "output_type": "stream",
     "text": [
      "Training Set\n",
      "R Square : 0.90872019709\n",
      "RMSE : 526054464.758\n",
      "MAE : 16047.8383046\n",
      "Test Set\n",
      "R Square : 0.897057123778\n",
      "RMSE : 654448948.872\n",
      "MAE : 17447.5813953\n"
     ]
    }
   ],
   "source": [
    "errorind(model,Xfix_train,y_train,Xfix_test,y_test)"
   ]
  },
  {
   "cell_type": "code",
   "execution_count": 104,
   "metadata": {},
   "outputs": [
    {
     "data": {
      "image/png": "[encoded data removed]",
      "text/plain": [
       "<matplotlib.figure.Figure at 0xe90b748>"
      ]
     },
     "metadata": {},
     "output_type": "display_data"
    }
   ],
   "source": [
    "fig, ax_arr = plt.subplots(1,1, figsize=(12,6))\n",
    "plt.xlabel(\"Predictions\")\n",
    "plt.ylabel(\"Real Sales Prices\")\n",
    "axis0 = sns.regplot(pred_train, y_train, color='b', ax=ax_arr)\n",
    "plt.show()"
   ]
  },
  {
   "cell_type": "code",
   "execution_count": 105,
   "metadata": {},
   "outputs": [
    {
     "data": {
      "image/png": "[encoded data removed]",
      "text/plain": [
       "<matplotlib.figure.Figure at 0xe28ce10>"
      ]
     },
     "metadata": {},
     "output_type": "display_data"
    }
   ],
   "source": [
    "fig, ax_arr = plt.subplots(1,1, figsize=(12,6))\n",
    "plt.xlabel(\"Predictions\")\n",
    "plt.ylabel(\"Real Sales Prices\")\n",
    "axis0 = sns.regplot(pred_test, y_test, color='g', ax=ax_arr)\n",
    "plt.show()"
   ]
  },
  {
   "cell_type": "code",
   "execution_count": 106,
   "metadata": {},
   "outputs": [],
   "source": [
    "Xfix_tr_sub_form = '~ GrLivArea+GarageArea+TotRmsAbvGrd+TotalBsmtSF+FirstFlrSF+FullBath+YearRemodAdd+GarageYrBlt+Foundation+Fireplaces+Neighborhood+MSSubClass+SaleCondition+LotFrontage+OpenPorchSF+WoodDeckSF+YrSold-1'"
   ]
  },
  {
   "cell_type": "code",
   "execution_count": 107,
   "metadata": {
    "collapsed": true
   },
   "outputs": [],
   "source": [
    "Xfix_tr_sub_cols = ['GrLivArea', 'GarageArea', 'TotalBsmtSF', 'FirstFlrSF',\n",
    "  'FullBath', 'YearBuilt', 'TotRmsAbvGrd', 'YearRemodAdd', 'GarageYrBlt', 'C(Foundation)[T.CBlock]',\n",
    "  'C(Foundation)[T.PConc]', 'C(Foundation)[T.Slab]', 'C(Foundation)[T.Stone]', 'C(Foundation)[T.Wood]',\n",
    "  'C(Neighborhood)[T.Blueste]', 'Fireplaces', 'C(Neighborhood)[T.BrDale]',\n",
    "  'C(Neighborhood)[T.BrkSide]', 'C(Neighborhood)[T.ClearCr]', 'C(Neighborhood)[T.CollgCr]',\n",
    "  'C(Neighborhood)[T.Crawfor]', 'C(Neighborhood)[T.Edwards]', 'C(Neighborhood)[T.Gilbert]',\n",
    "  'C(Neighborhood)[T.IDOTRR]', 'C(Neighborhood)[T.MeadowV]', 'C(Neighborhood)[T.Mitchel]',\n",
    "  'C(Neighborhood)[T.NAmes]', 'C(Neighborhood)[T.NPkVill]', 'C(Neighborhood)[T.NWAmes]',\n",
    "  'C(Neighborhood)[T.NoRidge]', 'C(Neighborhood)[T.NridgHt]', 'C(Neighborhood)[T.OldTown]',\n",
    "  'C(Neighborhood)[T.SWISU]', 'C(Neighborhood)[T.SawyerW]', 'C(Neighborhood)[T.Sawyer]',\n",
    "  'C(Neighborhood)[T.Somerst]', 'C(Neighborhood)[T.StoneBr]', 'C(Neighborhood)[T.Timber]',\n",
    "  'C(Neighborhood)[T.Veenker]', 'C(MSSubClass)[T.OneHalfStoryF]', 'C(MSSubClass)[T.OneHalfStoryUF]', 'C(MSSubClass)[T.OneStory1945Old]',\n",
    "  'C(MSSubClass)[T.OneStory1946New]', 'C(MSSubClass)[T.OneStoryPUD1946New]', 'C(MSSubClass)[T.OneStory]', 'C(MSSubClass)[T.PUDMultiLevel]',\n",
    "  'C(MSSubClass)[T.SplitFoyer]', 'C(MSSubClass)[T.SplitMultiLevel]', 'C(MSSubClass)[T.TwoFamConv]', 'C(MSSubClass)[T.TwoHalfStory]', 'C(MSSubClass)[T.TwoStory1945Old]',\n",
    "  'C(MSSubClass)[T.TwoStory1946New]', 'C(MSSubClass)[T.TwoStoryPUD1946New]', 'C(SaleCondition)[Abnorml]', 'C(SaleCondition)[AdjLand]', 'C(SaleCondition)[Alloca]', 'C(SaleCondition)[Family]', 'C(SaleCondition)[Normal]',\n",
    "  'C(SaleCondition)[Partial]', 'OpenPorchSF', 'WoodDeckSF'\n",
    "]"
   ]
  },
  {
   "cell_type": "code",
   "execution_count": 108,
   "metadata": {},
   "outputs": [],
   "source": [
    "Xfix_tr_subset = Xfix_train[Xfix_tr_sub_cols]\n",
    "Xfix_te_subset = Xfix_test[Xfix_tr_sub_cols]"
   ]
  },
  {
   "cell_type": "code",
   "execution_count": 109,
   "metadata": {},
   "outputs": [
    {
     "name": "stdout",
     "output_type": "stream",
     "text": [
      "Best estimator:\n",
      "Ridge(alpha=2.5118864315095824, copy_X=True, fit_intercept=True,\n",
      "   max_iter=None, normalize=False, random_state=None, solver='auto',\n",
      "   tol=0.001)\n",
      "Best score:\n",
      "0.840267680844\n",
      "Best params:\n",
      "{'alpha': 2.5118864315095824}\n"
     ]
    },
    {
     "data": {
      "text/html": [
       "<div>\n",
       "<style>\n",
       "    .dataframe thead tr:only-child th {\n",
       "        text-align: right;\n",
       "    }\n",
       "\n",
       "    .dataframe thead th {\n",
       "        text-align: left;\n",
       "    }\n",
       "\n",
       "    .dataframe tbody tr th {\n",
       "        vertical-align: top;\n",
       "    }\n",
       "</style>\n",
       "<table border=\"1\" class=\"dataframe\">\n",
       "  <thead>\n",
       "    <tr style=\"text-align: right;\">\n",
       "      <th></th>\n",
       "      <th>mean_fit_time</th>\n",
       "      <th>mean_score_time</th>\n",
       "      <th>mean_test_score</th>\n",
       "      <th>mean_train_score</th>\n",
       "      <th>param_alpha</th>\n",
       "      <th>params</th>\n",
       "      <th>rank_test_score</th>\n",
       "      <th>split0_test_score</th>\n",
       "      <th>split0_train_score</th>\n",
       "      <th>split1_test_score</th>\n",
       "      <th>split1_train_score</th>\n",
       "      <th>split2_test_score</th>\n",
       "      <th>split2_train_score</th>\n",
       "      <th>std_fit_time</th>\n",
       "      <th>std_score_time</th>\n",
       "      <th>std_test_score</th>\n",
       "      <th>std_train_score</th>\n",
       "    </tr>\n",
       "  </thead>\n",
       "  <tbody>\n",
       "    <tr>\n",
       "      <th>52</th>\n",
       "      <td>0.005</td>\n",
       "      <td>0.0</td>\n",
       "      <td>0.840268</td>\n",
       "      <td>0.860858</td>\n",
       "      <td>2.51189</td>\n",
       "      <td>{u'alpha': 2.51188643151}</td>\n",
       "      <td>1</td>\n",
       "      <td>0.840292</td>\n",
       "      <td>0.860185</td>\n",
       "      <td>0.843161</td>\n",
       "      <td>0.858995</td>\n",
       "      <td>0.837343</td>\n",
       "      <td>0.863393</td>\n",
       "      <td>0.007071</td>\n",
       "      <td>0.0</td>\n",
       "      <td>0.002375</td>\n",
       "      <td>0.001857</td>\n",
       "    </tr>\n",
       "    <tr>\n",
       "      <th>53</th>\n",
       "      <td>0.000</td>\n",
       "      <td>0.0</td>\n",
       "      <td>0.840091</td>\n",
       "      <td>0.859502</td>\n",
       "      <td>3.98107</td>\n",
       "      <td>{u'alpha': 3.98107170553}</td>\n",
       "      <td>2</td>\n",
       "      <td>0.838893</td>\n",
       "      <td>0.858824</td>\n",
       "      <td>0.844219</td>\n",
       "      <td>0.857676</td>\n",
       "      <td>0.837154</td>\n",
       "      <td>0.862007</td>\n",
       "      <td>0.000000</td>\n",
       "      <td>0.0</td>\n",
       "      <td>0.003006</td>\n",
       "      <td>0.001832</td>\n",
       "    </tr>\n",
       "    <tr>\n",
       "      <th>51</th>\n",
       "      <td>0.000</td>\n",
       "      <td>0.0</td>\n",
       "      <td>0.840052</td>\n",
       "      <td>0.861732</td>\n",
       "      <td>1.58489</td>\n",
       "      <td>{u'alpha': 1.58489319246}</td>\n",
       "      <td>3</td>\n",
       "      <td>0.840965</td>\n",
       "      <td>0.861201</td>\n",
       "      <td>0.841944</td>\n",
       "      <td>0.859772</td>\n",
       "      <td>0.837240</td>\n",
       "      <td>0.864223</td>\n",
       "      <td>0.000000</td>\n",
       "      <td>0.0</td>\n",
       "      <td>0.002026</td>\n",
       "      <td>0.001856</td>\n",
       "    </tr>\n",
       "    <tr>\n",
       "      <th>50</th>\n",
       "      <td>0.000</td>\n",
       "      <td>0.0</td>\n",
       "      <td>0.839631</td>\n",
       "      <td>0.862308</td>\n",
       "      <td>1</td>\n",
       "      <td>{u'alpha': 1.0}</td>\n",
       "      <td>4</td>\n",
       "      <td>0.841038</td>\n",
       "      <td>0.862007</td>\n",
       "      <td>0.840799</td>\n",
       "      <td>0.860209</td>\n",
       "      <td>0.837049</td>\n",
       "      <td>0.864707</td>\n",
       "      <td>0.000000</td>\n",
       "      <td>0.0</td>\n",
       "      <td>0.001826</td>\n",
       "      <td>0.001848</td>\n",
       "    </tr>\n",
       "    <tr>\n",
       "      <th>54</th>\n",
       "      <td>0.000</td>\n",
       "      <td>0.0</td>\n",
       "      <td>0.839250</td>\n",
       "      <td>0.857417</td>\n",
       "      <td>6.30957</td>\n",
       "      <td>{u'alpha': 6.3095734448}</td>\n",
       "      <td>5</td>\n",
       "      <td>0.836615</td>\n",
       "      <td>0.856894</td>\n",
       "      <td>0.844773</td>\n",
       "      <td>0.855563</td>\n",
       "      <td>0.836354</td>\n",
       "      <td>0.859795</td>\n",
       "      <td>0.000000</td>\n",
       "      <td>0.0</td>\n",
       "      <td>0.003909</td>\n",
       "      <td>0.001767</td>\n",
       "    </tr>\n",
       "  </tbody>\n",
       "</table>\n",
       "</div>"
      ],
      "text/plain": [
       "    mean_fit_time  mean_score_time  mean_test_score  mean_train_score  \\\n",
       "52          0.005              0.0         0.840268          0.860858   \n",
       "53          0.000              0.0         0.840091          0.859502   \n",
       "51          0.000              0.0         0.840052          0.861732   \n",
       "50          0.000              0.0         0.839631          0.862308   \n",
       "54          0.000              0.0         0.839250          0.857417   \n",
       "\n",
       "   param_alpha                     params  rank_test_score  split0_test_score  \\\n",
       "52     2.51189  {u'alpha': 2.51188643151}                1           0.840292   \n",
       "53     3.98107  {u'alpha': 3.98107170553}                2           0.838893   \n",
       "51     1.58489  {u'alpha': 1.58489319246}                3           0.840965   \n",
       "50           1            {u'alpha': 1.0}                4           0.841038   \n",
       "54     6.30957   {u'alpha': 6.3095734448}                5           0.836615   \n",
       "\n",
       "    split0_train_score  split1_test_score  split1_train_score  \\\n",
       "52            0.860185           0.843161            0.858995   \n",
       "53            0.858824           0.844219            0.857676   \n",
       "51            0.861201           0.841944            0.859772   \n",
       "50            0.862007           0.840799            0.860209   \n",
       "54            0.856894           0.844773            0.855563   \n",
       "\n",
       "    split2_test_score  split2_train_score  std_fit_time  std_score_time  \\\n",
       "52           0.837343            0.863393      0.007071             0.0   \n",
       "53           0.837154            0.862007      0.000000             0.0   \n",
       "51           0.837240            0.864223      0.000000             0.0   \n",
       "50           0.837049            0.864707      0.000000             0.0   \n",
       "54           0.836354            0.859795      0.000000             0.0   \n",
       "\n",
       "    std_test_score  std_train_score  \n",
       "52        0.002375         0.001857  \n",
       "53        0.003006         0.001832  \n",
       "51        0.002026         0.001856  \n",
       "50        0.001826         0.001848  \n",
       "54        0.003909         0.001767  "
      ]
     },
     "execution_count": 109,
     "metadata": {},
     "output_type": "execute_result"
    }
   ],
   "source": [
    "ridge = Ridge()\n",
    "\n",
    "\n",
    "\n",
    "search_parameters = {\"alpha\": np.logspace(-10, 10, 101)}\n",
    "\n",
    "estimator = GridSearchCV(ridge, search_parameters)\n",
    "results = estimator.fit(Xfix_tr_subset, y_train)\n",
    "print \"Best estimator:\"\n",
    "print results.best_estimator_\n",
    "\n",
    "print \"Best score:\"\n",
    "print results.best_score_\n",
    "\n",
    "print \"Best params:\"\n",
    "print results.best_params_\n",
    "\n",
    "df_score = pd.DataFrame(results.cv_results_)\n",
    "df_score.sort_values(by='rank_test_score').head()"
   ]
  },
  {
   "cell_type": "code",
   "execution_count": 110,
   "metadata": {},
   "outputs": [
    {
     "data": {
      "image/png": "[encoded data removed]",
      "text/plain": [
       "<matplotlib.figure.Figure at 0xe8fc198>"
      ]
     },
     "metadata": {},
     "output_type": "display_data"
    }
   ],
   "source": [
    "df_score.plot( x=\"param_alpha\", y=\"mean_test_score\", title=\"Alphas / Mean Scores\")\n",
    "plt.xscale('log')\n",
    "plt.show()"
   ]
  },
  {
   "cell_type": "code",
   "execution_count": 111,
   "metadata": {
    "collapsed": true
   },
   "outputs": [],
   "source": [
    "coefs = []\n",
    "\n",
    "for alpha in df_score.param_alpha:\n",
    "    ridge = Ridge(alpha=alpha)\n",
    "    model = ridge.fit(Xfix_tr_subset, y_train)\n",
    "    \n",
    "    alpha_coefs_r = {key: value for key, value in zip(Xfix_tr_subset.columns, model.coef_.flatten())}\n",
    "    alpha_coefs_r.update({\"alpha\": alpha}) \n",
    "    \n",
    "    coefs.append(alpha_coefs_r)"
   ]
  },
  {
   "cell_type": "code",
   "execution_count": 112,
   "metadata": {},
   "outputs": [
    {
     "name": "stdout",
     "output_type": "stream",
     "text": [
      "Best Alpha was:  {'alpha': 2.5118864315095824}\n"
     ]
    },
    {
     "data": {
      "text/html": [
       "<div>\n",
       "<style>\n",
       "    .dataframe thead tr:only-child th {\n",
       "        text-align: right;\n",
       "    }\n",
       "\n",
       "    .dataframe thead th {\n",
       "        text-align: left;\n",
       "    }\n",
       "\n",
       "    .dataframe tbody tr th {\n",
       "        vertical-align: top;\n",
       "    }\n",
       "</style>\n",
       "<table border=\"1\" class=\"dataframe\">\n",
       "  <thead>\n",
       "    <tr style=\"text-align: right;\">\n",
       "      <th></th>\n",
       "      <th>C(MSSubClass)[T.OneHalfStoryF]</th>\n",
       "      <th>C(Neighborhood)[T.Crawfor]</th>\n",
       "      <th>C(MSSubClass)[T.OneHalfStoryUF]</th>\n",
       "      <th>C(Neighborhood)[T.NridgHt]</th>\n",
       "      <th>GarageYrBlt</th>\n",
       "      <th>C(Neighborhood)[T.NWAmes]</th>\n",
       "      <th>C(SaleCondition)[AdjLand]</th>\n",
       "      <th>C(Foundation)[T.Slab]</th>\n",
       "      <th>C(Neighborhood)[T.NoRidge]</th>\n",
       "      <th>C(MSSubClass)[T.OneStory1946New]</th>\n",
       "      <th>...</th>\n",
       "      <th>C(Neighborhood)[T.Gilbert]</th>\n",
       "      <th>C(SaleCondition)[Family]</th>\n",
       "      <th>C(Neighborhood)[T.Timber]</th>\n",
       "      <th>C(MSSubClass)[T.TwoFamConv]</th>\n",
       "      <th>C(Foundation)[T.Stone]</th>\n",
       "      <th>C(Neighborhood)[T.Veenker]</th>\n",
       "      <th>C(Neighborhood)[T.BrDale]</th>\n",
       "      <th>C(Neighborhood)[T.CollgCr]</th>\n",
       "      <th>C(MSSubClass)[T.SplitMultiLevel]</th>\n",
       "      <th>C(Neighborhood)[T.ClearCr]</th>\n",
       "    </tr>\n",
       "    <tr>\n",
       "      <th>alpha</th>\n",
       "      <th></th>\n",
       "      <th></th>\n",
       "      <th></th>\n",
       "      <th></th>\n",
       "      <th></th>\n",
       "      <th></th>\n",
       "      <th></th>\n",
       "      <th></th>\n",
       "      <th></th>\n",
       "      <th></th>\n",
       "      <th></th>\n",
       "      <th></th>\n",
       "      <th></th>\n",
       "      <th></th>\n",
       "      <th></th>\n",
       "      <th></th>\n",
       "      <th></th>\n",
       "      <th></th>\n",
       "      <th></th>\n",
       "      <th></th>\n",
       "      <th></th>\n",
       "    </tr>\n",
       "  </thead>\n",
       "  <tbody>\n",
       "    <tr>\n",
       "      <th>0.0</th>\n",
       "      <td>21306.775226</td>\n",
       "      <td>29733.912888</td>\n",
       "      <td>34902.398457</td>\n",
       "      <td>52452.300589</td>\n",
       "      <td>-1890.748702</td>\n",
       "      <td>-7731.863847</td>\n",
       "      <td>21403.264261</td>\n",
       "      <td>15995.850303</td>\n",
       "      <td>37321.384313</td>\n",
       "      <td>24436.574200</td>\n",
       "      <td>...</td>\n",
       "      <td>-8166.206349</td>\n",
       "      <td>-16711.142752</td>\n",
       "      <td>13359.798626</td>\n",
       "      <td>16131.951233</td>\n",
       "      <td>-6439.344976</td>\n",
       "      <td>34930.612354</td>\n",
       "      <td>24601.702612</td>\n",
       "      <td>-3005.978513</td>\n",
       "      <td>30233.380077</td>\n",
       "      <td>679.840508</td>\n",
       "    </tr>\n",
       "    <tr>\n",
       "      <th>0.0</th>\n",
       "      <td>21306.775225</td>\n",
       "      <td>29733.912886</td>\n",
       "      <td>34902.398456</td>\n",
       "      <td>52452.300588</td>\n",
       "      <td>-1890.748702</td>\n",
       "      <td>-7731.863848</td>\n",
       "      <td>21404.570634</td>\n",
       "      <td>15995.850303</td>\n",
       "      <td>37321.384312</td>\n",
       "      <td>24436.574200</td>\n",
       "      <td>...</td>\n",
       "      <td>-8166.206350</td>\n",
       "      <td>-16709.836378</td>\n",
       "      <td>13359.798625</td>\n",
       "      <td>16131.951232</td>\n",
       "      <td>-6439.344976</td>\n",
       "      <td>34930.612353</td>\n",
       "      <td>24601.702610</td>\n",
       "      <td>-3005.978514</td>\n",
       "      <td>30233.380077</td>\n",
       "      <td>679.840507</td>\n",
       "    </tr>\n",
       "    <tr>\n",
       "      <th>0.0</th>\n",
       "      <td>21306.775224</td>\n",
       "      <td>29733.912884</td>\n",
       "      <td>34902.398455</td>\n",
       "      <td>52452.300586</td>\n",
       "      <td>-1890.748702</td>\n",
       "      <td>-7731.863850</td>\n",
       "      <td>21408.200425</td>\n",
       "      <td>15995.850302</td>\n",
       "      <td>37321.384310</td>\n",
       "      <td>24436.574199</td>\n",
       "      <td>...</td>\n",
       "      <td>-8166.206352</td>\n",
       "      <td>-16706.206586</td>\n",
       "      <td>13359.798623</td>\n",
       "      <td>16131.951231</td>\n",
       "      <td>-6439.344976</td>\n",
       "      <td>34930.612351</td>\n",
       "      <td>24601.702608</td>\n",
       "      <td>-3005.978516</td>\n",
       "      <td>30233.380076</td>\n",
       "      <td>679.840505</td>\n",
       "    </tr>\n",
       "    <tr>\n",
       "      <th>0.0</th>\n",
       "      <td>21306.775222</td>\n",
       "      <td>29733.912881</td>\n",
       "      <td>34902.398453</td>\n",
       "      <td>52452.300583</td>\n",
       "      <td>-1890.748702</td>\n",
       "      <td>-7731.863853</td>\n",
       "      <td>21410.846878</td>\n",
       "      <td>15995.850301</td>\n",
       "      <td>37321.384307</td>\n",
       "      <td>24436.574197</td>\n",
       "      <td>...</td>\n",
       "      <td>-8166.206355</td>\n",
       "      <td>-16703.560131</td>\n",
       "      <td>13359.798620</td>\n",
       "      <td>16131.951229</td>\n",
       "      <td>-6439.344976</td>\n",
       "      <td>34930.612347</td>\n",
       "      <td>24601.702605</td>\n",
       "      <td>-3005.978519</td>\n",
       "      <td>30233.380074</td>\n",
       "      <td>679.840502</td>\n",
       "    </tr>\n",
       "    <tr>\n",
       "      <th>0.0</th>\n",
       "      <td>21306.775219</td>\n",
       "      <td>29733.912876</td>\n",
       "      <td>34902.398449</td>\n",
       "      <td>52452.300579</td>\n",
       "      <td>-1890.748702</td>\n",
       "      <td>-7731.863858</td>\n",
       "      <td>21411.836019</td>\n",
       "      <td>15995.850300</td>\n",
       "      <td>37321.384301</td>\n",
       "      <td>24436.574195</td>\n",
       "      <td>...</td>\n",
       "      <td>-8166.206360</td>\n",
       "      <td>-16702.570988</td>\n",
       "      <td>13359.798614</td>\n",
       "      <td>16131.951226</td>\n",
       "      <td>-6439.344976</td>\n",
       "      <td>34930.612341</td>\n",
       "      <td>24601.702599</td>\n",
       "      <td>-3005.978524</td>\n",
       "      <td>30233.380072</td>\n",
       "      <td>679.840496</td>\n",
       "    </tr>\n",
       "    <tr>\n",
       "      <th>0.0</th>\n",
       "      <td>21306.775215</td>\n",
       "      <td>29733.912867</td>\n",
       "      <td>34902.398443</td>\n",
       "      <td>52452.300571</td>\n",
       "      <td>-1890.748702</td>\n",
       "      <td>-7731.863866</td>\n",
       "      <td>21412.925072</td>\n",
       "      <td>15995.850298</td>\n",
       "      <td>37321.384293</td>\n",
       "      <td>24436.574191</td>\n",
       "      <td>...</td>\n",
       "      <td>-8166.206368</td>\n",
       "      <td>-16701.481931</td>\n",
       "      <td>13359.798606</td>\n",
       "      <td>16131.951221</td>\n",
       "      <td>-6439.344976</td>\n",
       "      <td>34930.612333</td>\n",
       "      <td>24601.702590</td>\n",
       "      <td>-3005.978532</td>\n",
       "      <td>30233.380068</td>\n",
       "      <td>679.840488</td>\n",
       "    </tr>\n",
       "    <tr>\n",
       "      <th>0.0</th>\n",
       "      <td>21306.775207</td>\n",
       "      <td>29733.912854</td>\n",
       "      <td>34902.398434</td>\n",
       "      <td>52452.300559</td>\n",
       "      <td>-1890.748702</td>\n",
       "      <td>-7731.863879</td>\n",
       "      <td>21413.500778</td>\n",
       "      <td>15995.850295</td>\n",
       "      <td>37321.384280</td>\n",
       "      <td>24436.574185</td>\n",
       "      <td>...</td>\n",
       "      <td>-8166.206380</td>\n",
       "      <td>-16700.906218</td>\n",
       "      <td>13359.798594</td>\n",
       "      <td>16131.951213</td>\n",
       "      <td>-6439.344975</td>\n",
       "      <td>34930.612318</td>\n",
       "      <td>24601.702576</td>\n",
       "      <td>-3005.978544</td>\n",
       "      <td>30233.380061</td>\n",
       "      <td>679.840475</td>\n",
       "    </tr>\n",
       "    <tr>\n",
       "      <th>0.0</th>\n",
       "      <td>21306.775195</td>\n",
       "      <td>29733.912833</td>\n",
       "      <td>34902.398419</td>\n",
       "      <td>52452.300540</td>\n",
       "      <td>-1890.748702</td>\n",
       "      <td>-7731.863899</td>\n",
       "      <td>21413.848469</td>\n",
       "      <td>15995.850290</td>\n",
       "      <td>37321.384258</td>\n",
       "      <td>24436.574176</td>\n",
       "      <td>...</td>\n",
       "      <td>-8166.206400</td>\n",
       "      <td>-16700.558517</td>\n",
       "      <td>13359.798574</td>\n",
       "      <td>16131.951201</td>\n",
       "      <td>-6439.344974</td>\n",
       "      <td>34930.612296</td>\n",
       "      <td>24601.702553</td>\n",
       "      <td>-3005.978563</td>\n",
       "      <td>30233.380051</td>\n",
       "      <td>679.840455</td>\n",
       "    </tr>\n",
       "    <tr>\n",
       "      <th>0.0</th>\n",
       "      <td>21306.775176</td>\n",
       "      <td>29733.912800</td>\n",
       "      <td>34902.398396</td>\n",
       "      <td>52452.300511</td>\n",
       "      <td>-1890.748703</td>\n",
       "      <td>-7731.863930</td>\n",
       "      <td>21414.098883</td>\n",
       "      <td>15995.850282</td>\n",
       "      <td>37321.384225</td>\n",
       "      <td>24436.574161</td>\n",
       "      <td>...</td>\n",
       "      <td>-8166.206430</td>\n",
       "      <td>-16700.308086</td>\n",
       "      <td>13359.798542</td>\n",
       "      <td>16131.951182</td>\n",
       "      <td>-6439.344973</td>\n",
       "      <td>34930.612260</td>\n",
       "      <td>24601.702517</td>\n",
       "      <td>-3005.978594</td>\n",
       "      <td>30233.380035</td>\n",
       "      <td>679.840423</td>\n",
       "    </tr>\n",
       "    <tr>\n",
       "      <th>0.0</th>\n",
       "      <td>21306.775147</td>\n",
       "      <td>29733.912748</td>\n",
       "      <td>34902.398359</td>\n",
       "      <td>52452.300464</td>\n",
       "      <td>-1890.748703</td>\n",
       "      <td>-7731.863980</td>\n",
       "      <td>21414.212621</td>\n",
       "      <td>15995.850269</td>\n",
       "      <td>37321.384172</td>\n",
       "      <td>24436.574138</td>\n",
       "      <td>...</td>\n",
       "      <td>-8166.206479</td>\n",
       "      <td>-16700.194322</td>\n",
       "      <td>13359.798491</td>\n",
       "      <td>16131.951151</td>\n",
       "      <td>-6439.344972</td>\n",
       "      <td>34930.612203</td>\n",
       "      <td>24601.702460</td>\n",
       "      <td>-3005.978643</td>\n",
       "      <td>30233.380010</td>\n",
       "      <td>679.840372</td>\n",
       "    </tr>\n",
       "  </tbody>\n",
       "</table>\n",
       "<p>10 rows × 61 columns</p>\n",
       "</div>"
      ],
      "text/plain": [
       "       C(MSSubClass)[T.OneHalfStoryF]  C(Neighborhood)[T.Crawfor]  \\\n",
       "alpha                                                               \n",
       "0.0                      21306.775226                29733.912888   \n",
       "0.0                      21306.775225                29733.912886   \n",
       "0.0                      21306.775224                29733.912884   \n",
       "0.0                      21306.775222                29733.912881   \n",
       "0.0                      21306.775219                29733.912876   \n",
       "0.0                      21306.775215                29733.912867   \n",
       "0.0                      21306.775207                29733.912854   \n",
       "0.0                      21306.775195                29733.912833   \n",
       "0.0                      21306.775176                29733.912800   \n",
       "0.0                      21306.775147                29733.912748   \n",
       "\n",
       "       C(MSSubClass)[T.OneHalfStoryUF]  C(Neighborhood)[T.NridgHt]  \\\n",
       "alpha                                                                \n",
       "0.0                       34902.398457                52452.300589   \n",
       "0.0                       34902.398456                52452.300588   \n",
       "0.0                       34902.398455                52452.300586   \n",
       "0.0                       34902.398453                52452.300583   \n",
       "0.0                       34902.398449                52452.300579   \n",
       "0.0                       34902.398443                52452.300571   \n",
       "0.0                       34902.398434                52452.300559   \n",
       "0.0                       34902.398419                52452.300540   \n",
       "0.0                       34902.398396                52452.300511   \n",
       "0.0                       34902.398359                52452.300464   \n",
       "\n",
       "       GarageYrBlt  C(Neighborhood)[T.NWAmes]  C(SaleCondition)[AdjLand]  \\\n",
       "alpha                                                                      \n",
       "0.0   -1890.748702               -7731.863847               21403.264261   \n",
       "0.0   -1890.748702               -7731.863848               21404.570634   \n",
       "0.0   -1890.748702               -7731.863850               21408.200425   \n",
       "0.0   -1890.748702               -7731.863853               21410.846878   \n",
       "0.0   -1890.748702               -7731.863858               21411.836019   \n",
       "0.0   -1890.748702               -7731.863866               21412.925072   \n",
       "0.0   -1890.748702               -7731.863879               21413.500778   \n",
       "0.0   -1890.748702               -7731.863899               21413.848469   \n",
       "0.0   -1890.748703               -7731.863930               21414.098883   \n",
       "0.0   -1890.748703               -7731.863980               21414.212621   \n",
       "\n",
       "       C(Foundation)[T.Slab]  C(Neighborhood)[T.NoRidge]  \\\n",
       "alpha                                                      \n",
       "0.0             15995.850303                37321.384313   \n",
       "0.0             15995.850303                37321.384312   \n",
       "0.0             15995.850302                37321.384310   \n",
       "0.0             15995.850301                37321.384307   \n",
       "0.0             15995.850300                37321.384301   \n",
       "0.0             15995.850298                37321.384293   \n",
       "0.0             15995.850295                37321.384280   \n",
       "0.0             15995.850290                37321.384258   \n",
       "0.0             15995.850282                37321.384225   \n",
       "0.0             15995.850269                37321.384172   \n",
       "\n",
       "       C(MSSubClass)[T.OneStory1946New]             ...              \\\n",
       "alpha                                               ...               \n",
       "0.0                        24436.574200             ...               \n",
       "0.0                        24436.574200             ...               \n",
       "0.0                        24436.574199             ...               \n",
       "0.0                        24436.574197             ...               \n",
       "0.0                        24436.574195             ...               \n",
       "0.0                        24436.574191             ...               \n",
       "0.0                        24436.574185             ...               \n",
       "0.0                        24436.574176             ...               \n",
       "0.0                        24436.574161             ...               \n",
       "0.0                        24436.574138             ...               \n",
       "\n",
       "       C(Neighborhood)[T.Gilbert]  C(SaleCondition)[Family]  \\\n",
       "alpha                                                         \n",
       "0.0                  -8166.206349             -16711.142752   \n",
       "0.0                  -8166.206350             -16709.836378   \n",
       "0.0                  -8166.206352             -16706.206586   \n",
       "0.0                  -8166.206355             -16703.560131   \n",
       "0.0                  -8166.206360             -16702.570988   \n",
       "0.0                  -8166.206368             -16701.481931   \n",
       "0.0                  -8166.206380             -16700.906218   \n",
       "0.0                  -8166.206400             -16700.558517   \n",
       "0.0                  -8166.206430             -16700.308086   \n",
       "0.0                  -8166.206479             -16700.194322   \n",
       "\n",
       "       C(Neighborhood)[T.Timber]  C(MSSubClass)[T.TwoFamConv]  \\\n",
       "alpha                                                           \n",
       "0.0                 13359.798626                 16131.951233   \n",
       "0.0                 13359.798625                 16131.951232   \n",
       "0.0                 13359.798623                 16131.951231   \n",
       "0.0                 13359.798620                 16131.951229   \n",
       "0.0                 13359.798614                 16131.951226   \n",
       "0.0                 13359.798606                 16131.951221   \n",
       "0.0                 13359.798594                 16131.951213   \n",
       "0.0                 13359.798574                 16131.951201   \n",
       "0.0                 13359.798542                 16131.951182   \n",
       "0.0                 13359.798491                 16131.951151   \n",
       "\n",
       "       C(Foundation)[T.Stone]  C(Neighborhood)[T.Veenker]  \\\n",
       "alpha                                                       \n",
       "0.0              -6439.344976                34930.612354   \n",
       "0.0              -6439.344976                34930.612353   \n",
       "0.0              -6439.344976                34930.612351   \n",
       "0.0              -6439.344976                34930.612347   \n",
       "0.0              -6439.344976                34930.612341   \n",
       "0.0              -6439.344976                34930.612333   \n",
       "0.0              -6439.344975                34930.612318   \n",
       "0.0              -6439.344974                34930.612296   \n",
       "0.0              -6439.344973                34930.612260   \n",
       "0.0              -6439.344972                34930.612203   \n",
       "\n",
       "       C(Neighborhood)[T.BrDale]  C(Neighborhood)[T.CollgCr]  \\\n",
       "alpha                                                          \n",
       "0.0                 24601.702612                -3005.978513   \n",
       "0.0                 24601.702610                -3005.978514   \n",
       "0.0                 24601.702608                -3005.978516   \n",
       "0.0                 24601.702605                -3005.978519   \n",
       "0.0                 24601.702599                -3005.978524   \n",
       "0.0                 24601.702590                -3005.978532   \n",
       "0.0                 24601.702576                -3005.978544   \n",
       "0.0                 24601.702553                -3005.978563   \n",
       "0.0                 24601.702517                -3005.978594   \n",
       "0.0                 24601.702460                -3005.978643   \n",
       "\n",
       "       C(MSSubClass)[T.SplitMultiLevel]  C(Neighborhood)[T.ClearCr]  \n",
       "alpha                                                                \n",
       "0.0                        30233.380077                  679.840508  \n",
       "0.0                        30233.380077                  679.840507  \n",
       "0.0                        30233.380076                  679.840505  \n",
       "0.0                        30233.380074                  679.840502  \n",
       "0.0                        30233.380072                  679.840496  \n",
       "0.0                        30233.380068                  679.840488  \n",
       "0.0                        30233.380061                  679.840475  \n",
       "0.0                        30233.380051                  679.840455  \n",
       "0.0                        30233.380035                  679.840423  \n",
       "0.0                        30233.380010                  679.840372  \n",
       "\n",
       "[10 rows x 61 columns]"
      ]
     },
     "execution_count": 112,
     "metadata": {},
     "output_type": "execute_result"
    }
   ],
   "source": [
    "print \"Best Alpha was: \", results.best_params_\n",
    "\n",
    "df_coef = pd.DataFrame([c.values() for c in coefs],columns=coefs[0].keys())\n",
    "\n",
    "df_coef['alpha'] = df_coef['alpha'].round(3)\n",
    "df_coef.set_index('alpha',inplace=True)\n",
    "df_coef.head(10)"
   ]
  },
  {
   "cell_type": "code",
   "execution_count": 113,
   "metadata": {
    "collapsed": true
   },
   "outputs": [],
   "source": [
    "predict_tr_sub = results.best_estimator_.predict(Xfix_tr_subset)\n",
    "predict_te_sub = results.best_estimator_.predict(Xfix_te_subset)"
   ]
  },
  {
   "cell_type": "code",
   "execution_count": 114,
   "metadata": {},
   "outputs": [
    {
     "name": "stdout",
     "output_type": "stream",
     "text": [
      "0.840267680844\n",
      "Ridge(alpha=2.5118864315095824, copy_X=True, fit_intercept=True,\n",
      "   max_iter=None, normalize=False, random_state=None, solver='auto',\n",
      "   tol=0.001)\n"
     ]
    }
   ],
   "source": [
    "print results.best_score_\n",
    "print results.best_estimator_"
   ]
  },
  {
   "cell_type": "code",
   "execution_count": 115,
   "metadata": {},
   "outputs": [
    {
     "data": {
      "image/png": "[encoded data removed]",
      "text/plain": [
       "<matplotlib.figure.Figure at 0xba01ac8>"
      ]
     },
     "metadata": {},
     "output_type": "display_data"
    }
   ],
   "source": [
    "fig, ax_arr = plt.subplots(1,1, figsize=(12,6))\n",
    "plt.xlabel(\"Predictions\")\n",
    "plt.ylabel(\"Sales Prices\")\n",
    "axis0 = sns.regplot(predict_tr_sub, y_train, color='b', ax=ax_arr)\n",
    "plt.show()"
   ]
  },
  {
   "cell_type": "code",
   "execution_count": 116,
   "metadata": {},
   "outputs": [
    {
     "data": {
      "image/png": "[encoded data removed]",
      "text/plain": [
       "<matplotlib.figure.Figure at 0x14793a58>"
      ]
     },
     "metadata": {},
     "output_type": "display_data"
    }
   ],
   "source": [
    "fig, ax_arr = plt.subplots(1,1, figsize=(12,6))\n",
    "plt.xlabel(\"Predictions\")\n",
    "plt.ylabel(\"Sales Prices\")\n",
    "axis0 = sns.regplot(predict_te_sub, y_test, color='g', ax=ax_arr)\n",
    "plt.show()"
   ]
  },
  {
   "cell_type": "code",
   "execution_count": 117,
   "metadata": {},
   "outputs": [
    {
     "data": {
      "text/plain": [
       "179167.0"
      ]
     },
     "execution_count": 117,
     "metadata": {},
     "output_type": "execute_result"
    }
   ],
   "source": [
    "y_test.mean()"
   ]
  },
  {
   "cell_type": "code",
   "execution_count": 118,
   "metadata": {},
   "outputs": [
    {
     "data": {
      "text/plain": [
       "179376.65647168961"
      ]
     },
     "execution_count": 118,
     "metadata": {},
     "output_type": "execute_result"
    }
   ],
   "source": [
    "predict_te_sub.mean()"
   ]
  },
  {
   "cell_type": "markdown",
   "metadata": {},
   "source": [
    "<img src=\"http://imgur.com/l5NasQj.png\" style=\"float: left; margin: 25px 15px 0px 0px; height: 25px\">\n",
    "\n",
    "## 2. Determine any value of *changeable* property characteristics unexplained by the *fixed* ones.\n",
    "\n",
    "---\n",
    "\n",
    "Now that you have a model that estimates the price of a house based on its static characteristics, we can move forward with part 2 and 3 of the plan: what are the costs/benefits of quality, condition, and renovations?\n",
    "\n",
    "There are two specific requirements for these estimates:\n",
    "1. The estimates of effects must be in terms of dollars added or subtracted from the house value. \n",
    "2. The effects must be on the variance in price remaining from the first model.\n",
    "\n",
    "The residuals from the first model (training and testing) represent the variance in price unexplained by the fixed characteristics. Of that variance in price remaining, how much of it can be explained by the easy-to-change aspects of the property?\n",
    "\n",
    "---\n",
    "\n",
    "**Your goals:**\n",
    "1. Evaluate the effect in dollars of the renovate-able features. \n",
    "- How would your company use this second model and its coefficients to determine whether they should buy a property or not? Explain how the company can use the two models you have built to determine if they can make money. \n",
    "- Investigate how much of the variance in price remaining is explained by these features.\n",
    "- Do you trust your model? Should it be used to evaluate which properties to buy and fix up?"
   ]
  },
  {
   "cell_type": "code",
   "execution_count": 120,
   "metadata": {},
   "outputs": [],
   "source": [
    "house.loc[house['YrSold'] < 2010, 'Residuals'] = house.loc[house['YrSold'] < 2010, 'SalePrice'] - predict_tr_sub"
   ]
  },
  {
   "cell_type": "code",
   "execution_count": 121,
   "metadata": {
    "collapsed": true
   },
   "outputs": [],
   "source": [
    "house.loc[house['YrSold'] >= 2010, 'Residuals'] = house.loc[house['YrSold'] >= 2010, 'SalePrice'] - predict_te_sub"
   ]
  },
  {
   "cell_type": "code",
   "execution_count": 140,
   "metadata": {
    "collapsed": true
   },
   "outputs": [],
   "source": [
    "y_train_res = house[house['YrSold'] < 2010]['Residuals']"
   ]
  },
  {
   "cell_type": "code",
   "execution_count": 141,
   "metadata": {
    "collapsed": true
   },
   "outputs": [],
   "source": [
    "y_test_res = house[house['YrSold'] >= 2010]['Residuals']"
   ]
  },
  {
   "cell_type": "code",
   "execution_count": 142,
   "metadata": {
    "collapsed": true
   },
   "outputs": [],
   "source": [
    "rencat = []\n",
    "rennum = []"
   ]
  },
  {
   "cell_type": "code",
   "execution_count": 143,
   "metadata": {
    "collapsed": true
   },
   "outputs": [],
   "source": [
    "rencat = house[nonfxd].select_dtypes(include = [object]).columns"
   ]
  },
  {
   "cell_type": "code",
   "execution_count": 144,
   "metadata": {
    "collapsed": true
   },
   "outputs": [],
   "source": [
    "rennu = house[nonfxd].select_dtypes(exclude = [object]).columns"
   ]
  },
  {
   "cell_type": "code",
   "execution_count": 145,
   "metadata": {},
   "outputs": [],
   "source": [
    "rennum = rennu.drop('SalePrice')"
   ]
  },
  {
   "cell_type": "code",
   "execution_count": 146,
   "metadata": {},
   "outputs": [],
   "source": [
    "x_ren = \" ~ \"+\"+\".join(rennum)+\"+\".join([\"C(\"+x+\")\" for x in rencat])"
   ]
  },
  {
   "cell_type": "code",
   "execution_count": 147,
   "metadata": {},
   "outputs": [
    {
     "data": {
      "text/plain": [
       "' ~ OverallQual+OverallCond+MasVnrArea+BsmtUnfSF+LowQualFinSF+MiscValC(Utilities)+C(RoofStyle)+C(RoofMatl)+C(Exterior1st)+C(Exterior2nd)+C(MasVnrType)+C(ExterQual)+C(ExterCond)+C(BsmtCond)+C(BsmtFinType1)+C(BsmtFinType2)+C(Heating)+C(HeatingQC)+C(CentralAir)+C(Electrical)+C(KitchenQual)+C(Functional)+C(FireplaceQu)+C(GarageFinish)+C(GarageQual)+C(GarageCond)+C(PavedDrive)+C(PoolQC)+C(Fence)+C(MiscFeature)+C(SaleType)'"
      ]
     },
     "execution_count": 147,
     "metadata": {},
     "output_type": "execute_result"
    }
   ],
   "source": [
    "x_ren"
   ]
  },
  {
   "cell_type": "code",
   "execution_count": 159,
   "metadata": {
    "collapsed": true
   },
   "outputs": [],
   "source": [
    "x_ren = ' ~ OverallQual+OverallCond+MasVnrArea+BsmtUnfSF+LowQualFinSF+MiscVal+C(Utilities)+C(RoofStyle)+C(RoofMatl)+C(Exterior1st)+C(Exterior2nd)+C(MasVnrType)+C(ExterQual)+C(ExterCond)+C(BsmtCond)+C(BsmtFinType1)+C(BsmtFinType2)+C(Heating)+C(HeatingQC)+C(CentralAir)+C(Electrical)+C(KitchenQual)+C(Functional)+C(FireplaceQu)+C(GarageFinish)+C(GarageQual)+C(GarageCond)+C(PavedDrive)+C(PoolQC)+C(Fence)+C(MiscFeature)+C(SaleType)+YrSold-1'"
   ]
  },
  {
   "cell_type": "code",
   "execution_count": 183,
   "metadata": {
    "collapsed": true
   },
   "outputs": [],
   "source": [
    "X_nf = patsy.dmatrix(x_ren, data=house, return_type='dataframe')"
   ]
  },
  {
   "cell_type": "code",
   "execution_count": 184,
   "metadata": {},
   "outputs": [],
   "source": [
    "X_nf_train = X_nf[X_nf['YrSold'] < 2010]"
   ]
  },
  {
   "cell_type": "code",
   "execution_count": 185,
   "metadata": {},
   "outputs": [],
   "source": [
    "X_nf_test = X_nf[X_nf['YrSold'] >= 2010]"
   ]
  },
  {
   "cell_type": "code",
   "execution_count": 186,
   "metadata": {},
   "outputs": [],
   "source": [
    "X_nf_test = X_nf_test.reset_index(drop=True)"
   ]
  },
  {
   "cell_type": "code",
   "execution_count": 187,
   "metadata": {},
   "outputs": [],
   "source": [
    "X_nf_train = X_nf_train.drop('YrSold', axis=1)\n",
    "X_nf_test = X_nf_test.drop('YrSold', axis=1)"
   ]
  },
  {
   "cell_type": "code",
   "execution_count": 188,
   "metadata": {
    "collapsed": true
   },
   "outputs": [],
   "source": [
    "nsnfcols = [col for col in X_nf.columns if col.startswith('C')]"
   ]
  },
  {
   "cell_type": "code",
   "execution_count": 189,
   "metadata": {},
   "outputs": [],
   "source": [
    "snfcols = [col for col in X_nf.columns if col in rennum]"
   ]
  },
  {
   "cell_type": "code",
   "execution_count": 190,
   "metadata": {
    "collapsed": true
   },
   "outputs": [],
   "source": [
    "standard = StandardScaler()\n",
    "standard.fit(X_nf_train[snfcols])\n",
    "X_nf_std = pd.DataFrame(standard.transform(X_nf_train[snfcols]),columns=stdnfcols)\n",
    "X_nf_nonstd = X_nf_tr[nsnfcols]"
   ]
  },
  {
   "cell_type": "code",
   "execution_count": 191,
   "metadata": {
    "collapsed": true
   },
   "outputs": [],
   "source": [
    "Xnf_tr = X_nf_std.combine_first(X_nf_nonstd)"
   ]
  },
  {
   "cell_type": "code",
   "execution_count": 193,
   "metadata": {},
   "outputs": [],
   "source": [
    "standard = StandardScaler()\n",
    "standard.fit(X_nf_test[snfcols])\n",
    "X_nf_std_te = pd.DataFrame(standard.transform(X_nf_test[snfcols]),columns=stdnfcols)\n",
    "X_nf_nonstd_te = X_nf_te[nsnfcols]"
   ]
  },
  {
   "cell_type": "code",
   "execution_count": 194,
   "metadata": {
    "collapsed": true
   },
   "outputs": [],
   "source": [
    "Xnf_te = X_nf_std_te.combine_first(X_nf_nonstd_te)"
   ]
  },
  {
   "cell_type": "code",
   "execution_count": 195,
   "metadata": {},
   "outputs": [
    {
     "name": "stdout",
     "output_type": "stream",
     "text": [
      "Best estimator:\n",
      "Ridge(alpha=25.11886431509582, copy_X=True, fit_intercept=True, max_iter=None,\n",
      "   normalize=False, random_state=None, solver='auto', tol=0.001)\n",
      "Best score:\n",
      "0.229326434954\n",
      "Best params:\n",
      "{'alpha': 25.11886431509582}\n"
     ]
    },
    {
     "data": {
      "text/html": [
       "<div>\n",
       "<style>\n",
       "    .dataframe thead tr:only-child th {\n",
       "        text-align: right;\n",
       "    }\n",
       "\n",
       "    .dataframe thead th {\n",
       "        text-align: left;\n",
       "    }\n",
       "\n",
       "    .dataframe tbody tr th {\n",
       "        vertical-align: top;\n",
       "    }\n",
       "</style>\n",
       "<table border=\"1\" class=\"dataframe\">\n",
       "  <thead>\n",
       "    <tr style=\"text-align: right;\">\n",
       "      <th></th>\n",
       "      <th>mean_fit_time</th>\n",
       "      <th>mean_score_time</th>\n",
       "      <th>mean_test_score</th>\n",
       "      <th>mean_train_score</th>\n",
       "      <th>param_alpha</th>\n",
       "      <th>params</th>\n",
       "      <th>rank_test_score</th>\n",
       "      <th>split0_test_score</th>\n",
       "      <th>split0_train_score</th>\n",
       "      <th>split1_test_score</th>\n",
       "      <th>split1_train_score</th>\n",
       "      <th>split2_test_score</th>\n",
       "      <th>split2_train_score</th>\n",
       "      <th>std_fit_time</th>\n",
       "      <th>std_score_time</th>\n",
       "      <th>std_test_score</th>\n",
       "      <th>std_train_score</th>\n",
       "    </tr>\n",
       "  </thead>\n",
       "  <tbody>\n",
       "    <tr>\n",
       "      <th>57</th>\n",
       "      <td>0.000</td>\n",
       "      <td>0.0</td>\n",
       "      <td>0.229326</td>\n",
       "      <td>0.336859</td>\n",
       "      <td>25.1189</td>\n",
       "      <td>{u'alpha': 25.1188643151}</td>\n",
       "      <td>1</td>\n",
       "      <td>0.209149</td>\n",
       "      <td>0.341670</td>\n",
       "      <td>0.227764</td>\n",
       "      <td>0.337236</td>\n",
       "      <td>0.251117</td>\n",
       "      <td>0.331670</td>\n",
       "      <td>0.000000</td>\n",
       "      <td>0.0</td>\n",
       "      <td>0.017166</td>\n",
       "      <td>0.004091</td>\n",
       "    </tr>\n",
       "    <tr>\n",
       "      <th>58</th>\n",
       "      <td>0.000</td>\n",
       "      <td>0.0</td>\n",
       "      <td>0.228829</td>\n",
       "      <td>0.323256</td>\n",
       "      <td>39.8107</td>\n",
       "      <td>{u'alpha': 39.8107170553}</td>\n",
       "      <td>2</td>\n",
       "      <td>0.208459</td>\n",
       "      <td>0.328736</td>\n",
       "      <td>0.228810</td>\n",
       "      <td>0.323547</td>\n",
       "      <td>0.249266</td>\n",
       "      <td>0.317485</td>\n",
       "      <td>0.000000</td>\n",
       "      <td>0.0</td>\n",
       "      <td>0.016656</td>\n",
       "      <td>0.004598</td>\n",
       "    </tr>\n",
       "    <tr>\n",
       "      <th>56</th>\n",
       "      <td>0.005</td>\n",
       "      <td>0.0</td>\n",
       "      <td>0.227494</td>\n",
       "      <td>0.349259</td>\n",
       "      <td>15.8489</td>\n",
       "      <td>{u'alpha': 15.8489319246}</td>\n",
       "      <td>3</td>\n",
       "      <td>0.207658</td>\n",
       "      <td>0.353108</td>\n",
       "      <td>0.224334</td>\n",
       "      <td>0.349864</td>\n",
       "      <td>0.250543</td>\n",
       "      <td>0.344806</td>\n",
       "      <td>0.007071</td>\n",
       "      <td>0.0</td>\n",
       "      <td>0.017646</td>\n",
       "      <td>0.003416</td>\n",
       "    </tr>\n",
       "    <tr>\n",
       "      <th>59</th>\n",
       "      <td>0.005</td>\n",
       "      <td>0.0</td>\n",
       "      <td>0.225904</td>\n",
       "      <td>0.308088</td>\n",
       "      <td>63.0957</td>\n",
       "      <td>{u'alpha': 63.095734448}</td>\n",
       "      <td>4</td>\n",
       "      <td>0.205690</td>\n",
       "      <td>0.314054</td>\n",
       "      <td>0.227532</td>\n",
       "      <td>0.308391</td>\n",
       "      <td>0.244533</td>\n",
       "      <td>0.301820</td>\n",
       "      <td>0.007071</td>\n",
       "      <td>0.0</td>\n",
       "      <td>0.015896</td>\n",
       "      <td>0.004999</td>\n",
       "    </tr>\n",
       "    <tr>\n",
       "      <th>55</th>\n",
       "      <td>0.000</td>\n",
       "      <td>0.0</td>\n",
       "      <td>0.223300</td>\n",
       "      <td>0.360630</td>\n",
       "      <td>10</td>\n",
       "      <td>{u'alpha': 10.0}</td>\n",
       "      <td>5</td>\n",
       "      <td>0.203833</td>\n",
       "      <td>0.363143</td>\n",
       "      <td>0.218266</td>\n",
       "      <td>0.361553</td>\n",
       "      <td>0.247860</td>\n",
       "      <td>0.357193</td>\n",
       "      <td>0.000000</td>\n",
       "      <td>0.0</td>\n",
       "      <td>0.018320</td>\n",
       "      <td>0.002515</td>\n",
       "    </tr>\n",
       "  </tbody>\n",
       "</table>\n",
       "</div>"
      ],
      "text/plain": [
       "    mean_fit_time  mean_score_time  mean_test_score  mean_train_score  \\\n",
       "57          0.000              0.0         0.229326          0.336859   \n",
       "58          0.000              0.0         0.228829          0.323256   \n",
       "56          0.005              0.0         0.227494          0.349259   \n",
       "59          0.005              0.0         0.225904          0.308088   \n",
       "55          0.000              0.0         0.223300          0.360630   \n",
       "\n",
       "   param_alpha                     params  rank_test_score  split0_test_score  \\\n",
       "57     25.1189  {u'alpha': 25.1188643151}                1           0.209149   \n",
       "58     39.8107  {u'alpha': 39.8107170553}                2           0.208459   \n",
       "56     15.8489  {u'alpha': 15.8489319246}                3           0.207658   \n",
       "59     63.0957   {u'alpha': 63.095734448}                4           0.205690   \n",
       "55          10           {u'alpha': 10.0}                5           0.203833   \n",
       "\n",
       "    split0_train_score  split1_test_score  split1_train_score  \\\n",
       "57            0.341670           0.227764            0.337236   \n",
       "58            0.328736           0.228810            0.323547   \n",
       "56            0.353108           0.224334            0.349864   \n",
       "59            0.314054           0.227532            0.308391   \n",
       "55            0.363143           0.218266            0.361553   \n",
       "\n",
       "    split2_test_score  split2_train_score  std_fit_time  std_score_time  \\\n",
       "57           0.251117            0.331670      0.000000             0.0   \n",
       "58           0.249266            0.317485      0.000000             0.0   \n",
       "56           0.250543            0.344806      0.007071             0.0   \n",
       "59           0.244533            0.301820      0.007071             0.0   \n",
       "55           0.247860            0.357193      0.000000             0.0   \n",
       "\n",
       "    std_test_score  std_train_score  \n",
       "57        0.017166         0.004091  \n",
       "58        0.016656         0.004598  \n",
       "56        0.017646         0.003416  \n",
       "59        0.015896         0.004999  \n",
       "55        0.018320         0.002515  "
      ]
     },
     "execution_count": 195,
     "metadata": {},
     "output_type": "execute_result"
    }
   ],
   "source": [
    "ridge = Ridge()\n",
    "\n",
    "search_parameters = {\"alpha\": np.logspace(-10, 10, 101)}\n",
    "\n",
    "estimator = GridSearchCV(ridge, search_parameters)\n",
    "results = estimator.fit(Xnf_tr, y_train_res)\n",
    "print \"Best estimator:\"\n",
    "print results.best_estimator_\n",
    "print \"Best score:\"\n",
    "print results.best_score_\n",
    "print \"Best params:\"\n",
    "print results.best_params_\n",
    "df_score = pd.DataFrame(results.cv_results_)\n",
    "df_score.sort_values(by='rank_test_score').head()"
   ]
  },
  {
   "cell_type": "code",
   "execution_count": 196,
   "metadata": {},
   "outputs": [
    {
     "data": {
      "image/png": "[encoded data removed]",
      "text/plain": [
       "<matplotlib.figure.Figure at 0x10d2f240>"
      ]
     },
     "metadata": {},
     "output_type": "display_data"
    }
   ],
   "source": [
    "df_score.plot( x=\"param_alpha\", y=\"mean_test_score\", title=\"Alphas / Mean Scores\")\n",
    "plt.xscale('log')\n",
    "plt.show()"
   ]
  },
  {
   "cell_type": "code",
   "execution_count": 197,
   "metadata": {
    "collapsed": true
   },
   "outputs": [],
   "source": [
    "coefs = []\n",
    "\n",
    "for alpha in df_score.param_alpha:\n",
    "    ridge = Ridge(alpha=alpha)\n",
    "    model = ridge.fit(Xnf_tr, y_train_res)\n",
    "    \n",
    "    alpha_coefs_r = {key: value for key, value in zip(Xnf_tr.columns, model.coef_.flatten())}\n",
    "    alpha_coefs_r.update({\"alpha\": alpha}) \n",
    "    \n",
    "    coefs.append(alpha_coefs_r)"
   ]
  },
  {
   "cell_type": "code",
   "execution_count": 198,
   "metadata": {},
   "outputs": [
    {
     "name": "stdout",
     "output_type": "stream",
     "text": [
      "Best Alpha was:  {'alpha': 25.11886431509582}\n"
     ]
    },
    {
     "data": {
      "text/html": [
       "<div>\n",
       "<style>\n",
       "    .dataframe thead tr:only-child th {\n",
       "        text-align: right;\n",
       "    }\n",
       "\n",
       "    .dataframe thead th {\n",
       "        text-align: left;\n",
       "    }\n",
       "\n",
       "    .dataframe tbody tr th {\n",
       "        vertical-align: top;\n",
       "    }\n",
       "</style>\n",
       "<table border=\"1\" class=\"dataframe\">\n",
       "  <thead>\n",
       "    <tr style=\"text-align: right;\">\n",
       "      <th></th>\n",
       "      <th>C(MasVnrType)[T.Stone]</th>\n",
       "      <th>C(BsmtCond)[T.Gd]</th>\n",
       "      <th>C(SaleType)[T.ConLw]</th>\n",
       "      <th>C(RoofMatl)[T.Roll]</th>\n",
       "      <th>C(Exterior2nd)[T.AsphShn]</th>\n",
       "      <th>C(BsmtFinType1)[T.Unf]</th>\n",
       "      <th>C(MiscFeature)[T.Othr]</th>\n",
       "      <th>C(RoofStyle)[T.Mansard]</th>\n",
       "      <th>C(BsmtCond)[T.None]</th>\n",
       "      <th>C(GarageQual)[T.Gd]</th>\n",
       "      <th>...</th>\n",
       "      <th>C(Functional)[T.Min2]</th>\n",
       "      <th>C(FireplaceQu)[T.None]</th>\n",
       "      <th>C(Exterior2nd)[T.MetalSd]</th>\n",
       "      <th>C(ExterQual)[T.Gd]</th>\n",
       "      <th>C(GarageFinish)[T.Unf]</th>\n",
       "      <th>C(BsmtFinType2)[T.None]</th>\n",
       "      <th>C(PavedDrive)[T.P]</th>\n",
       "      <th>C(HeatingQC)[T.Fa]</th>\n",
       "      <th>C(ExterCond)[T.TA]</th>\n",
       "      <th>C(MiscFeature)[T.Shed]</th>\n",
       "    </tr>\n",
       "    <tr>\n",
       "      <th>alpha</th>\n",
       "      <th></th>\n",
       "      <th></th>\n",
       "      <th></th>\n",
       "      <th></th>\n",
       "      <th></th>\n",
       "      <th></th>\n",
       "      <th></th>\n",
       "      <th></th>\n",
       "      <th></th>\n",
       "      <th></th>\n",
       "      <th></th>\n",
       "      <th></th>\n",
       "      <th></th>\n",
       "      <th></th>\n",
       "      <th></th>\n",
       "      <th></th>\n",
       "      <th></th>\n",
       "      <th></th>\n",
       "      <th></th>\n",
       "      <th></th>\n",
       "      <th></th>\n",
       "    </tr>\n",
       "  </thead>\n",
       "  <tbody>\n",
       "    <tr>\n",
       "      <th>0.0</th>\n",
       "      <td>3839.058017</td>\n",
       "      <td>4293.239894</td>\n",
       "      <td>-4353.540614</td>\n",
       "      <td>-17114.546086</td>\n",
       "      <td>-19688.337957</td>\n",
       "      <td>1339.327070</td>\n",
       "      <td>47070.441805</td>\n",
       "      <td>18574.954932</td>\n",
       "      <td>28001.169003</td>\n",
       "      <td>-153953.578278</td>\n",
       "      <td>...</td>\n",
       "      <td>8013.806478</td>\n",
       "      <td>9638.434202</td>\n",
       "      <td>-8485.604151</td>\n",
       "      <td>-24289.307238</td>\n",
       "      <td>675.354112</td>\n",
       "      <td>-55806.753795</td>\n",
       "      <td>-3449.390007</td>\n",
       "      <td>-2108.838274</td>\n",
       "      <td>-8585.037152</td>\n",
       "      <td>17140.682404</td>\n",
       "    </tr>\n",
       "    <tr>\n",
       "      <th>0.0</th>\n",
       "      <td>3839.058016</td>\n",
       "      <td>4293.239894</td>\n",
       "      <td>-4353.540613</td>\n",
       "      <td>-17114.546083</td>\n",
       "      <td>-19688.337954</td>\n",
       "      <td>1339.327070</td>\n",
       "      <td>47070.441689</td>\n",
       "      <td>18574.954929</td>\n",
       "      <td>28001.085896</td>\n",
       "      <td>-153953.578172</td>\n",
       "      <td>...</td>\n",
       "      <td>8013.806479</td>\n",
       "      <td>9638.434203</td>\n",
       "      <td>-8485.604150</td>\n",
       "      <td>-24289.307237</td>\n",
       "      <td>675.354112</td>\n",
       "      <td>-55806.753789</td>\n",
       "      <td>-3449.390007</td>\n",
       "      <td>-2108.838274</td>\n",
       "      <td>-8585.037151</td>\n",
       "      <td>17140.682298</td>\n",
       "    </tr>\n",
       "    <tr>\n",
       "      <th>0.0</th>\n",
       "      <td>3839.058016</td>\n",
       "      <td>4293.239894</td>\n",
       "      <td>-4353.540612</td>\n",
       "      <td>-17114.546078</td>\n",
       "      <td>-19688.337951</td>\n",
       "      <td>1339.327071</td>\n",
       "      <td>47070.441505</td>\n",
       "      <td>18574.954925</td>\n",
       "      <td>28000.992677</td>\n",
       "      <td>-153953.578003</td>\n",
       "      <td>...</td>\n",
       "      <td>8013.806479</td>\n",
       "      <td>9638.434204</td>\n",
       "      <td>-8485.604148</td>\n",
       "      <td>-24289.307235</td>\n",
       "      <td>675.354113</td>\n",
       "      <td>-55806.753779</td>\n",
       "      <td>-3449.390006</td>\n",
       "      <td>-2108.838273</td>\n",
       "      <td>-8585.037149</td>\n",
       "      <td>17140.682131</td>\n",
       "    </tr>\n",
       "    <tr>\n",
       "      <th>0.0</th>\n",
       "      <td>3839.058015</td>\n",
       "      <td>4293.239893</td>\n",
       "      <td>-4353.540610</td>\n",
       "      <td>-17114.546071</td>\n",
       "      <td>-19688.337945</td>\n",
       "      <td>1339.327072</td>\n",
       "      <td>47070.441213</td>\n",
       "      <td>18574.954919</td>\n",
       "      <td>28001.113749</td>\n",
       "      <td>-153953.577735</td>\n",
       "      <td>...</td>\n",
       "      <td>8013.806480</td>\n",
       "      <td>9638.434206</td>\n",
       "      <td>-8485.604145</td>\n",
       "      <td>-24289.307233</td>\n",
       "      <td>675.354114</td>\n",
       "      <td>-55806.753764</td>\n",
       "      <td>-3449.390006</td>\n",
       "      <td>-2108.838273</td>\n",
       "      <td>-8585.037147</td>\n",
       "      <td>17140.681866</td>\n",
       "    </tr>\n",
       "    <tr>\n",
       "      <th>0.0</th>\n",
       "      <td>3839.058013</td>\n",
       "      <td>4293.239893</td>\n",
       "      <td>-4353.540607</td>\n",
       "      <td>-17114.546060</td>\n",
       "      <td>-19688.337935</td>\n",
       "      <td>1339.327074</td>\n",
       "      <td>47070.440751</td>\n",
       "      <td>18574.954909</td>\n",
       "      <td>28001.073925</td>\n",
       "      <td>-153953.577311</td>\n",
       "      <td>...</td>\n",
       "      <td>8013.806482</td>\n",
       "      <td>9638.434209</td>\n",
       "      <td>-8485.604141</td>\n",
       "      <td>-24289.307229</td>\n",
       "      <td>675.354116</td>\n",
       "      <td>-55806.753739</td>\n",
       "      <td>-3449.390006</td>\n",
       "      <td>-2108.838273</td>\n",
       "      <td>-8585.037143</td>\n",
       "      <td>17140.681445</td>\n",
       "    </tr>\n",
       "    <tr>\n",
       "      <th>0.0</th>\n",
       "      <td>3839.058010</td>\n",
       "      <td>4293.239893</td>\n",
       "      <td>-4353.540603</td>\n",
       "      <td>-17114.546042</td>\n",
       "      <td>-19688.337921</td>\n",
       "      <td>1339.327077</td>\n",
       "      <td>47070.440019</td>\n",
       "      <td>18574.954893</td>\n",
       "      <td>28001.176804</td>\n",
       "      <td>-153953.576638</td>\n",
       "      <td>...</td>\n",
       "      <td>8013.806485</td>\n",
       "      <td>9638.434214</td>\n",
       "      <td>-8485.604134</td>\n",
       "      <td>-24289.307222</td>\n",
       "      <td>675.354119</td>\n",
       "      <td>-55806.753700</td>\n",
       "      <td>-3449.390005</td>\n",
       "      <td>-2108.838273</td>\n",
       "      <td>-8585.037136</td>\n",
       "      <td>17140.680779</td>\n",
       "    </tr>\n",
       "    <tr>\n",
       "      <th>0.0</th>\n",
       "      <td>3839.058005</td>\n",
       "      <td>4293.239892</td>\n",
       "      <td>-4353.540596</td>\n",
       "      <td>-17114.546013</td>\n",
       "      <td>-19688.337897</td>\n",
       "      <td>1339.327082</td>\n",
       "      <td>47070.438858</td>\n",
       "      <td>18574.954867</td>\n",
       "      <td>28001.212796</td>\n",
       "      <td>-153953.575571</td>\n",
       "      <td>...</td>\n",
       "      <td>8013.806490</td>\n",
       "      <td>9638.434221</td>\n",
       "      <td>-8485.604123</td>\n",
       "      <td>-24289.307212</td>\n",
       "      <td>675.354124</td>\n",
       "      <td>-55806.753639</td>\n",
       "      <td>-3449.390003</td>\n",
       "      <td>-2108.838272</td>\n",
       "      <td>-8585.037126</td>\n",
       "      <td>17140.679724</td>\n",
       "    </tr>\n",
       "    <tr>\n",
       "      <th>0.0</th>\n",
       "      <td>3839.057998</td>\n",
       "      <td>4293.239892</td>\n",
       "      <td>-4353.540585</td>\n",
       "      <td>-17114.545968</td>\n",
       "      <td>-19688.337860</td>\n",
       "      <td>1339.327089</td>\n",
       "      <td>47070.437018</td>\n",
       "      <td>18574.954826</td>\n",
       "      <td>28001.238665</td>\n",
       "      <td>-153953.573882</td>\n",
       "      <td>...</td>\n",
       "      <td>8013.806497</td>\n",
       "      <td>9638.434234</td>\n",
       "      <td>-8485.604105</td>\n",
       "      <td>-24289.307195</td>\n",
       "      <td>675.354132</td>\n",
       "      <td>-55806.753541</td>\n",
       "      <td>-3449.390001</td>\n",
       "      <td>-2108.838271</td>\n",
       "      <td>-8585.037110</td>\n",
       "      <td>17140.678051</td>\n",
       "    </tr>\n",
       "    <tr>\n",
       "      <th>0.0</th>\n",
       "      <td>3839.057987</td>\n",
       "      <td>4293.239890</td>\n",
       "      <td>-4353.540568</td>\n",
       "      <td>-17114.545897</td>\n",
       "      <td>-19688.337802</td>\n",
       "      <td>1339.327101</td>\n",
       "      <td>47070.434102</td>\n",
       "      <td>18574.954762</td>\n",
       "      <td>28001.218507</td>\n",
       "      <td>-153953.571203</td>\n",
       "      <td>...</td>\n",
       "      <td>8013.806509</td>\n",
       "      <td>9638.434253</td>\n",
       "      <td>-8485.604077</td>\n",
       "      <td>-24289.307169</td>\n",
       "      <td>675.354144</td>\n",
       "      <td>-55806.753386</td>\n",
       "      <td>-3449.389998</td>\n",
       "      <td>-2108.838269</td>\n",
       "      <td>-8585.037085</td>\n",
       "      <td>17140.675400</td>\n",
       "    </tr>\n",
       "    <tr>\n",
       "      <th>0.0</th>\n",
       "      <td>3839.057969</td>\n",
       "      <td>4293.239888</td>\n",
       "      <td>-4353.540540</td>\n",
       "      <td>-17114.545784</td>\n",
       "      <td>-19688.337709</td>\n",
       "      <td>1339.327120</td>\n",
       "      <td>47070.429480</td>\n",
       "      <td>18574.954660</td>\n",
       "      <td>28001.225085</td>\n",
       "      <td>-153953.566958</td>\n",
       "      <td>...</td>\n",
       "      <td>8013.806527</td>\n",
       "      <td>9638.434283</td>\n",
       "      <td>-8485.604033</td>\n",
       "      <td>-24289.307128</td>\n",
       "      <td>675.354163</td>\n",
       "      <td>-55806.753141</td>\n",
       "      <td>-3449.389992</td>\n",
       "      <td>-2108.838266</td>\n",
       "      <td>-8585.037044</td>\n",
       "      <td>17140.671198</td>\n",
       "    </tr>\n",
       "  </tbody>\n",
       "</table>\n",
       "<p>10 rows × 136 columns</p>\n",
       "</div>"
      ],
      "text/plain": [
       "       C(MasVnrType)[T.Stone]  C(BsmtCond)[T.Gd]  C(SaleType)[T.ConLw]  \\\n",
       "alpha                                                                    \n",
       "0.0               3839.058017        4293.239894          -4353.540614   \n",
       "0.0               3839.058016        4293.239894          -4353.540613   \n",
       "0.0               3839.058016        4293.239894          -4353.540612   \n",
       "0.0               3839.058015        4293.239893          -4353.540610   \n",
       "0.0               3839.058013        4293.239893          -4353.540607   \n",
       "0.0               3839.058010        4293.239893          -4353.540603   \n",
       "0.0               3839.058005        4293.239892          -4353.540596   \n",
       "0.0               3839.057998        4293.239892          -4353.540585   \n",
       "0.0               3839.057987        4293.239890          -4353.540568   \n",
       "0.0               3839.057969        4293.239888          -4353.540540   \n",
       "\n",
       "       C(RoofMatl)[T.Roll]  C(Exterior2nd)[T.AsphShn]  C(BsmtFinType1)[T.Unf]  \\\n",
       "alpha                                                                           \n",
       "0.0          -17114.546086              -19688.337957             1339.327070   \n",
       "0.0          -17114.546083              -19688.337954             1339.327070   \n",
       "0.0          -17114.546078              -19688.337951             1339.327071   \n",
       "0.0          -17114.546071              -19688.337945             1339.327072   \n",
       "0.0          -17114.546060              -19688.337935             1339.327074   \n",
       "0.0          -17114.546042              -19688.337921             1339.327077   \n",
       "0.0          -17114.546013              -19688.337897             1339.327082   \n",
       "0.0          -17114.545968              -19688.337860             1339.327089   \n",
       "0.0          -17114.545897              -19688.337802             1339.327101   \n",
       "0.0          -17114.545784              -19688.337709             1339.327120   \n",
       "\n",
       "       C(MiscFeature)[T.Othr]  C(RoofStyle)[T.Mansard]  C(BsmtCond)[T.None]  \\\n",
       "alpha                                                                         \n",
       "0.0              47070.441805             18574.954932         28001.169003   \n",
       "0.0              47070.441689             18574.954929         28001.085896   \n",
       "0.0              47070.441505             18574.954925         28000.992677   \n",
       "0.0              47070.441213             18574.954919         28001.113749   \n",
       "0.0              47070.440751             18574.954909         28001.073925   \n",
       "0.0              47070.440019             18574.954893         28001.176804   \n",
       "0.0              47070.438858             18574.954867         28001.212796   \n",
       "0.0              47070.437018             18574.954826         28001.238665   \n",
       "0.0              47070.434102             18574.954762         28001.218507   \n",
       "0.0              47070.429480             18574.954660         28001.225085   \n",
       "\n",
       "       C(GarageQual)[T.Gd]           ...            C(Functional)[T.Min2]  \\\n",
       "alpha                                ...                                    \n",
       "0.0         -153953.578278           ...                      8013.806478   \n",
       "0.0         -153953.578172           ...                      8013.806479   \n",
       "0.0         -153953.578003           ...                      8013.806479   \n",
       "0.0         -153953.577735           ...                      8013.806480   \n",
       "0.0         -153953.577311           ...                      8013.806482   \n",
       "0.0         -153953.576638           ...                      8013.806485   \n",
       "0.0         -153953.575571           ...                      8013.806490   \n",
       "0.0         -153953.573882           ...                      8013.806497   \n",
       "0.0         -153953.571203           ...                      8013.806509   \n",
       "0.0         -153953.566958           ...                      8013.806527   \n",
       "\n",
       "       C(FireplaceQu)[T.None]  C(Exterior2nd)[T.MetalSd]  C(ExterQual)[T.Gd]  \\\n",
       "alpha                                                                          \n",
       "0.0               9638.434202               -8485.604151       -24289.307238   \n",
       "0.0               9638.434203               -8485.604150       -24289.307237   \n",
       "0.0               9638.434204               -8485.604148       -24289.307235   \n",
       "0.0               9638.434206               -8485.604145       -24289.307233   \n",
       "0.0               9638.434209               -8485.604141       -24289.307229   \n",
       "0.0               9638.434214               -8485.604134       -24289.307222   \n",
       "0.0               9638.434221               -8485.604123       -24289.307212   \n",
       "0.0               9638.434234               -8485.604105       -24289.307195   \n",
       "0.0               9638.434253               -8485.604077       -24289.307169   \n",
       "0.0               9638.434283               -8485.604033       -24289.307128   \n",
       "\n",
       "       C(GarageFinish)[T.Unf]  C(BsmtFinType2)[T.None]  C(PavedDrive)[T.P]  \\\n",
       "alpha                                                                        \n",
       "0.0                675.354112            -55806.753795        -3449.390007   \n",
       "0.0                675.354112            -55806.753789        -3449.390007   \n",
       "0.0                675.354113            -55806.753779        -3449.390006   \n",
       "0.0                675.354114            -55806.753764        -3449.390006   \n",
       "0.0                675.354116            -55806.753739        -3449.390006   \n",
       "0.0                675.354119            -55806.753700        -3449.390005   \n",
       "0.0                675.354124            -55806.753639        -3449.390003   \n",
       "0.0                675.354132            -55806.753541        -3449.390001   \n",
       "0.0                675.354144            -55806.753386        -3449.389998   \n",
       "0.0                675.354163            -55806.753141        -3449.389992   \n",
       "\n",
       "       C(HeatingQC)[T.Fa]  C(ExterCond)[T.TA]  C(MiscFeature)[T.Shed]  \n",
       "alpha                                                                  \n",
       "0.0          -2108.838274        -8585.037152            17140.682404  \n",
       "0.0          -2108.838274        -8585.037151            17140.682298  \n",
       "0.0          -2108.838273        -8585.037149            17140.682131  \n",
       "0.0          -2108.838273        -8585.037147            17140.681866  \n",
       "0.0          -2108.838273        -8585.037143            17140.681445  \n",
       "0.0          -2108.838273        -8585.037136            17140.680779  \n",
       "0.0          -2108.838272        -8585.037126            17140.679724  \n",
       "0.0          -2108.838271        -8585.037110            17140.678051  \n",
       "0.0          -2108.838269        -8585.037085            17140.675400  \n",
       "0.0          -2108.838266        -8585.037044            17140.671198  \n",
       "\n",
       "[10 rows x 136 columns]"
      ]
     },
     "execution_count": 198,
     "metadata": {},
     "output_type": "execute_result"
    }
   ],
   "source": [
    "print \"Best Alpha was: \", results.best_params_\n",
    "\n",
    "df_coef = pd.DataFrame([c.values() for c in coefs],columns=coefs[0].keys())\n",
    "\n",
    "df_coef['alpha'] = df_coef['alpha'].round(3)\n",
    "df_coef.set_index('alpha',inplace=True)\n",
    "df_coef.head(10)"
   ]
  },
  {
   "cell_type": "code",
   "execution_count": 202,
   "metadata": {
    "collapsed": true
   },
   "outputs": [],
   "source": [
    "predict_xnf_tr= results.best_estimator_.predict(Xnf_tr)\n",
    "predict_xnf_te= results.best_estimator_.predict(Xnf_te)"
   ]
  },
  {
   "cell_type": "code",
   "execution_count": 203,
   "metadata": {},
   "outputs": [
    {
     "data": {
      "image/png": "[encoded data removed]",
      "text/plain": [
       "<matplotlib.figure.Figure at 0x152445c0>"
      ]
     },
     "metadata": {},
     "output_type": "display_data"
    }
   ],
   "source": [
    "fig, ax_arr = plt.subplots(1,1, figsize=(12,6))\n",
    "plt.xlabel(\"Predictions\")\n",
    "plt.ylabel(\"Sales Prices\")\n",
    "axis0 = sns.regplot(predict_xnf_tr, y_train, color='b', ax=ax_arr)\n",
    "plt.show()"
   ]
  },
  {
   "cell_type": "code",
   "execution_count": 205,
   "metadata": {},
   "outputs": [
    {
     "data": {
      "image/png": "[encoded data removed]",
      "text/plain": [
       "<matplotlib.figure.Figure at 0x150f4518>"
      ]
     },
     "metadata": {},
     "output_type": "display_data"
    }
   ],
   "source": [
    "fig, ax_arr = plt.subplots(1,1, figsize=(12,6))\n",
    "plt.xlabel(\"Predictions\")\n",
    "plt.ylabel(\"Sales Prices\")\n",
    "axis0 = sns.regplot(predict_xnf_te, y_test, color='g', ax=ax_arr)\n",
    "plt.show()"
   ]
  },
  {
   "cell_type": "code",
   "execution_count": 206,
   "metadata": {},
   "outputs": [
    {
     "name": "stdout",
     "output_type": "stream",
     "text": [
      "0.229326434954\n",
      "Ridge(alpha=25.11886431509582, copy_X=True, fit_intercept=True, max_iter=None,\n",
      "   normalize=False, random_state=None, solver='auto', tol=0.001)\n"
     ]
    }
   ],
   "source": [
    "print results.best_score_\n",
    "print results.best_estimator_"
   ]
  },
  {
   "cell_type": "code",
   "execution_count": null,
   "metadata": {
    "collapsed": true
   },
   "outputs": [],
   "source": []
  },
  {
   "cell_type": "code",
   "execution_count": null,
   "metadata": {
    "collapsed": true
   },
   "outputs": [],
   "source": []
  },
  {
   "cell_type": "code",
   "execution_count": null,
   "metadata": {
    "collapsed": true
   },
   "outputs": [],
   "source": [
    "# A:"
   ]
  },
  {
   "cell_type": "markdown",
   "metadata": {},
   "source": [
    "<img src=\"http://imgur.com/GCAf1UX.png\" style=\"float: left; margin: 25px 15px 0px 0px; height: 25px\">\n",
    "\n",
    "## 3. What property characteristics predict an \"abnormal\" sale?\n",
    "\n",
    "---\n",
    "\n",
    "The `SaleCondition` feature indicates the circumstances of the house sale. From the data file, we can see that the possibilities are:\n",
    "\n",
    "       Normal\tNormal Sale\n",
    "       Abnorml\tAbnormal Sale -  trade, foreclosure, short sale\n",
    "       AdjLand\tAdjoining Land Purchase\n",
    "       Alloca\tAllocation - two linked properties with separate deeds, typically condo with a garage unit\t\n",
    "       Family\tSale between family members\n",
    "       Partial\tHome was not completed when last assessed (associated with New Homes)\n",
    "       \n",
    "One of the executives at your company has an \"in\" with higher-ups at the major regional bank. His friends at the bank have made him a proposal: if he can reliably indicate what features, if any, predict \"abnormal\" sales (foreclosures, short sales, etc.), then in return the bank will give him first dibs on the pre-auction purchase of those properties (at a dirt-cheap price).\n",
    "\n",
    "He has tasked you with determining (and adequately validating) which features of a property predict this type of sale. \n",
    "\n",
    "---\n",
    "\n",
    "**Your task:**\n",
    "1. Determine which features predict the `Abnorml` category in the `SaleCondition` feature.\n",
    "- Justify your results.\n",
    "\n",
    "This is a challenging task that tests your ability to perform classification analysis in the face of severe class imbalance. You may find that simply running a classifier on the full dataset to predict the category ends up useless: when there is bad class imbalance classifiers often tend to simply guess the majority class.\n",
    "\n",
    "It is up to you to determine how you will tackle this problem. I recommend doing some research to find out how others have dealt with the problem in the past. Make sure to justify your solution. Don't worry about it being \"the best\" solution, but be rigorous.\n",
    "\n",
    "Be sure to indicate which features are predictive (if any) and whether they are positive or negative predictors of abnormal sales."
   ]
  },
  {
   "cell_type": "code",
   "execution_count": null,
   "metadata": {
    "collapsed": true
   },
   "outputs": [],
   "source": [
    "# A:"
   ]
  }
 ],
 "metadata": {
  "kernelspec": {
   "display_name": "Python 2",
   "language": "python",
   "name": "python2"
  },
  "language_info": {
   "codemirror_mode": {
    "name": "ipython",
    "version": 2
   },
   "file_extension": ".py",
   "mimetype": "text/x-python",
   "name": "python",
   "nbconvert_exporter": "python",
   "pygments_lexer": "ipython2",
   "version": "2.7.13"
  }
 },
 "nbformat": 4,
 "nbformat_minor": 2
}
