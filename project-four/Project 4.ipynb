{
 "cells": [
  {
   "cell_type": "code",
   "execution_count": 1,
   "metadata": {},
   "outputs": [],
   "source": [
    "import numpy as np\n",
    "import pandas as pd\n",
    "import requests\n",
    "import time\n",
    "from bs4 import BeautifulSoup"
   ]
  },
  {
   "cell_type": "code",
   "execution_count": 2,
   "metadata": {
    "collapsed": true
   },
   "outputs": [],
   "source": [
    "from wordcloud import (WordCloud, get_single_color_func)\n",
    "import matplotlib.pyplot as plt\n",
    "import numpy as np\n",
    "import pickle as pk\n",
    "%matplotlib inline\n"
   ]
  },
  {
   "cell_type": "code",
   "execution_count": 3,
   "metadata": {
    "collapsed": true
   },
   "outputs": [],
   "source": [
    "Countries = {\"SG\":\"Singapore\",\"US\":\"United States\",\"MY\":\"Malaysia\",\"HK\":\"Hong Kong\",\"ID\":'Indonesia'}\n",
    "\n",
    "Target_cities= {'US':\n",
    "                      ['New York', 'Chicago', 'San Francisco', 'Austin', 'Seattle',\n",
    "                  'Los Angeles', 'Philadelphia', 'Atlanta', 'Dallas',\n",
    "                  'Pittsburgh', 'Portland', 'Phoenix', 'Denver', 'Houston','Miami'],\n",
    "                'SG':[\"Singapore\"],\n",
    "                'MY':['Kuala Lumpur','Johor Bahru','Shah Alam'],\n",
    "                'HK':['Hong Kong'],\n",
    "                'ID':['Jakarta','Batam','Surabaya']\n",
    "                }"
   ]
  },
  {
   "cell_type": "code",
   "execution_count": 4,
   "metadata": {
    "collapsed": true
   },
   "outputs": [],
   "source": [
    "URL = {\"SG\":\"https://www.indeed.com.sg/jobs\",\n",
    "       \"US\":\"https://www.indeed.com/jobs\",\n",
    "       \"MY\":\"https://www.indeed.com.my/jobs\",\n",
    "       \"HK\":\"https://www.indeed.hk/jobs\",\n",
    "       \"ID\":\"https://id.indeed.com/lowongan-kerja\"\n",
    "       \n",
    "       }"
   ]
  },
  {
   "cell_type": "code",
   "execution_count": 5,
   "metadata": {
    "collapsed": true
   },
   "outputs": [],
   "source": [
    "max_results_per_city = 20000\n",
    "#put data scientist as a placeholder, will be filled with the list of jobs later\n",
    "parameters = {'q': 'data scientist', 'radius': '100', 'start':1}\n",
    "#list of jobs\n",
    "jobs = ['data scientist','data analyst']"
   ]
  },
  {
   "cell_type": "code",
   "execution_count": null,
   "metadata": {
    "collapsed": true
   },
   "outputs": [],
   "source": [
    "def scrape_page_to_df(url, url_params,country):\n",
    "    \"\"\"\n",
    "    extract information from a results page and save to an existing csv\n",
    "    :param url: url template\n",
    "    :param url_params: a dictionary to feed to params argument in requests.get (based on the parameters I defined above, and I'll make a wrapper to do this below)\n",
    "    :return: a pandas dataframe containing the extracted information\n",
    "    \"\"\"\n",
    "    # create a empty dictionary to store extracted information\n",
    "    scraped_data = {'location': [],\n",
    "                  'company': [],\n",
    "                  'title': [],\n",
    "                  'salary': [],\n",
    "                  'description': [],\n",
    "                  'review': [],\n",
    "                  'star': [],\n",
    "                  'country':[]\n",
    "                  }\n",
    "\n",
    "    html = requests.get(url, params=url_params)\n",
    "\n",
    "    # make sure the response status is ok\n",
    "    assert html.status_code == requests.codes.ok\n",
    "\n",
    "    soup = BeautifulSoup(html.text, 'lxml')\n",
    "\n",
    "  #helper function to extract results\n",
    "\n",
    "    def extract_results(soup):\n",
    "        return soup.find_all('div', class_='result')\n",
    "\n",
    "    results = extract_results(soup)\n",
    "\n",
    "  #helper functions to extract information\n",
    "    def extract_location(result):\n",
    "        \"\"\"extract job location\"\"\"\n",
    "        try:\n",
    "            location = result.find('span', class_='location').get_text().strip()\n",
    "            return location\n",
    "        except:\n",
    "            return None\n",
    "\n",
    "\n",
    "    def extract_company(result):\n",
    "        \"\"\"extract the name of the company\"\"\"\n",
    "        try:\n",
    "            company = result.find('span', class_='company').get_text().strip()\n",
    "            return company\n",
    "        except:\n",
    "            return None\n",
    "\n",
    "    def extract_title(result):\n",
    "        \"\"\"extract the job title\"\"\"\n",
    "        try:\n",
    "            title = result.find('a', attrs={'data-tn-element': \"jobTitle\"}).get('title')\n",
    "            return title\n",
    "        except:\n",
    "            return None\n",
    "\n",
    "\n",
    "    def extract_salary(result):\n",
    "        \"\"\"extract the salary\"\"\"\n",
    "        try:\n",
    "            salary = result.find('td', class_='snip').\\\n",
    "            find('span', class_='no-wrap').\\\n",
    "            get_text().strip()\n",
    "            return salary\n",
    "        except:\n",
    "            return None\n",
    "\n",
    "\n",
    "    def extract_description(result):\n",
    "        \"\"\"extract job description snippet\"\"\"\n",
    "        try:\n",
    "            description = result.find('span', class_='summary').get_text().strip()\n",
    "            return description\n",
    "        except:\n",
    "            return None\n",
    "\n",
    "\n",
    "    def extract_review(result):\n",
    "        \"\"\"extract the number of reviews for the company\"\"\"\n",
    "        try:\n",
    "            review = result.find('a', attrs={'data-tn-element': \"reviewStars\"})\n",
    "            review = review.find('span', class_=\"slNoUnderline\")\n",
    "            review = review.get_text().strip()\n",
    "            # extract only the number\n",
    "            review = review.replace(',', '').replace(' reviews', '')\n",
    "            return review\n",
    "        except:\n",
    "            return None            \n",
    "\n",
    "    \n",
    "    def extract_star(result):\n",
    "        \"\"\"extract a number (width) that is proportional to the number of stars\n",
    "        shown for the company\"\"\"\n",
    "        try:\n",
    "            # the 'style' attribute dictates how many stars are filled with color\n",
    "            star = result.find('span', class_='rating').get('style')\n",
    "            # extract only the number\n",
    "            star = star.replace('width:', '').replace('px', '')\n",
    "            return star\n",
    "        except:\n",
    "            return None\n",
    "\n",
    "\n",
    "    # append extracted info to the correspond list\n",
    "    for result in results:\n",
    "        scraped_data['location'].append(extract_location(result))\n",
    "        scraped_data['company'].append(extract_company(result))\n",
    "        scraped_data['title'].append(extract_title(result))\n",
    "        scraped_data['salary'].append(extract_salary(result))\n",
    "        scraped_data['description'].append(extract_description(result))\n",
    "        scraped_data['review'].append(extract_review(result))\n",
    "        scraped_data['star'].append(extract_star(result))\n",
    "        scraped_data['country'].append(country)\n",
    "\n",
    "      # convert the dictionary to a pandas dataframe and returns it\n",
    "    return pd.DataFrame(scraped_data)\n"
   ]
  },
  {
   "cell_type": "code",
   "execution_count": null,
   "metadata": {
    "collapsed": true
   },
   "outputs": [],
   "source": [
    "def remove_duplicates(df):\n",
    "    \"\"\"remove duplicates and returns a new df\"\"\"\n",
    "    \n",
    "    nrows_before = df.shape[0]\n",
    "    df.drop_duplicates(subset=['company', 'country','description',\n",
    "                               'location', 'salary', 'title'],\n",
    "                       keep='last', inplace=True)\n",
    "    nrows_after = df.shape[0]\n",
    "    \n",
    "    print('{} rows remain after removing duplicates from {} rows.'.format(\n",
    "        nrows_after, nrows_before))\n",
    "    print('{} rows have salary info; {} rows have yearly salary info.'.format(\n",
    "      df.salary.notnull().sum(), df.salary.str.contains('year').sum()))\n",
    "    return df"
   ]
  },
  {
   "cell_type": "code",
   "execution_count": null,
   "metadata": {
    "collapsed": true
   },
   "outputs": [],
   "source": [
    "def scrapper(CountryCode):\n",
    "    print('Current system time: {}'.format(time.ctime()))\n",
    "    \n",
    "   \n",
    "  \n",
    "    # scrape data and save to dataframe\n",
    "    start_time = time.time()\n",
    "    \n",
    "    #Retrieve Parameters to scrape with based on input of Country Code\n",
    "    url = URL[CountryCode]\n",
    "    locations = Target_cities[CountryCode]\n",
    "    country = Countries[CountryCode]\n",
    "    \n",
    "    #Create an empty place holder df, search through every location in that country, but only 1 results, just to get the title and columns\n",
    "    df = scrape_page_to_df(url,parameters,country)\n",
    "    \n",
    "    \n",
    "    for tempat in locations:\n",
    "        for kerja in jobs:\n",
    "            for start in range(0, max_results_per_city, 10):\n",
    "            \n",
    "              \n",
    "                url_params = parameters.copy()\n",
    "                #update the job with the target job that we want, city for target city that we are looking for and start refers to the current page number being scrapped\n",
    "                url_params.update({'l': tempat,'q': kerja, 'start': start})\n",
    "\n",
    "\n",
    "                #insert code to put the scrap stuff into a df here, after each round of loop, concat into a df\n",
    "                df = pd.concat([df,scrape_page_to_df(url, url_params,country)],axis=0)\n",
    "              \n",
    "        print('Finished scraping {}'.format(tempat))\n",
    "    total_time = (time.time() - start_time) / 60\n",
    "    print('Scraping run time: {:.1f} minutes'.format(total_time))\n",
    "\n",
    "    \n",
    "    \n",
    "    \n",
    "    # remove duplicates\n",
    "    df = remove_duplicates(df)\n",
    "    print('Script finished at {}\\n'.format(time.ctime()))\n",
    "    \n",
    "    #returns the final df\n",
    "    return df"
   ]
  },
  {
   "cell_type": "code",
   "execution_count": null,
   "metadata": {},
   "outputs": [],
   "source": [
    "#GVV = scrapper('SG')"
   ]
  },
  {
   "cell_type": "code",
   "execution_count": null,
   "metadata": {},
   "outputs": [],
   "source": [
    "GVV.shape"
   ]
  },
  {
   "cell_type": "code",
   "execution_count": null,
   "metadata": {},
   "outputs": [],
   "source": [
    "GVV.head()"
   ]
  },
  {
   "cell_type": "code",
   "execution_count": 6,
   "metadata": {
    "collapsed": true
   },
   "outputs": [],
   "source": [
    "title = []\n",
    "company = []\n",
    "location = []\n",
    "salary = []\n",
    "summary = []\n",
    "skills = []\n",
    "\n",
    "def scrape_city(city, results):\n",
    "    \"\"\"    \n",
    "    Args\n",
    "    ====\n",
    "    \n",
    "    city : (str)\n",
    "        The city you wish to scrape from.\n",
    "    \n",
    "    pages : (int)\n",
    "        The number of search results you want\n",
    "        for the city.\n",
    "    \"\"\"\n",
    "    \n",
    "    def get_title(soup): \n",
    "        jobs = []\n",
    "        for div in soup.find_all('div', attrs={'class':'row'}):\n",
    "            for a in div.find_all('a', attrs={'data-tn-element':'jobTitle'}):\n",
    "                jobs.append(a['title'])\n",
    "        return jobs\n",
    "\n",
    "    def get_company(soup): \n",
    "        companies = []\n",
    "        for div in soup.find_all('div', attrs={'class':'row'}):\n",
    "            company = div.find_all('span', attrs={'class':'company'})\n",
    "            if len(company) > 0:\n",
    "                for b in company:\n",
    "                    companies.append(b.text.strip())\n",
    "            else:\n",
    "                sec_try = div.find_all('span', attrs={'class':'result-link-source'})\n",
    "                for span in sec_try:\n",
    "                    companies.append(span.text.strip())\n",
    "\n",
    "        return companies\n",
    "\n",
    "    def get_location(soup): \n",
    "        locations = []\n",
    "        spans = soup.find_all('span', attrs={'class': 'location'})\n",
    "        for span in spans:\n",
    "            locations.append(span.text)\n",
    "        return locations\n",
    "    \n",
    "    def get_sala(soup): \n",
    "        salaries = []\n",
    "        for div in soup.find_all('div', attrs={'class':'row'}):\n",
    "            try:\n",
    "                salaries.append(div.find('nobr').text)\n",
    "            except:\n",
    "                try:\n",
    "                    div_two = div.find('div', attrs={'class':'sjcl'})\n",
    "                    div_three = div_two.find('div')\n",
    "                    salaries.append(div_three.text.strip())\n",
    "                except:\n",
    "                    salaries.append('NA')\n",
    "        return salaries\n",
    "\n",
    "    def get_salary(soup): \n",
    "        salaries = []\n",
    "        for div in soup.find_all('div', attrs={'class':'row'}):\n",
    "            try:\n",
    "                salaries.append(div.find('span', attrs={'class': 'no-wrap'}).text)\n",
    "            except:\n",
    "                salaries.append('NA')\n",
    "        return salaries    \n",
    "    \n",
    "    def get_summary(soup): \n",
    "        summaries = []\n",
    "        spans = soup.find_all('span', attrs={'class': 'summary'})\n",
    "        for span in spans:\n",
    "            summaries.append(span.text.strip())\n",
    "        return summaries\n",
    "    \n",
    "    def get_skill(soup): \n",
    "        skills = []\n",
    "        for div in soup.find_all('div', attrs={'class':'row'}):\n",
    "            try:\n",
    "                skills.append(div.find('span', attrs={'class': 'experienceList'}).text)\n",
    "            except:\n",
    "                skills.append('NA')\n",
    "        return skills  \n",
    "    \n",
    "    for start in range (0, results, 50):\n",
    "        url = 'https://www.indeed.com/jobs?q=' + 'data+scientist' + '&l=' + city \\\n",
    "            + '&limit=50&radius=25' + '&start=' + str(start)\n",
    "        request = requests.get(url)\n",
    "        soup = BeautifulSoup(request.text, 'html.parser')\n",
    "    \n",
    "        title.extend(get_title(soup))\n",
    "        company.extend(get_company(soup))\n",
    "        location.extend(get_location(soup))\n",
    "        salary.extend(get_salary(soup))\n",
    "        summary.extend(get_summary(soup))\n",
    "        skills.extend(get_skill(soup))\n",
    "        time.sleep(2)\n",
    "        print start, 'done.'"
   ]
  },
  {
   "cell_type": "code",
   "execution_count": 7,
   "metadata": {},
   "outputs": [
    {
     "data": {
      "text/plain": [
       "['New York',\n",
       " 'Chicago',\n",
       " 'San Francisco',\n",
       " 'Austin',\n",
       " 'Seattle',\n",
       " 'Los Angeles',\n",
       " 'Philadelphia',\n",
       " 'Atlanta',\n",
       " 'Dallas',\n",
       " 'Pittsburgh',\n",
       " 'Portland',\n",
       " 'Phoenix',\n",
       " 'Denver',\n",
       " 'Houston',\n",
       " 'Miami']"
      ]
     },
     "execution_count": 7,
     "metadata": {},
     "output_type": "execute_result"
    }
   ],
   "source": [
    "Target_cities['US']"
   ]
  },
  {
   "cell_type": "code",
   "execution_count": null,
   "metadata": {},
   "outputs": [],
   "source": [
    "#for cities in Target_cities['US']:\n",
    "    scrape_city(cities , 2000)"
   ]
  },
  {
   "cell_type": "code",
   "execution_count": null,
   "metadata": {
    "collapsed": true
   },
   "outputs": [],
   "source": [
    "columns =[title, company, location, salary, summary, skills]"
   ]
  },
  {
   "cell_type": "code",
   "execution_count": 8,
   "metadata": {
    "collapsed": true
   },
   "outputs": [],
   "source": [
    "import cPickle as cpickle"
   ]
  },
  {
   "cell_type": "code",
   "execution_count": 69,
   "metadata": {},
   "outputs": [],
   "source": [
    "with open('indeed_final.pkl','rb') as f:\n",
    "    df = cpickle.load(f)"
   ]
  },
  {
   "cell_type": "code",
   "execution_count": 70,
   "metadata": {},
   "outputs": [
    {
     "data": {
      "text/html": [
       "<div>\n",
       "<style>\n",
       "    .dataframe thead tr:only-child th {\n",
       "        text-align: right;\n",
       "    }\n",
       "\n",
       "    .dataframe thead th {\n",
       "        text-align: left;\n",
       "    }\n",
       "\n",
       "    .dataframe tbody tr th {\n",
       "        vertical-align: top;\n",
       "    }\n",
       "</style>\n",
       "<table border=\"1\" class=\"dataframe\">\n",
       "  <thead>\n",
       "    <tr style=\"text-align: right;\">\n",
       "      <th></th>\n",
       "      <th>title</th>\n",
       "      <th>company</th>\n",
       "      <th>location</th>\n",
       "      <th>salary</th>\n",
       "      <th>summary</th>\n",
       "      <th>skill</th>\n",
       "      <th>r1</th>\n",
       "      <th>per</th>\n",
       "      <th>r2</th>\n",
       "      <th>annual_salary</th>\n",
       "      <th>high_salary</th>\n",
       "    </tr>\n",
       "  </thead>\n",
       "  <tbody>\n",
       "    <tr>\n",
       "      <th>0</th>\n",
       "      <td>Data Scientist</td>\n",
       "      <td>Honeywell</td>\n",
       "      <td>Arizona</td>\n",
       "      <td>NA</td>\n",
       "      <td>You Must Have Bachelor’s degree in Predictive ...</td>\n",
       "      <td>Machine Learning, R, BI, SPSS, Hadoop, Sas, Da...</td>\n",
       "      <td>NaN</td>\n",
       "      <td>NaN</td>\n",
       "      <td>NaN</td>\n",
       "      <td>NaN</td>\n",
       "      <td>0</td>\n",
       "    </tr>\n",
       "    <tr>\n",
       "      <th>1</th>\n",
       "      <td>Data Scientist</td>\n",
       "      <td>Cyient</td>\n",
       "      <td>Arizona</td>\n",
       "      <td>NA</td>\n",
       "      <td>Prior experience in R and data analytics is pr...</td>\n",
       "      <td>SPSS, Machine Learning, R, Sas, Tableau, Python</td>\n",
       "      <td>NaN</td>\n",
       "      <td>NaN</td>\n",
       "      <td>NaN</td>\n",
       "      <td>NaN</td>\n",
       "      <td>0</td>\n",
       "    </tr>\n",
       "    <tr>\n",
       "      <th>2</th>\n",
       "      <td>Data Scientist</td>\n",
       "      <td>Tuft &amp; Needle</td>\n",
       "      <td>Arizona</td>\n",
       "      <td>NA</td>\n",
       "      <td>For insights, we use Looker to give other team...</td>\n",
       "      <td>Machine Learning, R, Data Science, Python</td>\n",
       "      <td>NaN</td>\n",
       "      <td>NaN</td>\n",
       "      <td>NaN</td>\n",
       "      <td>NaN</td>\n",
       "      <td>0</td>\n",
       "    </tr>\n",
       "    <tr>\n",
       "      <th>3</th>\n",
       "      <td>Data Scientist</td>\n",
       "      <td>Silicon Valley Bank</td>\n",
       "      <td>Arizona</td>\n",
       "      <td>NA</td>\n",
       "      <td>In order to design and create information foun...</td>\n",
       "      <td>Machine Learning, PL/SQL, BI, Data Mining, Ora...</td>\n",
       "      <td>NaN</td>\n",
       "      <td>NaN</td>\n",
       "      <td>NaN</td>\n",
       "      <td>NaN</td>\n",
       "      <td>0</td>\n",
       "    </tr>\n",
       "    <tr>\n",
       "      <th>4</th>\n",
       "      <td>Data Scientist - Productivity Applications</td>\n",
       "      <td>GoDaddy</td>\n",
       "      <td>Arizona</td>\n",
       "      <td>NA</td>\n",
       "      <td>Your primary focus will be in applying data mi...</td>\n",
       "      <td>Hive, SQL Server, Machine Learning, R, MySQL, ...</td>\n",
       "      <td>NaN</td>\n",
       "      <td>NaN</td>\n",
       "      <td>NaN</td>\n",
       "      <td>NaN</td>\n",
       "      <td>0</td>\n",
       "    </tr>\n",
       "  </tbody>\n",
       "</table>\n",
       "</div>"
      ],
      "text/plain": [
       "                                        title              company location  \\\n",
       "0                              Data Scientist            Honeywell  Arizona   \n",
       "1                              Data Scientist               Cyient  Arizona   \n",
       "2                              Data Scientist        Tuft & Needle  Arizona   \n",
       "3                              Data Scientist  Silicon Valley Bank  Arizona   \n",
       "4  Data Scientist - Productivity Applications              GoDaddy  Arizona   \n",
       "\n",
       "  salary                                            summary  \\\n",
       "0     NA  You Must Have Bachelor’s degree in Predictive ...   \n",
       "1     NA  Prior experience in R and data analytics is pr...   \n",
       "2     NA  For insights, we use Looker to give other team...   \n",
       "3     NA  In order to design and create information foun...   \n",
       "4     NA  Your primary focus will be in applying data mi...   \n",
       "\n",
       "                                               skill  r1  per  r2  \\\n",
       "0  Machine Learning, R, BI, SPSS, Hadoop, Sas, Da... NaN  NaN NaN   \n",
       "1    SPSS, Machine Learning, R, Sas, Tableau, Python NaN  NaN NaN   \n",
       "2          Machine Learning, R, Data Science, Python NaN  NaN NaN   \n",
       "3  Machine Learning, PL/SQL, BI, Data Mining, Ora... NaN  NaN NaN   \n",
       "4  Hive, SQL Server, Machine Learning, R, MySQL, ... NaN  NaN NaN   \n",
       "\n",
       "   annual_salary  high_salary  \n",
       "0            NaN            0  \n",
       "1            NaN            0  \n",
       "2            NaN            0  \n",
       "3            NaN            0  \n",
       "4            NaN            0  "
      ]
     },
     "execution_count": 70,
     "metadata": {},
     "output_type": "execute_result"
    }
   ],
   "source": [
    "df.head()"
   ]
  },
  {
   "cell_type": "code",
   "execution_count": 71,
   "metadata": {},
   "outputs": [
    {
     "data": {
      "text/plain": [
       "(10156, 11)"
      ]
     },
     "execution_count": 71,
     "metadata": {},
     "output_type": "execute_result"
    }
   ],
   "source": [
    "df.shape"
   ]
  },
  {
   "cell_type": "code",
   "execution_count": 72,
   "metadata": {},
   "outputs": [
    {
     "data": {
      "text/plain": [
       "California        2261\n",
       "New York          1028\n",
       "Massachusetts      985\n",
       "Virginia           822\n",
       "Washington         801\n",
       "Maryland           743\n",
       "Texas              682\n",
       "Illinois           682\n",
       "Pennsylvania       484\n",
       "Colorado           439\n",
       "Florida            429\n",
       "North Carolina     382\n",
       "Connecticut        235\n",
       "Arizona            183\n",
       "Name: location, dtype: int64"
      ]
     },
     "execution_count": 72,
     "metadata": {},
     "output_type": "execute_result"
    }
   ],
   "source": [
    "df.location.value_counts()"
   ]
  },
  {
   "cell_type": "code",
   "execution_count": 73,
   "metadata": {
    "collapsed": true
   },
   "outputs": [],
   "source": [
    "df.drop(['r1','per','r2','annual_salary','high_salary'],axis = 1,inplace = True)"
   ]
  },
  {
   "cell_type": "code",
   "execution_count": 74,
   "metadata": {},
   "outputs": [
    {
     "data": {
      "text/html": [
       "<div>\n",
       "<style>\n",
       "    .dataframe thead tr:only-child th {\n",
       "        text-align: right;\n",
       "    }\n",
       "\n",
       "    .dataframe thead th {\n",
       "        text-align: left;\n",
       "    }\n",
       "\n",
       "    .dataframe tbody tr th {\n",
       "        vertical-align: top;\n",
       "    }\n",
       "</style>\n",
       "<table border=\"1\" class=\"dataframe\">\n",
       "  <thead>\n",
       "    <tr style=\"text-align: right;\">\n",
       "      <th></th>\n",
       "      <th>title</th>\n",
       "      <th>company</th>\n",
       "      <th>location</th>\n",
       "      <th>salary</th>\n",
       "      <th>summary</th>\n",
       "      <th>skill</th>\n",
       "    </tr>\n",
       "  </thead>\n",
       "  <tbody>\n",
       "    <tr>\n",
       "      <th>0</th>\n",
       "      <td>Data Scientist</td>\n",
       "      <td>Honeywell</td>\n",
       "      <td>Arizona</td>\n",
       "      <td>NA</td>\n",
       "      <td>You Must Have Bachelor’s degree in Predictive ...</td>\n",
       "      <td>Machine Learning, R, BI, SPSS, Hadoop, Sas, Da...</td>\n",
       "    </tr>\n",
       "    <tr>\n",
       "      <th>1</th>\n",
       "      <td>Data Scientist</td>\n",
       "      <td>Cyient</td>\n",
       "      <td>Arizona</td>\n",
       "      <td>NA</td>\n",
       "      <td>Prior experience in R and data analytics is pr...</td>\n",
       "      <td>SPSS, Machine Learning, R, Sas, Tableau, Python</td>\n",
       "    </tr>\n",
       "    <tr>\n",
       "      <th>2</th>\n",
       "      <td>Data Scientist</td>\n",
       "      <td>Tuft &amp; Needle</td>\n",
       "      <td>Arizona</td>\n",
       "      <td>NA</td>\n",
       "      <td>For insights, we use Looker to give other team...</td>\n",
       "      <td>Machine Learning, R, Data Science, Python</td>\n",
       "    </tr>\n",
       "    <tr>\n",
       "      <th>3</th>\n",
       "      <td>Data Scientist</td>\n",
       "      <td>Silicon Valley Bank</td>\n",
       "      <td>Arizona</td>\n",
       "      <td>NA</td>\n",
       "      <td>In order to design and create information foun...</td>\n",
       "      <td>Machine Learning, PL/SQL, BI, Data Mining, Ora...</td>\n",
       "    </tr>\n",
       "    <tr>\n",
       "      <th>4</th>\n",
       "      <td>Data Scientist - Productivity Applications</td>\n",
       "      <td>GoDaddy</td>\n",
       "      <td>Arizona</td>\n",
       "      <td>NA</td>\n",
       "      <td>Your primary focus will be in applying data mi...</td>\n",
       "      <td>Hive, SQL Server, Machine Learning, R, MySQL, ...</td>\n",
       "    </tr>\n",
       "  </tbody>\n",
       "</table>\n",
       "</div>"
      ],
      "text/plain": [
       "                                        title              company location  \\\n",
       "0                              Data Scientist            Honeywell  Arizona   \n",
       "1                              Data Scientist               Cyient  Arizona   \n",
       "2                              Data Scientist        Tuft & Needle  Arizona   \n",
       "3                              Data Scientist  Silicon Valley Bank  Arizona   \n",
       "4  Data Scientist - Productivity Applications              GoDaddy  Arizona   \n",
       "\n",
       "  salary                                            summary  \\\n",
       "0     NA  You Must Have Bachelor’s degree in Predictive ...   \n",
       "1     NA  Prior experience in R and data analytics is pr...   \n",
       "2     NA  For insights, we use Looker to give other team...   \n",
       "3     NA  In order to design and create information foun...   \n",
       "4     NA  Your primary focus will be in applying data mi...   \n",
       "\n",
       "                                               skill  \n",
       "0  Machine Learning, R, BI, SPSS, Hadoop, Sas, Da...  \n",
       "1    SPSS, Machine Learning, R, Sas, Tableau, Python  \n",
       "2          Machine Learning, R, Data Science, Python  \n",
       "3  Machine Learning, PL/SQL, BI, Data Mining, Ora...  \n",
       "4  Hive, SQL Server, Machine Learning, R, MySQL, ...  "
      ]
     },
     "execution_count": 74,
     "metadata": {},
     "output_type": "execute_result"
    }
   ],
   "source": [
    "df.head()"
   ]
  },
  {
   "cell_type": "code",
   "execution_count": 75,
   "metadata": {},
   "outputs": [
    {
     "data": {
      "text/plain": [
       "California        2261\n",
       "New York          1028\n",
       "Massachusetts      985\n",
       "Virginia           822\n",
       "Washington         801\n",
       "Maryland           743\n",
       "Texas              682\n",
       "Illinois           682\n",
       "Pennsylvania       484\n",
       "Colorado           439\n",
       "Florida            429\n",
       "North Carolina     382\n",
       "Connecticut        235\n",
       "Arizona            183\n",
       "Name: location, dtype: int64"
      ]
     },
     "execution_count": 75,
     "metadata": {},
     "output_type": "execute_result"
    }
   ],
   "source": [
    "df.location.value_counts( sort=True)"
   ]
  },
  {
   "cell_type": "code",
   "execution_count": 76,
   "metadata": {
    "collapsed": true
   },
   "outputs": [],
   "source": [
    "CountStatus = pd.value_counts(df['location'].values, sort=True)"
   ]
  },
  {
   "cell_type": "code",
   "execution_count": 77,
   "metadata": {},
   "outputs": [
    {
     "data": {
      "text/plain": [
       "<matplotlib.axes._subplots.AxesSubplot at 0x2235e128>"
      ]
     },
     "execution_count": 77,
     "metadata": {},
     "output_type": "execute_result"
    },
    {
     "data": {
      "image/png": "[encoded data removed]",
      "text/plain": [
       "<matplotlib.figure.Figure at 0x1be98da0>"
      ]
     },
     "metadata": {},
     "output_type": "display_data"
    }
   ],
   "source": [
    "CountStatus.plot.barh()"
   ]
  },
  {
   "cell_type": "code",
   "execution_count": 78,
   "metadata": {
    "collapsed": true
   },
   "outputs": [],
   "source": [
    "df.loc[df['salary']=='NA','salary'] = np.nan"
   ]
  },
  {
   "cell_type": "code",
   "execution_count": 79,
   "metadata": {},
   "outputs": [
    {
     "data": {
      "text/html": [
       "<div>\n",
       "<style>\n",
       "    .dataframe thead tr:only-child th {\n",
       "        text-align: right;\n",
       "    }\n",
       "\n",
       "    .dataframe thead th {\n",
       "        text-align: left;\n",
       "    }\n",
       "\n",
       "    .dataframe tbody tr th {\n",
       "        vertical-align: top;\n",
       "    }\n",
       "</style>\n",
       "<table border=\"1\" class=\"dataframe\">\n",
       "  <thead>\n",
       "    <tr style=\"text-align: right;\">\n",
       "      <th></th>\n",
       "      <th>title</th>\n",
       "      <th>company</th>\n",
       "      <th>location</th>\n",
       "      <th>salary</th>\n",
       "      <th>summary</th>\n",
       "      <th>skill</th>\n",
       "    </tr>\n",
       "  </thead>\n",
       "  <tbody>\n",
       "    <tr>\n",
       "      <th>0</th>\n",
       "      <td>Data Scientist</td>\n",
       "      <td>Honeywell</td>\n",
       "      <td>Arizona</td>\n",
       "      <td>NaN</td>\n",
       "      <td>You Must Have Bachelor’s degree in Predictive ...</td>\n",
       "      <td>Machine Learning, R, BI, SPSS, Hadoop, Sas, Da...</td>\n",
       "    </tr>\n",
       "    <tr>\n",
       "      <th>1</th>\n",
       "      <td>Data Scientist</td>\n",
       "      <td>Cyient</td>\n",
       "      <td>Arizona</td>\n",
       "      <td>NaN</td>\n",
       "      <td>Prior experience in R and data analytics is pr...</td>\n",
       "      <td>SPSS, Machine Learning, R, Sas, Tableau, Python</td>\n",
       "    </tr>\n",
       "    <tr>\n",
       "      <th>2</th>\n",
       "      <td>Data Scientist</td>\n",
       "      <td>Tuft &amp; Needle</td>\n",
       "      <td>Arizona</td>\n",
       "      <td>NaN</td>\n",
       "      <td>For insights, we use Looker to give other team...</td>\n",
       "      <td>Machine Learning, R, Data Science, Python</td>\n",
       "    </tr>\n",
       "    <tr>\n",
       "      <th>3</th>\n",
       "      <td>Data Scientist</td>\n",
       "      <td>Silicon Valley Bank</td>\n",
       "      <td>Arizona</td>\n",
       "      <td>NaN</td>\n",
       "      <td>In order to design and create information foun...</td>\n",
       "      <td>Machine Learning, PL/SQL, BI, Data Mining, Ora...</td>\n",
       "    </tr>\n",
       "    <tr>\n",
       "      <th>4</th>\n",
       "      <td>Data Scientist - Productivity Applications</td>\n",
       "      <td>GoDaddy</td>\n",
       "      <td>Arizona</td>\n",
       "      <td>NaN</td>\n",
       "      <td>Your primary focus will be in applying data mi...</td>\n",
       "      <td>Hive, SQL Server, Machine Learning, R, MySQL, ...</td>\n",
       "    </tr>\n",
       "  </tbody>\n",
       "</table>\n",
       "</div>"
      ],
      "text/plain": [
       "                                        title              company location  \\\n",
       "0                              Data Scientist            Honeywell  Arizona   \n",
       "1                              Data Scientist               Cyient  Arizona   \n",
       "2                              Data Scientist        Tuft & Needle  Arizona   \n",
       "3                              Data Scientist  Silicon Valley Bank  Arizona   \n",
       "4  Data Scientist - Productivity Applications              GoDaddy  Arizona   \n",
       "\n",
       "  salary                                            summary  \\\n",
       "0    NaN  You Must Have Bachelor’s degree in Predictive ...   \n",
       "1    NaN  Prior experience in R and data analytics is pr...   \n",
       "2    NaN  For insights, we use Looker to give other team...   \n",
       "3    NaN  In order to design and create information foun...   \n",
       "4    NaN  Your primary focus will be in applying data mi...   \n",
       "\n",
       "                                               skill  \n",
       "0  Machine Learning, R, BI, SPSS, Hadoop, Sas, Da...  \n",
       "1    SPSS, Machine Learning, R, Sas, Tableau, Python  \n",
       "2          Machine Learning, R, Data Science, Python  \n",
       "3  Machine Learning, PL/SQL, BI, Data Mining, Ora...  \n",
       "4  Hive, SQL Server, Machine Learning, R, MySQL, ...  "
      ]
     },
     "execution_count": 79,
     "metadata": {},
     "output_type": "execute_result"
    }
   ],
   "source": [
    "df.head()"
   ]
  },
  {
   "cell_type": "code",
   "execution_count": 80,
   "metadata": {
    "collapsed": true
   },
   "outputs": [],
   "source": [
    "nsf = df.dropna()"
   ]
  },
  {
   "cell_type": "code",
   "execution_count": 81,
   "metadata": {},
   "outputs": [
    {
     "data": {
      "text/plain": [
       "(595, 6)"
      ]
     },
     "execution_count": 81,
     "metadata": {},
     "output_type": "execute_result"
    }
   ],
   "source": [
    "nsf.shape"
   ]
  },
  {
   "cell_type": "code",
   "execution_count": 82,
   "metadata": {},
   "outputs": [
    {
     "data": {
      "text/html": [
       "<div>\n",
       "<style>\n",
       "    .dataframe thead tr:only-child th {\n",
       "        text-align: right;\n",
       "    }\n",
       "\n",
       "    .dataframe thead th {\n",
       "        text-align: left;\n",
       "    }\n",
       "\n",
       "    .dataframe tbody tr th {\n",
       "        vertical-align: top;\n",
       "    }\n",
       "</style>\n",
       "<table border=\"1\" class=\"dataframe\">\n",
       "  <thead>\n",
       "    <tr style=\"text-align: right;\">\n",
       "      <th></th>\n",
       "      <th>title</th>\n",
       "      <th>company</th>\n",
       "      <th>location</th>\n",
       "      <th>salary</th>\n",
       "      <th>summary</th>\n",
       "      <th>skill</th>\n",
       "    </tr>\n",
       "  </thead>\n",
       "  <tbody>\n",
       "    <tr>\n",
       "      <th>28</th>\n",
       "      <td>App Sys Analyst/Prog -Intrmed</td>\n",
       "      <td>Northern Arizona University</td>\n",
       "      <td>Arizona</td>\n",
       "      <td>56500-61500-year</td>\n",
       "      <td>Employees offered a position will be eligible ...</td>\n",
       "      <td>Perl, C/C++, Java, Rust, Python</td>\n",
       "    </tr>\n",
       "    <tr>\n",
       "      <th>31</th>\n",
       "      <td>Research Scientist (Part Time)</td>\n",
       "      <td>University of Arizona</td>\n",
       "      <td>Arizona</td>\n",
       "      <td>80000-96000-year</td>\n",
       "      <td>Scientists used to view the aging brain as an ...</td>\n",
       "      <td>TensorFlow, Machine Learning, C/C++, MATLAB, I...</td>\n",
       "    </tr>\n",
       "    <tr>\n",
       "      <th>37</th>\n",
       "      <td>Management Research Analyst Senior</td>\n",
       "      <td>Arizona State University</td>\n",
       "      <td>Arizona</td>\n",
       "      <td>56880-72000-year</td>\n",
       "      <td>Develops, maintains, and utilizes extensive da...</td>\n",
       "      <td>SQL Server, BI, Tableau</td>\n",
       "    </tr>\n",
       "    <tr>\n",
       "      <th>38</th>\n",
       "      <td>PUBLIC INFORMATION OFFICER</td>\n",
       "      <td>State of Arizona</td>\n",
       "      <td>Arizona</td>\n",
       "      <td>50000-75000-year</td>\n",
       "      <td>The ability to work with scientists, engineers...</td>\n",
       "      <td>NA</td>\n",
       "    </tr>\n",
       "    <tr>\n",
       "      <th>39</th>\n",
       "      <td>Assistant Research Scientist, Basic Medical Sc...</td>\n",
       "      <td>University of Arizona</td>\n",
       "      <td>Arizona</td>\n",
       "      <td>34000-year</td>\n",
       "      <td>The University of Arizona Cancer Center in ass...</td>\n",
       "      <td>Oncology</td>\n",
       "    </tr>\n",
       "  </tbody>\n",
       "</table>\n",
       "</div>"
      ],
      "text/plain": [
       "                                                title  \\\n",
       "28                      App Sys Analyst/Prog -Intrmed   \n",
       "31                     Research Scientist (Part Time)   \n",
       "37                 Management Research Analyst Senior   \n",
       "38                         PUBLIC INFORMATION OFFICER   \n",
       "39  Assistant Research Scientist, Basic Medical Sc...   \n",
       "\n",
       "                        company location            salary  \\\n",
       "28  Northern Arizona University  Arizona  56500-61500-year   \n",
       "31        University of Arizona  Arizona  80000-96000-year   \n",
       "37     Arizona State University  Arizona  56880-72000-year   \n",
       "38             State of Arizona  Arizona  50000-75000-year   \n",
       "39        University of Arizona  Arizona        34000-year   \n",
       "\n",
       "                                              summary  \\\n",
       "28  Employees offered a position will be eligible ...   \n",
       "31  Scientists used to view the aging brain as an ...   \n",
       "37  Develops, maintains, and utilizes extensive da...   \n",
       "38  The ability to work with scientists, engineers...   \n",
       "39  The University of Arizona Cancer Center in ass...   \n",
       "\n",
       "                                                skill  \n",
       "28                    Perl, C/C++, Java, Rust, Python  \n",
       "31  TensorFlow, Machine Learning, C/C++, MATLAB, I...  \n",
       "37                            SQL Server, BI, Tableau  \n",
       "38                                                 NA  \n",
       "39                                           Oncology  "
      ]
     },
     "execution_count": 82,
     "metadata": {},
     "output_type": "execute_result"
    }
   ],
   "source": [
    "nsf.head()"
   ]
  },
  {
   "cell_type": "code",
   "execution_count": 83,
   "metadata": {},
   "outputs": [
    {
     "data": {
      "text/plain": [
       "59708-72246-year                      8\n",
       "70286-88213-year                      7\n",
       "130692-174569-year                    6\n",
       "150000-year                           6\n",
       "120000-150000-year                    6\n",
       "94796-123234-year                     6\n",
       "15-hour                               5\n",
       "150000-180000-year                    5\n",
       "100000-150000-year                    5\n",
       "180000-year                           5\n",
       "32900-59100-year                      4\n",
       "120000-140000-year                    4\n",
       "20.96-hour                            4\n",
       "80000-100000-year                     4\n",
       "90000-120000-year                     4\n",
       "5400-6500-month                       4\n",
       "160000-year                           4\n",
       "100000-130000-year                    4\n",
       "220000-year                           4\n",
       "55000-year                            3\n",
       "70000-90000-year                      3\n",
       "85816-131833-year                     3\n",
       "51600-77400-year                      3\n",
       "120000-year                           3\n",
       "23.06-28.44-hour                      3\n",
       "140000-150000-year                    3\n",
       "50000-60000-year                      3\n",
       "59200-88800-year                      3\n",
       "131767-161900-year                    3\n",
       "28.14-hour                            3\n",
       "                                     ..\n",
       "125000-140000-year                    1\n",
       "110-hour                              1\n",
       "27926-year                            1\n",
       "6250-8333-month                       1\n",
       "100000-105000-year                    1\n",
       "66317-103337-year                     1\n",
       "47000-year                            1\n",
       "108-day                               1\n",
       "140000-155000-year                    1\n",
       "82000-115000-year                     1\n",
       "107960-134950-year                    1\n",
       "55494-70566-year                      1\n",
       "46500-83000-year                      1\n",
       "3067-4088-month                       1\n",
       "95017-156779-year                     1\n",
       "78546-95498-year                      1\n",
       "50-hour                               1\n",
       "58945-158270-year                     1\n",
       "Estimated salary: 66000-84000-year    1\n",
       "21.00-24.36-hour                      1\n",
       "81319-125706-year                     1\n",
       "5754-9606-month                       1\n",
       "38880-50120-year                      1\n",
       "40-70-hour                            1\n",
       "21.40-hour                            1\n",
       "75515-115278-year                     1\n",
       "5000-month                            1\n",
       "56500-61500-year                      1\n",
       "2327-month                            1\n",
       "90000-140000-year                     1\n",
       "Name: salary, Length: 426, dtype: int64"
      ]
     },
     "execution_count": 83,
     "metadata": {},
     "output_type": "execute_result"
    }
   ],
   "source": [
    "nsf.salary.value_counts()"
   ]
  },
  {
   "cell_type": "code",
   "execution_count": 84,
   "metadata": {},
   "outputs": [],
   "source": [
    "nsf.salary = map(lambda x: x.replace('Estimated salary: ', ''), nsf.salary)"
   ]
  },
  {
   "cell_type": "code",
   "execution_count": 85,
   "metadata": {},
   "outputs": [
    {
     "data": {
      "text/plain": [
       "array([u'56500-61500-year', u'80000-96000-year', u'56880-72000-year',\n",
       "       u'50000-75000-year', u'34000-year', u'56573-75000-year',\n",
       "       u'50000-55000-year', u'65000-year', u'62046-80657-year',\n",
       "       u'50000-55000-year', u'47000-year', u'101938-148550-year',\n",
       "       u'39173-59948-year', u'47659-year', u'10.16-12.52-hour',\n",
       "       u'37113-73098-year', u'12.25-17.54-hour', u'65000-83000-year',\n",
       "       u'82000-104000-year', u'66000-84000-year', u'12.25-17.54-hour',\n",
       "       u'65000-83000-year', u'47000-56750-year', u'80000-90000-year',\n",
       "       u'130000-150000-year', u'50000-year', u'10.87-15.12-hour',\n",
       "       u'10.82-14.00-hour', u'10.87-13.53-hour', u'10.16-hour',\n",
       "       u'44629-61782-year', u'38262-53082-year', u'29008-38000-year',\n",
       "       u'31125-42843-year', u'29443-39307-year', u'10.00-12.84-hour',\n",
       "       u'13.53-16.00-hour', u'75000-year', u'80000-100000-year',\n",
       "       u'130000-140000-year', u'90000-140000-year', u'56573-75000-year',\n",
       "       u'17-20-hour', u'100000-115000-year', u'110000-120000-year',\n",
       "       u'130000-170000-year', u'70000-80000-year', u'21-hour',\n",
       "       u'160000-185000-year', u'35000-45000-year', u'90000-145000-year',\n",
       "       u'10-12-hour', u'60000-120000-year', u'200000-year',\n",
       "       u'50000-70000-year', u'60000-80000-year', u'41000-year',\n",
       "       u'80000-110000-year', u'90000-year', u'105000-year', u'21-hour',\n",
       "       u'55000-75000-year', u'20-23-hour', u'68586-85464-year',\n",
       "       u'53193-85401-year', u'59466-95370-year', u'43871-60402-year',\n",
       "       u'70000-year', u'66510-103639-year', u'94796-123234-year',\n",
       "       u'94796-145629-year', u'66510-86460-year', u'26.13-35.94-hour',\n",
       "       u'94796-123234-year', u'131000-167000-year', u'83000-106000-year',\n",
       "       u'47735-73098-year', u'44941-58428-year', u'79720-145629-year',\n",
       "       u'44017-56999-year', u'70449-88061-year', u'41427-56903-year',\n",
       "       u'75733-94666-year', u'75733-94666-year', u'47735-62060-year',\n",
       "       u'107960-134950-year', u'43871-60402-year', u'66510-103639-year',\n",
       "       u'15-hour', u'101409-131833-year', u'68586-85464-year',\n",
       "       u'38880-50120-year', u'85816-131833-year', u'68586-85464-year',\n",
       "       u'75515-115278-year', u'87519-109399-year', u'54972-86460-year',\n",
       "       u'83000-105000-year', u'94796-123234-year', u'26.89-36.96-hour',\n",
       "       u'48251-66407-year', u'37781-51950-year', u'15-hour',\n",
       "       u'150000-year', u'180000-year', u'11.95-16.43-hour',\n",
       "       u'44941-78703-year', u'36281-86460-year', u'44017-70265-year',\n",
       "       u'70000-110000-year', u'120000-135000-year', u'120000-130000-year',\n",
       "       u'75000-85000-year', u'60000-90000-year', u'25-39-hour',\n",
       "       u'51000-year', u'124600-155800-year', u'65228-101641-year',\n",
       "       u'53000-66000-year', u'5486-month', u'14.28-hour',\n",
       "       u'28545-45970-year', u'80000-110000-year', u'5486-month',\n",
       "       u'48000-65000-year', u'18256-25514-year', u'80000-80001-year',\n",
       "       u'12-hour', u'15-hour', u'95000-127000-year', u'105000-year',\n",
       "       u'28.80-hour', u'100000-130000-year', u'65000-80000-year',\n",
       "       u'70000-95000-year', u'65000-90000-year', u'120000-year',\n",
       "       u'47500-49000-year', u'70000-90000-year', u'100000-140000-year',\n",
       "       u'108-day', u'10-hour', u'62400-year', u'80000-year',\n",
       "       u'85000-105000-year', u'100000-130000-year', u'40-85-hour',\n",
       "       u'120000-year', u'100000-115000-year', u'100000-105000-year',\n",
       "       u'44853-71326-year', u'100000-130000-year', u'55-day',\n",
       "       u'110000-115000-year', u'45-75-hour', u'75000-95000-year',\n",
       "       u'60-80-hour', u'28-33-hour', u'32000-35000-year', u'40-85-hour',\n",
       "       u'30-36-hour', u'20-26-hour', u'46644-76440-year',\n",
       "       u'46644-76440-year', u'109174-141928-year', u'100000-120000-year',\n",
       "       u'85000-110000-year', u'43000-75000-year', u'40-42-hour',\n",
       "       u'60000-97000-year', u'80000-120000-year', u'100000-150000-year',\n",
       "       u'53000-98000-year', u'18564-28860-year', u'18564-28860-year',\n",
       "       u'28.14-hour', u'31888-46500-year', u'51000-66831-year',\n",
       "       u'155000-215000-year', u'100000-180000-year', u'150000-185000-year',\n",
       "       u'90000-130000-year', u'20.96-hour', u'90000-115000-year',\n",
       "       u'90000-120000-year', u'20.96-hour', u'40962-50064-year',\n",
       "       u'20.96-hour', u'28.14-hour', u'28.14-hour', u'20.96-hour',\n",
       "       u'45000-56471-year', u'60000-100000-year', u'80-90-hour',\n",
       "       u'140000-year', u'130000-140000-year', u'62-day',\n",
       "       u'140000-165000-year', u'140000-155000-year', u'120000-150000-year',\n",
       "       u'20-hour', u'50000-70000-year', u'60000-75000-year',\n",
       "       u'32900-59100-year', u'53000-55000-year', u'32900-59100-year',\n",
       "       u'52822-83079-year', u'32900-59100-year', u'53900-96900-year',\n",
       "       u'32900-59000-year', u'32900-59100-year', u'28000-year',\n",
       "       u'15.80-17.00-hour', u'32900-year', u'40000-72000-year',\n",
       "       u'40000-72000-year', u'64600-116400-year', u'27926-year',\n",
       "       u'2327-month', u'59966-year', u'34500-45000-year', u'42598-year',\n",
       "       u'50-80-hour', u'21.40-hour', u'23.97-hour', u'59966-71282-year',\n",
       "       u'42598-50648-year', u'11-hour', u'50-hour', u'15.50-hour',\n",
       "       u'40-70-hour', u'40000-48000-year', u'100000-125000-year',\n",
       "       u'92000-120000-year', u'73000-93000-year', u'95017-156779-year',\n",
       "       u'85000-105000-year', u'87000-90000-year', u'80000-105000-year',\n",
       "       u'32-35-hour', u'20-25-hour', u'15-20-hour', u'75000-95000-year',\n",
       "       u'25-hour', u'80000-102000-year', u'76000-97000-year',\n",
       "       u'80000-102000-year', u'38861-56143-year', u'66400-99600-year',\n",
       "       u'55000-year', u'6666-month', u'37812-62388-year',\n",
       "       u'3519-5000-month', u'37500-year', u'15-hour', u'45500-82000-year',\n",
       "       u'62500-94000-year', u'83421-year', u'50400-75600-year',\n",
       "       u'6250-8333-month', u'3916-month', u'80-hour', u'53600-80400-year',\n",
       "       u'50400-75600-year', u'48531-62254-year', u'8333-10000-month',\n",
       "       u'68535-106794-year', u'59200-88800-year', u'6250-10833-month',\n",
       "       u'4166-month', u'60000-year', u'80000-100000-year',\n",
       "       u'85816-131833-year', u'2333-month', u'85816-131833-year',\n",
       "       u'47484-50316-year', u'5000-month', u'59200-88800-year',\n",
       "       u'90000-120000-year', u'59200-88800-year', u'50612-64480-year',\n",
       "       u'5400-6500-month', u'51600-77400-year', u'2194-month',\n",
       "       u'67200-100800-year', u'80308-104400-year', u'4166-month',\n",
       "       u'5400-6500-month', u'49765-64697-year', u'9-hour',\n",
       "       u'49765-64697-year', u'125000-187000-year', u'66400-99600-year',\n",
       "       u'90000-year', u'72168-93821-year', u'25.77-38.65-hour',\n",
       "       u'4625-month', u'51600-77400-year', u'51600-77400-year',\n",
       "       u'53600-80400-year', u'115000-year', u'38000-57000-year',\n",
       "       u'5400-6500-month', u'5400-6500-month', u'25.77-38.65-hour',\n",
       "       u'6250-10833-month', u'46500-83000-year', u'50000-60000-year',\n",
       "       u'45000-75000-year', u'90000-120000-year', u'25-28-hour',\n",
       "       u'65000-80000-year', u'93000-year', u'115000-year', u'15-hour',\n",
       "       u'80000-100000-year', u'112021-145629-year', u'112021-year',\n",
       "       u'32844-52893-year', u'131767-161900-year', u'3732-month',\n",
       "       u'50000-60000-year', u'94796-123234-year', u'94796-123234-year',\n",
       "       u'94796-123234-year', u'131767-161900-year', u'136000-165000-year',\n",
       "       u'44646-73336-year', u'43892-95000-year', u'130692-174569-year',\n",
       "       u'25718-40000-year', u'131767-161900-year', u'113000-144000-year',\n",
       "       u'55000-65000-year', u'66510-86460-year', u'112021-145629-year',\n",
       "       u'220000-year', u'15.40-hour', u'130000-170000-year',\n",
       "       u'25718-40000-year', u'130692-174569-year', u'130692-174569-year',\n",
       "       u'130692-174569-year', u'130692-174569-year', u'130692-174569-year',\n",
       "       u'50000-60000-year', u'120000-140000-year', u'120000-155000-year',\n",
       "       u'13.56-hour', u'85000-120000-year', u'140000-220000-year',\n",
       "       u'100000-150000-year', u'82000-115000-year', u'65000-68000-year',\n",
       "       u'70000-90000-year', u'175000-year', u'120000-150000-year',\n",
       "       u'150000-190000-year', u'110000-140000-year', u'140-180-day',\n",
       "       u'100000-150000-year', u'100000-140000-year', u'75000-90000-year',\n",
       "       u'100000-150000-year', u'30-hour', u'40600-50800-year',\n",
       "       u'79488-103337-year', u'110000-140000-year', u'131384-161900-year',\n",
       "       u'100-hour', u'180000-200000-year', u'125000-year',\n",
       "       u'94520-161900-year', u'140000-170000-year', u'25-28-hour',\n",
       "       u'66317-122875-year', u'94520-145205-year', u'110000-130000-year',\n",
       "       u'125000-140000-year', u'101409-131833-year', u'66317-103337-year',\n",
       "       u'111000-141000-year', u'79000-100000-year', u'86000-110000-year',\n",
       "       u'92000-128800-year', u'140000-150000-year', u'120000-year',\n",
       "       u'170000-year', u'200000-250000-year', u'140000-150000-year',\n",
       "       u'170000-year', u'160000-year', u'2080-month',\n",
       "       u'120000-140000-year', u'128000-141000-year', u'100000-year',\n",
       "       u'54812-71259-year', u'127400-191100-year', u'150000-year',\n",
       "       u'140000-year', u'124228-168298-year', u'115000-146000-year',\n",
       "       u'84000-106000-year', u'155000-170000-year', u'160000-170000-year',\n",
       "       u'100000-120000-year', u'160000-year', u'140000-160000-year',\n",
       "       u'150000-180000-year', u'6667-7350-month', u'150000-180000-year',\n",
       "       u'58945-158270-year', u'78546-95498-year', u'150000-year',\n",
       "       u'20.74-24.75-hour', u'240000-year', u'640-day',\n",
       "       u'140000-165000-year', u'147000-year', u'180000-year',\n",
       "       u'180000-year', u'150000-180000-year', u'120000-140000-year',\n",
       "       u'180000-year', u'120000-140000-year', u'81700-year',\n",
       "       u'28545-37113-year', u'220000-year', u'126000-year',\n",
       "       u'150000-160000-year', u'220000-year', u'150000-160000-year',\n",
       "       u'126000-year', u'85000-108000-year', u'63000-80000-year',\n",
       "       u'83000-106000-year', u'65000-75000-year', u'75000-110000-year',\n",
       "       u'70000-80000-year', u'50000-80000-year', u'100000-135000-year',\n",
       "       u'100000-150000-year', u'90000-120000-year', u'100000-130000-year',\n",
       "       u'80000-100000-year', u'75000-90000-year', u'47100-year',\n",
       "       u'78525-102985-year', u'58416-72571-year', u'78525-102985-year',\n",
       "       u'29.91-46.36-hour', u'47.24-75.59-day', u'47.24-75.59-day',\n",
       "       u'78331-102730-year', u'150000-180000-year', u'48000-70000-year',\n",
       "       u'220000-year', u'26-hour', u'45.16-53.03-day', u'31-hour',\n",
       "       u'31.94-49.51-hour', u'29.91-46.36-hour', u'23.06-28.44-hour',\n",
       "       u'23.06-28.44-hour', u'150000-year', u'55000-year',\n",
       "       u'86020-112824-year', u'66.38-110.85-day', u'180000-year',\n",
       "       u'23.06-28.44-hour', u'29.84-99.26-hour', u'86.43-134.03-day',\n",
       "       u'7046-month', u'5988-6322-month', u'21.00-24.36-hour',\n",
       "       u'3897-6453-month', u'81319-125706-year', u'70000-100000-year',\n",
       "       u'3067-4088-month', u'3708-4986-month', u'4451-6184-month',\n",
       "       u'150000-275000-year', u'4585-6759-month', u'4585-6759-month',\n",
       "       u'4319-6371-month', u'3139-4195-month', u'130000-280000-year',\n",
       "       u'31.23-39.58-hour', u'31.23-39.58-hour', u'4299-5782-month',\n",
       "       u'3239-4631-month', u'2675-3717-month', u'160000-year',\n",
       "       u'2609-3449-month', u'77000-98000-year', u'108000-137000-year',\n",
       "       u'39.58-50.18-hour', u'39.58-50.18-hour', u'88525-112216-year',\n",
       "       u'88525-112216-year', u'2669-3530-month', u'90000-100000-year',\n",
       "       u'110-hour', u'70000-90000-year', u'130000-140000-year',\n",
       "       u'60000-70000-year', u'13-18-hour', u'160000-180000-year',\n",
       "       u'74896-97370-year', u'160000-year', u'87000-110000-year',\n",
       "       u'73000-92000-year', u'90000-115000-year', u'44346-year',\n",
       "       u'38.47-44.24-hour', u'38000-68000-year', u'45957-53758-year',\n",
       "       u'70286-88213-year', u'90023-150349-year', u'60000-year',\n",
       "       u'40000-45000-year', u'68238-86398-year', u'44308-58787-year',\n",
       "       u'60435-161497-year', u'70286-80829-year', u'60724-141319-year',\n",
       "       u'22.50-hour', u'55494-70566-year', u'78630-91200-year',\n",
       "       u'70286-88213-year', u'72000-84000-year', u'70286-81000-year',\n",
       "       u'125000-year', u'150000-180000-year', u'59708-72246-year',\n",
       "       u'68238-86398-year', u'70286-88213-year', u'75338-170000-year',\n",
       "       u'59708-72246-year', u'70286-88213-year', u'78630-95000-year',\n",
       "       u'59708-65678-year', u'70286-88213-year', u'70286-87295-year',\n",
       "       u'70286-83590-year', u'87768-113838-year', u'70286-88213-year',\n",
       "       u'78630-103332-year', u'120000-180000-year', u'59708-72246-year',\n",
       "       u'39000-41500-year', u'150000-year', u'59708-72246-year',\n",
       "       u'150000-175000-year', u'59708-72246-year', u'70286-87295-year',\n",
       "       u'49274-72160-year', u'90000-130000-year', u'45000-67000-year',\n",
       "       u'85211-110522-year', u'59708-72246-year', u'150000-year',\n",
       "       u'150000-175000-year', u'70286-88213-year', u'140000-150000-year',\n",
       "       u'59708-72246-year', u'59708-72246-year', u'130000-year',\n",
       "       u'190000-year', u'78630-90425-year', u'55000-year', u'50000-year',\n",
       "       u'52750-57750-year', u'886-week', u'61194-year', u'22-hour',\n",
       "       u'124228-168298-year', u'120000-150000-year', u'120000-150000-year',\n",
       "       u'5754-9606-month', u'94707-123234-year', u'27024-36234-year',\n",
       "       u'65564-89432-year', u'71000-100000-year', u'4328-6960-month',\n",
       "       u'4693-7769-month', u'49765-133967-year', u'120000-150000-year',\n",
       "       u'160000-178000-year', u'4693-7769-month', u'120000-150000-year',\n",
       "       u'160000-170000-year', u'49765-133967-year', u'160000-178000-year',\n",
       "       u'150000-200000-year'], dtype=object)"
      ]
     },
     "execution_count": 85,
     "metadata": {},
     "output_type": "execute_result"
    }
   ],
   "source": [
    "nsf.salary.values"
   ]
  },
  {
   "cell_type": "code",
   "execution_count": 86,
   "metadata": {},
   "outputs": [
    {
     "name": "stderr",
     "output_type": "stream",
     "text": [
      "C:\\Users\\Bhushan\\Anaconda2\\lib\\site-packages\\ipykernel_launcher.py:1: SettingWithCopyWarning: \n",
      "A value is trying to be set on a copy of a slice from a DataFrame.\n",
      "Try using .loc[row_indexer,col_indexer] = value instead\n",
      "\n",
      "See the caveats in the documentation: http://pandas.pydata.org/pandas-docs/stable/indexing.html#indexing-view-versus-copy\n",
      "  \"\"\"Entry point for launching an IPython kernel.\n"
     ]
    }
   ],
   "source": [
    "nsf['mean'] = nsf['salary'].str.extractall('(\\d+)')[0].unstack().astype(float).mean(1)"
   ]
  },
  {
   "cell_type": "code",
   "execution_count": 87,
   "metadata": {},
   "outputs": [
    {
     "data": {
      "text/html": [
       "<div>\n",
       "<style>\n",
       "    .dataframe thead tr:only-child th {\n",
       "        text-align: right;\n",
       "    }\n",
       "\n",
       "    .dataframe thead th {\n",
       "        text-align: left;\n",
       "    }\n",
       "\n",
       "    .dataframe tbody tr th {\n",
       "        vertical-align: top;\n",
       "    }\n",
       "</style>\n",
       "<table border=\"1\" class=\"dataframe\">\n",
       "  <thead>\n",
       "    <tr style=\"text-align: right;\">\n",
       "      <th></th>\n",
       "      <th>title</th>\n",
       "      <th>company</th>\n",
       "      <th>location</th>\n",
       "      <th>salary</th>\n",
       "      <th>summary</th>\n",
       "      <th>skill</th>\n",
       "      <th>mean</th>\n",
       "    </tr>\n",
       "  </thead>\n",
       "  <tbody>\n",
       "    <tr>\n",
       "      <th>28</th>\n",
       "      <td>App Sys Analyst/Prog -Intrmed</td>\n",
       "      <td>Northern Arizona University</td>\n",
       "      <td>Arizona</td>\n",
       "      <td>56500-61500-year</td>\n",
       "      <td>Employees offered a position will be eligible ...</td>\n",
       "      <td>Perl, C/C++, Java, Rust, Python</td>\n",
       "      <td>59000.0</td>\n",
       "    </tr>\n",
       "    <tr>\n",
       "      <th>31</th>\n",
       "      <td>Research Scientist (Part Time)</td>\n",
       "      <td>University of Arizona</td>\n",
       "      <td>Arizona</td>\n",
       "      <td>80000-96000-year</td>\n",
       "      <td>Scientists used to view the aging brain as an ...</td>\n",
       "      <td>TensorFlow, Machine Learning, C/C++, MATLAB, I...</td>\n",
       "      <td>88000.0</td>\n",
       "    </tr>\n",
       "    <tr>\n",
       "      <th>37</th>\n",
       "      <td>Management Research Analyst Senior</td>\n",
       "      <td>Arizona State University</td>\n",
       "      <td>Arizona</td>\n",
       "      <td>56880-72000-year</td>\n",
       "      <td>Develops, maintains, and utilizes extensive da...</td>\n",
       "      <td>SQL Server, BI, Tableau</td>\n",
       "      <td>64440.0</td>\n",
       "    </tr>\n",
       "    <tr>\n",
       "      <th>38</th>\n",
       "      <td>PUBLIC INFORMATION OFFICER</td>\n",
       "      <td>State of Arizona</td>\n",
       "      <td>Arizona</td>\n",
       "      <td>50000-75000-year</td>\n",
       "      <td>The ability to work with scientists, engineers...</td>\n",
       "      <td>NA</td>\n",
       "      <td>62500.0</td>\n",
       "    </tr>\n",
       "    <tr>\n",
       "      <th>39</th>\n",
       "      <td>Assistant Research Scientist, Basic Medical Sc...</td>\n",
       "      <td>University of Arizona</td>\n",
       "      <td>Arizona</td>\n",
       "      <td>34000-year</td>\n",
       "      <td>The University of Arizona Cancer Center in ass...</td>\n",
       "      <td>Oncology</td>\n",
       "      <td>34000.0</td>\n",
       "    </tr>\n",
       "  </tbody>\n",
       "</table>\n",
       "</div>"
      ],
      "text/plain": [
       "                                                title  \\\n",
       "28                      App Sys Analyst/Prog -Intrmed   \n",
       "31                     Research Scientist (Part Time)   \n",
       "37                 Management Research Analyst Senior   \n",
       "38                         PUBLIC INFORMATION OFFICER   \n",
       "39  Assistant Research Scientist, Basic Medical Sc...   \n",
       "\n",
       "                        company location            salary  \\\n",
       "28  Northern Arizona University  Arizona  56500-61500-year   \n",
       "31        University of Arizona  Arizona  80000-96000-year   \n",
       "37     Arizona State University  Arizona  56880-72000-year   \n",
       "38             State of Arizona  Arizona  50000-75000-year   \n",
       "39        University of Arizona  Arizona        34000-year   \n",
       "\n",
       "                                              summary  \\\n",
       "28  Employees offered a position will be eligible ...   \n",
       "31  Scientists used to view the aging brain as an ...   \n",
       "37  Develops, maintains, and utilizes extensive da...   \n",
       "38  The ability to work with scientists, engineers...   \n",
       "39  The University of Arizona Cancer Center in ass...   \n",
       "\n",
       "                                                skill     mean  \n",
       "28                    Perl, C/C++, Java, Rust, Python  59000.0  \n",
       "31  TensorFlow, Machine Learning, C/C++, MATLAB, I...  88000.0  \n",
       "37                            SQL Server, BI, Tableau  64440.0  \n",
       "38                                                 NA  62500.0  \n",
       "39                                           Oncology  34000.0  "
      ]
     },
     "execution_count": 87,
     "metadata": {},
     "output_type": "execute_result"
    }
   ],
   "source": [
    "nsf.head()"
   ]
  },
  {
   "cell_type": "code",
   "execution_count": 88,
   "metadata": {},
   "outputs": [
    {
     "name": "stderr",
     "output_type": "stream",
     "text": [
      "C:\\Users\\Bhushan\\Anaconda2\\lib\\site-packages\\ipykernel_launcher.py:5: SettingWithCopyWarning: \n",
      "A value is trying to be set on a copy of a slice from a DataFrame.\n",
      "Try using .loc[row_indexer,col_indexer] = value instead\n",
      "\n",
      "See the caveats in the documentation: http://pandas.pydata.org/pandas-docs/stable/indexing.html#indexing-view-versus-copy\n",
      "  \"\"\"\n"
     ]
    }
   ],
   "source": [
    "m1 = nsf['salary'].str.contains('month')\n",
    "m2 = nsf['salary'].str.contains('day')\n",
    "m3 = nsf['salary'].str.contains('hour')\n",
    "nsf['annsal'] =np.select([m1, m2, m3], \n",
    "                          [nsf['mean'] * 12,nsf['mean'] * 260,nsf['mean']* 8* 5* 52], default=nsf['mean'])"
   ]
  },
  {
   "cell_type": "code",
   "execution_count": 89,
   "metadata": {},
   "outputs": [
    {
     "data": {
      "text/html": [
       "<div>\n",
       "<style>\n",
       "    .dataframe thead tr:only-child th {\n",
       "        text-align: right;\n",
       "    }\n",
       "\n",
       "    .dataframe thead th {\n",
       "        text-align: left;\n",
       "    }\n",
       "\n",
       "    .dataframe tbody tr th {\n",
       "        vertical-align: top;\n",
       "    }\n",
       "</style>\n",
       "<table border=\"1\" class=\"dataframe\">\n",
       "  <thead>\n",
       "    <tr style=\"text-align: right;\">\n",
       "      <th></th>\n",
       "      <th>title</th>\n",
       "      <th>company</th>\n",
       "      <th>location</th>\n",
       "      <th>salary</th>\n",
       "      <th>summary</th>\n",
       "      <th>skill</th>\n",
       "      <th>mean</th>\n",
       "      <th>annsal</th>\n",
       "    </tr>\n",
       "  </thead>\n",
       "  <tbody>\n",
       "    <tr>\n",
       "      <th>28</th>\n",
       "      <td>App Sys Analyst/Prog -Intrmed</td>\n",
       "      <td>Northern Arizona University</td>\n",
       "      <td>Arizona</td>\n",
       "      <td>56500-61500-year</td>\n",
       "      <td>Employees offered a position will be eligible ...</td>\n",
       "      <td>Perl, C/C++, Java, Rust, Python</td>\n",
       "      <td>59000.0</td>\n",
       "      <td>59000.0</td>\n",
       "    </tr>\n",
       "    <tr>\n",
       "      <th>31</th>\n",
       "      <td>Research Scientist (Part Time)</td>\n",
       "      <td>University of Arizona</td>\n",
       "      <td>Arizona</td>\n",
       "      <td>80000-96000-year</td>\n",
       "      <td>Scientists used to view the aging brain as an ...</td>\n",
       "      <td>TensorFlow, Machine Learning, C/C++, MATLAB, I...</td>\n",
       "      <td>88000.0</td>\n",
       "      <td>88000.0</td>\n",
       "    </tr>\n",
       "    <tr>\n",
       "      <th>37</th>\n",
       "      <td>Management Research Analyst Senior</td>\n",
       "      <td>Arizona State University</td>\n",
       "      <td>Arizona</td>\n",
       "      <td>56880-72000-year</td>\n",
       "      <td>Develops, maintains, and utilizes extensive da...</td>\n",
       "      <td>SQL Server, BI, Tableau</td>\n",
       "      <td>64440.0</td>\n",
       "      <td>64440.0</td>\n",
       "    </tr>\n",
       "    <tr>\n",
       "      <th>38</th>\n",
       "      <td>PUBLIC INFORMATION OFFICER</td>\n",
       "      <td>State of Arizona</td>\n",
       "      <td>Arizona</td>\n",
       "      <td>50000-75000-year</td>\n",
       "      <td>The ability to work with scientists, engineers...</td>\n",
       "      <td>NA</td>\n",
       "      <td>62500.0</td>\n",
       "      <td>62500.0</td>\n",
       "    </tr>\n",
       "    <tr>\n",
       "      <th>39</th>\n",
       "      <td>Assistant Research Scientist, Basic Medical Sc...</td>\n",
       "      <td>University of Arizona</td>\n",
       "      <td>Arizona</td>\n",
       "      <td>34000-year</td>\n",
       "      <td>The University of Arizona Cancer Center in ass...</td>\n",
       "      <td>Oncology</td>\n",
       "      <td>34000.0</td>\n",
       "      <td>34000.0</td>\n",
       "    </tr>\n",
       "  </tbody>\n",
       "</table>\n",
       "</div>"
      ],
      "text/plain": [
       "                                                title  \\\n",
       "28                      App Sys Analyst/Prog -Intrmed   \n",
       "31                     Research Scientist (Part Time)   \n",
       "37                 Management Research Analyst Senior   \n",
       "38                         PUBLIC INFORMATION OFFICER   \n",
       "39  Assistant Research Scientist, Basic Medical Sc...   \n",
       "\n",
       "                        company location            salary  \\\n",
       "28  Northern Arizona University  Arizona  56500-61500-year   \n",
       "31        University of Arizona  Arizona  80000-96000-year   \n",
       "37     Arizona State University  Arizona  56880-72000-year   \n",
       "38             State of Arizona  Arizona  50000-75000-year   \n",
       "39        University of Arizona  Arizona        34000-year   \n",
       "\n",
       "                                              summary  \\\n",
       "28  Employees offered a position will be eligible ...   \n",
       "31  Scientists used to view the aging brain as an ...   \n",
       "37  Develops, maintains, and utilizes extensive da...   \n",
       "38  The ability to work with scientists, engineers...   \n",
       "39  The University of Arizona Cancer Center in ass...   \n",
       "\n",
       "                                                skill     mean   annsal  \n",
       "28                    Perl, C/C++, Java, Rust, Python  59000.0  59000.0  \n",
       "31  TensorFlow, Machine Learning, C/C++, MATLAB, I...  88000.0  88000.0  \n",
       "37                            SQL Server, BI, Tableau  64440.0  64440.0  \n",
       "38                                                 NA  62500.0  62500.0  \n",
       "39                                           Oncology  34000.0  34000.0  "
      ]
     },
     "execution_count": 89,
     "metadata": {},
     "output_type": "execute_result"
    }
   ],
   "source": [
    "nsf.head()"
   ]
  },
  {
   "cell_type": "code",
   "execution_count": null,
   "metadata": {},
   "outputs": [],
   "source": []
  },
  {
   "cell_type": "code",
   "execution_count": 91,
   "metadata": {},
   "outputs": [
    {
     "data": {
      "text/plain": [
       "count       595.000000\n",
       "mean      90298.774790\n",
       "std       43143.029915\n",
       "min         886.000000\n",
       "25%       57437.500000\n",
       "50%       82500.000000\n",
       "75%      120000.000000\n",
       "max      240000.000000\n",
       "Name: annsal, dtype: float64"
      ]
     },
     "execution_count": 91,
     "metadata": {},
     "output_type": "execute_result"
    },
    {
     "data": {
      "image/png": "[encoded data removed]",
      "text/plain": [
       "<matplotlib.figure.Figure at 0x1c0c7a20>"
      ]
     },
     "metadata": {},
     "output_type": "display_data"
    }
   ],
   "source": [
    "nsf['annsal'].plot.box()\n",
    "nsf['annsal'].describe()"
   ]
  },
  {
   "cell_type": "code",
   "execution_count": 177,
   "metadata": {},
   "outputs": [
    {
     "data": {
      "text/plain": [
       "California        86\n",
       "Texas             67\n",
       "New York          64\n",
       "Maryland          52\n",
       "Virginia          49\n",
       "Florida           45\n",
       "Arizona           43\n",
       "Illinois          43\n",
       "Massachusetts     36\n",
       "Washington        34\n",
       "North Carolina    28\n",
       "Connecticut       20\n",
       "Colorado          15\n",
       "Pennsylvania      13\n",
       "Name: location, dtype: int64"
      ]
     },
     "execution_count": 177,
     "metadata": {},
     "output_type": "execute_result"
    }
   ],
   "source": [
    "nsf.location.value_counts()"
   ]
  },
  {
   "cell_type": "code",
   "execution_count": 112,
   "metadata": {},
   "outputs": [
    {
     "data": {
      "image/png": "[encoded data removed]",
      "text/plain": [
       "<matplotlib.figure.Figure at 0x23b511d0>"
      ]
     },
     "metadata": {},
     "output_type": "display_data"
    }
   ],
   "source": [
    "bp = nsf.boxplot(column='annsal', by='location',grid = False, vert = False, figsize = [15,10])\n"
   ]
  },
  {
   "cell_type": "code",
   "execution_count": 169,
   "metadata": {},
   "outputs": [
    {
     "name": "stderr",
     "output_type": "stream",
     "text": [
      "C:\\Users\\Bhushan\\Anaconda2\\lib\\site-packages\\ipykernel_launcher.py:1: SettingWithCopyWarning: \n",
      "A value is trying to be set on a copy of a slice from a DataFrame.\n",
      "Try using .loc[row_indexer,col_indexer] = value instead\n",
      "\n",
      "See the caveats in the documentation: http://pandas.pydata.org/pandas-docs/stable/indexing.html#indexing-view-versus-copy\n",
      "  \"\"\"Entry point for launching an IPython kernel.\n"
     ]
    }
   ],
   "source": [
    "nsf['abvavg'] = [1 if i > nsf.annsal.median() else 0 for i in nsf.annsal]"
   ]
  },
  {
   "cell_type": "code",
   "execution_count": 170,
   "metadata": {},
   "outputs": [
    {
     "name": "stderr",
     "output_type": "stream",
     "text": [
      "C:\\Users\\Bhushan\\Anaconda2\\lib\\site-packages\\ipykernel_launcher.py:1: SettingWithCopyWarning: \n",
      "A value is trying to be set on a copy of a slice from a DataFrame.\n",
      "Try using .loc[row_indexer,col_indexer] = value instead\n",
      "\n",
      "See the caveats in the documentation: http://pandas.pydata.org/pandas-docs/stable/indexing.html#indexing-view-versus-copy\n",
      "  \"\"\"Entry point for launching an IPython kernel.\n"
     ]
    }
   ],
   "source": [
    "nsf['base'] = [0 if i > 0 else 1 for i in nsf.annsal]"
   ]
  },
  {
   "cell_type": "code",
   "execution_count": 171,
   "metadata": {},
   "outputs": [
    {
     "data": {
      "text/html": [
       "<div>\n",
       "<style>\n",
       "    .dataframe thead tr:only-child th {\n",
       "        text-align: right;\n",
       "    }\n",
       "\n",
       "    .dataframe thead th {\n",
       "        text-align: left;\n",
       "    }\n",
       "\n",
       "    .dataframe tbody tr th {\n",
       "        vertical-align: top;\n",
       "    }\n",
       "</style>\n",
       "<table border=\"1\" class=\"dataframe\">\n",
       "  <thead>\n",
       "    <tr style=\"text-align: right;\">\n",
       "      <th></th>\n",
       "      <th>title</th>\n",
       "      <th>company</th>\n",
       "      <th>location</th>\n",
       "      <th>salary</th>\n",
       "      <th>summary</th>\n",
       "      <th>skill</th>\n",
       "      <th>mean</th>\n",
       "      <th>annsal</th>\n",
       "      <th>abvavg</th>\n",
       "      <th>base</th>\n",
       "    </tr>\n",
       "  </thead>\n",
       "  <tbody>\n",
       "    <tr>\n",
       "      <th>28</th>\n",
       "      <td>App Sys Analyst/Prog -Intrmed</td>\n",
       "      <td>Northern Arizona University</td>\n",
       "      <td>Arizona</td>\n",
       "      <td>56500-61500-year</td>\n",
       "      <td>Employees offered a position will be eligible ...</td>\n",
       "      <td>Perl, C/C++, Java, Rust, Python</td>\n",
       "      <td>59000.0</td>\n",
       "      <td>59000.0</td>\n",
       "      <td>0</td>\n",
       "      <td>0</td>\n",
       "    </tr>\n",
       "    <tr>\n",
       "      <th>31</th>\n",
       "      <td>Research Scientist (Part Time)</td>\n",
       "      <td>University of Arizona</td>\n",
       "      <td>Arizona</td>\n",
       "      <td>80000-96000-year</td>\n",
       "      <td>Scientists used to view the aging brain as an ...</td>\n",
       "      <td>TensorFlow, Machine Learning, C/C++, MATLAB, I...</td>\n",
       "      <td>88000.0</td>\n",
       "      <td>88000.0</td>\n",
       "      <td>1</td>\n",
       "      <td>0</td>\n",
       "    </tr>\n",
       "    <tr>\n",
       "      <th>37</th>\n",
       "      <td>Management Research Analyst Senior</td>\n",
       "      <td>Arizona State University</td>\n",
       "      <td>Arizona</td>\n",
       "      <td>56880-72000-year</td>\n",
       "      <td>Develops, maintains, and utilizes extensive da...</td>\n",
       "      <td>SQL Server, BI, Tableau</td>\n",
       "      <td>64440.0</td>\n",
       "      <td>64440.0</td>\n",
       "      <td>0</td>\n",
       "      <td>0</td>\n",
       "    </tr>\n",
       "    <tr>\n",
       "      <th>38</th>\n",
       "      <td>PUBLIC INFORMATION OFFICER</td>\n",
       "      <td>State of Arizona</td>\n",
       "      <td>Arizona</td>\n",
       "      <td>50000-75000-year</td>\n",
       "      <td>The ability to work with scientists, engineers...</td>\n",
       "      <td>NA</td>\n",
       "      <td>62500.0</td>\n",
       "      <td>62500.0</td>\n",
       "      <td>0</td>\n",
       "      <td>0</td>\n",
       "    </tr>\n",
       "    <tr>\n",
       "      <th>39</th>\n",
       "      <td>Assistant Research Scientist, Basic Medical Sc...</td>\n",
       "      <td>University of Arizona</td>\n",
       "      <td>Arizona</td>\n",
       "      <td>34000-year</td>\n",
       "      <td>The University of Arizona Cancer Center in ass...</td>\n",
       "      <td>Oncology</td>\n",
       "      <td>34000.0</td>\n",
       "      <td>34000.0</td>\n",
       "      <td>0</td>\n",
       "      <td>0</td>\n",
       "    </tr>\n",
       "  </tbody>\n",
       "</table>\n",
       "</div>"
      ],
      "text/plain": [
       "                                                title  \\\n",
       "28                      App Sys Analyst/Prog -Intrmed   \n",
       "31                     Research Scientist (Part Time)   \n",
       "37                 Management Research Analyst Senior   \n",
       "38                         PUBLIC INFORMATION OFFICER   \n",
       "39  Assistant Research Scientist, Basic Medical Sc...   \n",
       "\n",
       "                        company location            salary  \\\n",
       "28  Northern Arizona University  Arizona  56500-61500-year   \n",
       "31        University of Arizona  Arizona  80000-96000-year   \n",
       "37     Arizona State University  Arizona  56880-72000-year   \n",
       "38             State of Arizona  Arizona  50000-75000-year   \n",
       "39        University of Arizona  Arizona        34000-year   \n",
       "\n",
       "                                              summary  \\\n",
       "28  Employees offered a position will be eligible ...   \n",
       "31  Scientists used to view the aging brain as an ...   \n",
       "37  Develops, maintains, and utilizes extensive da...   \n",
       "38  The ability to work with scientists, engineers...   \n",
       "39  The University of Arizona Cancer Center in ass...   \n",
       "\n",
       "                                                skill     mean   annsal  \\\n",
       "28                    Perl, C/C++, Java, Rust, Python  59000.0  59000.0   \n",
       "31  TensorFlow, Machine Learning, C/C++, MATLAB, I...  88000.0  88000.0   \n",
       "37                            SQL Server, BI, Tableau  64440.0  64440.0   \n",
       "38                                                 NA  62500.0  62500.0   \n",
       "39                                           Oncology  34000.0  34000.0   \n",
       "\n",
       "    abvavg  base  \n",
       "28       0     0  \n",
       "31       1     0  \n",
       "37       0     0  \n",
       "38       0     0  \n",
       "39       0     0  "
      ]
     },
     "execution_count": 171,
     "metadata": {},
     "output_type": "execute_result"
    }
   ],
   "source": [
    "nsf.head()"
   ]
  },
  {
   "cell_type": "code",
   "execution_count": 172,
   "metadata": {},
   "outputs": [],
   "source": [
    "from sklearn.model_selection import cross_val_score, StratifiedKFold, train_test_split\n",
    "from sklearn.tree import DecisionTreeClassifier\n",
    "from sklearn.ensemble import RandomForestClassifier, ExtraTreesClassifier, BaggingClassifier, AdaBoostClassifier, GradientBoostingClassifier\n",
    "from sklearn.metrics import accuracy_score"
   ]
  },
  {
   "cell_type": "code",
   "execution_count": 173,
   "metadata": {
    "collapsed": true
   },
   "outputs": [],
   "source": [
    "citydum = pd.get_dummies(nsf.location)\n",
    "\n",
    "x_city = citydum\n",
    "y_city = nsf.abvavg"
   ]
  },
  {
   "cell_type": "code",
   "execution_count": null,
   "metadata": {},
   "outputs": [],
   "source": []
  },
  {
   "cell_type": "code",
   "execution_count": 174,
   "metadata": {},
   "outputs": [],
   "source": [
    "x_train, x_test, y_train, y_test = train_test_split(x_city, y_city, test_size=0.3, random_state=42)"
   ]
  },
  {
   "cell_type": "code",
   "execution_count": 175,
   "metadata": {},
   "outputs": [
    {
     "name": "stdout",
     "output_type": "stream",
     "text": [
      "Accuracy Score: 0.559\n",
      "Cross Validation Score:\t0.392 ± 0.226\n"
     ]
    }
   ],
   "source": [
    "rfc = RandomForestClassifier(n_estimators=400,n_jobs=-1,oob_score= True, random_state=42)\n",
    "rfc.fit(x_train, y_train)\n",
    "\n",
    "rfc_pred = rfc.predict(x_test)\n",
    "acc = accuracy_score(y_test, rfc_pred)\n",
    "print \"Accuracy Score:\", acc.round(3)\n",
    "\n",
    "s = cross_val_score(rfc, x_city, y_city, cv=10, n_jobs=-1)\n",
    "print \"Cross Validation Score:\\t{:0.3} ± {:0.3}\".format(s.mean().round(3), s.std().round(3))"
   ]
  },
  {
   "cell_type": "code",
   "execution_count": 179,
   "metadata": {},
   "outputs": [
    {
     "data": {
      "text/html": [
       "<div>\n",
       "<style>\n",
       "    .dataframe thead tr:only-child th {\n",
       "        text-align: right;\n",
       "    }\n",
       "\n",
       "    .dataframe thead th {\n",
       "        text-align: left;\n",
       "    }\n",
       "\n",
       "    .dataframe tbody tr th {\n",
       "        vertical-align: top;\n",
       "    }\n",
       "</style>\n",
       "<table border=\"1\" class=\"dataframe\">\n",
       "  <thead>\n",
       "    <tr style=\"text-align: right;\">\n",
       "      <th></th>\n",
       "      <th>feature</th>\n",
       "      <th>importance</th>\n",
       "      <th>median_salary</th>\n",
       "      <th>over_or_under</th>\n",
       "    </tr>\n",
       "  </thead>\n",
       "  <tbody>\n",
       "    <tr>\n",
       "      <th>7</th>\n",
       "      <td>Massachusetts</td>\n",
       "      <td>0.218893</td>\n",
       "      <td>125500.00</td>\n",
       "      <td>1</td>\n",
       "    </tr>\n",
       "    <tr>\n",
       "      <th>1</th>\n",
       "      <td>California</td>\n",
       "      <td>0.206176</td>\n",
       "      <td>106823.75</td>\n",
       "      <td>1</td>\n",
       "    </tr>\n",
       "    <tr>\n",
       "      <th>11</th>\n",
       "      <td>Texas</td>\n",
       "      <td>0.136558</td>\n",
       "      <td>71400.00</td>\n",
       "      <td>0</td>\n",
       "    </tr>\n",
       "    <tr>\n",
       "      <th>0</th>\n",
       "      <td>Arizona</td>\n",
       "      <td>0.119705</td>\n",
       "      <td>56160.00</td>\n",
       "      <td>0</td>\n",
       "    </tr>\n",
       "    <tr>\n",
       "      <th>2</th>\n",
       "      <td>Colorado</td>\n",
       "      <td>0.064512</td>\n",
       "      <td>59500.00</td>\n",
       "      <td>0</td>\n",
       "    </tr>\n",
       "    <tr>\n",
       "      <th>8</th>\n",
       "      <td>New York</td>\n",
       "      <td>0.045962</td>\n",
       "      <td>78395.25</td>\n",
       "      <td>0</td>\n",
       "    </tr>\n",
       "    <tr>\n",
       "      <th>12</th>\n",
       "      <td>Virginia</td>\n",
       "      <td>0.041331</td>\n",
       "      <td>125000.00</td>\n",
       "      <td>1</td>\n",
       "    </tr>\n",
       "    <tr>\n",
       "      <th>4</th>\n",
       "      <td>Florida</td>\n",
       "      <td>0.032617</td>\n",
       "      <td>59966.00</td>\n",
       "      <td>0</td>\n",
       "    </tr>\n",
       "    <tr>\n",
       "      <th>3</th>\n",
       "      <td>Connecticut</td>\n",
       "      <td>0.029282</td>\n",
       "      <td>82500.00</td>\n",
       "      <td>0</td>\n",
       "    </tr>\n",
       "    <tr>\n",
       "      <th>9</th>\n",
       "      <td>North Carolina</td>\n",
       "      <td>0.028381</td>\n",
       "      <td>107500.00</td>\n",
       "      <td>1</td>\n",
       "    </tr>\n",
       "    <tr>\n",
       "      <th>13</th>\n",
       "      <td>Washington</td>\n",
       "      <td>0.023429</td>\n",
       "      <td>81250.00</td>\n",
       "      <td>0</td>\n",
       "    </tr>\n",
       "    <tr>\n",
       "      <th>6</th>\n",
       "      <td>Maryland</td>\n",
       "      <td>0.021474</td>\n",
       "      <td>79627.50</td>\n",
       "      <td>0</td>\n",
       "    </tr>\n",
       "    <tr>\n",
       "      <th>5</th>\n",
       "      <td>Illinois</td>\n",
       "      <td>0.017756</td>\n",
       "      <td>90000.00</td>\n",
       "      <td>1</td>\n",
       "    </tr>\n",
       "    <tr>\n",
       "      <th>10</th>\n",
       "      <td>Pennsylvania</td>\n",
       "      <td>0.013924</td>\n",
       "      <td>78500.00</td>\n",
       "      <td>0</td>\n",
       "    </tr>\n",
       "  </tbody>\n",
       "</table>\n",
       "</div>"
      ],
      "text/plain": [
       "           feature  importance  median_salary  over_or_under\n",
       "7    Massachusetts    0.218893      125500.00              1\n",
       "1       California    0.206176      106823.75              1\n",
       "11           Texas    0.136558       71400.00              0\n",
       "0          Arizona    0.119705       56160.00              0\n",
       "2         Colorado    0.064512       59500.00              0\n",
       "8         New York    0.045962       78395.25              0\n",
       "12        Virginia    0.041331      125000.00              1\n",
       "4          Florida    0.032617       59966.00              0\n",
       "3      Connecticut    0.029282       82500.00              0\n",
       "9   North Carolina    0.028381      107500.00              1\n",
       "13      Washington    0.023429       81250.00              0\n",
       "6         Maryland    0.021474       79627.50              0\n",
       "5         Illinois    0.017756       90000.00              1\n",
       "10    Pennsylvania    0.013924       78500.00              0"
      ]
     },
     "execution_count": 179,
     "metadata": {},
     "output_type": "execute_result"
    }
   ],
   "source": [
    "feature_importances = pd.DataFrame(rfc.feature_importances_,\n",
    "                                   index = x_city.columns).reset_index()\n",
    "feature_importances.columns = ['feature', 'importance']\n",
    "\n",
    "feature_medians = []\n",
    "for i in x_city.columns:\n",
    "    feature_medians.append(np.median(nsf[nsf.location == i].annsal))\n",
    "\n",
    "feature_importances['median_salary'] = feature_medians\n",
    "feature_importances['over_or_under'] = [1 if i > nsf.annsal.median() else 0 for i in feature_importances.median_salary]\n",
    "\n",
    "feature_importances.sort_values('importance', ascending=False).head(15)"
   ]
  },
  {
   "cell_type": "code",
   "execution_count": 181,
   "metadata": {},
   "outputs": [
    {
     "name": "stderr",
     "output_type": "stream",
     "text": [
      "C:\\Users\\Bhushan\\Anaconda2\\lib\\site-packages\\pandas\\core\\indexing.py:517: SettingWithCopyWarning: \n",
      "A value is trying to be set on a copy of a slice from a DataFrame.\n",
      "Try using .loc[row_indexer,col_indexer] = value instead\n",
      "\n",
      "See the caveats in the documentation: http://pandas.pydata.org/pandas-docs/stable/indexing.html#indexing-view-versus-copy\n",
      "  self.obj[item] = s\n"
     ]
    }
   ],
   "source": [
    "nsf.loc[nsf['skill']=='NA','skill'] = np.nan"
   ]
  },
  {
   "cell_type": "code",
   "execution_count": 182,
   "metadata": {},
   "outputs": [
    {
     "data": {
      "text/html": [
       "<div>\n",
       "<style>\n",
       "    .dataframe thead tr:only-child th {\n",
       "        text-align: right;\n",
       "    }\n",
       "\n",
       "    .dataframe thead th {\n",
       "        text-align: left;\n",
       "    }\n",
       "\n",
       "    .dataframe tbody tr th {\n",
       "        vertical-align: top;\n",
       "    }\n",
       "</style>\n",
       "<table border=\"1\" class=\"dataframe\">\n",
       "  <thead>\n",
       "    <tr style=\"text-align: right;\">\n",
       "      <th></th>\n",
       "      <th>title</th>\n",
       "      <th>company</th>\n",
       "      <th>location</th>\n",
       "      <th>salary</th>\n",
       "      <th>summary</th>\n",
       "      <th>skill</th>\n",
       "      <th>mean</th>\n",
       "      <th>annsal</th>\n",
       "      <th>abvavg</th>\n",
       "      <th>base</th>\n",
       "    </tr>\n",
       "  </thead>\n",
       "  <tbody>\n",
       "    <tr>\n",
       "      <th>28</th>\n",
       "      <td>App Sys Analyst/Prog -Intrmed</td>\n",
       "      <td>Northern Arizona University</td>\n",
       "      <td>Arizona</td>\n",
       "      <td>56500-61500-year</td>\n",
       "      <td>Employees offered a position will be eligible ...</td>\n",
       "      <td>Perl, C/C++, Java, Rust, Python</td>\n",
       "      <td>59000.0</td>\n",
       "      <td>59000.0</td>\n",
       "      <td>0</td>\n",
       "      <td>0</td>\n",
       "    </tr>\n",
       "    <tr>\n",
       "      <th>31</th>\n",
       "      <td>Research Scientist (Part Time)</td>\n",
       "      <td>University of Arizona</td>\n",
       "      <td>Arizona</td>\n",
       "      <td>80000-96000-year</td>\n",
       "      <td>Scientists used to view the aging brain as an ...</td>\n",
       "      <td>TensorFlow, Machine Learning, C/C++, MATLAB, I...</td>\n",
       "      <td>88000.0</td>\n",
       "      <td>88000.0</td>\n",
       "      <td>1</td>\n",
       "      <td>0</td>\n",
       "    </tr>\n",
       "    <tr>\n",
       "      <th>37</th>\n",
       "      <td>Management Research Analyst Senior</td>\n",
       "      <td>Arizona State University</td>\n",
       "      <td>Arizona</td>\n",
       "      <td>56880-72000-year</td>\n",
       "      <td>Develops, maintains, and utilizes extensive da...</td>\n",
       "      <td>SQL Server, BI, Tableau</td>\n",
       "      <td>64440.0</td>\n",
       "      <td>64440.0</td>\n",
       "      <td>0</td>\n",
       "      <td>0</td>\n",
       "    </tr>\n",
       "    <tr>\n",
       "      <th>38</th>\n",
       "      <td>PUBLIC INFORMATION OFFICER</td>\n",
       "      <td>State of Arizona</td>\n",
       "      <td>Arizona</td>\n",
       "      <td>50000-75000-year</td>\n",
       "      <td>The ability to work with scientists, engineers...</td>\n",
       "      <td>NaN</td>\n",
       "      <td>62500.0</td>\n",
       "      <td>62500.0</td>\n",
       "      <td>0</td>\n",
       "      <td>0</td>\n",
       "    </tr>\n",
       "    <tr>\n",
       "      <th>39</th>\n",
       "      <td>Assistant Research Scientist, Basic Medical Sc...</td>\n",
       "      <td>University of Arizona</td>\n",
       "      <td>Arizona</td>\n",
       "      <td>34000-year</td>\n",
       "      <td>The University of Arizona Cancer Center in ass...</td>\n",
       "      <td>Oncology</td>\n",
       "      <td>34000.0</td>\n",
       "      <td>34000.0</td>\n",
       "      <td>0</td>\n",
       "      <td>0</td>\n",
       "    </tr>\n",
       "  </tbody>\n",
       "</table>\n",
       "</div>"
      ],
      "text/plain": [
       "                                                title  \\\n",
       "28                      App Sys Analyst/Prog -Intrmed   \n",
       "31                     Research Scientist (Part Time)   \n",
       "37                 Management Research Analyst Senior   \n",
       "38                         PUBLIC INFORMATION OFFICER   \n",
       "39  Assistant Research Scientist, Basic Medical Sc...   \n",
       "\n",
       "                        company location            salary  \\\n",
       "28  Northern Arizona University  Arizona  56500-61500-year   \n",
       "31        University of Arizona  Arizona  80000-96000-year   \n",
       "37     Arizona State University  Arizona  56880-72000-year   \n",
       "38             State of Arizona  Arizona  50000-75000-year   \n",
       "39        University of Arizona  Arizona        34000-year   \n",
       "\n",
       "                                              summary  \\\n",
       "28  Employees offered a position will be eligible ...   \n",
       "31  Scientists used to view the aging brain as an ...   \n",
       "37  Develops, maintains, and utilizes extensive da...   \n",
       "38  The ability to work with scientists, engineers...   \n",
       "39  The University of Arizona Cancer Center in ass...   \n",
       "\n",
       "                                                skill     mean   annsal  \\\n",
       "28                    Perl, C/C++, Java, Rust, Python  59000.0  59000.0   \n",
       "31  TensorFlow, Machine Learning, C/C++, MATLAB, I...  88000.0  88000.0   \n",
       "37                            SQL Server, BI, Tableau  64440.0  64440.0   \n",
       "38                                                NaN  62500.0  62500.0   \n",
       "39                                           Oncology  34000.0  34000.0   \n",
       "\n",
       "    abvavg  base  \n",
       "28       0     0  \n",
       "31       1     0  \n",
       "37       0     0  \n",
       "38       0     0  \n",
       "39       0     0  "
      ]
     },
     "execution_count": 182,
     "metadata": {},
     "output_type": "execute_result"
    }
   ],
   "source": [
    "nsf.head()"
   ]
  },
  {
   "cell_type": "code",
   "execution_count": 187,
   "metadata": {
    "collapsed": true
   },
   "outputs": [],
   "source": [
    "from sklearn.feature_extraction.text import CountVectorizer, HashingVectorizer, TfidfVectorizer"
   ]
  },
  {
   "cell_type": "code",
   "execution_count": 188,
   "metadata": {
    "collapsed": true
   },
   "outputs": [],
   "source": [
    "skillset = nsf[nsf.skill.notnull()]\n",
    "\n",
    "x_sk = skillset.skill\n",
    "y_sk = skillset.abvavg"
   ]
  },
  {
   "cell_type": "code",
   "execution_count": 189,
   "metadata": {},
   "outputs": [
    {
     "data": {
      "text/plain": [
       "CountVectorizer(analyzer=u'word', binary=False, decode_error=u'strict',\n",
       "        dtype=<type 'numpy.int64'>, encoding=u'utf-8', input=u'content',\n",
       "        lowercase=True, max_df=1.0, max_features=None, min_df=1,\n",
       "        ngram_range=(1, 1), preprocessor=None, stop_words='english',\n",
       "        strip_accents=None, token_pattern=u'(?u)\\\\b\\\\w\\\\w+\\\\b',\n",
       "        tokenizer=None, vocabulary=None)"
      ]
     },
     "execution_count": 189,
     "metadata": {},
     "output_type": "execute_result"
    }
   ],
   "source": [
    "cv = CountVectorizer(stop_words=\"english\")\n",
    "cv.fit(x_sk)"
   ]
  },
  {
   "cell_type": "code",
   "execution_count": null,
   "metadata": {
    "collapsed": true
   },
   "outputs": [],
   "source": []
  },
  {
   "cell_type": "code",
   "execution_count": null,
   "metadata": {
    "collapsed": true
   },
   "outputs": [],
   "source": []
  },
  {
   "cell_type": "code",
   "execution_count": null,
   "metadata": {
    "collapsed": true
   },
   "outputs": [],
   "source": []
  },
  {
   "cell_type": "code",
   "execution_count": null,
   "metadata": {
    "collapsed": true
   },
   "outputs": [],
   "source": []
  },
  {
   "cell_type": "code",
   "execution_count": null,
   "metadata": {
    "collapsed": true
   },
   "outputs": [],
   "source": []
  },
  {
   "cell_type": "code",
   "execution_count": null,
   "metadata": {
    "collapsed": true
   },
   "outputs": [],
   "source": []
  },
  {
   "cell_type": "code",
   "execution_count": null,
   "metadata": {
    "collapsed": true
   },
   "outputs": [],
   "source": []
  },
  {
   "cell_type": "code",
   "execution_count": null,
   "metadata": {
    "collapsed": true
   },
   "outputs": [],
   "source": []
  },
  {
   "cell_type": "code",
   "execution_count": null,
   "metadata": {
    "collapsed": true
   },
   "outputs": [],
   "source": []
  },
  {
   "cell_type": "code",
   "execution_count": null,
   "metadata": {
    "collapsed": true
   },
   "outputs": [],
   "source": []
  },
  {
   "cell_type": "code",
   "execution_count": null,
   "metadata": {
    "collapsed": true
   },
   "outputs": [],
   "source": []
  },
  {
   "cell_type": "code",
   "execution_count": null,
   "metadata": {
    "collapsed": true
   },
   "outputs": [],
   "source": []
  }
 ],
 "metadata": {
  "kernelspec": {
   "display_name": "Python 2",
   "language": "python",
   "name": "python2"
  },
  "language_info": {
   "codemirror_mode": {
    "name": "ipython",
    "version": 2
   },
   "file_extension": ".py",
   "mimetype": "text/x-python",
   "name": "python",
   "nbconvert_exporter": "python",
   "pygments_lexer": "ipython2",
   "version": "2.7.13"
  }
 },
 "nbformat": 4,
 "nbformat_minor": 2
}
