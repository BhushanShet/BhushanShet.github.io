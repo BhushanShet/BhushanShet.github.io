{
 "cells": [
  {
   "cell_type": "markdown",
   "metadata": {
    "collapsed": true
   },
   "source": [
    "<img src=\"http://imgur.com/1ZcRyrc.png\" style=\"float: left; margin: 15px; height: 80px\">\n",
    "\n",
    "# Project 1\n",
    "\n",
    "### Building \"Pokemon Stay\"\n",
    "\n",
    "---\n",
    "You are an analyst at a \"scrappy\" online gaming company that specializes in remakes of last year's fads.\n",
    "\n",
    "Your boss, who runs the product development team, is convinced that Pokemon Go's fatal flaw was that you had to actually move around outside. She has design mock-ups for a new game called Pokemon Stay: in this version players still need to move, but just from website to website. Pokemon gyms are now popular online destinations, and catching Pokemon in the \"wild\" simply requires browsing the internet for hours in the comfort of your home.\n",
    "\n",
    "She wants you to program a prototype version of the game, and analyze the planned content to help the team calibrate the design."
   ]
  },
  {
   "cell_type": "markdown",
   "metadata": {},
   "source": [
    "#### Package imports\n",
    "\n",
    "The pprint package below is the only package imported here, and it's not even strictly required to do any of the project. Printing python variables and objects with pprint can help to format them in a \"prettier\" way."
   ]
  },
  {
   "cell_type": "code",
   "execution_count": 51,
   "metadata": {
    "collapsed": true
   },
   "outputs": [],
   "source": [
    "from pprint import pprint\n",
    "import numpy as np"
   ]
  },
  {
   "cell_type": "markdown",
   "metadata": {},
   "source": [
    "<img src=\"http://imgur.com/l5NasQj.png\" style=\"float: left; margin: 25px 15px 0px 0px; height: 25px\">\n",
    "\n",
    "## 1. Defining a player\n",
    "\n",
    "---\n",
    "\n",
    "The player variables are:\n",
    "\n",
    "    player_id : id code unique to each player (integer)\n",
    "    player_name : entered name of the player (string)\n",
    "    time_played : number of time played the game in minutes (float)\n",
    "    player_pokemon: the player's captured pokemon (dictionary)\n",
    "    gyms_visited: ids of the gyms that a player has visited (list)\n",
    "    \n",
    "Create the components for a player object by defining each of these variables. The dictionary and list variables should just be defined as empty; you can use any (correctly typed) values for the others."
   ]
  },
  {
   "cell_type": "code",
   "execution_count": 52,
   "metadata": {},
   "outputs": [
    {
     "name": "stdout",
     "output_type": "stream",
     "text": [
      "<type 'int'>\n",
      "<type 'str'>\n",
      "<type 'float'>\n",
      "<type 'dict'>\n",
      "<type 'list'>\n"
     ]
    }
   ],
   "source": [
    "#Create the components for a player object by defining each of these variables. \n",
    "\n",
    "player_id = 1\n",
    "player_name = 'Ash'\n",
    "time_played = 2.5\n",
    "player_pokemon = {}\n",
    "gyms_visited = []\n",
    "print type(player_id)\n",
    "print type(player_name)\n",
    "print type(time_played)\n",
    "print type(player_pokemon)\n",
    "print type(gyms_visited)"
   ]
  },
  {
   "cell_type": "markdown",
   "metadata": {},
   "source": [
    "<img src=\"http://imgur.com/l5NasQj.png\" style=\"float: left; margin: 25px 15px 0px 0px; height: 25px\">\n",
    "\n",
    "## 2. Defining \"gym\" locations\n",
    "\n",
    "---\n",
    "\n",
    "As the sole programmer, Pokemon Stay will have to start small. To begin, there will be 10 different gym location websites on the internet. The gym locations are:\n",
    "\n",
    "    1. 'reddit.com'\n",
    "    2. 'amazon.com'\n",
    "    3. 'twitter.com'\n",
    "    4. 'linkedin.com'\n",
    "    5. 'ebay.com'\n",
    "    6. 'netflix.com'\n",
    "    7. 'sporcle.com'\n",
    "    8. 'stackoverflow.com'\n",
    "    9. 'github.com'\n",
    "    10. 'quora.com'\n",
    "\n",
    "1. Set up a list of all the gym locations. This will be a list of strings.\n",
    "2. Append two of these locations to your player's list of visited gyms.\n",
    "3. Print the list."
   ]
  },
  {
   "cell_type": "code",
   "execution_count": 53,
   "metadata": {},
   "outputs": [
    {
     "name": "stdout",
     "output_type": "stream",
     "text": [
      "['reddit.com', 'amazon.com', 'twitter.com', 'linkedin.com', 'ebay.com', 'netflix.com', 'sporcle.com', 'stackoverflow.com', 'github.com', 'quora.com']\n",
      "['amazon.com', 'linkedin.com']\n"
     ]
    }
   ],
   "source": [
    "#List of gym loctions\n",
    "\n",
    "gym_loc = ['reddit.com','amazon.com','twitter.com','linkedin.com','ebay.com','netflix.com','sporcle.com',\n",
    "           'stackoverflow.com','github.com','quora.com']\n",
    "print gym_loc\n",
    "\n",
    "#List of gym visited by player 1\n",
    "\n",
    "gymvis1 = [gym_loc[1],gym_loc[3]]\n",
    "print gymvis1"
   ]
  },
  {
   "cell_type": "markdown",
   "metadata": {},
   "source": [
    "<img src=\"http://imgur.com/l5NasQj.png\" style=\"float: left; margin: 25px 15px 0px 0px; height: 25px\">\n",
    "\n",
    "## 3. Create a pokedex\n",
    "\n",
    "---\n",
    "\n",
    "We also need to create some pokemon to catch. Each pokemon will be defined by these variables:\n",
    "\n",
    "    pokemon_id : unique identifier for each pokemon (integer)\n",
    "    name : the name of the pokemon (string)\n",
    "    type : the category of pokemon (string)\n",
    "    hp : base hitpoints (integer)\n",
    "    attack : base attack (integer)\n",
    "    defense : base defense (integer)\n",
    "    special_attack : base special attack (integer)\n",
    "    special_defense : base sepecial defense (integer)\n",
    "    speed : base speed (integer)\n",
    "\n",
    "We are only going to create 3 different pokemon with these `pokemon_id` and `pokemon_name` values:\n",
    "\n",
    "    1 : 'charmander'\n",
    "    2 : 'squirtle'\n",
    "    3 : 'bulbasaur'\n",
    "\n",
    "Create a dictionary that will contain the pokemon. The keys of the dictionary will be the `pokemon_id` and the values will themselves dictionaries that contain the other pokemon variables. The structure of the pokedex dictionary will start like so:\n",
    "     \n",
    "     {\n",
    "         1: {\n",
    "                 'name':'charmander',\n",
    "                 'type':'fire',\n",
    "                 ...\n",
    "                 \n",
    "The `type` of charmander, squirtle, and bulbasaur should be `'fire'`, `'water'`, and `'poison'` respectively. The other values are up to you, make them anything you like!\n",
    "\n",
    "Print (or pretty print) the pokedex dictionary with the 3 pokemon."
   ]
  },
  {
   "cell_type": "code",
   "execution_count": 54,
   "metadata": {
    "collapsed": true
   },
   "outputs": [],
   "source": [
    "#Create empty dictionary\n",
    "\n",
    "poke_dict ={}"
   ]
  },
  {
   "cell_type": "code",
   "execution_count": 55,
   "metadata": {
    "collapsed": true
   },
   "outputs": [],
   "source": [
    "#Define function to enter pokemon into dictionary\n",
    "\n",
    "def pokedex_ent(pokemon_id, name, tpe, hp, attack, defense, special_attack, special_defense, speed):\n",
    "    names = [\"name\",\"type\",\"hp\",\"attack\",\"defense\",\"special_attack\",\"special_defense\",\"speed\"]\n",
    "    values = [name, tpe, hp, attack, defense, special_attack, special_defense, speed]\n",
    "    sub_dict ={}\n",
    "    for i in range(len(names)):\n",
    "        sub_dict[names[i]]= values[i]\n",
    "    poke_dict[pokemon_id]= sub_dict\n",
    "    return poke_dict"
   ]
  },
  {
   "cell_type": "code",
   "execution_count": 56,
   "metadata": {},
   "outputs": [
    {
     "name": "stdout",
     "output_type": "stream",
     "text": [
      "{1: {'name': 'charmander', 'special_attack': 60, 'speed': 65, 'hp': 39, 'attack': 52, 'defense': 43, 'type': 'fire', 'special_defense': 50}}\n"
     ]
    }
   ],
   "source": [
    "#Entering the data and printing of all the 3 pokemon\n",
    "\n",
    "pokedex_ent(1,'charmander','fire',39,52,43,60,50,65)\n",
    "print poke_dict"
   ]
  },
  {
   "cell_type": "code",
   "execution_count": 57,
   "metadata": {},
   "outputs": [
    {
     "name": "stdout",
     "output_type": "stream",
     "text": [
      "{1: {'name': 'charmander', 'special_attack': 60, 'speed': 65, 'hp': 39, 'attack': 52, 'defense': 43, 'type': 'fire', 'special_defense': 50}, 2: {'name': 'squirtle', 'special_attack': 50, 'speed': 43, 'hp': 44, 'attack': 48, 'defense': 65, 'type': 'water', 'special_defense': 64}}\n"
     ]
    }
   ],
   "source": [
    "#Entering the data and printing of all the 3 pokemon\n",
    "\n",
    "pokedex_ent(2,'squirtle','water',44,48,65,50,64,43)\n",
    "print poke_dict"
   ]
  },
  {
   "cell_type": "code",
   "execution_count": 58,
   "metadata": {},
   "outputs": [
    {
     "name": "stdout",
     "output_type": "stream",
     "text": [
      "{1: {'name': 'charmander', 'special_attack': 60, 'speed': 65, 'hp': 39, 'attack': 52, 'defense': 43, 'type': 'fire', 'special_defense': 50}, 2: {'name': 'squirtle', 'special_attack': 50, 'speed': 43, 'hp': 44, 'attack': 48, 'defense': 65, 'type': 'water', 'special_defense': 64}, 3: {'name': 'bulbasaur', 'special_attack': 65, 'speed': 45, 'hp': 45, 'attack': 49, 'defense': 49, 'type': 'poison', 'special_defense': 65}}\n"
     ]
    }
   ],
   "source": [
    "#Entering the data and printing of all the 3 pokemon\n",
    "\n",
    "pokedex_ent(3,'bulbasaur','poison',45,49,49,65,65,45)\n",
    "print poke_dict"
   ]
  },
  {
   "cell_type": "markdown",
   "metadata": {},
   "source": [
    "<img src=\"http://imgur.com/l5NasQj.png\" style=\"float: left; margin: 25px 15px 0px 0px; height: 25px\">\n",
    "\n",
    "## 4. Create a data structure for players\n",
    "\n",
    "---\n",
    "\n",
    "### 4.1 \n",
    "\n",
    "In order to maintain a database of multiple players, create a dictionary that keeps track of players indexed by `player_id`. \n",
    "\n",
    "The keys of the dictionary will be `player_id` and values will be dictionaries containing each player's variables (from question 1). \n",
    "\n",
    "Construct the `players` dictionary and insert the player that you defined in question 1, then print `players`."
   ]
  },
  {
   "cell_type": "code",
   "execution_count": 59,
   "metadata": {
    "collapsed": true
   },
   "outputs": [],
   "source": [
    "#Create empty dictionary\n",
    "\n",
    "players = {}"
   ]
  },
  {
   "cell_type": "code",
   "execution_count": 60,
   "metadata": {
    "collapsed": true
   },
   "outputs": [],
   "source": [
    "#Defining the function to enter player data\n",
    "\n",
    "def playerdict_ent(player_id,player_name,time_played,player_pokemon,gyms_visited):\n",
    "    names1 = ['player_name','time_played','player_pokemon','gyms_visited']\n",
    "    values1 = [player_name,time_played,player_pokemon,gyms_visited]\n",
    "    sub_dict1 ={}\n",
    "    for i in range(len(names1)):\n",
    "        sub_dict1[names1[i]]= values1[i]\n",
    "    players[player_id]= sub_dict1\n",
    "    return players"
   ]
  },
  {
   "cell_type": "code",
   "execution_count": 61,
   "metadata": {},
   "outputs": [
    {
     "name": "stdout",
     "output_type": "stream",
     "text": [
      "{1: {'time_played': 2.5, 'gyms_visited': ['amazon.com', 'linkedin.com'], 'player_name': 'Ash', 'player_pokemon': {}}}\n"
     ]
    }
   ],
   "source": [
    "#Entering the player info into function and printing it out\n",
    "\n",
    "playerdict_ent(1,'Ash',2.5,{},gymvis1)\n",
    "print players"
   ]
  },
  {
   "cell_type": "markdown",
   "metadata": {},
   "source": [
    "---\n",
    "\n",
    "### 4.2\n",
    "\n",
    "Create a new player with `player_id = 2` in the `players` dictionary. Leave the `'player_pokemon'` dictionary empty. Append `'alcatraz'` and `'pacific_beach'` to the `'gyms_visited'` list for player 2.\n",
    "\n",
    "The `'player_name'` and `'time_played'` values are up to you, but must be a string and float, respectively.\n",
    "\n",
    "Remember, the player_id is the key for the player in the players dictionary.\n",
    "\n",
    "Print the `players` dictionary with the new player inserted."
   ]
  },
  {
   "cell_type": "code",
   "execution_count": 62,
   "metadata": {
    "collapsed": true
   },
   "outputs": [],
   "source": [
    "#Creating new gym location list for player 2\n",
    "\n",
    "gymvis2 = ['alcatraz','pacific_beach']"
   ]
  },
  {
   "cell_type": "code",
   "execution_count": 63,
   "metadata": {},
   "outputs": [
    {
     "name": "stdout",
     "output_type": "stream",
     "text": [
      "{1: {'time_played': 2.5, 'gyms_visited': ['amazon.com', 'linkedin.com'], 'player_name': 'Ash', 'player_pokemon': {}}, 2: {'time_played': 2.2, 'gyms_visited': ['alcatraz', 'pacific_beach'], 'player_name': 'Gary', 'player_pokemon': {}}}\n"
     ]
    }
   ],
   "source": [
    "#Entering player 2 info into player dictionary\n",
    "\n",
    "playerdict_ent(2,'Gary',2.2,{},gymvis2)\n",
    "\n",
    "print players"
   ]
  },
  {
   "cell_type": "markdown",
   "metadata": {},
   "source": [
    "<img src=\"http://imgur.com/l5NasQj.png\" style=\"float: left; margin: 25px 15px 0px 0px; height: 25px\">\n",
    "\n",
    "## 5. Add captured pokemon for each player\n",
    "\n",
    "---\n",
    "\n",
    "The `'player_pokemon'` keyed dictionaries for each player keep track of which of the pokemon each player has.\n",
    "\n",
    "The keys of the `'player_pokemon'` dictionaries are the pokemon ids that correspond to the ids in the `pokedex` dictionary you created earlier. The values are integers specifying the stats for the pokemon.\n",
    "\n",
    "Give player 1 a squirtle. Give player 2 charmander and a bulbasaur.\n",
    "\n",
    "Print the players dictionary after adding the pokemon for each player.\n"
   ]
  },
  {
   "cell_type": "code",
   "execution_count": 64,
   "metadata": {
    "collapsed": true
   },
   "outputs": [],
   "source": [
    "#Defining function to add pokemon into player dictionary\n",
    "\n",
    "def addpokemon(player_id, pokemon_id):\n",
    "    players[player_id]['player_pokemon'][pokemon_id]= poke_dict[pokemon_id]\n",
    "    return players"
   ]
  },
  {
   "cell_type": "code",
   "execution_count": 65,
   "metadata": {},
   "outputs": [
    {
     "data": {
      "text/plain": [
       "{1: {'gyms_visited': ['amazon.com', 'linkedin.com'],\n",
       "  'player_name': 'Ash',\n",
       "  'player_pokemon': {2: {'attack': 48,\n",
       "    'defense': 65,\n",
       "    'hp': 44,\n",
       "    'name': 'squirtle',\n",
       "    'special_attack': 50,\n",
       "    'special_defense': 64,\n",
       "    'speed': 43,\n",
       "    'type': 'water'}},\n",
       "  'time_played': 2.5},\n",
       " 2: {'gyms_visited': ['alcatraz', 'pacific_beach'],\n",
       "  'player_name': 'Gary',\n",
       "  'player_pokemon': {},\n",
       "  'time_played': 2.2}}"
      ]
     },
     "execution_count": 65,
     "metadata": {},
     "output_type": "execute_result"
    }
   ],
   "source": [
    "#Printout of all pokemon added to respective player dictionaries\n",
    "\n",
    "addpokemon(1,2)"
   ]
  },
  {
   "cell_type": "code",
   "execution_count": 66,
   "metadata": {},
   "outputs": [
    {
     "data": {
      "text/plain": [
       "{1: {'gyms_visited': ['amazon.com', 'linkedin.com'],\n",
       "  'player_name': 'Ash',\n",
       "  'player_pokemon': {2: {'attack': 48,\n",
       "    'defense': 65,\n",
       "    'hp': 44,\n",
       "    'name': 'squirtle',\n",
       "    'special_attack': 50,\n",
       "    'special_defense': 64,\n",
       "    'speed': 43,\n",
       "    'type': 'water'}},\n",
       "  'time_played': 2.5},\n",
       " 2: {'gyms_visited': ['alcatraz', 'pacific_beach'],\n",
       "  'player_name': 'Gary',\n",
       "  'player_pokemon': {1: {'attack': 52,\n",
       "    'defense': 43,\n",
       "    'hp': 39,\n",
       "    'name': 'charmander',\n",
       "    'special_attack': 60,\n",
       "    'special_defense': 50,\n",
       "    'speed': 65,\n",
       "    'type': 'fire'}},\n",
       "  'time_played': 2.2}}"
      ]
     },
     "execution_count": 66,
     "metadata": {},
     "output_type": "execute_result"
    }
   ],
   "source": [
    "addpokemon(2,1)"
   ]
  },
  {
   "cell_type": "code",
   "execution_count": 67,
   "metadata": {},
   "outputs": [
    {
     "data": {
      "text/plain": [
       "{1: {'gyms_visited': ['amazon.com', 'linkedin.com'],\n",
       "  'player_name': 'Ash',\n",
       "  'player_pokemon': {2: {'attack': 48,\n",
       "    'defense': 65,\n",
       "    'hp': 44,\n",
       "    'name': 'squirtle',\n",
       "    'special_attack': 50,\n",
       "    'special_defense': 64,\n",
       "    'speed': 43,\n",
       "    'type': 'water'}},\n",
       "  'time_played': 2.5},\n",
       " 2: {'gyms_visited': ['alcatraz', 'pacific_beach'],\n",
       "  'player_name': 'Gary',\n",
       "  'player_pokemon': {1: {'attack': 52,\n",
       "    'defense': 43,\n",
       "    'hp': 39,\n",
       "    'name': 'charmander',\n",
       "    'special_attack': 60,\n",
       "    'special_defense': 50,\n",
       "    'speed': 65,\n",
       "    'type': 'fire'},\n",
       "   3: {'attack': 49,\n",
       "    'defense': 49,\n",
       "    'hp': 45,\n",
       "    'name': 'bulbasaur',\n",
       "    'special_attack': 65,\n",
       "    'special_defense': 65,\n",
       "    'speed': 45,\n",
       "    'type': 'poison'}},\n",
       "  'time_played': 2.2}}"
      ]
     },
     "execution_count": 67,
     "metadata": {},
     "output_type": "execute_result"
    }
   ],
   "source": [
    "addpokemon(2,3)"
   ]
  },
  {
   "cell_type": "markdown",
   "metadata": {},
   "source": [
    "\n",
    "\n",
    "## 6. What gyms have players visited?\n",
    "\n",
    "---\n",
    "<img src=\"http://imgur.com/l5NasQj.png\" style=\"float: left; margin: 25px 15px 0px 0px; height: 25px\">\n",
    "### 6.1\n",
    "\n",
    "Write a for-loop that:\n",
    "\n",
    "1. Iterates through the `pokemon_gyms` list of gym locations you defined before.\n",
    "2. For each gym, iterate through each player in the `players` dictionary with a second, internal for-loop.\n",
    "3. If the player has visited the gym, print out \"[player] has visited [gym location].\", filling in [player] and [gym location] with the current player's name and current gym location."
   ]
  },
  {
   "cell_type": "code",
   "execution_count": 68,
   "metadata": {},
   "outputs": [
    {
     "name": "stdout",
     "output_type": "stream",
     "text": [
      "Ash visited amazon.com\n",
      "Ash visited linkedin.com\n"
     ]
    }
   ],
   "source": [
    "#Checking from the player dictionary if they visited any gym in the list of gyms created earlier\n",
    "\n",
    "for gymloc in gym_loc:\n",
    "    for play in players.keys(): \n",
    "        if gymloc in players[play]['gyms_visited']:\n",
    "                print players[play]['player_name'] + ' visited ' + gymloc"
   ]
  },
  {
   "cell_type": "markdown",
   "metadata": {},
   "source": [
    "<img src=\"http://imgur.com/xDpSobf.png\" style=\"float: left; margin: 25px 15px 0px 0px; height: 25px\">\n",
    "### 6.2\n",
    "\n",
    "How many times did that loop run? If you have N gyms and also N players, how many times would it run as a function of N?\n",
    "\n",
    "Can you think of a more efficient way to accomplish the same thing? \n",
    "\n",
    "(You can write your answer as Markdown text.)"
   ]
  },
  {
   "cell_type": "markdown",
   "metadata": {
    "collapsed": true
   },
   "source": [
    "## If there were N players and N gyms the loop would run N * N times. A more effecient way to run the loop would be to loop over the players gym locations first and then check if the player's gym exists in the gym locations list. "
   ]
  },
  {
   "cell_type": "markdown",
   "metadata": {},
   "source": [
    "<img src=\"http://imgur.com/l5NasQj.png\" style=\"float: left; margin: 25px 15px 0px 0px; height: 25px\">\n",
    "\n",
    "## 7. Calculate player \"power\".\n",
    "\n",
    "---\n",
    "\n",
    "Define a function that will calculate a player's \"power\". Player power is defined as the sum of the base statistics all of their pokemon.\n",
    "\n",
    "Your function will:\n",
    "\n",
    "1. Accept the `players` dictionary, `pokedex` dictionary, and a player_id as arguments.\n",
    "2. For the specified player_id, look up that player's pokemon and their level(s).\n",
    "3. Find and aggregate the attack and defense values for each of the player's pokemon from the `pokedex` dictionary.\n",
    "4. Print \"[player name]'s power is [player power].\", where the player power is the sum of the base statistics for all of their pokemon.\n",
    "5. Return the player's power value.\n",
    "\n",
    "Print out the pokemon power for each of your players."
   ]
  },
  {
   "cell_type": "code",
   "execution_count": 69,
   "metadata": {
    "collapsed": true
   },
   "outputs": [],
   "source": [
    "#Defining a function to print out player powers\n",
    "\n",
    "def playerpower(player_id):\n",
    "    playerpower = 0\n",
    "    pklist = players[player_id]['player_pokemon'] \n",
    "    for pk in pklist:\n",
    "        playerpower += pklist[pk]['attack']+pklist[pk]['defense']+pklist[pk]['special_attack']\\\n",
    "        +pklist[pk]['special_defense']\n",
    "    print players[player_id]['player_name'] + ' has a total power value of ' + str(playerpower)+'.'  \n",
    "        "
   ]
  },
  {
   "cell_type": "code",
   "execution_count": 70,
   "metadata": {},
   "outputs": [
    {
     "name": "stdout",
     "output_type": "stream",
     "text": [
      "Ash has a total power value of 227.\n"
     ]
    }
   ],
   "source": [
    "#using function to print out player powers\n",
    "\n",
    "playerpower(1)"
   ]
  },
  {
   "cell_type": "code",
   "execution_count": 71,
   "metadata": {},
   "outputs": [
    {
     "name": "stdout",
     "output_type": "stream",
     "text": [
      "Gary has a total power value of 433.\n"
     ]
    }
   ],
   "source": [
    "playerpower(2)"
   ]
  },
  {
   "cell_type": "markdown",
   "metadata": {
    "collapsed": true
   },
   "source": [
    "<img src=\"http://imgur.com/l5NasQj.png\" style=\"float: left; margin: 25px 15px 0px 0px; height: 25px\">\n",
    "\n",
    "## 8. Load a pokedex file containing all the pokemon\n",
    "\n",
    "---\n",
    "\n",
    "### 8.1\n",
    "\n",
    "While you were putting together the prototype code, your colleagues were preparing a dataset of Pokemon and their attributes. (This was a rush job, so they may have picked some crazy values for some...)\n",
    "\n",
    "The code below loads information from a comma separated value (csv) file. You need to parse this string into a more useable format. The format of the string is:\n",
    "\n",
    "- Rows are separated by newline characters: \\n\n",
    "- Columns are separated by commas: ,\n",
    "- All cells in the csv are double quoted. Ex: \"PokedexNumber\" is the first cell of the first row.\n",
    "\n",
    "\n",
    "Using for-loops, create a list of lists where each list within the overall list is a row of the csv/matrix, and each element in that list is a cell in that row. Additional criteria:\n",
    "\n",
    "1. Quotes are removed from each cell item.\n",
    "2. Numeric column values are converted to floats.\n",
    "3. There are some cells that are empty and have no information. For these cells put a -1 value in place.\n",
    "\n",
    "Your end result is effectively a matrix. Each list in the outer list is a row, and the *j*th elements of list together form the *j*th column, which represents a data attribute. The first three lists in your pokedex list should look like this:\n",
    "\n",
    "    ['PokedexNumber', 'Name', 'Type', 'Total', 'HP', 'Attack', 'Defense', 'SpecialAttack', 'SpecialDefense', 'Speed']\n",
    "    [1.0, 'Bulbasaur', 'GrassPoison', 318.0, 45.0, 49.0, 49.0, 65.0, 65.0, 45.0]\n",
    "    [2.0, 'Ivysaur', 'GrassPoison', 405.0, 60.0, 62.0, 63.0, 80.0, 80.0, 60.0]"
   ]
  },
  {
   "cell_type": "code",
   "execution_count": 72,
   "metadata": {
    "collapsed": true
   },
   "outputs": [],
   "source": [
    "#Importing csv file into a list\n",
    "\n",
    "rows =[]\n",
    "pokedex_file = 'pokedex_basic.csv'\n",
    "with open(pokedex_file,'r') as f:\n",
    "    rows = f.read()"
   ]
  },
  {
   "cell_type": "code",
   "execution_count": 73,
   "metadata": {
    "collapsed": true
   },
   "outputs": [],
   "source": [
    "#Editing the list to remove undesired elements\n",
    "\n",
    "temp1 = rows.replace('\"','').split('\\n')\n",
    "\n",
    "#Splitting the string up and changing it to a list (Print temp1 to view for better understanding)\n",
    "\n",
    "temp2 = []\n",
    "for index,row in enumerate(temp1):\n",
    "    temp2.append(temp1[index].split(','))"
   ]
  },
  {
   "cell_type": "code",
   "execution_count": 74,
   "metadata": {},
   "outputs": [
    {
     "name": "stdout",
     "output_type": "stream",
     "text": [
      "[['PokedexNumber', 'Name', 'Type', 'Total', 'HP', 'Attack', 'Defense', 'SpecialAttack', 'SpecialDefense', 'Speed'], ['001', 'Bulbasaur', 'GrassPoison', '318', '45', '49', '49', '65', '65', '45'], ['002', 'Ivysaur', 'GrassPoison', '405', '60', '62', '63', '80', '80', '60'], ['003', 'Venusaur', 'GrassPoison', '525', '80', '82', '83', '100', '100', '80'], ['003', 'VenusaurMega Venusaur', 'GrassPoison', '625', '80', '100', '123', '122', '120', '80'], ['004', 'Charmander', 'Fire', '309', '39', '52', '43', '60', '50', '65'], ['005', 'Charmeleon', 'Fire', '405', '58', '64', '58', '80', '65', '80'], ['006', 'Charizard', 'FireFlying', '534', '78', '84', '78', '109', '85', '100'], ['006', 'CharizardMega Charizard X', 'FireDragon', '634', '78', '130', '111', '130', '85', '100'], ['006', 'CharizardMega Charizard Y', 'FireFlying', '634', '78', '104', '78', '159', '115', '100']]\n"
     ]
    }
   ],
   "source": [
    "# Code to read in pokedex info (NOTE THE NUMBER SAVED AS STRINGS)\n",
    "\n",
    "print temp2[:10]"
   ]
  },
  {
   "cell_type": "code",
   "execution_count": 75,
   "metadata": {
    "collapsed": true
   },
   "outputs": [],
   "source": [
    "#Function to convert all numbers saved as string to float elements\n",
    "\n",
    "def convert(string):\n",
    "    try:\n",
    "        string = float(string)\n",
    "    except:\n",
    "        string = string\n",
    "    return string"
   ]
  },
  {
   "cell_type": "code",
   "execution_count": 76,
   "metadata": {},
   "outputs": [
    {
     "name": "stdout",
     "output_type": "stream",
     "text": [
      "[['PokedexNumber', 'Name', 'Type', 'Total', 'HP', 'Attack', 'Defense', 'SpecialAttack', 'SpecialDefense', 'Speed'], [1.0, 'Bulbasaur', 'GrassPoison', 318.0, 45.0, 49.0, 49.0, 65.0, 65.0, 45.0], [2.0, 'Ivysaur', 'GrassPoison', 405.0, 60.0, 62.0, 63.0, 80.0, 80.0, 60.0], [3.0, 'Venusaur', 'GrassPoison', 525.0, 80.0, 82.0, 83.0, 100.0, 100.0, 80.0], [3.0, 'VenusaurMega Venusaur', 'GrassPoison', 625.0, 80.0, 100.0, 123.0, 122.0, 120.0, 80.0], [4.0, 'Charmander', 'Fire', 309.0, 39.0, 52.0, 43.0, 60.0, 50.0, 65.0], [5.0, 'Charmeleon', 'Fire', 405.0, 58.0, 64.0, 58.0, 80.0, 65.0, 80.0], [6.0, 'Charizard', 'FireFlying', 534.0, 78.0, 84.0, 78.0, 109.0, 85.0, 100.0], [6.0, 'CharizardMega Charizard X', 'FireDragon', 634.0, 78.0, 130.0, 111.0, 130.0, 85.0, 100.0], [6.0, 'CharizardMega Charizard Y', 'FireFlying', 634.0, 78.0, 104.0, 78.0, 159.0, 115.0, 100.0]]\n"
     ]
    }
   ],
   "source": [
    "#Converting all numbers from string to float elements\n",
    "\n",
    "pokedex = []\n",
    "for row in temp2:\n",
    "    temprow = []\n",
    "    for item in row:\n",
    "        var = convert (item)\n",
    "        temprow.append(var)\n",
    "    pokedex.append(temprow)\n",
    "print pokedex[:10]\n",
    "    "
   ]
  },
  {
   "cell_type": "code",
   "execution_count": 77,
   "metadata": {},
   "outputs": [
    {
     "name": "stdout",
     "output_type": "stream",
     "text": [
      "['PokedexNumber', 'Name', 'Type', 'Total', 'HP', 'Attack', 'Defense', 'SpecialAttack', 'SpecialDefense', 'Speed']\n",
      "[[1.0, 'Bulbasaur', 'GrassPoison', 318.0, 45.0, 49.0, 49.0, 65.0, 65.0, 45.0], [2.0, 'Ivysaur', 'GrassPoison', 405.0, 60.0, 62.0, 63.0, 80.0, 80.0, 60.0], [3.0, 'Venusaur', 'GrassPoison', 525.0, 80.0, 82.0, 83.0, 100.0, 100.0, 80.0], [3.0, 'VenusaurMega Venusaur', 'GrassPoison', 625.0, 80.0, 100.0, 123.0, 122.0, 120.0, 80.0], [4.0, 'Charmander', 'Fire', 309.0, 39.0, 52.0, 43.0, 60.0, 50.0, 65.0], [5.0, 'Charmeleon', 'Fire', 405.0, 58.0, 64.0, 58.0, 80.0, 65.0, 80.0], [6.0, 'Charizard', 'FireFlying', 534.0, 78.0, 84.0, 78.0, 109.0, 85.0, 100.0], [6.0, 'CharizardMega Charizard X', 'FireDragon', 634.0, 78.0, 130.0, 111.0, 130.0, 85.0, 100.0], [6.0, 'CharizardMega Charizard Y', 'FireFlying', 634.0, 78.0, 104.0, 78.0, 159.0, 115.0, 100.0], [7.0, 'Squirtle', 'Water', 314.0, 44.0, 48.0, 65.0, 50.0, 64.0, 43.0]]\n"
     ]
    }
   ],
   "source": [
    "#Seperating the header from the data\n",
    "\n",
    "pokedex_head = pokedex[0]\n",
    "pokedex_data = pokedex[1:]\n",
    "print pokedex_head\n",
    "print pokedex_data[:10]"
   ]
  },
  {
   "cell_type": "code",
   "execution_count": 78,
   "metadata": {},
   "outputs": [
    {
     "data": {
      "text/plain": [
       "False"
      ]
     },
     "execution_count": 78,
     "metadata": {},
     "output_type": "execute_result"
    }
   ],
   "source": [
    "#Checking for any 'None' elements in the dataset\n",
    "\n",
    "None in pokedex"
   ]
  },
  {
   "cell_type": "code",
   "execution_count": 79,
   "metadata": {},
   "outputs": [
    {
     "ename": "SyntaxError",
     "evalue": "invalid syntax (<ipython-input-79-fe8b26ab4db4>, line 3)",
     "output_type": "error",
     "traceback": [
      "\u001b[1;36m  File \u001b[1;32m\"<ipython-input-79-fe8b26ab4db4>\"\u001b[1;36m, line \u001b[1;32m3\u001b[0m\n\u001b[1;33m    ''''''for row in pokedex_data:\u001b[0m\n\u001b[1;37m            ^\u001b[0m\n\u001b[1;31mSyntaxError\u001b[0m\u001b[1;31m:\u001b[0m invalid syntax\n"
     ]
    }
   ],
   "source": [
    "#If there is a None element present the following code can be applied\n",
    "\n",
    "''''''for row in pokedex_data:\n",
    "        for item in row:\n",
    "            if item == None:\n",
    "                item == -1\n",
    "    print pokedex_data''''''"
   ]
  },
  {
   "cell_type": "markdown",
   "metadata": {},
   "source": [
    "<img src=\"http://imgur.com/xDpSobf.png\" style=\"float: left; margin: 25px 15px 0px 0px; height: 25px\">\n",
    "\n",
    "### 8.2 Parse the raw pokedex with list comprehensions\n",
    "\n",
    "---\n",
    "\n",
    "Perform the same parsing as above, but **using only a single list comprehension** instead of for loops. You may have nested list comprehensions within the main list comprehension! The output should be exactly the same."
   ]
  },
  {
   "cell_type": "code",
   "execution_count": 80,
   "metadata": {},
   "outputs": [
    {
     "name": "stdout",
     "output_type": "stream",
     "text": [
      "[['PokedexNumber', 'Name', 'Type', 'Total', 'HP', 'Attack', 'Defense', 'SpecialAttack', 'SpecialDefense', 'Speed'], [1.0, 'Bulbasaur', 'GrassPoison', 318.0, 45.0, 49.0, 49.0, 65.0, 65.0, 45.0], [2.0, 'Ivysaur', 'GrassPoison', 405.0, 60.0, 62.0, 63.0, 80.0, 80.0, 60.0], [3.0, 'Venusaur', 'GrassPoison', 525.0, 80.0, 82.0, 83.0, 100.0, 100.0, 80.0], [3.0, 'VenusaurMega Venusaur', 'GrassPoison', 625.0, 80.0, 100.0, 123.0, 122.0, 120.0, 80.0], [4.0, 'Charmander', 'Fire', 309.0, 39.0, 52.0, 43.0, 60.0, 50.0, 65.0], [5.0, 'Charmeleon', 'Fire', 405.0, 58.0, 64.0, 58.0, 80.0, 65.0, 80.0], [6.0, 'Charizard', 'FireFlying', 534.0, 78.0, 84.0, 78.0, 109.0, 85.0, 100.0], [6.0, 'CharizardMega Charizard X', 'FireDragon', 634.0, 78.0, 130.0, 111.0, 130.0, 85.0, 100.0], [6.0, 'CharizardMega Charizard Y', 'FireFlying', 634.0, 78.0, 104.0, 78.0, 159.0, 115.0, 100.0]]\n"
     ]
    }
   ],
   "source": [
    "#File transfer\n",
    "\n",
    "rows_l =[]\n",
    "pokedex_file = 'pokedex_basic.csv'\n",
    "with open(pokedex_file,'r') as f:\n",
    "    rows_l = f.read()\n",
    "    \n",
    "#List comprehension after file transfer\n",
    "    \n",
    "pokedex2 = [[convert(item) for item in row]for row in ((temp1[index].split(',')\n",
    "                        for index,row in enumerate(rows_l.replace('\"','').split('\\n'))))]\n",
    "print pokedex2[:10]\n"
   ]
  },
  {
   "cell_type": "markdown",
   "metadata": {},
   "source": [
    "<img src=\"http://imgur.com/l5NasQj.png\" style=\"float: left; margin: 25px 15px 0px 0px; height: 25px\">\n",
    "\n",
    "## 9. Write a function to generate the full pokedex\n",
    "\n",
    "---\n",
    "\n",
    "Write a function that recreates the pokedex you made before, but with the data read in from the full pokemon file. The `PokedexNumber` should be used as the `pokemon_id` key values for the dictionary of pokemon.\n",
    "\n",
    "Your function should:\n",
    "\n",
    "1. Take the parsed pokedex information you created above as an argument.\n",
    "2. Return a dictionary in the same format as your original pokedex you created before containing the information from the parsed full pokedex file.\n",
    "\n",
    "To test the function, print out the pokemon with id = 100."
   ]
  },
  {
   "cell_type": "code",
   "execution_count": 81,
   "metadata": {
    "collapsed": true
   },
   "outputs": [],
   "source": [
    "#Defining function to transfer individual pokedex data from list to dictionary\n",
    "\n",
    "poke_dict2 = {}\n",
    "def pokedex_ent2(pokemon_id, name, tpe,total, hp, attack, defense, special_attack, special_defense, speed):\n",
    "    names = [\"name\",\"type\",\"total\",\"hp\",\"attack\",\"defense\",\"special_attack\",\"special_defense\",\"speed\"]\n",
    "    values = [name, tpe,total, hp, attack, defense, special_attack, special_defense, speed]\n",
    "    sub_dict ={}\n",
    "    for i in range(len(names)):\n",
    "        sub_dict[names[i]]= values[i]\n",
    "    poke_dict2[pokemon_id]=sub_dict\n",
    "    \n",
    "    return poke_dict2"
   ]
  },
  {
   "cell_type": "code",
   "execution_count": 82,
   "metadata": {
    "scrolled": true
   },
   "outputs": [],
   "source": [
    "#Defining function to transfer all pokedex data into dictionary\n",
    "\n",
    "def pokedexfin(arg):\n",
    "    for row in arg:\n",
    "        if row[0] not in poke_dict2.keys():\n",
    "            pokedex_ent2(row[0], row[1], row[2], row[3], row[4], row[5], row[6], row[7], row[8], row[9])\n",
    "        elif row[0]+0.1 not in poke_dict2.keys():\n",
    "            row[0]+= 0.1\n",
    "            pokedex_ent2(row[0], row[1], row[2], row[3], row[4], row[5], row[6], row[7], row[8], row[9])\n",
    "        else:\n",
    "            h = sorted(poke_dict2.keys())[-1]\n",
    "            row [0] = h + 0.1\n",
    "            pokedex_ent2(round(row[0],1), row[1], row[2], row[3], row[4], row[5], row[6], row[7], row[8], row[9])\n",
    "            \n",
    "            \n",
    "            "
   ]
  },
  {
   "cell_type": "code",
   "execution_count": 83,
   "metadata": {},
   "outputs": [],
   "source": [
    "#Executing function\n",
    "\n",
    "pokedexfin(pokedex_data)"
   ]
  },
  {
   "cell_type": "code",
   "execution_count": 84,
   "metadata": {
    "collapsed": true
   },
   "outputs": [],
   "source": [
    "#Defining function to find pokemon info from dictionary using pokemon id\n",
    "\n",
    "def pokemonfinder(id):\n",
    "    print poke_dict2[id]"
   ]
  },
  {
   "cell_type": "code",
   "execution_count": 85,
   "metadata": {},
   "outputs": [
    {
     "name": "stdout",
     "output_type": "stream",
     "text": [
      "{'name': 'Voltorb', 'special_attack': 55.0, 'speed': 100.0, 'hp': 40.0, 'attack': 30.0, 'defense': 50.0, 'total': 330.0, 'type': 'Electric', 'special_defense': 55.0}\n"
     ]
    }
   ],
   "source": [
    "#Executing pokemon finder function\n",
    "\n",
    "pokemonfinder(100)"
   ]
  },
  {
   "cell_type": "markdown",
   "metadata": {},
   "source": [
    "<img src=\"http://i.imgur.com/GCAf1UX.png\" style=\"float: left; margin: 25px 15px 0px 0px; height: 25px\">\n",
    "\n",
    "## 10. Write a function to generate a \"filtered\" pokedex\n",
    "---\n",
    "Your function should:\n",
    "1. Take the parsed pokedex information you created above as an argument.\n",
    "1. Take a dictionary as a parameter with keys matching the features of the Pokedex, filtering by exact match for string type values, and/or filter continuous variables specified value that is greater than or equal to the dictionary key parameter.\n",
    "1. Return multiple elements from the Pokedex\n",
    "\n",
    "Example:\n",
    "\n",
    "```python\n",
    "\n",
    "# Only filter based on parameters passed\n",
    "filter_options = {\n",
    "    'Attack':   25,\n",
    "    'Defense':  30,\n",
    "    'Type':     'Electric'\n",
    "}\n",
    "\n",
    "# Return records with attack >= 24, defense >= 30, and type == \"Electric\"\n",
    "# Also anticipate that other paramters can also be passed such as \"SpecialAttack\", \"Speed\", etc.\n",
    "filtered_pokedex(pokedex_data, filter=filter_options)\n",
    "\n",
    "# Example output:\n",
    "# [{'Attack': 30.0,\n",
    "#  'Defense': 50.0,\n",
    "#  'HP': 40.0,\n",
    "#  'Name': 'Voltorb',\n",
    "#  'SpecialAttack': 55.0,\n",
    "#  'SpecialDefense': 55.0,\n",
    "#  'Speed': 100.0,\n",
    "#  'Total': 330.0,\n",
    "#  'Type': 'Electric'},\n",
    "#  {'Attack': 30.0,\n",
    "#  'Defense': 33.0,\n",
    "#  'HP': 32.0,\n",
    "#  'Name': 'Pikachu',\n",
    "#  'SpecialAttack': 55.0,\n",
    "#  'SpecialDefense': 55.0,\n",
    "#  'Speed': 100.0,\n",
    "#  'Total': 330.0,\n",
    "#  'Type': 'Electric'},\n",
    "#  ... etc\n",
    "#  ]\n",
    "\n",
    "```\n",
    "\n"
   ]
  },
  {
   "cell_type": "code",
   "execution_count": null,
   "metadata": {
    "collapsed": true
   },
   "outputs": [],
   "source": []
  },
  {
   "cell_type": "markdown",
   "metadata": {
    "collapsed": true
   },
   "source": [
    "\n",
    "## 11. Descriptive statistics on the prototype pokedex\n",
    "\n",
    "<img src=\"http://imgur.com/l5NasQj.png\" style=\"float: left; margin: 25px 15px 0px 0px; height: 25px\">\n",
    "### 11.1\n",
    "\n",
    "What is the population mean and standard deviation of the \"Total\" attribute for all characters in the Pokedex?\n",
    "\n"
   ]
  },
  {
   "cell_type": "code",
   "execution_count": null,
   "metadata": {},
   "outputs": [],
   "source": [
    "#Extracting the pokedex total data from dictionary into list\n",
    "\n",
    "pokedex_total =[]\n",
    "for k in poke_dict2.keys():\n",
    "    val = poke_dict2[k]['total']\n",
    "    pokedex_total.append(val) \n",
    "\n",
    "print pokedex_total[:10]"
   ]
  },
  {
   "cell_type": "code",
   "execution_count": null,
   "metadata": {},
   "outputs": [],
   "source": [
    "#Checking that all data in pokedex_total are float\n",
    "\n",
    "all(isinstance(x,float) for x in pokedex_total)"
   ]
  },
  {
   "cell_type": "code",
   "execution_count": null,
   "metadata": {},
   "outputs": [],
   "source": [
    "#Mean of the pokemon total stats\n",
    "\n",
    "mean = np.mean(pokedex_total)\n",
    "print mean"
   ]
  },
  {
   "cell_type": "code",
   "execution_count": null,
   "metadata": {},
   "outputs": [],
   "source": [
    "#Standard deviation of the pokemon total stats\n",
    "\n",
    "std = np.std(pokedex_total)\n",
    "print std"
   ]
  },
  {
   "cell_type": "markdown",
   "metadata": {},
   "source": [
    "<img src=\"http://imgur.com/l5NasQj.png\" style=\"float: left; margin: 25px 15px 0px 0px; height: 25px\">\n",
    "###  11.2\n",
    "\n",
    "The game is no fun if the characters are wildly unbalanced! Are any characters \"overpowered\", which we'll define as having a \"Total\" more than three standard deviations from the population mean?"
   ]
  },
  {
   "cell_type": "code",
   "execution_count": null,
   "metadata": {},
   "outputs": [],
   "source": [
    "#Printing a list of all the pokemon that are \"Overpowered\"\n",
    "\n",
    "list = []\n",
    "for i in poke_dict2.keys():\n",
    "    k = poke_dict2[i]['total']\n",
    "    if k > (mean + (std * 3)):\n",
    "        list.append(i)\n",
    "        list.append(poke_dict2[i]['name'])\n",
    "        \n",
    "print 'List of overpowered pokemon'\n",
    "print list    \n",
    "        "
   ]
  },
  {
   "cell_type": "markdown",
   "metadata": {},
   "source": [
    "<img src=\"http://imgur.com/xDpSobf.png\" style=\"float: left; margin: 25px 15px 0px 0px; height: 25px\">\n",
    "\n",
    "## 12. Calibrate the frequency of Pokemon\n",
    "\n",
    "The design team wants you to make the powerful Pokemon rare, and the weaklings more common. How would you set the probability $p_i$ of finding Pokemon *i* each time a player visits a gym?\n",
    "\n",
    "Write a function that takes in a Pokedex number and returns a value $p_i$ for that character.\n",
    "\n",
    "Hint: there are many ways you could do this. What do _you_ think makes sense? Start with simplifying assumptions: for example, you could assume that the probabilities of encountering any two Pokemon on one visit to a gym are independent of each other."
   ]
  },
  {
   "cell_type": "code",
   "execution_count": null,
   "metadata": {},
   "outputs": [],
   "source": [
    "# printing the max and min 'Total' power value for the whole list of pokemon\n",
    "\n",
    "print max(pokedex_total)\n",
    "print min(pokedex_total)"
   ]
  },
  {
   "cell_type": "markdown",
   "metadata": {},
   "source": [
    "Based on the assumption that pokemon of 'Total' power at 170 have a 100% chance to spawn versus pokemon of 'Total' power of 810 have 0% chance to spawn we can create a inverse relationship between pokemon Total power and chance to spawn"
   ]
  },
  {
   "cell_type": "code",
   "execution_count": null,
   "metadata": {
    "collapsed": true
   },
   "outputs": [],
   "source": [
    "# The relationship after tabulating is -->   Chance to spawn = 126.56 - (0.161 * Pokemon 'Total' Power)\n",
    "\n",
    "pokechance = {}\n",
    "for t in poke_dict2.keys():\n",
    "    k = poke_dict2[t]['total']\n",
    "    p = (1.2656) - ((0.156 * k)/100)\n",
    "    pokechance[t] = {'Name': poke_dict2[t]['name'], 'Probability to catch' : format(p,'.3f') }"
   ]
  },
  {
   "cell_type": "code",
   "execution_count": null,
   "metadata": {
    "collapsed": true
   },
   "outputs": [],
   "source": [
    "def pokemoncatch(id):\n",
    "    print pokechance[id]"
   ]
  },
  {
   "cell_type": "code",
   "execution_count": 89,
   "metadata": {},
   "outputs": [
    {
     "name": "stdout",
     "output_type": "stream",
     "text": [
      "{'Name': 'Pikachu', 'Probability to catch': '0.766'}\n"
     ]
    }
   ],
   "source": [
    "pokemoncatch(25)"
   ]
  },
  {
   "cell_type": "code",
   "execution_count": null,
   "metadata": {
    "collapsed": true
   },
   "outputs": [],
   "source": []
  }
 ],
 "metadata": {
  "anaconda-cloud": {},
  "kernelspec": {
   "display_name": "Python 2",
   "language": "python",
   "name": "python2"
  },
  "language_info": {
   "codemirror_mode": {
    "name": "ipython",
    "version": 2
   },
   "file_extension": ".py",
   "mimetype": "text/x-python",
   "name": "python",
   "nbconvert_exporter": "python",
   "pygments_lexer": "ipython2",
   "version": "2.7.13"
  }
 },
 "nbformat": 4,
 "nbformat_minor": 1
}
