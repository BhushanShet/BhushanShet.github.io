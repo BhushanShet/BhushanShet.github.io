{
 "cells": [
  {
   "cell_type": "code",
   "execution_count": 1,
   "metadata": {
    "collapsed": true
   },
   "outputs": [],
   "source": [
    "import pandas as pd\n",
    "import numpy as np\n",
    "import matplotlib.pyplot as plt\n",
    "import csv\n",
    "import re\n",
    "from sklearn.preprocessing import MaxAbsScaler\n",
    "%matplotlib inline"
   ]
  },
  {
   "cell_type": "code",
   "execution_count": 2,
   "metadata": {
    "collapsed": true
   },
   "outputs": [],
   "source": [
    "f1 = 'anime.csv'\n",
    "f2 = 'rating.csv'"
   ]
  },
  {
   "cell_type": "code",
   "execution_count": 3,
   "metadata": {
    "collapsed": true
   },
   "outputs": [],
   "source": [
    "df = pd.read_csv(f1)\n",
    "rf = pd.read_csv(f2)"
   ]
  },
  {
   "cell_type": "code",
   "execution_count": 4,
   "metadata": {},
   "outputs": [
    {
     "data": {
      "text/html": [
       "<div>\n",
       "<style>\n",
       "    .dataframe thead tr:only-child th {\n",
       "        text-align: right;\n",
       "    }\n",
       "\n",
       "    .dataframe thead th {\n",
       "        text-align: left;\n",
       "    }\n",
       "\n",
       "    .dataframe tbody tr th {\n",
       "        vertical-align: top;\n",
       "    }\n",
       "</style>\n",
       "<table border=\"1\" class=\"dataframe\">\n",
       "  <thead>\n",
       "    <tr style=\"text-align: right;\">\n",
       "      <th></th>\n",
       "      <th>anime_id</th>\n",
       "      <th>name</th>\n",
       "      <th>genre</th>\n",
       "      <th>type</th>\n",
       "      <th>episodes</th>\n",
       "      <th>rating</th>\n",
       "      <th>members</th>\n",
       "    </tr>\n",
       "  </thead>\n",
       "  <tbody>\n",
       "    <tr>\n",
       "      <th>0</th>\n",
       "      <td>32281</td>\n",
       "      <td>Kimi no Na wa.</td>\n",
       "      <td>Drama, Romance, School, Supernatural</td>\n",
       "      <td>Movie</td>\n",
       "      <td>1</td>\n",
       "      <td>9.37</td>\n",
       "      <td>200630</td>\n",
       "    </tr>\n",
       "    <tr>\n",
       "      <th>1</th>\n",
       "      <td>5114</td>\n",
       "      <td>Fullmetal Alchemist: Brotherhood</td>\n",
       "      <td>Action, Adventure, Drama, Fantasy, Magic, Mili...</td>\n",
       "      <td>TV</td>\n",
       "      <td>64</td>\n",
       "      <td>9.26</td>\n",
       "      <td>793665</td>\n",
       "    </tr>\n",
       "    <tr>\n",
       "      <th>2</th>\n",
       "      <td>28977</td>\n",
       "      <td>Gintama°</td>\n",
       "      <td>Action, Comedy, Historical, Parody, Samurai, S...</td>\n",
       "      <td>TV</td>\n",
       "      <td>51</td>\n",
       "      <td>9.25</td>\n",
       "      <td>114262</td>\n",
       "    </tr>\n",
       "    <tr>\n",
       "      <th>3</th>\n",
       "      <td>9253</td>\n",
       "      <td>Steins;Gate</td>\n",
       "      <td>Sci-Fi, Thriller</td>\n",
       "      <td>TV</td>\n",
       "      <td>24</td>\n",
       "      <td>9.17</td>\n",
       "      <td>673572</td>\n",
       "    </tr>\n",
       "    <tr>\n",
       "      <th>4</th>\n",
       "      <td>9969</td>\n",
       "      <td>Gintama&amp;#039;</td>\n",
       "      <td>Action, Comedy, Historical, Parody, Samurai, S...</td>\n",
       "      <td>TV</td>\n",
       "      <td>51</td>\n",
       "      <td>9.16</td>\n",
       "      <td>151266</td>\n",
       "    </tr>\n",
       "  </tbody>\n",
       "</table>\n",
       "</div>"
      ],
      "text/plain": [
       "   anime_id                              name  \\\n",
       "0     32281                    Kimi no Na wa.   \n",
       "1      5114  Fullmetal Alchemist: Brotherhood   \n",
       "2     28977                          Gintama°   \n",
       "3      9253                       Steins;Gate   \n",
       "4      9969                     Gintama&#039;   \n",
       "\n",
       "                                               genre   type episodes  rating  \\\n",
       "0               Drama, Romance, School, Supernatural  Movie        1    9.37   \n",
       "1  Action, Adventure, Drama, Fantasy, Magic, Mili...     TV       64    9.26   \n",
       "2  Action, Comedy, Historical, Parody, Samurai, S...     TV       51    9.25   \n",
       "3                                   Sci-Fi, Thriller     TV       24    9.17   \n",
       "4  Action, Comedy, Historical, Parody, Samurai, S...     TV       51    9.16   \n",
       "\n",
       "   members  \n",
       "0   200630  \n",
       "1   793665  \n",
       "2   114262  \n",
       "3   673572  \n",
       "4   151266  "
      ]
     },
     "execution_count": 4,
     "metadata": {},
     "output_type": "execute_result"
    }
   ],
   "source": [
    "df.head()"
   ]
  },
  {
   "cell_type": "code",
   "execution_count": 5,
   "metadata": {},
   "outputs": [
    {
     "data": {
      "text/html": [
       "<div>\n",
       "<style>\n",
       "    .dataframe thead tr:only-child th {\n",
       "        text-align: right;\n",
       "    }\n",
       "\n",
       "    .dataframe thead th {\n",
       "        text-align: left;\n",
       "    }\n",
       "\n",
       "    .dataframe tbody tr th {\n",
       "        vertical-align: top;\n",
       "    }\n",
       "</style>\n",
       "<table border=\"1\" class=\"dataframe\">\n",
       "  <thead>\n",
       "    <tr style=\"text-align: right;\">\n",
       "      <th></th>\n",
       "      <th>user_id</th>\n",
       "      <th>anime_id</th>\n",
       "      <th>rating</th>\n",
       "    </tr>\n",
       "  </thead>\n",
       "  <tbody>\n",
       "    <tr>\n",
       "      <th>0</th>\n",
       "      <td>1</td>\n",
       "      <td>20</td>\n",
       "      <td>-1</td>\n",
       "    </tr>\n",
       "    <tr>\n",
       "      <th>1</th>\n",
       "      <td>1</td>\n",
       "      <td>24</td>\n",
       "      <td>-1</td>\n",
       "    </tr>\n",
       "    <tr>\n",
       "      <th>2</th>\n",
       "      <td>1</td>\n",
       "      <td>79</td>\n",
       "      <td>-1</td>\n",
       "    </tr>\n",
       "    <tr>\n",
       "      <th>3</th>\n",
       "      <td>1</td>\n",
       "      <td>226</td>\n",
       "      <td>-1</td>\n",
       "    </tr>\n",
       "    <tr>\n",
       "      <th>4</th>\n",
       "      <td>1</td>\n",
       "      <td>241</td>\n",
       "      <td>-1</td>\n",
       "    </tr>\n",
       "  </tbody>\n",
       "</table>\n",
       "</div>"
      ],
      "text/plain": [
       "   user_id  anime_id  rating\n",
       "0        1        20      -1\n",
       "1        1        24      -1\n",
       "2        1        79      -1\n",
       "3        1       226      -1\n",
       "4        1       241      -1"
      ]
     },
     "execution_count": 5,
     "metadata": {},
     "output_type": "execute_result"
    }
   ],
   "source": [
    "rf.head()"
   ]
  },
  {
   "cell_type": "code",
   "execution_count": 6,
   "metadata": {},
   "outputs": [
    {
     "data": {
      "text/plain": [
       "array([32281,  5114, 28977, ...,  5621,  6133, 26081], dtype=int64)"
      ]
     },
     "execution_count": 6,
     "metadata": {},
     "output_type": "execute_result"
    }
   ],
   "source": [
    "df.anime_id.unique()"
   ]
  },
  {
   "cell_type": "code",
   "execution_count": 7,
   "metadata": {},
   "outputs": [
    {
     "data": {
      "text/plain": [
       "array(['1', '64', '51', '24', '10', '148', '110', '13', '201', '25', '22',\n",
       "       '75', '4', '26', '12', '27', '43', '74', '37', '2', '11', '99',\n",
       "       'Unknown', '39', '101', '47', '50', '62', '33', '112', '23', '3',\n",
       "       '94', '6', '8', '14', '7', '40', '15', '203', '77', '291', '120',\n",
       "       '102', '96', '38', '79', '175', '103', '70', '153', '45', '5', '21',\n",
       "       '63', '52', '28', '145', '36', '69', '60', '178', '114', '35', '61',\n",
       "       '34', '109', '20', '9', '49', '366', '97', '48', '78', '358', '155',\n",
       "       '104', '113', '54', '167', '161', '42', '142', '31', '373', '220',\n",
       "       '46', '195', '17', '1787', '73', '147', '127', '16', '19', '98',\n",
       "       '150', '76', '53', '124', '29', '115', '224', '44', '58', '93',\n",
       "       '154', '92', '67', '172', '86', '30', '276', '59', '72', '330',\n",
       "       '41', '105', '128', '137', '56', '55', '65', '243', '193', '18',\n",
       "       '191', '180', '91', '192', '66', '182', '32', '164', '100', '296',\n",
       "       '694', '95', '68', '117', '151', '130', '87', '170', '119', '84',\n",
       "       '108', '156', '140', '331', '305', '300', '510', '200', '88',\n",
       "       '1471', '526', '143', '726', '136', '1818', '237', '1428', '365',\n",
       "       '163', '283', '71', '260', '199', '225', '312', '240', '1306',\n",
       "       '1565', '773', '1274', '90', '475', '263', '83', '85', '1006', '80',\n",
       "       '162', '132', '141', '125'], dtype=object)"
      ]
     },
     "execution_count": 7,
     "metadata": {},
     "output_type": "execute_result"
    }
   ],
   "source": [
    "df.episodes.unique()"
   ]
  },
  {
   "cell_type": "code",
   "execution_count": 8,
   "metadata": {},
   "outputs": [
    {
     "data": {
      "text/plain": [
       "array(['1', '64', '51', '24', '10', '148', '110', '13', '201', '25', '22',\n",
       "       '75', '4', '26', '12', '27', '43', '74', '37', '2', '11', '99', 2.0,\n",
       "       '39', '101', '47', '50', '62', '33', '112', '23', '3', '94', '6',\n",
       "       '8', '14', '7', '40', '15', '203', '77', '291', '120', '102', '96',\n",
       "       '38', '79', '175', '103', '70', '153', '45', '5', '21', '63', '52',\n",
       "       '28', '145', '36', '69', '60', '178', '114', '35', '61', '34',\n",
       "       '109', '20', '9', '49', '366', '97', '48', '78', '358', '155',\n",
       "       '104', '113', '54', '167', '161', '42', '142', '31', '373', '220',\n",
       "       '46', '195', '17', '1787', '73', '147', '127', '16', '19', '98',\n",
       "       '150', '76', '53', '124', '29', '115', '224', '44', '58', '93',\n",
       "       '154', '92', '67', '172', '86', '30', '276', '59', '72', '330',\n",
       "       '41', '105', '128', '137', '56', '55', '65', '243', '193', '18',\n",
       "       '191', '180', '91', '192', '66', '182', '32', '164', '100', '296',\n",
       "       '694', '95', '68', '117', '151', '130', '87', '170', '119', '84',\n",
       "       '108', '156', '140', '331', '305', '300', '510', '200', '88',\n",
       "       '1471', '526', '143', '726', '136', '1818', '237', '1428', '365',\n",
       "       '163', '283', '71', '260', '199', '225', '312', '240', '1306',\n",
       "       '1565', '773', '1274', '90', '475', '263', '83', '85', '1006', '80',\n",
       "       '162', '132', '141', '125'], dtype=object)"
      ]
     },
     "execution_count": 8,
     "metadata": {},
     "output_type": "execute_result"
    }
   ],
   "source": [
    "df[\"episodes\"] = df[\"episodes\"].map(lambda x:np.nan if x==\"Unknown\" else x)\n",
    "df[\"episodes\"].fillna(df['episodes'].median() ,inplace = True)\n",
    "df.episodes.unique()"
   ]
  },
  {
   "cell_type": "code",
   "execution_count": 9,
   "metadata": {},
   "outputs": [
    {
     "data": {
      "text/plain": [
       "array([-1, 10,  8,  6,  9,  7,  3,  5,  4,  1,  2], dtype=int64)"
      ]
     },
     "execution_count": 9,
     "metadata": {},
     "output_type": "execute_result"
    }
   ],
   "source": [
    "rf.rating.unique()"
   ]
  },
  {
   "cell_type": "code",
   "execution_count": 10,
   "metadata": {},
   "outputs": [
    {
     "data": {
      "text/plain": [
       "array([ nan,  10.,   8.,   6.,   9.,   7.,   3.,   5.,   4.,   1.,   2.])"
      ]
     },
     "execution_count": 10,
     "metadata": {},
     "output_type": "execute_result"
    }
   ],
   "source": [
    "rf[\"rating\"] = rf[\"rating\"].map(lambda x:np.nan if x==-1 else x)\n",
    "\n",
    "rf.rating.unique()"
   ]
  },
  {
   "cell_type": "code",
   "execution_count": 11,
   "metadata": {},
   "outputs": [
    {
     "data": {
      "text/plain": [
       "array([    1,     5,     6, ..., 34522, 34525, 34527], dtype=int64)"
      ]
     },
     "execution_count": 11,
     "metadata": {},
     "output_type": "execute_result"
    }
   ],
   "source": [
    "fd = df.anime_id.unique()\n",
    "np.sort(fd)"
   ]
  },
  {
   "cell_type": "code",
   "execution_count": 12,
   "metadata": {},
   "outputs": [
    {
     "data": {
      "text/plain": [
       "array([    1,     5,     6, ..., 34475, 34476, 34519], dtype=int64)"
      ]
     },
     "execution_count": 12,
     "metadata": {},
     "output_type": "execute_result"
    }
   ],
   "source": [
    "fr = rf.anime_id.unique()\n",
    "np.sort(fr)"
   ]
  },
  {
   "cell_type": "code",
   "execution_count": 13,
   "metadata": {},
   "outputs": [
    {
     "name": "stdout",
     "output_type": "stream",
     "text": [
      "11200\n",
      "12294\n"
     ]
    }
   ],
   "source": [
    "print len(fr)\n",
    "print len(fd)"
   ]
  },
  {
   "cell_type": "code",
   "execution_count": 14,
   "metadata": {
    "collapsed": true
   },
   "outputs": [],
   "source": [
    "nrf = rf.dropna(axis=0, how='any')"
   ]
  },
  {
   "cell_type": "code",
   "execution_count": 15,
   "metadata": {},
   "outputs": [
    {
     "data": {
      "text/plain": [
       "(6337241, 3)"
      ]
     },
     "execution_count": 15,
     "metadata": {},
     "output_type": "execute_result"
    }
   ],
   "source": [
    "nrf.shape"
   ]
  },
  {
   "cell_type": "code",
   "execution_count": 16,
   "metadata": {},
   "outputs": [
    {
     "data": {
      "text/plain": [
       "(7813737, 3)"
      ]
     },
     "execution_count": 16,
     "metadata": {},
     "output_type": "execute_result"
    }
   ],
   "source": [
    "rf.shape"
   ]
  },
  {
   "cell_type": "code",
   "execution_count": 17,
   "metadata": {},
   "outputs": [
    {
     "data": {
      "text/plain": [
       "array([ 10.,   8.,   6.,   9.,   7.,   3.,   5.,   4.,   1.,   2.])"
      ]
     },
     "execution_count": 17,
     "metadata": {},
     "output_type": "execute_result"
    }
   ],
   "source": [
    "nrf.rating.unique()"
   ]
  },
  {
   "cell_type": "code",
   "execution_count": 18,
   "metadata": {
    "collapsed": true
   },
   "outputs": [],
   "source": [
    "def convert(string):\n",
    "    try:\n",
    "        string = float(string)\n",
    "    except:\n",
    "        string = string\n",
    "    return string"
   ]
  },
  {
   "cell_type": "code",
   "execution_count": 19,
   "metadata": {
    "collapsed": true
   },
   "outputs": [],
   "source": [
    "df['episodes']=df['episodes'].map(convert)"
   ]
  },
  {
   "cell_type": "code",
   "execution_count": 20,
   "metadata": {
    "collapsed": true
   },
   "outputs": [],
   "source": [
    "df['rating']=df['rating'].map(convert)"
   ]
  },
  {
   "cell_type": "code",
   "execution_count": 21,
   "metadata": {
    "collapsed": true
   },
   "outputs": [],
   "source": [
    "newdf = pd.concat([df[\"genre\"].str.get_dummies(sep=\",\"),pd.get_dummies(df[[\"type\"]]),df[[\"rating\"]],df[[\"members\"]],df[\"episodes\"]],axis=1)"
   ]
  },
  {
   "cell_type": "code",
   "execution_count": 22,
   "metadata": {
    "collapsed": true
   },
   "outputs": [],
   "source": [
    "asx = newdf.dropna(axis = 0 , how ='any')"
   ]
  },
  {
   "cell_type": "code",
   "execution_count": 23,
   "metadata": {},
   "outputs": [
    {
     "data": {
      "text/html": [
       "<div>\n",
       "<style>\n",
       "    .dataframe thead tr:only-child th {\n",
       "        text-align: right;\n",
       "    }\n",
       "\n",
       "    .dataframe thead th {\n",
       "        text-align: left;\n",
       "    }\n",
       "\n",
       "    .dataframe tbody tr th {\n",
       "        vertical-align: top;\n",
       "    }\n",
       "</style>\n",
       "<table border=\"1\" class=\"dataframe\">\n",
       "  <thead>\n",
       "    <tr style=\"text-align: right;\">\n",
       "      <th></th>\n",
       "      <th>Adventure</th>\n",
       "      <th>Cars</th>\n",
       "      <th>Comedy</th>\n",
       "      <th>Dementia</th>\n",
       "      <th>Demons</th>\n",
       "      <th>Drama</th>\n",
       "      <th>Ecchi</th>\n",
       "      <th>Fantasy</th>\n",
       "      <th>Game</th>\n",
       "      <th>Harem</th>\n",
       "      <th>...</th>\n",
       "      <th>Yaoi</th>\n",
       "      <th>type_Movie</th>\n",
       "      <th>type_Music</th>\n",
       "      <th>type_ONA</th>\n",
       "      <th>type_OVA</th>\n",
       "      <th>type_Special</th>\n",
       "      <th>type_TV</th>\n",
       "      <th>rating</th>\n",
       "      <th>members</th>\n",
       "      <th>episodes</th>\n",
       "    </tr>\n",
       "  </thead>\n",
       "  <tbody>\n",
       "    <tr>\n",
       "      <th>count</th>\n",
       "      <td>12064.000000</td>\n",
       "      <td>12064.000000</td>\n",
       "      <td>12064.000000</td>\n",
       "      <td>12064.000000</td>\n",
       "      <td>12064.000000</td>\n",
       "      <td>12064.000000</td>\n",
       "      <td>12064.000000</td>\n",
       "      <td>12064.000000</td>\n",
       "      <td>12064.000000</td>\n",
       "      <td>12064.000000</td>\n",
       "      <td>...</td>\n",
       "      <td>12064.000000</td>\n",
       "      <td>12064.000000</td>\n",
       "      <td>12064.000000</td>\n",
       "      <td>12064.000000</td>\n",
       "      <td>12064.000000</td>\n",
       "      <td>12064.000000</td>\n",
       "      <td>12064.000000</td>\n",
       "      <td>12064.000000</td>\n",
       "      <td>1.206400e+04</td>\n",
       "      <td>12064.000000</td>\n",
       "    </tr>\n",
       "    <tr>\n",
       "      <th>mean</th>\n",
       "      <td>0.072198</td>\n",
       "      <td>0.003067</td>\n",
       "      <td>0.118369</td>\n",
       "      <td>0.002735</td>\n",
       "      <td>0.016827</td>\n",
       "      <td>0.083140</td>\n",
       "      <td>0.046751</td>\n",
       "      <td>0.145723</td>\n",
       "      <td>0.011605</td>\n",
       "      <td>0.022546</td>\n",
       "      <td>...</td>\n",
       "      <td>0.000166</td>\n",
       "      <td>0.190401</td>\n",
       "      <td>0.040451</td>\n",
       "      <td>0.054045</td>\n",
       "      <td>0.272298</td>\n",
       "      <td>0.138511</td>\n",
       "      <td>0.304294</td>\n",
       "      <td>6.473902</td>\n",
       "      <td>1.827952e+04</td>\n",
       "      <td>12.284483</td>\n",
       "    </tr>\n",
       "    <tr>\n",
       "      <th>std</th>\n",
       "      <td>0.258827</td>\n",
       "      <td>0.055298</td>\n",
       "      <td>0.323058</td>\n",
       "      <td>0.052232</td>\n",
       "      <td>0.128628</td>\n",
       "      <td>0.276105</td>\n",
       "      <td>0.211113</td>\n",
       "      <td>0.352843</td>\n",
       "      <td>0.107103</td>\n",
       "      <td>0.148458</td>\n",
       "      <td>...</td>\n",
       "      <td>0.012875</td>\n",
       "      <td>0.392634</td>\n",
       "      <td>0.197023</td>\n",
       "      <td>0.226116</td>\n",
       "      <td>0.445161</td>\n",
       "      <td>0.345450</td>\n",
       "      <td>0.460127</td>\n",
       "      <td>1.026746</td>\n",
       "      <td>5.527578e+04</td>\n",
       "      <td>46.661240</td>\n",
       "    </tr>\n",
       "    <tr>\n",
       "      <th>min</th>\n",
       "      <td>0.000000</td>\n",
       "      <td>0.000000</td>\n",
       "      <td>0.000000</td>\n",
       "      <td>0.000000</td>\n",
       "      <td>0.000000</td>\n",
       "      <td>0.000000</td>\n",
       "      <td>0.000000</td>\n",
       "      <td>0.000000</td>\n",
       "      <td>0.000000</td>\n",
       "      <td>0.000000</td>\n",
       "      <td>...</td>\n",
       "      <td>0.000000</td>\n",
       "      <td>0.000000</td>\n",
       "      <td>0.000000</td>\n",
       "      <td>0.000000</td>\n",
       "      <td>0.000000</td>\n",
       "      <td>0.000000</td>\n",
       "      <td>0.000000</td>\n",
       "      <td>1.670000</td>\n",
       "      <td>1.200000e+01</td>\n",
       "      <td>1.000000</td>\n",
       "    </tr>\n",
       "    <tr>\n",
       "      <th>25%</th>\n",
       "      <td>0.000000</td>\n",
       "      <td>0.000000</td>\n",
       "      <td>0.000000</td>\n",
       "      <td>0.000000</td>\n",
       "      <td>0.000000</td>\n",
       "      <td>0.000000</td>\n",
       "      <td>0.000000</td>\n",
       "      <td>0.000000</td>\n",
       "      <td>0.000000</td>\n",
       "      <td>0.000000</td>\n",
       "      <td>...</td>\n",
       "      <td>0.000000</td>\n",
       "      <td>0.000000</td>\n",
       "      <td>0.000000</td>\n",
       "      <td>0.000000</td>\n",
       "      <td>0.000000</td>\n",
       "      <td>0.000000</td>\n",
       "      <td>0.000000</td>\n",
       "      <td>5.880000</td>\n",
       "      <td>2.210000e+02</td>\n",
       "      <td>1.000000</td>\n",
       "    </tr>\n",
       "    <tr>\n",
       "      <th>50%</th>\n",
       "      <td>0.000000</td>\n",
       "      <td>0.000000</td>\n",
       "      <td>0.000000</td>\n",
       "      <td>0.000000</td>\n",
       "      <td>0.000000</td>\n",
       "      <td>0.000000</td>\n",
       "      <td>0.000000</td>\n",
       "      <td>0.000000</td>\n",
       "      <td>0.000000</td>\n",
       "      <td>0.000000</td>\n",
       "      <td>...</td>\n",
       "      <td>0.000000</td>\n",
       "      <td>0.000000</td>\n",
       "      <td>0.000000</td>\n",
       "      <td>0.000000</td>\n",
       "      <td>0.000000</td>\n",
       "      <td>0.000000</td>\n",
       "      <td>0.000000</td>\n",
       "      <td>6.570000</td>\n",
       "      <td>1.539000e+03</td>\n",
       "      <td>2.000000</td>\n",
       "    </tr>\n",
       "    <tr>\n",
       "      <th>75%</th>\n",
       "      <td>0.000000</td>\n",
       "      <td>0.000000</td>\n",
       "      <td>0.000000</td>\n",
       "      <td>0.000000</td>\n",
       "      <td>0.000000</td>\n",
       "      <td>0.000000</td>\n",
       "      <td>0.000000</td>\n",
       "      <td>0.000000</td>\n",
       "      <td>0.000000</td>\n",
       "      <td>0.000000</td>\n",
       "      <td>...</td>\n",
       "      <td>0.000000</td>\n",
       "      <td>0.000000</td>\n",
       "      <td>0.000000</td>\n",
       "      <td>0.000000</td>\n",
       "      <td>1.000000</td>\n",
       "      <td>0.000000</td>\n",
       "      <td>1.000000</td>\n",
       "      <td>7.180000</td>\n",
       "      <td>9.485500e+03</td>\n",
       "      <td>12.000000</td>\n",
       "    </tr>\n",
       "    <tr>\n",
       "      <th>max</th>\n",
       "      <td>1.000000</td>\n",
       "      <td>1.000000</td>\n",
       "      <td>1.000000</td>\n",
       "      <td>1.000000</td>\n",
       "      <td>1.000000</td>\n",
       "      <td>1.000000</td>\n",
       "      <td>1.000000</td>\n",
       "      <td>1.000000</td>\n",
       "      <td>1.000000</td>\n",
       "      <td>1.000000</td>\n",
       "      <td>...</td>\n",
       "      <td>1.000000</td>\n",
       "      <td>1.000000</td>\n",
       "      <td>1.000000</td>\n",
       "      <td>1.000000</td>\n",
       "      <td>1.000000</td>\n",
       "      <td>1.000000</td>\n",
       "      <td>1.000000</td>\n",
       "      <td>10.000000</td>\n",
       "      <td>1.013917e+06</td>\n",
       "      <td>1818.000000</td>\n",
       "    </tr>\n",
       "  </tbody>\n",
       "</table>\n",
       "<p>8 rows × 91 columns</p>\n",
       "</div>"
      ],
      "text/plain": [
       "          Adventure          Cars        Comedy      Dementia        Demons  \\\n",
       "count  12064.000000  12064.000000  12064.000000  12064.000000  12064.000000   \n",
       "mean       0.072198      0.003067      0.118369      0.002735      0.016827   \n",
       "std        0.258827      0.055298      0.323058      0.052232      0.128628   \n",
       "min        0.000000      0.000000      0.000000      0.000000      0.000000   \n",
       "25%        0.000000      0.000000      0.000000      0.000000      0.000000   \n",
       "50%        0.000000      0.000000      0.000000      0.000000      0.000000   \n",
       "75%        0.000000      0.000000      0.000000      0.000000      0.000000   \n",
       "max        1.000000      1.000000      1.000000      1.000000      1.000000   \n",
       "\n",
       "              Drama         Ecchi       Fantasy          Game         Harem  \\\n",
       "count  12064.000000  12064.000000  12064.000000  12064.000000  12064.000000   \n",
       "mean       0.083140      0.046751      0.145723      0.011605      0.022546   \n",
       "std        0.276105      0.211113      0.352843      0.107103      0.148458   \n",
       "min        0.000000      0.000000      0.000000      0.000000      0.000000   \n",
       "25%        0.000000      0.000000      0.000000      0.000000      0.000000   \n",
       "50%        0.000000      0.000000      0.000000      0.000000      0.000000   \n",
       "75%        0.000000      0.000000      0.000000      0.000000      0.000000   \n",
       "max        1.000000      1.000000      1.000000      1.000000      1.000000   \n",
       "\n",
       "           ...               Yaoi    type_Movie    type_Music      type_ONA  \\\n",
       "count      ...       12064.000000  12064.000000  12064.000000  12064.000000   \n",
       "mean       ...           0.000166      0.190401      0.040451      0.054045   \n",
       "std        ...           0.012875      0.392634      0.197023      0.226116   \n",
       "min        ...           0.000000      0.000000      0.000000      0.000000   \n",
       "25%        ...           0.000000      0.000000      0.000000      0.000000   \n",
       "50%        ...           0.000000      0.000000      0.000000      0.000000   \n",
       "75%        ...           0.000000      0.000000      0.000000      0.000000   \n",
       "max        ...           1.000000      1.000000      1.000000      1.000000   \n",
       "\n",
       "           type_OVA  type_Special       type_TV        rating       members  \\\n",
       "count  12064.000000  12064.000000  12064.000000  12064.000000  1.206400e+04   \n",
       "mean       0.272298      0.138511      0.304294      6.473902  1.827952e+04   \n",
       "std        0.445161      0.345450      0.460127      1.026746  5.527578e+04   \n",
       "min        0.000000      0.000000      0.000000      1.670000  1.200000e+01   \n",
       "25%        0.000000      0.000000      0.000000      5.880000  2.210000e+02   \n",
       "50%        0.000000      0.000000      0.000000      6.570000  1.539000e+03   \n",
       "75%        1.000000      0.000000      1.000000      7.180000  9.485500e+03   \n",
       "max        1.000000      1.000000      1.000000     10.000000  1.013917e+06   \n",
       "\n",
       "           episodes  \n",
       "count  12064.000000  \n",
       "mean      12.284483  \n",
       "std       46.661240  \n",
       "min        1.000000  \n",
       "25%        1.000000  \n",
       "50%        2.000000  \n",
       "75%       12.000000  \n",
       "max     1818.000000  \n",
       "\n",
       "[8 rows x 91 columns]"
      ]
     },
     "execution_count": 23,
     "metadata": {},
     "output_type": "execute_result"
    }
   ],
   "source": [
    "asx.describe()"
   ]
  },
  {
   "cell_type": "code",
   "execution_count": 24,
   "metadata": {},
   "outputs": [
    {
     "data": {
      "text/plain": [
       "Index([u' Adventure', u' Cars', u' Comedy', u' Dementia', u' Demons',\n",
       "       u' Drama', u' Ecchi', u' Fantasy', u' Game', u' Harem', u' Hentai',\n",
       "       u' Historical', u' Horror', u' Josei', u' Kids', u' Magic',\n",
       "       u' Martial Arts', u' Mecha', u' Military', u' Music', u' Mystery',\n",
       "       u' Parody', u' Police', u' Psychological', u' Romance', u' Samurai',\n",
       "       u' School', u' Sci-Fi', u' Seinen', u' Shoujo', u' Shoujo Ai',\n",
       "       u' Shounen', u' Shounen Ai', u' Slice of Life', u' Space', u' Sports',\n",
       "       u' Super Power', u' Supernatural', u' Thriller', u' Vampire', u' Yaoi',\n",
       "       u' Yuri', u'Action', u'Adventure', u'Cars', u'Comedy', u'Dementia',\n",
       "       u'Demons', u'Drama', u'Ecchi', u'Fantasy', u'Game', u'Harem', u'Hentai',\n",
       "       u'Historical', u'Horror', u'Josei', u'Kids', u'Magic', u'Martial Arts',\n",
       "       u'Mecha', u'Military', u'Music', u'Mystery', u'Parody', u'Police',\n",
       "       u'Psychological', u'Romance', u'Samurai', u'School', u'Sci-Fi',\n",
       "       u'Seinen', u'Shoujo', u'Shounen', u'Slice of Life', u'Space', u'Sports',\n",
       "       u'Super Power', u'Supernatural', u'Thriller', u'Vampire', u'Yaoi',\n",
       "       u'type_Movie', u'type_Music', u'type_ONA', u'type_OVA', u'type_Special',\n",
       "       u'type_TV', u'rating', u'members', u'episodes'],\n",
       "      dtype='object')"
      ]
     },
     "execution_count": 24,
     "metadata": {},
     "output_type": "execute_result"
    }
   ],
   "source": [
    "newdf.columns"
   ]
  },
  {
   "cell_type": "code",
   "execution_count": 25,
   "metadata": {
    "collapsed": true
   },
   "outputs": [],
   "source": [
    "df[\"name\"] = df[\"name\"].map(lambda name:re.sub('[^A-Za-z0-9]+', \" \", name))"
   ]
  },
  {
   "cell_type": "code",
   "execution_count": 26,
   "metadata": {},
   "outputs": [
    {
     "data": {
      "text/html": [
       "<div>\n",
       "<style>\n",
       "    .dataframe thead tr:only-child th {\n",
       "        text-align: right;\n",
       "    }\n",
       "\n",
       "    .dataframe thead th {\n",
       "        text-align: left;\n",
       "    }\n",
       "\n",
       "    .dataframe tbody tr th {\n",
       "        vertical-align: top;\n",
       "    }\n",
       "</style>\n",
       "<table border=\"1\" class=\"dataframe\">\n",
       "  <thead>\n",
       "    <tr style=\"text-align: right;\">\n",
       "      <th></th>\n",
       "      <th>anime_id</th>\n",
       "      <th>name</th>\n",
       "      <th>genre</th>\n",
       "      <th>type</th>\n",
       "      <th>episodes</th>\n",
       "      <th>rating</th>\n",
       "      <th>members</th>\n",
       "    </tr>\n",
       "  </thead>\n",
       "  <tbody>\n",
       "    <tr>\n",
       "      <th>0</th>\n",
       "      <td>32281</td>\n",
       "      <td>Kimi no Na wa</td>\n",
       "      <td>Drama, Romance, School, Supernatural</td>\n",
       "      <td>Movie</td>\n",
       "      <td>1.0</td>\n",
       "      <td>9.37</td>\n",
       "      <td>200630</td>\n",
       "    </tr>\n",
       "    <tr>\n",
       "      <th>1</th>\n",
       "      <td>5114</td>\n",
       "      <td>Fullmetal Alchemist Brotherhood</td>\n",
       "      <td>Action, Adventure, Drama, Fantasy, Magic, Mili...</td>\n",
       "      <td>TV</td>\n",
       "      <td>64.0</td>\n",
       "      <td>9.26</td>\n",
       "      <td>793665</td>\n",
       "    </tr>\n",
       "    <tr>\n",
       "      <th>2</th>\n",
       "      <td>28977</td>\n",
       "      <td>Gintama</td>\n",
       "      <td>Action, Comedy, Historical, Parody, Samurai, S...</td>\n",
       "      <td>TV</td>\n",
       "      <td>51.0</td>\n",
       "      <td>9.25</td>\n",
       "      <td>114262</td>\n",
       "    </tr>\n",
       "    <tr>\n",
       "      <th>3</th>\n",
       "      <td>9253</td>\n",
       "      <td>Steins Gate</td>\n",
       "      <td>Sci-Fi, Thriller</td>\n",
       "      <td>TV</td>\n",
       "      <td>24.0</td>\n",
       "      <td>9.17</td>\n",
       "      <td>673572</td>\n",
       "    </tr>\n",
       "    <tr>\n",
       "      <th>4</th>\n",
       "      <td>9969</td>\n",
       "      <td>Gintama 039</td>\n",
       "      <td>Action, Comedy, Historical, Parody, Samurai, S...</td>\n",
       "      <td>TV</td>\n",
       "      <td>51.0</td>\n",
       "      <td>9.16</td>\n",
       "      <td>151266</td>\n",
       "    </tr>\n",
       "    <tr>\n",
       "      <th>5</th>\n",
       "      <td>32935</td>\n",
       "      <td>Haikyuu Karasuno Koukou VS Shiratorizawa Gakue...</td>\n",
       "      <td>Comedy, Drama, School, Shounen, Sports</td>\n",
       "      <td>TV</td>\n",
       "      <td>10.0</td>\n",
       "      <td>9.15</td>\n",
       "      <td>93351</td>\n",
       "    </tr>\n",
       "    <tr>\n",
       "      <th>6</th>\n",
       "      <td>11061</td>\n",
       "      <td>Hunter x Hunter 2011</td>\n",
       "      <td>Action, Adventure, Shounen, Super Power</td>\n",
       "      <td>TV</td>\n",
       "      <td>148.0</td>\n",
       "      <td>9.13</td>\n",
       "      <td>425855</td>\n",
       "    </tr>\n",
       "    <tr>\n",
       "      <th>7</th>\n",
       "      <td>820</td>\n",
       "      <td>Ginga Eiyuu Densetsu</td>\n",
       "      <td>Drama, Military, Sci-Fi, Space</td>\n",
       "      <td>OVA</td>\n",
       "      <td>110.0</td>\n",
       "      <td>9.11</td>\n",
       "      <td>80679</td>\n",
       "    </tr>\n",
       "    <tr>\n",
       "      <th>8</th>\n",
       "      <td>15335</td>\n",
       "      <td>Gintama Movie Kanketsu hen Yorozuya yo Eien Nare</td>\n",
       "      <td>Action, Comedy, Historical, Parody, Samurai, S...</td>\n",
       "      <td>Movie</td>\n",
       "      <td>1.0</td>\n",
       "      <td>9.10</td>\n",
       "      <td>72534</td>\n",
       "    </tr>\n",
       "    <tr>\n",
       "      <th>9</th>\n",
       "      <td>15417</td>\n",
       "      <td>Gintama 039 Enchousen</td>\n",
       "      <td>Action, Comedy, Historical, Parody, Samurai, S...</td>\n",
       "      <td>TV</td>\n",
       "      <td>13.0</td>\n",
       "      <td>9.11</td>\n",
       "      <td>81109</td>\n",
       "    </tr>\n",
       "    <tr>\n",
       "      <th>10</th>\n",
       "      <td>4181</td>\n",
       "      <td>Clannad After Story</td>\n",
       "      <td>Drama, Fantasy, Romance, Slice of Life, Supern...</td>\n",
       "      <td>TV</td>\n",
       "      <td>24.0</td>\n",
       "      <td>9.06</td>\n",
       "      <td>456749</td>\n",
       "    </tr>\n",
       "    <tr>\n",
       "      <th>11</th>\n",
       "      <td>28851</td>\n",
       "      <td>Koe no Katachi</td>\n",
       "      <td>Drama, School, Shounen</td>\n",
       "      <td>Movie</td>\n",
       "      <td>1.0</td>\n",
       "      <td>9.05</td>\n",
       "      <td>102733</td>\n",
       "    </tr>\n",
       "    <tr>\n",
       "      <th>12</th>\n",
       "      <td>918</td>\n",
       "      <td>Gintama</td>\n",
       "      <td>Action, Comedy, Historical, Parody, Samurai, S...</td>\n",
       "      <td>TV</td>\n",
       "      <td>201.0</td>\n",
       "      <td>9.04</td>\n",
       "      <td>336376</td>\n",
       "    </tr>\n",
       "    <tr>\n",
       "      <th>13</th>\n",
       "      <td>2904</td>\n",
       "      <td>Code Geass Hangyaku no Lelouch R2</td>\n",
       "      <td>Action, Drama, Mecha, Military, Sci-Fi, Super ...</td>\n",
       "      <td>TV</td>\n",
       "      <td>25.0</td>\n",
       "      <td>8.98</td>\n",
       "      <td>572888</td>\n",
       "    </tr>\n",
       "    <tr>\n",
       "      <th>14</th>\n",
       "      <td>28891</td>\n",
       "      <td>Haikyuu Second Season</td>\n",
       "      <td>Comedy, Drama, School, Shounen, Sports</td>\n",
       "      <td>TV</td>\n",
       "      <td>25.0</td>\n",
       "      <td>8.93</td>\n",
       "      <td>179342</td>\n",
       "    </tr>\n",
       "    <tr>\n",
       "      <th>15</th>\n",
       "      <td>199</td>\n",
       "      <td>Sen to Chihiro no Kamikakushi</td>\n",
       "      <td>Adventure, Drama, Supernatural</td>\n",
       "      <td>Movie</td>\n",
       "      <td>1.0</td>\n",
       "      <td>8.93</td>\n",
       "      <td>466254</td>\n",
       "    </tr>\n",
       "    <tr>\n",
       "      <th>16</th>\n",
       "      <td>23273</td>\n",
       "      <td>Shigatsu wa Kimi no Uso</td>\n",
       "      <td>Drama, Music, Romance, School, Shounen</td>\n",
       "      <td>TV</td>\n",
       "      <td>22.0</td>\n",
       "      <td>8.92</td>\n",
       "      <td>416397</td>\n",
       "    </tr>\n",
       "    <tr>\n",
       "      <th>17</th>\n",
       "      <td>24701</td>\n",
       "      <td>Mushishi Zoku Shou 2nd Season</td>\n",
       "      <td>Adventure, Fantasy, Historical, Mystery, Seine...</td>\n",
       "      <td>TV</td>\n",
       "      <td>10.0</td>\n",
       "      <td>8.88</td>\n",
       "      <td>75894</td>\n",
       "    </tr>\n",
       "    <tr>\n",
       "      <th>18</th>\n",
       "      <td>12355</td>\n",
       "      <td>Ookami Kodomo no Ame to Yuki</td>\n",
       "      <td>Fantasy, Slice of Life</td>\n",
       "      <td>Movie</td>\n",
       "      <td>1.0</td>\n",
       "      <td>8.84</td>\n",
       "      <td>226193</td>\n",
       "    </tr>\n",
       "    <tr>\n",
       "      <th>19</th>\n",
       "      <td>1575</td>\n",
       "      <td>Code Geass Hangyaku no Lelouch</td>\n",
       "      <td>Action, Mecha, Military, School, Sci-Fi, Super...</td>\n",
       "      <td>TV</td>\n",
       "      <td>25.0</td>\n",
       "      <td>8.83</td>\n",
       "      <td>715151</td>\n",
       "    </tr>\n",
       "    <tr>\n",
       "      <th>20</th>\n",
       "      <td>263</td>\n",
       "      <td>Hajime no Ippo</td>\n",
       "      <td>Comedy, Drama, Shounen, Sports</td>\n",
       "      <td>TV</td>\n",
       "      <td>75.0</td>\n",
       "      <td>8.83</td>\n",
       "      <td>157670</td>\n",
       "    </tr>\n",
       "    <tr>\n",
       "      <th>21</th>\n",
       "      <td>44</td>\n",
       "      <td>Rurouni Kenshin Meiji Kenkaku Romantan Tsuioku...</td>\n",
       "      <td>Action, Drama, Historical, Martial Arts, Roman...</td>\n",
       "      <td>OVA</td>\n",
       "      <td>4.0</td>\n",
       "      <td>8.83</td>\n",
       "      <td>129307</td>\n",
       "    </tr>\n",
       "    <tr>\n",
       "      <th>22</th>\n",
       "      <td>1</td>\n",
       "      <td>Cowboy Bebop</td>\n",
       "      <td>Action, Adventure, Comedy, Drama, Sci-Fi, Space</td>\n",
       "      <td>TV</td>\n",
       "      <td>26.0</td>\n",
       "      <td>8.82</td>\n",
       "      <td>486824</td>\n",
       "    </tr>\n",
       "    <tr>\n",
       "      <th>23</th>\n",
       "      <td>30276</td>\n",
       "      <td>One Punch Man</td>\n",
       "      <td>Action, Comedy, Parody, Sci-Fi, Seinen, Super ...</td>\n",
       "      <td>TV</td>\n",
       "      <td>12.0</td>\n",
       "      <td>8.82</td>\n",
       "      <td>552458</td>\n",
       "    </tr>\n",
       "    <tr>\n",
       "      <th>24</th>\n",
       "      <td>164</td>\n",
       "      <td>Mononoke Hime</td>\n",
       "      <td>Action, Adventure, Fantasy</td>\n",
       "      <td>Movie</td>\n",
       "      <td>1.0</td>\n",
       "      <td>8.81</td>\n",
       "      <td>339556</td>\n",
       "    </tr>\n",
       "    <tr>\n",
       "      <th>25</th>\n",
       "      <td>7311</td>\n",
       "      <td>Suzumiya Haruhi no Shoushitsu</td>\n",
       "      <td>Comedy, Mystery, Romance, School, Sci-Fi, Supe...</td>\n",
       "      <td>Movie</td>\n",
       "      <td>1.0</td>\n",
       "      <td>8.81</td>\n",
       "      <td>240297</td>\n",
       "    </tr>\n",
       "    <tr>\n",
       "      <th>26</th>\n",
       "      <td>17074</td>\n",
       "      <td>Monogatari Series Second Season</td>\n",
       "      <td>Comedy, Mystery, Romance, Supernatural, Vampire</td>\n",
       "      <td>TV</td>\n",
       "      <td>26.0</td>\n",
       "      <td>8.80</td>\n",
       "      <td>205959</td>\n",
       "    </tr>\n",
       "    <tr>\n",
       "      <th>27</th>\n",
       "      <td>21939</td>\n",
       "      <td>Mushishi Zoku Shou</td>\n",
       "      <td>Adventure, Fantasy, Historical, Mystery, Seine...</td>\n",
       "      <td>TV</td>\n",
       "      <td>10.0</td>\n",
       "      <td>8.80</td>\n",
       "      <td>101351</td>\n",
       "    </tr>\n",
       "    <tr>\n",
       "      <th>28</th>\n",
       "      <td>457</td>\n",
       "      <td>Mushishi</td>\n",
       "      <td>Adventure, Fantasy, Historical, Mystery, Seine...</td>\n",
       "      <td>TV</td>\n",
       "      <td>26.0</td>\n",
       "      <td>8.78</td>\n",
       "      <td>300030</td>\n",
       "    </tr>\n",
       "    <tr>\n",
       "      <th>29</th>\n",
       "      <td>2001</td>\n",
       "      <td>Tengen Toppa Gurren Lagann</td>\n",
       "      <td>Action, Adventure, Comedy, Mecha, Sci-Fi</td>\n",
       "      <td>TV</td>\n",
       "      <td>27.0</td>\n",
       "      <td>8.78</td>\n",
       "      <td>562962</td>\n",
       "    </tr>\n",
       "  </tbody>\n",
       "</table>\n",
       "</div>"
      ],
      "text/plain": [
       "    anime_id                                               name  \\\n",
       "0      32281                                     Kimi no Na wa    \n",
       "1       5114                    Fullmetal Alchemist Brotherhood   \n",
       "2      28977                                           Gintama    \n",
       "3       9253                                        Steins Gate   \n",
       "4       9969                                       Gintama 039    \n",
       "5      32935  Haikyuu Karasuno Koukou VS Shiratorizawa Gakue...   \n",
       "6      11061                              Hunter x Hunter 2011    \n",
       "7        820                               Ginga Eiyuu Densetsu   \n",
       "8      15335   Gintama Movie Kanketsu hen Yorozuya yo Eien Nare   \n",
       "9      15417                              Gintama 039 Enchousen   \n",
       "10      4181                                Clannad After Story   \n",
       "11     28851                                     Koe no Katachi   \n",
       "12       918                                            Gintama   \n",
       "13      2904                  Code Geass Hangyaku no Lelouch R2   \n",
       "14     28891                              Haikyuu Second Season   \n",
       "15       199                      Sen to Chihiro no Kamikakushi   \n",
       "16     23273                            Shigatsu wa Kimi no Uso   \n",
       "17     24701                      Mushishi Zoku Shou 2nd Season   \n",
       "18     12355                       Ookami Kodomo no Ame to Yuki   \n",
       "19      1575                     Code Geass Hangyaku no Lelouch   \n",
       "20       263                                     Hajime no Ippo   \n",
       "21        44  Rurouni Kenshin Meiji Kenkaku Romantan Tsuioku...   \n",
       "22         1                                       Cowboy Bebop   \n",
       "23     30276                                      One Punch Man   \n",
       "24       164                                      Mononoke Hime   \n",
       "25      7311                      Suzumiya Haruhi no Shoushitsu   \n",
       "26     17074                    Monogatari Series Second Season   \n",
       "27     21939                                 Mushishi Zoku Shou   \n",
       "28       457                                           Mushishi   \n",
       "29      2001                         Tengen Toppa Gurren Lagann   \n",
       "\n",
       "                                                genre   type  episodes  \\\n",
       "0                Drama, Romance, School, Supernatural  Movie       1.0   \n",
       "1   Action, Adventure, Drama, Fantasy, Magic, Mili...     TV      64.0   \n",
       "2   Action, Comedy, Historical, Parody, Samurai, S...     TV      51.0   \n",
       "3                                    Sci-Fi, Thriller     TV      24.0   \n",
       "4   Action, Comedy, Historical, Parody, Samurai, S...     TV      51.0   \n",
       "5              Comedy, Drama, School, Shounen, Sports     TV      10.0   \n",
       "6             Action, Adventure, Shounen, Super Power     TV     148.0   \n",
       "7                      Drama, Military, Sci-Fi, Space    OVA     110.0   \n",
       "8   Action, Comedy, Historical, Parody, Samurai, S...  Movie       1.0   \n",
       "9   Action, Comedy, Historical, Parody, Samurai, S...     TV      13.0   \n",
       "10  Drama, Fantasy, Romance, Slice of Life, Supern...     TV      24.0   \n",
       "11                             Drama, School, Shounen  Movie       1.0   \n",
       "12  Action, Comedy, Historical, Parody, Samurai, S...     TV     201.0   \n",
       "13  Action, Drama, Mecha, Military, Sci-Fi, Super ...     TV      25.0   \n",
       "14             Comedy, Drama, School, Shounen, Sports     TV      25.0   \n",
       "15                     Adventure, Drama, Supernatural  Movie       1.0   \n",
       "16             Drama, Music, Romance, School, Shounen     TV      22.0   \n",
       "17  Adventure, Fantasy, Historical, Mystery, Seine...     TV      10.0   \n",
       "18                             Fantasy, Slice of Life  Movie       1.0   \n",
       "19  Action, Mecha, Military, School, Sci-Fi, Super...     TV      25.0   \n",
       "20                     Comedy, Drama, Shounen, Sports     TV      75.0   \n",
       "21  Action, Drama, Historical, Martial Arts, Roman...    OVA       4.0   \n",
       "22    Action, Adventure, Comedy, Drama, Sci-Fi, Space     TV      26.0   \n",
       "23  Action, Comedy, Parody, Sci-Fi, Seinen, Super ...     TV      12.0   \n",
       "24                         Action, Adventure, Fantasy  Movie       1.0   \n",
       "25  Comedy, Mystery, Romance, School, Sci-Fi, Supe...  Movie       1.0   \n",
       "26    Comedy, Mystery, Romance, Supernatural, Vampire     TV      26.0   \n",
       "27  Adventure, Fantasy, Historical, Mystery, Seine...     TV      10.0   \n",
       "28  Adventure, Fantasy, Historical, Mystery, Seine...     TV      26.0   \n",
       "29           Action, Adventure, Comedy, Mecha, Sci-Fi     TV      27.0   \n",
       "\n",
       "    rating  members  \n",
       "0     9.37   200630  \n",
       "1     9.26   793665  \n",
       "2     9.25   114262  \n",
       "3     9.17   673572  \n",
       "4     9.16   151266  \n",
       "5     9.15    93351  \n",
       "6     9.13   425855  \n",
       "7     9.11    80679  \n",
       "8     9.10    72534  \n",
       "9     9.11    81109  \n",
       "10    9.06   456749  \n",
       "11    9.05   102733  \n",
       "12    9.04   336376  \n",
       "13    8.98   572888  \n",
       "14    8.93   179342  \n",
       "15    8.93   466254  \n",
       "16    8.92   416397  \n",
       "17    8.88    75894  \n",
       "18    8.84   226193  \n",
       "19    8.83   715151  \n",
       "20    8.83   157670  \n",
       "21    8.83   129307  \n",
       "22    8.82   486824  \n",
       "23    8.82   552458  \n",
       "24    8.81   339556  \n",
       "25    8.81   240297  \n",
       "26    8.80   205959  \n",
       "27    8.80   101351  \n",
       "28    8.78   300030  \n",
       "29    8.78   562962  "
      ]
     },
     "execution_count": 26,
     "metadata": {},
     "output_type": "execute_result"
    }
   ],
   "source": [
    "df.head(30)"
   ]
  },
  {
   "cell_type": "code",
   "execution_count": 27,
   "metadata": {
    "collapsed": true
   },
   "outputs": [],
   "source": [
    "max_abs_scaler = MaxAbsScaler()\n",
    "asx = max_abs_scaler.fit_transform(asx)"
   ]
  },
  {
   "cell_type": "code",
   "execution_count": 28,
   "metadata": {
    "collapsed": true
   },
   "outputs": [],
   "source": [
    "from sklearn.neighbors import NearestNeighbors"
   ]
  },
  {
   "cell_type": "code",
   "execution_count": 29,
   "metadata": {
    "collapsed": true
   },
   "outputs": [],
   "source": [
    "nbrs = NearestNeighbors(n_neighbors=6, algorithm='ball_tree').fit(asx)"
   ]
  },
  {
   "cell_type": "code",
   "execution_count": 30,
   "metadata": {
    "collapsed": true
   },
   "outputs": [],
   "source": [
    "distances, indices = nbrs.kneighbors(asx)"
   ]
  },
  {
   "cell_type": "code",
   "execution_count": 31,
   "metadata": {
    "collapsed": true
   },
   "outputs": [],
   "source": [
    "def idee_anime(x):\n",
    "    return df[df[\"name\"]== x].index.tolist()[0]"
   ]
  },
  {
   "cell_type": "code",
   "execution_count": 32,
   "metadata": {},
   "outputs": [
    {
     "data": {
      "text/plain": [
       "99"
      ]
     },
     "execution_count": 32,
     "metadata": {},
     "output_type": "execute_result"
    }
   ],
   "source": [
    "idee_anime('Barakamon')"
   ]
  },
  {
   "cell_type": "code",
   "execution_count": 33,
   "metadata": {},
   "outputs": [
    {
     "data": {
      "text/plain": [
       "array([  22,  551, 1398, 2333, 3057, 6568], dtype=int64)"
      ]
     },
     "execution_count": 33,
     "metadata": {},
     "output_type": "execute_result"
    }
   ],
   "source": [
    "indices[22]"
   ]
  },
  {
   "cell_type": "code",
   "execution_count": 34,
   "metadata": {
    "collapsed": true
   },
   "outputs": [],
   "source": [
    "all_names = list(df.name.values)"
   ]
  },
  {
   "cell_type": "code",
   "execution_count": 35,
   "metadata": {
    "collapsed": true
   },
   "outputs": [],
   "source": [
    "def get_name(partial):\n",
    "    for name in all_names:\n",
    "        if partial in name:\n",
    "            print(name,all_names.index(name))"
   ]
  },
  {
   "cell_type": "code",
   "execution_count": 39,
   "metadata": {
    "collapsed": true
   },
   "outputs": [],
   "source": [
    "def print_similar(query=None,id=None):\n",
    "    if id:\n",
    "        for id in indices[id][1:]:\n",
    "            print(df.iloc[id][\"name\"])\n",
    "    if query:\n",
    "        found_id = get_name(query)\n",
    "        for id in indices[found_id][1:]:\n",
    "            print(df.iloc[id][\"name\"])"
   ]
  },
  {
   "cell_type": "code",
   "execution_count": 40,
   "metadata": {},
   "outputs": [
    {
     "name": "stdout",
     "output_type": "stream",
     "text": [
      "('Boruto Naruto the Movie', 486)\n",
      "('Naruto Shippuuden', 615)\n",
      "('The Last Naruto the Movie', 719)\n",
      "('Naruto Shippuuden Movie 6 Road to Ninja', 784)\n",
      "('Naruto', 841)\n",
      "('Boruto Naruto the Movie Naruto ga Hokage ni Natta Hi', 1103)\n",
      "('Naruto Shippuuden Movie 5 Blood Prison', 1237)\n",
      "('Naruto x UT', 1343)\n",
      "('Naruto Shippuuden Movie 4 The Lost Tower', 1472)\n",
      "('Naruto Shippuuden Movie 3 Hi no Ishi wo Tsugu Mono', 1573)\n",
      "('Naruto Shippuuden Movie 1', 1827)\n",
      "('Naruto Shippuuden Movie 2 Kizuna', 1828)\n",
      "('Naruto Shippuuden Shippuu quot Konoha Gakuen quot Den', 2374)\n",
      "('Naruto Honoo no Chuunin Shiken Naruto vs Konohamaru ', 2416)\n",
      "('Naruto SD Rock Lee no Seishun Full Power Ninden', 2457)\n",
      "('Naruto Shippuuden Sunny Side Battle', 2458)\n",
      "('Naruto Movie 1 Dai Katsugeki Yuki Hime Shinobu Houjou Dattebayo ', 2756)\n",
      "('Naruto Soyokazeden Movie Naruto to Mashin to Mitsu no Onegai Dattebayo ', 2997)\n",
      "('Naruto Movie 2 Dai Gekitotsu Maboroshi no Chiteiiseki Dattebayo ', 3449)\n",
      "('Naruto Dai Katsugeki Yuki Hime Shinobu Houjou Dattebayo Special Konoha Annual Sports Festival', 3529)\n",
      "('Naruto Movie 3 Dai Koufun Mikazuki Jima no Animaru Panikku Dattebayo ', 3560)\n",
      "('Naruto The Cross Roads', 3561)\n",
      "('Naruto Narutimate Hero 3 Tsuini Gekitotsu Jounin vs Genin Musabetsu Dairansen taikai Kaisai ', 3838)\n",
      "('Naruto Takigakure no Shitou Ore ga Eiyuu Dattebayo ', 3984)\n",
      "('Naruto Akaki Yotsuba no Clover wo Sagase', 5111)\n"
     ]
    }
   ],
   "source": [
    "get_name('Naruto')"
   ]
  },
  {
   "cell_type": "code",
   "execution_count": 41,
   "metadata": {},
   "outputs": [
    {
     "name": "stdout",
     "output_type": "stream",
     "text": [
      "Working \n",
      "Working 039 \n",
      "New Game \n",
      "Tamako Market\n",
      "Servant x Service\n"
     ]
    }
   ],
   "source": [
    "print_similar(id = 99)"
   ]
  },
  {
   "cell_type": "code",
   "execution_count": 45,
   "metadata": {},
   "outputs": [
    {
     "data": {
      "text/plain": [
       "Index([u'user_id', u'anime_id', u'rating'], dtype='object')"
      ]
     },
     "execution_count": 45,
     "metadata": {},
     "output_type": "execute_result"
    }
   ],
   "source": [
    "nrf.columns"
   ]
  },
  {
   "cell_type": "code",
   "execution_count": 51,
   "metadata": {},
   "outputs": [],
   "source": [
    "nrf.reset_index(inplace = True )"
   ]
  },
  {
   "cell_type": "code",
   "execution_count": 54,
   "metadata": {},
   "outputs": [],
   "source": [
    "prf = nrf.pivot_table(index = 'user_id', columns ='anime_id', values = 'rating', aggfunc = 'mean').fillna(0)"
   ]
  },
  {
   "cell_type": "code",
   "execution_count": 57,
   "metadata": {},
   "outputs": [
    {
     "data": {
      "text/html": [
       "<div>\n",
       "<style>\n",
       "    .dataframe thead tr:only-child th {\n",
       "        text-align: right;\n",
       "    }\n",
       "\n",
       "    .dataframe thead th {\n",
       "        text-align: left;\n",
       "    }\n",
       "\n",
       "    .dataframe tbody tr th {\n",
       "        vertical-align: top;\n",
       "    }\n",
       "</style>\n",
       "<table border=\"1\" class=\"dataframe\">\n",
       "  <thead>\n",
       "    <tr style=\"text-align: right;\">\n",
       "      <th>anime_id</th>\n",
       "      <th>1</th>\n",
       "      <th>5</th>\n",
       "      <th>6</th>\n",
       "      <th>7</th>\n",
       "      <th>8</th>\n",
       "      <th>15</th>\n",
       "      <th>16</th>\n",
       "      <th>17</th>\n",
       "      <th>18</th>\n",
       "      <th>19</th>\n",
       "      <th>...</th>\n",
       "      <th>34238</th>\n",
       "      <th>34239</th>\n",
       "      <th>34240</th>\n",
       "      <th>34252</th>\n",
       "      <th>34283</th>\n",
       "      <th>34324</th>\n",
       "      <th>34325</th>\n",
       "      <th>34349</th>\n",
       "      <th>34367</th>\n",
       "      <th>34475</th>\n",
       "    </tr>\n",
       "    <tr>\n",
       "      <th>user_id</th>\n",
       "      <th></th>\n",
       "      <th></th>\n",
       "      <th></th>\n",
       "      <th></th>\n",
       "      <th></th>\n",
       "      <th></th>\n",
       "      <th></th>\n",
       "      <th></th>\n",
       "      <th></th>\n",
       "      <th></th>\n",
       "      <th></th>\n",
       "      <th></th>\n",
       "      <th></th>\n",
       "      <th></th>\n",
       "      <th></th>\n",
       "      <th></th>\n",
       "      <th></th>\n",
       "      <th></th>\n",
       "      <th></th>\n",
       "      <th></th>\n",
       "      <th></th>\n",
       "    </tr>\n",
       "  </thead>\n",
       "  <tbody>\n",
       "    <tr>\n",
       "      <th>1</th>\n",
       "      <td>0.0</td>\n",
       "      <td>0.0</td>\n",
       "      <td>0.0</td>\n",
       "      <td>0.0</td>\n",
       "      <td>0.0</td>\n",
       "      <td>0.0</td>\n",
       "      <td>0.0</td>\n",
       "      <td>0.0</td>\n",
       "      <td>0.0</td>\n",
       "      <td>0.0</td>\n",
       "      <td>...</td>\n",
       "      <td>0.0</td>\n",
       "      <td>0.0</td>\n",
       "      <td>0.0</td>\n",
       "      <td>0.0</td>\n",
       "      <td>0.0</td>\n",
       "      <td>0.0</td>\n",
       "      <td>0.0</td>\n",
       "      <td>0.0</td>\n",
       "      <td>0.0</td>\n",
       "      <td>0.0</td>\n",
       "    </tr>\n",
       "    <tr>\n",
       "      <th>2</th>\n",
       "      <td>0.0</td>\n",
       "      <td>0.0</td>\n",
       "      <td>0.0</td>\n",
       "      <td>0.0</td>\n",
       "      <td>0.0</td>\n",
       "      <td>0.0</td>\n",
       "      <td>0.0</td>\n",
       "      <td>0.0</td>\n",
       "      <td>0.0</td>\n",
       "      <td>0.0</td>\n",
       "      <td>...</td>\n",
       "      <td>0.0</td>\n",
       "      <td>0.0</td>\n",
       "      <td>0.0</td>\n",
       "      <td>0.0</td>\n",
       "      <td>0.0</td>\n",
       "      <td>0.0</td>\n",
       "      <td>0.0</td>\n",
       "      <td>0.0</td>\n",
       "      <td>0.0</td>\n",
       "      <td>0.0</td>\n",
       "    </tr>\n",
       "    <tr>\n",
       "      <th>3</th>\n",
       "      <td>0.0</td>\n",
       "      <td>0.0</td>\n",
       "      <td>0.0</td>\n",
       "      <td>0.0</td>\n",
       "      <td>0.0</td>\n",
       "      <td>0.0</td>\n",
       "      <td>0.0</td>\n",
       "      <td>0.0</td>\n",
       "      <td>0.0</td>\n",
       "      <td>0.0</td>\n",
       "      <td>...</td>\n",
       "      <td>0.0</td>\n",
       "      <td>0.0</td>\n",
       "      <td>0.0</td>\n",
       "      <td>0.0</td>\n",
       "      <td>0.0</td>\n",
       "      <td>0.0</td>\n",
       "      <td>0.0</td>\n",
       "      <td>0.0</td>\n",
       "      <td>0.0</td>\n",
       "      <td>0.0</td>\n",
       "    </tr>\n",
       "    <tr>\n",
       "      <th>5</th>\n",
       "      <td>0.0</td>\n",
       "      <td>0.0</td>\n",
       "      <td>8.0</td>\n",
       "      <td>0.0</td>\n",
       "      <td>0.0</td>\n",
       "      <td>6.0</td>\n",
       "      <td>0.0</td>\n",
       "      <td>6.0</td>\n",
       "      <td>6.0</td>\n",
       "      <td>0.0</td>\n",
       "      <td>...</td>\n",
       "      <td>0.0</td>\n",
       "      <td>0.0</td>\n",
       "      <td>0.0</td>\n",
       "      <td>0.0</td>\n",
       "      <td>0.0</td>\n",
       "      <td>0.0</td>\n",
       "      <td>0.0</td>\n",
       "      <td>0.0</td>\n",
       "      <td>0.0</td>\n",
       "      <td>0.0</td>\n",
       "    </tr>\n",
       "    <tr>\n",
       "      <th>7</th>\n",
       "      <td>0.0</td>\n",
       "      <td>0.0</td>\n",
       "      <td>0.0</td>\n",
       "      <td>0.0</td>\n",
       "      <td>0.0</td>\n",
       "      <td>0.0</td>\n",
       "      <td>0.0</td>\n",
       "      <td>0.0</td>\n",
       "      <td>0.0</td>\n",
       "      <td>0.0</td>\n",
       "      <td>...</td>\n",
       "      <td>0.0</td>\n",
       "      <td>0.0</td>\n",
       "      <td>0.0</td>\n",
       "      <td>0.0</td>\n",
       "      <td>0.0</td>\n",
       "      <td>0.0</td>\n",
       "      <td>0.0</td>\n",
       "      <td>0.0</td>\n",
       "      <td>0.0</td>\n",
       "      <td>0.0</td>\n",
       "    </tr>\n",
       "  </tbody>\n",
       "</table>\n",
       "<p>5 rows × 9927 columns</p>\n",
       "</div>"
      ],
      "text/plain": [
       "anime_id  1      5      6      7      8      15     16     17     18     \\\n",
       "user_id                                                                   \n",
       "1           0.0    0.0    0.0    0.0    0.0    0.0    0.0    0.0    0.0   \n",
       "2           0.0    0.0    0.0    0.0    0.0    0.0    0.0    0.0    0.0   \n",
       "3           0.0    0.0    0.0    0.0    0.0    0.0    0.0    0.0    0.0   \n",
       "5           0.0    0.0    8.0    0.0    0.0    6.0    0.0    6.0    6.0   \n",
       "7           0.0    0.0    0.0    0.0    0.0    0.0    0.0    0.0    0.0   \n",
       "\n",
       "anime_id  19     ...    34238  34239  34240  34252  34283  34324  34325  \\\n",
       "user_id          ...                                                      \n",
       "1           0.0  ...      0.0    0.0    0.0    0.0    0.0    0.0    0.0   \n",
       "2           0.0  ...      0.0    0.0    0.0    0.0    0.0    0.0    0.0   \n",
       "3           0.0  ...      0.0    0.0    0.0    0.0    0.0    0.0    0.0   \n",
       "5           0.0  ...      0.0    0.0    0.0    0.0    0.0    0.0    0.0   \n",
       "7           0.0  ...      0.0    0.0    0.0    0.0    0.0    0.0    0.0   \n",
       "\n",
       "anime_id  34349  34367  34475  \n",
       "user_id                        \n",
       "1           0.0    0.0    0.0  \n",
       "2           0.0    0.0    0.0  \n",
       "3           0.0    0.0    0.0  \n",
       "5           0.0    0.0    0.0  \n",
       "7           0.0    0.0    0.0  \n",
       "\n",
       "[5 rows x 9927 columns]"
      ]
     },
     "execution_count": 57,
     "metadata": {},
     "output_type": "execute_result"
    }
   ],
   "source": [
    "prf.head()"
   ]
  },
  {
   "cell_type": "code",
   "execution_count": 58,
   "metadata": {
    "collapsed": true
   },
   "outputs": [],
   "source": [
    "Pt = prf.as_matrix()"
   ]
  },
  {
   "cell_type": "code",
   "execution_count": 63,
   "metadata": {},
   "outputs": [
    {
     "data": {
      "text/plain": [
       "array([[  0.,   0.,   0., ...,   0.,   0.,   0.],\n",
       "       [  0.,   0.,   0., ...,   0.,   0.,   0.],\n",
       "       [  0.,   0.,   0., ...,   0.,   0.,   0.],\n",
       "       ..., \n",
       "       [  0.,   0.,   0., ...,   0.,   0.,   0.],\n",
       "       [ 10.,  10.,  10., ...,   0.,   0.,   0.],\n",
       "       [  0.,   0.,   0., ...,   0.,   0.,   0.]])"
      ]
     },
     "execution_count": 63,
     "metadata": {},
     "output_type": "execute_result"
    }
   ],
   "source": [
    "Pt"
   ]
  },
  {
   "cell_type": "code",
   "execution_count": 59,
   "metadata": {
    "collapsed": true
   },
   "outputs": [],
   "source": [
    "user_mean = np.mean(Pt, axis = 1)"
   ]
  },
  {
   "cell_type": "code",
   "execution_count": 60,
   "metadata": {
    "collapsed": true
   },
   "outputs": [],
   "source": [
    "Ptmean = Pt - user_mean.reshape(-1, 1)"
   ]
  },
  {
   "cell_type": "code",
   "execution_count": 64,
   "metadata": {},
   "outputs": [
    {
     "data": {
      "text/plain": [
       "array([[ -4.02941473e-03,  -4.02941473e-03,  -4.02941473e-03, ...,\n",
       "         -4.02941473e-03,  -4.02941473e-03,  -4.02941473e-03],\n",
       "       [ -1.00735368e-03,  -1.00735368e-03,  -1.00735368e-03, ...,\n",
       "         -1.00735368e-03,  -1.00735368e-03,  -1.00735368e-03],\n",
       "       [ -7.01118163e-02,  -7.01118163e-02,  -7.01118163e-02, ...,\n",
       "         -7.01118163e-02,  -7.01118163e-02,  -7.01118163e-02],\n",
       "       ..., \n",
       "       [ -1.00735368e-03,  -1.00735368e-03,  -1.00735368e-03, ...,\n",
       "         -1.00735368e-03,  -1.00735368e-03,  -1.00735368e-03],\n",
       "       [  9.84587489e+00,   9.84587489e+00,   9.84587489e+00, ...,\n",
       "         -1.54125113e-01,  -1.54125113e-01,  -1.54125113e-01],\n",
       "       [ -1.81323663e-03,  -1.81323663e-03,  -1.81323663e-03, ...,\n",
       "         -1.81323663e-03,  -1.81323663e-03,  -1.81323663e-03]])"
      ]
     },
     "execution_count": 64,
     "metadata": {},
     "output_type": "execute_result"
    }
   ],
   "source": [
    "Ptmean"
   ]
  },
  {
   "cell_type": "code",
   "execution_count": 66,
   "metadata": {
    "collapsed": true
   },
   "outputs": [],
   "source": [
    "from scipy.sparse.linalg import svds"
   ]
  },
  {
   "cell_type": "code",
   "execution_count": 67,
   "metadata": {
    "collapsed": true
   },
   "outputs": [],
   "source": [
    "U, sigma, Vt = svds(Ptmean, k = 50)"
   ]
  },
  {
   "cell_type": "code",
   "execution_count": 69,
   "metadata": {},
   "outputs": [],
   "source": [
    "sigma = np.diag(sigma)"
   ]
  },
  {
   "cell_type": "code",
   "execution_count": 71,
   "metadata": {},
   "outputs": [],
   "source": [
    "all_user_predicted_ratings = np.dot(np.dot(U, sigma), Vt) + user_mean.reshape(-1, 1)"
   ]
  },
  {
   "cell_type": "code",
   "execution_count": 73,
   "metadata": {},
   "outputs": [],
   "source": [
    "preds_df = pd.DataFrame(all_user_predicted_ratings, columns = prf.columns)"
   ]
  },
  {
   "cell_type": "code",
   "execution_count": 149,
   "metadata": {},
   "outputs": [],
   "source": [
    "def recommend(userID,num_recommendations=5):\n",
    "    \n",
    "    # Get and sort the user's predictions\n",
    "    user_row_number = userID - 1 # UserID starts at 1, not 0\n",
    "    sorted_user_predictions = preds_df.iloc[user_row_number].sort_values(ascending=False)\n",
    "    \n",
    "    # Get the user's data and merge in the movie information.\n",
    "    user_data = nrf[nrf.user_id == (userID)]\n",
    "    user_full = (user_data.merge(df, how = 'left', left_on = 'anime_id', right_on ='anime_id'))\n",
    "                 \n",
    "    print 'User {0} has already rated {1} animes.'.format(userID, user_full.shape[0])\n",
    "    print 'Recommending the following {0} animes not already rated.'.format(num_recommendations)\n",
    "    \n",
    "    # Recommend the highest predicted rating movies that the user hasn't seen yet.\n",
    "    recommendations = (df[~df['anime_id'].isin(user_full['anime_id'])].\n",
    "         merge(pd.DataFrame(sorted_user_predictions).reset_index(), how = 'left',\n",
    "               left_on = 'anime_id',\n",
    "               right_on = 'anime_id').\n",
    "         rename(columns = {user_row_number: 'Predictions'}).\n",
    "         sort_values('Predictions', ascending = False).\n",
    "                       iloc[:num_recommendations, :-1]\n",
    "                      )\n",
    "\n",
    "    return user_full, recommendations\n"
   ]
  },
  {
   "cell_type": "code",
   "execution_count": 153,
   "metadata": {},
   "outputs": [
    {
     "name": "stdout",
     "output_type": "stream",
     "text": [
      "User 123 has already rated 462 animes.\n",
      "Recommending the following 10 animes not already rated.\n"
     ]
    }
   ],
   "source": [
    "already_rated, predictions = recommend(123,10)"
   ]
  },
  {
   "cell_type": "code",
   "execution_count": 154,
   "metadata": {},
   "outputs": [
    {
     "data": {
      "text/html": [
       "<div>\n",
       "<style>\n",
       "    .dataframe thead tr:only-child th {\n",
       "        text-align: right;\n",
       "    }\n",
       "\n",
       "    .dataframe thead th {\n",
       "        text-align: left;\n",
       "    }\n",
       "\n",
       "    .dataframe tbody tr th {\n",
       "        vertical-align: top;\n",
       "    }\n",
       "</style>\n",
       "<table border=\"1\" class=\"dataframe\">\n",
       "  <thead>\n",
       "    <tr style=\"text-align: right;\">\n",
       "      <th></th>\n",
       "      <th>index</th>\n",
       "      <th>user_id</th>\n",
       "      <th>anime_id</th>\n",
       "      <th>rating_x</th>\n",
       "      <th>name</th>\n",
       "      <th>genre</th>\n",
       "      <th>type</th>\n",
       "      <th>episodes</th>\n",
       "      <th>rating_y</th>\n",
       "      <th>members</th>\n",
       "    </tr>\n",
       "  </thead>\n",
       "  <tbody>\n",
       "    <tr>\n",
       "      <th>0</th>\n",
       "      <td>9550</td>\n",
       "      <td>123</td>\n",
       "      <td>16</td>\n",
       "      <td>9.0</td>\n",
       "      <td>Hachimitsu to Clover</td>\n",
       "      <td>Comedy, Drama, Josei, Romance</td>\n",
       "      <td>TV</td>\n",
       "      <td>24.0</td>\n",
       "      <td>8.18</td>\n",
       "      <td>130646</td>\n",
       "    </tr>\n",
       "    <tr>\n",
       "      <th>1</th>\n",
       "      <td>9551</td>\n",
       "      <td>123</td>\n",
       "      <td>45</td>\n",
       "      <td>8.0</td>\n",
       "      <td>Rurouni Kenshin Meiji Kenkaku Romantan</td>\n",
       "      <td>Action, Adventure, Comedy, Historical, Romance...</td>\n",
       "      <td>TV</td>\n",
       "      <td>94.0</td>\n",
       "      <td>8.43</td>\n",
       "      <td>218928</td>\n",
       "    </tr>\n",
       "    <tr>\n",
       "      <th>2</th>\n",
       "      <td>9552</td>\n",
       "      <td>123</td>\n",
       "      <td>133</td>\n",
       "      <td>5.0</td>\n",
       "      <td>Green Green</td>\n",
       "      <td>Comedy, Ecchi, Romance, School, Slice of Life</td>\n",
       "      <td>TV</td>\n",
       "      <td>12.0</td>\n",
       "      <td>6.44</td>\n",
       "      <td>80562</td>\n",
       "    </tr>\n",
       "    <tr>\n",
       "      <th>3</th>\n",
       "      <td>9553</td>\n",
       "      <td>123</td>\n",
       "      <td>149</td>\n",
       "      <td>7.0</td>\n",
       "      <td>Loveless</td>\n",
       "      <td>Action, Drama, Fantasy, Mystery, Romance, Shou...</td>\n",
       "      <td>TV</td>\n",
       "      <td>12.0</td>\n",
       "      <td>7.19</td>\n",
       "      <td>85554</td>\n",
       "    </tr>\n",
       "    <tr>\n",
       "      <th>4</th>\n",
       "      <td>9554</td>\n",
       "      <td>123</td>\n",
       "      <td>154</td>\n",
       "      <td>7.0</td>\n",
       "      <td>Shaman King</td>\n",
       "      <td>Action, Adventure, Comedy, Drama, Shounen, Sup...</td>\n",
       "      <td>TV</td>\n",
       "      <td>64.0</td>\n",
       "      <td>7.83</td>\n",
       "      <td>169517</td>\n",
       "    </tr>\n",
       "    <tr>\n",
       "      <th>5</th>\n",
       "      <td>9555</td>\n",
       "      <td>123</td>\n",
       "      <td>205</td>\n",
       "      <td>7.0</td>\n",
       "      <td>Samurai Champloo</td>\n",
       "      <td>Action, Adventure, Comedy, Historical, Samurai...</td>\n",
       "      <td>TV</td>\n",
       "      <td>26.0</td>\n",
       "      <td>8.50</td>\n",
       "      <td>390076</td>\n",
       "    </tr>\n",
       "    <tr>\n",
       "      <th>6</th>\n",
       "      <td>9556</td>\n",
       "      <td>123</td>\n",
       "      <td>270</td>\n",
       "      <td>7.0</td>\n",
       "      <td>Hellsing</td>\n",
       "      <td>Action, Horror, Seinen, Supernatural, Vampire</td>\n",
       "      <td>TV</td>\n",
       "      <td>13.0</td>\n",
       "      <td>7.64</td>\n",
       "      <td>308995</td>\n",
       "    </tr>\n",
       "    <tr>\n",
       "      <th>7</th>\n",
       "      <td>9557</td>\n",
       "      <td>123</td>\n",
       "      <td>322</td>\n",
       "      <td>7.0</td>\n",
       "      <td>Paradise Kiss</td>\n",
       "      <td>Comedy, Drama, Josei, Romance, Slice of Life</td>\n",
       "      <td>TV</td>\n",
       "      <td>12.0</td>\n",
       "      <td>7.93</td>\n",
       "      <td>86380</td>\n",
       "    </tr>\n",
       "    <tr>\n",
       "      <th>8</th>\n",
       "      <td>9558</td>\n",
       "      <td>123</td>\n",
       "      <td>341</td>\n",
       "      <td>6.0</td>\n",
       "      <td>Spiral Suiri no Kizuna</td>\n",
       "      <td>Drama, Mystery, Shounen</td>\n",
       "      <td>TV</td>\n",
       "      <td>25.0</td>\n",
       "      <td>7.38</td>\n",
       "      <td>36187</td>\n",
       "    </tr>\n",
       "    <tr>\n",
       "      <th>9</th>\n",
       "      <td>9559</td>\n",
       "      <td>123</td>\n",
       "      <td>389</td>\n",
       "      <td>6.0</td>\n",
       "      <td>Karas</td>\n",
       "      <td>Action, Fantasy, Sci-Fi</td>\n",
       "      <td>OVA</td>\n",
       "      <td>6.0</td>\n",
       "      <td>7.54</td>\n",
       "      <td>44108</td>\n",
       "    </tr>\n",
       "  </tbody>\n",
       "</table>\n",
       "</div>"
      ],
      "text/plain": [
       "   index  user_id  anime_id  rating_x                                    name  \\\n",
       "0   9550      123        16       9.0                    Hachimitsu to Clover   \n",
       "1   9551      123        45       8.0  Rurouni Kenshin Meiji Kenkaku Romantan   \n",
       "2   9552      123       133       5.0                             Green Green   \n",
       "3   9553      123       149       7.0                                Loveless   \n",
       "4   9554      123       154       7.0                             Shaman King   \n",
       "5   9555      123       205       7.0                        Samurai Champloo   \n",
       "6   9556      123       270       7.0                                Hellsing   \n",
       "7   9557      123       322       7.0                           Paradise Kiss   \n",
       "8   9558      123       341       6.0                  Spiral Suiri no Kizuna   \n",
       "9   9559      123       389       6.0                                   Karas   \n",
       "\n",
       "                                               genre type  episodes  rating_y  \\\n",
       "0                      Comedy, Drama, Josei, Romance   TV      24.0      8.18   \n",
       "1  Action, Adventure, Comedy, Historical, Romance...   TV      94.0      8.43   \n",
       "2      Comedy, Ecchi, Romance, School, Slice of Life   TV      12.0      6.44   \n",
       "3  Action, Drama, Fantasy, Mystery, Romance, Shou...   TV      12.0      7.19   \n",
       "4  Action, Adventure, Comedy, Drama, Shounen, Sup...   TV      64.0      7.83   \n",
       "5  Action, Adventure, Comedy, Historical, Samurai...   TV      26.0      8.50   \n",
       "6      Action, Horror, Seinen, Supernatural, Vampire   TV      13.0      7.64   \n",
       "7       Comedy, Drama, Josei, Romance, Slice of Life   TV      12.0      7.93   \n",
       "8                            Drama, Mystery, Shounen   TV      25.0      7.38   \n",
       "9                            Action, Fantasy, Sci-Fi  OVA       6.0      7.54   \n",
       "\n",
       "   members  \n",
       "0   130646  \n",
       "1   218928  \n",
       "2    80562  \n",
       "3    85554  \n",
       "4   169517  \n",
       "5   390076  \n",
       "6   308995  \n",
       "7    86380  \n",
       "8    36187  \n",
       "9    44108  "
      ]
     },
     "execution_count": 154,
     "metadata": {},
     "output_type": "execute_result"
    }
   ],
   "source": [
    "already_rated.head(10)"
   ]
  },
  {
   "cell_type": "code",
   "execution_count": 155,
   "metadata": {},
   "outputs": [
    {
     "data": {
      "text/html": [
       "<div>\n",
       "<style>\n",
       "    .dataframe thead tr:only-child th {\n",
       "        text-align: right;\n",
       "    }\n",
       "\n",
       "    .dataframe thead th {\n",
       "        text-align: left;\n",
       "    }\n",
       "\n",
       "    .dataframe tbody tr th {\n",
       "        vertical-align: top;\n",
       "    }\n",
       "</style>\n",
       "<table border=\"1\" class=\"dataframe\">\n",
       "  <thead>\n",
       "    <tr style=\"text-align: right;\">\n",
       "      <th></th>\n",
       "      <th>anime_id</th>\n",
       "      <th>name</th>\n",
       "      <th>genre</th>\n",
       "      <th>type</th>\n",
       "      <th>episodes</th>\n",
       "      <th>rating</th>\n",
       "      <th>members</th>\n",
       "    </tr>\n",
       "  </thead>\n",
       "  <tbody>\n",
       "    <tr>\n",
       "      <th>679</th>\n",
       "      <td>20</td>\n",
       "      <td>Naruto</td>\n",
       "      <td>Action, Comedy, Martial Arts, Shounen, Super P...</td>\n",
       "      <td>TV</td>\n",
       "      <td>220.0</td>\n",
       "      <td>7.81</td>\n",
       "      <td>683297</td>\n",
       "    </tr>\n",
       "    <tr>\n",
       "      <th>179</th>\n",
       "      <td>2025</td>\n",
       "      <td>Darker than Black Kuro no Keiyakusha</td>\n",
       "      <td>Action, Mystery, Sci-Fi, Super Power</td>\n",
       "      <td>TV</td>\n",
       "      <td>25.0</td>\n",
       "      <td>8.25</td>\n",
       "      <td>440334</td>\n",
       "    </tr>\n",
       "    <tr>\n",
       "      <th>12</th>\n",
       "      <td>199</td>\n",
       "      <td>Sen to Chihiro no Kamikakushi</td>\n",
       "      <td>Adventure, Drama, Supernatural</td>\n",
       "      <td>Movie</td>\n",
       "      <td>1.0</td>\n",
       "      <td>8.93</td>\n",
       "      <td>466254</td>\n",
       "    </tr>\n",
       "    <tr>\n",
       "      <th>60</th>\n",
       "      <td>10087</td>\n",
       "      <td>Fate Zero</td>\n",
       "      <td>Action, Fantasy, Supernatural</td>\n",
       "      <td>TV</td>\n",
       "      <td>13.0</td>\n",
       "      <td>8.51</td>\n",
       "      <td>453630</td>\n",
       "    </tr>\n",
       "    <tr>\n",
       "      <th>672</th>\n",
       "      <td>2593</td>\n",
       "      <td>Kara no Kyoukai 1 Fukan Fuukei</td>\n",
       "      <td>Action, Mystery, Supernatural, Thriller</td>\n",
       "      <td>Movie</td>\n",
       "      <td>1.0</td>\n",
       "      <td>7.81</td>\n",
       "      <td>178880</td>\n",
       "    </tr>\n",
       "    <tr>\n",
       "      <th>13</th>\n",
       "      <td>1575</td>\n",
       "      <td>Code Geass Hangyaku no Lelouch</td>\n",
       "      <td>Action, Mecha, Military, School, Sci-Fi, Super...</td>\n",
       "      <td>TV</td>\n",
       "      <td>25.0</td>\n",
       "      <td>8.83</td>\n",
       "      <td>715151</td>\n",
       "    </tr>\n",
       "    <tr>\n",
       "      <th>106</th>\n",
       "      <td>6547</td>\n",
       "      <td>Angel Beats</td>\n",
       "      <td>Action, Comedy, Drama, School, Supernatural</td>\n",
       "      <td>TV</td>\n",
       "      <td>13.0</td>\n",
       "      <td>8.39</td>\n",
       "      <td>717796</td>\n",
       "    </tr>\n",
       "    <tr>\n",
       "      <th>215</th>\n",
       "      <td>3783</td>\n",
       "      <td>Kara no Kyoukai 3 Tsuukaku Zanryuu</td>\n",
       "      <td>Action, Drama, Mystery, Supernatural, Thriller</td>\n",
       "      <td>Movie</td>\n",
       "      <td>1.0</td>\n",
       "      <td>8.21</td>\n",
       "      <td>108720</td>\n",
       "    </tr>\n",
       "    <tr>\n",
       "      <th>645</th>\n",
       "      <td>11757</td>\n",
       "      <td>Sword Art Online</td>\n",
       "      <td>Action, Adventure, Fantasy, Game, Romance</td>\n",
       "      <td>TV</td>\n",
       "      <td>25.0</td>\n",
       "      <td>7.83</td>\n",
       "      <td>893100</td>\n",
       "    </tr>\n",
       "    <tr>\n",
       "      <th>388</th>\n",
       "      <td>3782</td>\n",
       "      <td>Kara no Kyoukai 2 Satsujin Kousatsu Zen</td>\n",
       "      <td>Action, Mystery, Romance, Supernatural, Thriller</td>\n",
       "      <td>Movie</td>\n",
       "      <td>1.0</td>\n",
       "      <td>8.02</td>\n",
       "      <td>114415</td>\n",
       "    </tr>\n",
       "  </tbody>\n",
       "</table>\n",
       "</div>"
      ],
      "text/plain": [
       "     anime_id                                      name  \\\n",
       "679        20                                    Naruto   \n",
       "179      2025      Darker than Black Kuro no Keiyakusha   \n",
       "12        199             Sen to Chihiro no Kamikakushi   \n",
       "60      10087                                 Fate Zero   \n",
       "672      2593            Kara no Kyoukai 1 Fukan Fuukei   \n",
       "13       1575            Code Geass Hangyaku no Lelouch   \n",
       "106      6547                              Angel Beats    \n",
       "215      3783        Kara no Kyoukai 3 Tsuukaku Zanryuu   \n",
       "645     11757                          Sword Art Online   \n",
       "388      3782  Kara no Kyoukai 2 Satsujin Kousatsu Zen    \n",
       "\n",
       "                                                 genre   type  episodes  \\\n",
       "679  Action, Comedy, Martial Arts, Shounen, Super P...     TV     220.0   \n",
       "179               Action, Mystery, Sci-Fi, Super Power     TV      25.0   \n",
       "12                      Adventure, Drama, Supernatural  Movie       1.0   \n",
       "60                       Action, Fantasy, Supernatural     TV      13.0   \n",
       "672            Action, Mystery, Supernatural, Thriller  Movie       1.0   \n",
       "13   Action, Mecha, Military, School, Sci-Fi, Super...     TV      25.0   \n",
       "106        Action, Comedy, Drama, School, Supernatural     TV      13.0   \n",
       "215     Action, Drama, Mystery, Supernatural, Thriller  Movie       1.0   \n",
       "645          Action, Adventure, Fantasy, Game, Romance     TV      25.0   \n",
       "388   Action, Mystery, Romance, Supernatural, Thriller  Movie       1.0   \n",
       "\n",
       "     rating  members  \n",
       "679    7.81   683297  \n",
       "179    8.25   440334  \n",
       "12     8.93   466254  \n",
       "60     8.51   453630  \n",
       "672    7.81   178880  \n",
       "13     8.83   715151  \n",
       "106    8.39   717796  \n",
       "215    8.21   108720  \n",
       "645    7.83   893100  \n",
       "388    8.02   114415  "
      ]
     },
     "execution_count": 155,
     "metadata": {},
     "output_type": "execute_result"
    }
   ],
   "source": [
    "predictions.head(10)"
   ]
  },
  {
   "cell_type": "code",
   "execution_count": null,
   "metadata": {
    "collapsed": true
   },
   "outputs": [],
   "source": []
  },
  {
   "cell_type": "code",
   "execution_count": null,
   "metadata": {
    "collapsed": true
   },
   "outputs": [],
   "source": []
  },
  {
   "cell_type": "code",
   "execution_count": null,
   "metadata": {
    "collapsed": true
   },
   "outputs": [],
   "source": []
  },
  {
   "cell_type": "code",
   "execution_count": null,
   "metadata": {
    "collapsed": true
   },
   "outputs": [],
   "source": []
  },
  {
   "cell_type": "code",
   "execution_count": null,
   "metadata": {
    "collapsed": true
   },
   "outputs": [],
   "source": []
  },
  {
   "cell_type": "code",
   "execution_count": null,
   "metadata": {
    "collapsed": true
   },
   "outputs": [],
   "source": []
  },
  {
   "cell_type": "code",
   "execution_count": null,
   "metadata": {
    "collapsed": true
   },
   "outputs": [],
   "source": []
  },
  {
   "cell_type": "code",
   "execution_count": null,
   "metadata": {
    "collapsed": true
   },
   "outputs": [],
   "source": []
  }
 ],
 "metadata": {
  "kernelspec": {
   "display_name": "Python 2",
   "language": "python",
   "name": "python2"
  },
  "language_info": {
   "codemirror_mode": {
    "name": "ipython",
    "version": 2
   },
   "file_extension": ".py",
   "mimetype": "text/x-python",
   "name": "python",
   "nbconvert_exporter": "python",
   "pygments_lexer": "ipython2",
   "version": "2.7.13"
  }
 },
 "nbformat": 4,
 "nbformat_minor": 2
}
