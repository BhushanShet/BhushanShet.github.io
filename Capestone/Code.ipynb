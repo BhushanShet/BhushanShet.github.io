{
 "cells": [
  {
   "cell_type": "code",
   "execution_count": 1,
   "metadata": {
    "collapsed": true
   },
   "outputs": [],
   "source": [
    "import pandas as pd\n",
    "import numpy as np\n",
    "import matplotlib.pyplot as plt\n",
    "import csv\n",
    "import re\n",
    "from sklearn.preprocessing import MaxAbsScaler\n",
    "%matplotlib inline"
   ]
  },
  {
   "cell_type": "code",
   "execution_count": 2,
   "metadata": {
    "collapsed": true
   },
   "outputs": [],
   "source": [
    "f1 = 'anime.csv'\n",
    "f2 = 'rating.csv'"
   ]
  },
  {
   "cell_type": "code",
   "execution_count": 61,
   "metadata": {
    "collapsed": true
   },
   "outputs": [],
   "source": [
    "df = pd.read_csv(f1)\n",
    "rf = pd.read_csv(f2)"
   ]
  },
  {
   "cell_type": "code",
   "execution_count": 62,
   "metadata": {},
   "outputs": [
    {
     "data": {
      "text/html": [
       "<div>\n",
       "<style>\n",
       "    .dataframe thead tr:only-child th {\n",
       "        text-align: right;\n",
       "    }\n",
       "\n",
       "    .dataframe thead th {\n",
       "        text-align: left;\n",
       "    }\n",
       "\n",
       "    .dataframe tbody tr th {\n",
       "        vertical-align: top;\n",
       "    }\n",
       "</style>\n",
       "<table border=\"1\" class=\"dataframe\">\n",
       "  <thead>\n",
       "    <tr style=\"text-align: right;\">\n",
       "      <th></th>\n",
       "      <th>anime_id</th>\n",
       "      <th>name</th>\n",
       "      <th>genre</th>\n",
       "      <th>type</th>\n",
       "      <th>episodes</th>\n",
       "      <th>rating</th>\n",
       "      <th>members</th>\n",
       "    </tr>\n",
       "  </thead>\n",
       "  <tbody>\n",
       "    <tr>\n",
       "      <th>0</th>\n",
       "      <td>32281</td>\n",
       "      <td>Kimi no Na wa.</td>\n",
       "      <td>Drama, Romance, School, Supernatural</td>\n",
       "      <td>Movie</td>\n",
       "      <td>1</td>\n",
       "      <td>9.37</td>\n",
       "      <td>200630</td>\n",
       "    </tr>\n",
       "    <tr>\n",
       "      <th>1</th>\n",
       "      <td>5114</td>\n",
       "      <td>Fullmetal Alchemist: Brotherhood</td>\n",
       "      <td>Action, Adventure, Drama, Fantasy, Magic, Mili...</td>\n",
       "      <td>TV</td>\n",
       "      <td>64</td>\n",
       "      <td>9.26</td>\n",
       "      <td>793665</td>\n",
       "    </tr>\n",
       "    <tr>\n",
       "      <th>2</th>\n",
       "      <td>28977</td>\n",
       "      <td>Gintama°</td>\n",
       "      <td>Action, Comedy, Historical, Parody, Samurai, S...</td>\n",
       "      <td>TV</td>\n",
       "      <td>51</td>\n",
       "      <td>9.25</td>\n",
       "      <td>114262</td>\n",
       "    </tr>\n",
       "    <tr>\n",
       "      <th>3</th>\n",
       "      <td>9253</td>\n",
       "      <td>Steins;Gate</td>\n",
       "      <td>Sci-Fi, Thriller</td>\n",
       "      <td>TV</td>\n",
       "      <td>24</td>\n",
       "      <td>9.17</td>\n",
       "      <td>673572</td>\n",
       "    </tr>\n",
       "    <tr>\n",
       "      <th>4</th>\n",
       "      <td>9969</td>\n",
       "      <td>Gintama&amp;#039;</td>\n",
       "      <td>Action, Comedy, Historical, Parody, Samurai, S...</td>\n",
       "      <td>TV</td>\n",
       "      <td>51</td>\n",
       "      <td>9.16</td>\n",
       "      <td>151266</td>\n",
       "    </tr>\n",
       "  </tbody>\n",
       "</table>\n",
       "</div>"
      ],
      "text/plain": [
       "   anime_id                              name  \\\n",
       "0     32281                    Kimi no Na wa.   \n",
       "1      5114  Fullmetal Alchemist: Brotherhood   \n",
       "2     28977                          Gintama°   \n",
       "3      9253                       Steins;Gate   \n",
       "4      9969                     Gintama&#039;   \n",
       "\n",
       "                                               genre   type episodes  rating  \\\n",
       "0               Drama, Romance, School, Supernatural  Movie        1    9.37   \n",
       "1  Action, Adventure, Drama, Fantasy, Magic, Mili...     TV       64    9.26   \n",
       "2  Action, Comedy, Historical, Parody, Samurai, S...     TV       51    9.25   \n",
       "3                                   Sci-Fi, Thriller     TV       24    9.17   \n",
       "4  Action, Comedy, Historical, Parody, Samurai, S...     TV       51    9.16   \n",
       "\n",
       "   members  \n",
       "0   200630  \n",
       "1   793665  \n",
       "2   114262  \n",
       "3   673572  \n",
       "4   151266  "
      ]
     },
     "execution_count": 62,
     "metadata": {},
     "output_type": "execute_result"
    }
   ],
   "source": [
    "df.head()"
   ]
  },
  {
   "cell_type": "code",
   "execution_count": 63,
   "metadata": {},
   "outputs": [
    {
     "data": {
      "text/plain": [
       "(12294, 7)"
      ]
     },
     "execution_count": 63,
     "metadata": {},
     "output_type": "execute_result"
    }
   ],
   "source": [
    "df.shape"
   ]
  },
  {
   "cell_type": "code",
   "execution_count": 5,
   "metadata": {},
   "outputs": [
    {
     "data": {
      "text/html": [
       "<div>\n",
       "<style>\n",
       "    .dataframe thead tr:only-child th {\n",
       "        text-align: right;\n",
       "    }\n",
       "\n",
       "    .dataframe thead th {\n",
       "        text-align: left;\n",
       "    }\n",
       "\n",
       "    .dataframe tbody tr th {\n",
       "        vertical-align: top;\n",
       "    }\n",
       "</style>\n",
       "<table border=\"1\" class=\"dataframe\">\n",
       "  <thead>\n",
       "    <tr style=\"text-align: right;\">\n",
       "      <th></th>\n",
       "      <th>user_id</th>\n",
       "      <th>anime_id</th>\n",
       "      <th>rating</th>\n",
       "    </tr>\n",
       "  </thead>\n",
       "  <tbody>\n",
       "    <tr>\n",
       "      <th>0</th>\n",
       "      <td>1</td>\n",
       "      <td>20</td>\n",
       "      <td>-1</td>\n",
       "    </tr>\n",
       "    <tr>\n",
       "      <th>1</th>\n",
       "      <td>1</td>\n",
       "      <td>24</td>\n",
       "      <td>-1</td>\n",
       "    </tr>\n",
       "    <tr>\n",
       "      <th>2</th>\n",
       "      <td>1</td>\n",
       "      <td>79</td>\n",
       "      <td>-1</td>\n",
       "    </tr>\n",
       "    <tr>\n",
       "      <th>3</th>\n",
       "      <td>1</td>\n",
       "      <td>226</td>\n",
       "      <td>-1</td>\n",
       "    </tr>\n",
       "    <tr>\n",
       "      <th>4</th>\n",
       "      <td>1</td>\n",
       "      <td>241</td>\n",
       "      <td>-1</td>\n",
       "    </tr>\n",
       "  </tbody>\n",
       "</table>\n",
       "</div>"
      ],
      "text/plain": [
       "   user_id  anime_id  rating\n",
       "0        1        20      -1\n",
       "1        1        24      -1\n",
       "2        1        79      -1\n",
       "3        1       226      -1\n",
       "4        1       241      -1"
      ]
     },
     "execution_count": 5,
     "metadata": {},
     "output_type": "execute_result"
    }
   ],
   "source": [
    "rf.head()"
   ]
  },
  {
   "cell_type": "code",
   "execution_count": 60,
   "metadata": {},
   "outputs": [
    {
     "data": {
      "text/plain": [
       "(7813737, 3)"
      ]
     },
     "execution_count": 60,
     "metadata": {},
     "output_type": "execute_result"
    }
   ],
   "source": [
    "rf.shape"
   ]
  },
  {
   "cell_type": "code",
   "execution_count": 6,
   "metadata": {},
   "outputs": [
    {
     "data": {
      "text/plain": [
       "array([32281,  5114, 28977, ...,  5621,  6133, 26081], dtype=int64)"
      ]
     },
     "execution_count": 6,
     "metadata": {},
     "output_type": "execute_result"
    }
   ],
   "source": [
    "df.anime_id.unique()"
   ]
  },
  {
   "cell_type": "code",
   "execution_count": 7,
   "metadata": {},
   "outputs": [
    {
     "data": {
      "text/plain": [
       "array(['1', '64', '51', '24', '10', '148', '110', '13', '201', '25', '22',\n",
       "       '75', '4', '26', '12', '27', '43', '74', '37', '2', '11', '99',\n",
       "       'Unknown', '39', '101', '47', '50', '62', '33', '112', '23', '3',\n",
       "       '94', '6', '8', '14', '7', '40', '15', '203', '77', '291', '120',\n",
       "       '102', '96', '38', '79', '175', '103', '70', '153', '45', '5', '21',\n",
       "       '63', '52', '28', '145', '36', '69', '60', '178', '114', '35', '61',\n",
       "       '34', '109', '20', '9', '49', '366', '97', '48', '78', '358', '155',\n",
       "       '104', '113', '54', '167', '161', '42', '142', '31', '373', '220',\n",
       "       '46', '195', '17', '1787', '73', '147', '127', '16', '19', '98',\n",
       "       '150', '76', '53', '124', '29', '115', '224', '44', '58', '93',\n",
       "       '154', '92', '67', '172', '86', '30', '276', '59', '72', '330',\n",
       "       '41', '105', '128', '137', '56', '55', '65', '243', '193', '18',\n",
       "       '191', '180', '91', '192', '66', '182', '32', '164', '100', '296',\n",
       "       '694', '95', '68', '117', '151', '130', '87', '170', '119', '84',\n",
       "       '108', '156', '140', '331', '305', '300', '510', '200', '88',\n",
       "       '1471', '526', '143', '726', '136', '1818', '237', '1428', '365',\n",
       "       '163', '283', '71', '260', '199', '225', '312', '240', '1306',\n",
       "       '1565', '773', '1274', '90', '475', '263', '83', '85', '1006', '80',\n",
       "       '162', '132', '141', '125'], dtype=object)"
      ]
     },
     "execution_count": 7,
     "metadata": {},
     "output_type": "execute_result"
    }
   ],
   "source": [
    "df.episodes.unique()"
   ]
  },
  {
   "cell_type": "code",
   "execution_count": 8,
   "metadata": {},
   "outputs": [
    {
     "data": {
      "text/plain": [
       "array(['1', '64', '51', '24', '10', '148', '110', '13', '201', '25', '22',\n",
       "       '75', '4', '26', '12', '27', '43', '74', '37', '2', '11', '99', 2.0,\n",
       "       '39', '101', '47', '50', '62', '33', '112', '23', '3', '94', '6',\n",
       "       '8', '14', '7', '40', '15', '203', '77', '291', '120', '102', '96',\n",
       "       '38', '79', '175', '103', '70', '153', '45', '5', '21', '63', '52',\n",
       "       '28', '145', '36', '69', '60', '178', '114', '35', '61', '34',\n",
       "       '109', '20', '9', '49', '366', '97', '48', '78', '358', '155',\n",
       "       '104', '113', '54', '167', '161', '42', '142', '31', '373', '220',\n",
       "       '46', '195', '17', '1787', '73', '147', '127', '16', '19', '98',\n",
       "       '150', '76', '53', '124', '29', '115', '224', '44', '58', '93',\n",
       "       '154', '92', '67', '172', '86', '30', '276', '59', '72', '330',\n",
       "       '41', '105', '128', '137', '56', '55', '65', '243', '193', '18',\n",
       "       '191', '180', '91', '192', '66', '182', '32', '164', '100', '296',\n",
       "       '694', '95', '68', '117', '151', '130', '87', '170', '119', '84',\n",
       "       '108', '156', '140', '331', '305', '300', '510', '200', '88',\n",
       "       '1471', '526', '143', '726', '136', '1818', '237', '1428', '365',\n",
       "       '163', '283', '71', '260', '199', '225', '312', '240', '1306',\n",
       "       '1565', '773', '1274', '90', '475', '263', '83', '85', '1006', '80',\n",
       "       '162', '132', '141', '125'], dtype=object)"
      ]
     },
     "execution_count": 8,
     "metadata": {},
     "output_type": "execute_result"
    }
   ],
   "source": [
    "df[\"episodes\"] = df[\"episodes\"].map(lambda x:np.nan if x==\"Unknown\" else x)\n",
    "df[\"episodes\"].fillna(df['episodes'].median() ,inplace = True)\n",
    "df.episodes.unique()"
   ]
  },
  {
   "cell_type": "code",
   "execution_count": 9,
   "metadata": {},
   "outputs": [
    {
     "data": {
      "text/plain": [
       "array([-1, 10,  8,  6,  9,  7,  3,  5,  4,  1,  2], dtype=int64)"
      ]
     },
     "execution_count": 9,
     "metadata": {},
     "output_type": "execute_result"
    }
   ],
   "source": [
    "rf.rating.unique()"
   ]
  },
  {
   "cell_type": "code",
   "execution_count": 10,
   "metadata": {},
   "outputs": [
    {
     "data": {
      "text/plain": [
       "array([ nan,  10.,   8.,   6.,   9.,   7.,   3.,   5.,   4.,   1.,   2.])"
      ]
     },
     "execution_count": 10,
     "metadata": {},
     "output_type": "execute_result"
    }
   ],
   "source": [
    "rf[\"rating\"] = rf[\"rating\"].map(lambda x:np.nan if x==-1 else x)\n",
    "\n",
    "rf.rating.unique()"
   ]
  },
  {
   "cell_type": "code",
   "execution_count": 11,
   "metadata": {},
   "outputs": [
    {
     "data": {
      "text/plain": [
       "array([    1,     5,     6, ..., 34522, 34525, 34527], dtype=int64)"
      ]
     },
     "execution_count": 11,
     "metadata": {},
     "output_type": "execute_result"
    }
   ],
   "source": [
    "fd = df.anime_id.unique()\n",
    "np.sort(fd)"
   ]
  },
  {
   "cell_type": "code",
   "execution_count": 12,
   "metadata": {},
   "outputs": [
    {
     "data": {
      "text/plain": [
       "array([    1,     5,     6, ..., 34475, 34476, 34519], dtype=int64)"
      ]
     },
     "execution_count": 12,
     "metadata": {},
     "output_type": "execute_result"
    }
   ],
   "source": [
    "fr = rf.anime_id.unique()\n",
    "np.sort(fr)"
   ]
  },
  {
   "cell_type": "code",
   "execution_count": 13,
   "metadata": {},
   "outputs": [
    {
     "name": "stdout",
     "output_type": "stream",
     "text": [
      "11200\n",
      "12294\n"
     ]
    }
   ],
   "source": [
    "print len(fr)\n",
    "print len(fd)"
   ]
  },
  {
   "cell_type": "code",
   "execution_count": 14,
   "metadata": {
    "collapsed": true
   },
   "outputs": [],
   "source": [
    "nrf = rf.dropna(axis=0, how='any')"
   ]
  },
  {
   "cell_type": "code",
   "execution_count": 15,
   "metadata": {},
   "outputs": [
    {
     "data": {
      "text/plain": [
       "(6337241, 3)"
      ]
     },
     "execution_count": 15,
     "metadata": {},
     "output_type": "execute_result"
    }
   ],
   "source": [
    "nrf.shape"
   ]
  },
  {
   "cell_type": "code",
   "execution_count": 16,
   "metadata": {},
   "outputs": [
    {
     "data": {
      "text/plain": [
       "(7813737, 3)"
      ]
     },
     "execution_count": 16,
     "metadata": {},
     "output_type": "execute_result"
    }
   ],
   "source": [
    "rf.shape"
   ]
  },
  {
   "cell_type": "code",
   "execution_count": 17,
   "metadata": {},
   "outputs": [
    {
     "data": {
      "text/plain": [
       "array([ 10.,   8.,   6.,   9.,   7.,   3.,   5.,   4.,   1.,   2.])"
      ]
     },
     "execution_count": 17,
     "metadata": {},
     "output_type": "execute_result"
    }
   ],
   "source": [
    "nrf.rating.unique()"
   ]
  },
  {
   "cell_type": "code",
   "execution_count": 79,
   "metadata": {
    "collapsed": true
   },
   "outputs": [],
   "source": [
    "rat = nrf['rating']"
   ]
  },
  {
   "cell_type": "code",
   "execution_count": 80,
   "metadata": {},
   "outputs": [
    {
     "data": {
      "text/plain": [
       "(array([   16649.,    23150.,    41453.,   104291.,   282806.,   637775.,\n",
       "         1375287.,  1646019.,  2209811.]),\n",
       " array([  1.,   2.,   3.,   4.,   5.,   6.,   7.,   8.,   9.,  10.]),\n",
       " <a list of 9 Patch objects>)"
      ]
     },
     "execution_count": 80,
     "metadata": {},
     "output_type": "execute_result"
    },
    {
     "data": {
      "image/png": "[encoded data removed]",
      "text/plain": [
       "<matplotlib.figure.Figure at 0x1bb16198>"
      ]
     },
     "metadata": {},
     "output_type": "display_data"
    }
   ],
   "source": [
    "plt.hist(rat, bins=np.arange(rat.min(), rat.max()+1))"
   ]
  },
  {
   "cell_type": "raw",
   "metadata": {},
   "source": []
  },
  {
   "cell_type": "code",
   "execution_count": 18,
   "metadata": {
    "collapsed": true
   },
   "outputs": [],
   "source": [
    "def convert(string):\n",
    "    try:\n",
    "        string = float(string)\n",
    "    except:\n",
    "        string = string\n",
    "    return string"
   ]
  },
  {
   "cell_type": "code",
   "execution_count": 19,
   "metadata": {
    "collapsed": true
   },
   "outputs": [],
   "source": [
    "df['episodes']=df['episodes'].map(convert)"
   ]
  },
  {
   "cell_type": "code",
   "execution_count": 20,
   "metadata": {
    "collapsed": true
   },
   "outputs": [],
   "source": [
    "df['rating']=df['rating'].map(convert)"
   ]
  },
  {
   "cell_type": "code",
   "execution_count": 21,
   "metadata": {
    "collapsed": true
   },
   "outputs": [],
   "source": [
    "newdf = pd.concat([df[\"genre\"].str.get_dummies(sep=\",\"),pd.get_dummies(df[[\"type\"]]),df[[\"rating\"]],df[[\"members\"]],df[\"episodes\"]],axis=1)"
   ]
  },
  {
   "cell_type": "code",
   "execution_count": 22,
   "metadata": {
    "collapsed": true
   },
   "outputs": [],
   "source": [
    "asx = newdf.dropna(axis = 0 , how ='any')"
   ]
  },
  {
   "cell_type": "code",
   "execution_count": 23,
   "metadata": {},
   "outputs": [
    {
     "data": {
      "text/html": [
       "<div>\n",
       "<style>\n",
       "    .dataframe thead tr:only-child th {\n",
       "        text-align: right;\n",
       "    }\n",
       "\n",
       "    .dataframe thead th {\n",
       "        text-align: left;\n",
       "    }\n",
       "\n",
       "    .dataframe tbody tr th {\n",
       "        vertical-align: top;\n",
       "    }\n",
       "</style>\n",
       "<table border=\"1\" class=\"dataframe\">\n",
       "  <thead>\n",
       "    <tr style=\"text-align: right;\">\n",
       "      <th></th>\n",
       "      <th>Adventure</th>\n",
       "      <th>Cars</th>\n",
       "      <th>Comedy</th>\n",
       "      <th>Dementia</th>\n",
       "      <th>Demons</th>\n",
       "      <th>Drama</th>\n",
       "      <th>Ecchi</th>\n",
       "      <th>Fantasy</th>\n",
       "      <th>Game</th>\n",
       "      <th>Harem</th>\n",
       "      <th>...</th>\n",
       "      <th>Yaoi</th>\n",
       "      <th>type_Movie</th>\n",
       "      <th>type_Music</th>\n",
       "      <th>type_ONA</th>\n",
       "      <th>type_OVA</th>\n",
       "      <th>type_Special</th>\n",
       "      <th>type_TV</th>\n",
       "      <th>rating</th>\n",
       "      <th>members</th>\n",
       "      <th>episodes</th>\n",
       "    </tr>\n",
       "  </thead>\n",
       "  <tbody>\n",
       "    <tr>\n",
       "      <th>count</th>\n",
       "      <td>12064.000000</td>\n",
       "      <td>12064.000000</td>\n",
       "      <td>12064.000000</td>\n",
       "      <td>12064.000000</td>\n",
       "      <td>12064.000000</td>\n",
       "      <td>12064.000000</td>\n",
       "      <td>12064.000000</td>\n",
       "      <td>12064.000000</td>\n",
       "      <td>12064.000000</td>\n",
       "      <td>12064.000000</td>\n",
       "      <td>...</td>\n",
       "      <td>12064.000000</td>\n",
       "      <td>12064.000000</td>\n",
       "      <td>12064.000000</td>\n",
       "      <td>12064.000000</td>\n",
       "      <td>12064.000000</td>\n",
       "      <td>12064.000000</td>\n",
       "      <td>12064.000000</td>\n",
       "      <td>12064.000000</td>\n",
       "      <td>1.206400e+04</td>\n",
       "      <td>12064.000000</td>\n",
       "    </tr>\n",
       "    <tr>\n",
       "      <th>mean</th>\n",
       "      <td>0.072198</td>\n",
       "      <td>0.003067</td>\n",
       "      <td>0.118369</td>\n",
       "      <td>0.002735</td>\n",
       "      <td>0.016827</td>\n",
       "      <td>0.083140</td>\n",
       "      <td>0.046751</td>\n",
       "      <td>0.145723</td>\n",
       "      <td>0.011605</td>\n",
       "      <td>0.022546</td>\n",
       "      <td>...</td>\n",
       "      <td>0.000166</td>\n",
       "      <td>0.190401</td>\n",
       "      <td>0.040451</td>\n",
       "      <td>0.054045</td>\n",
       "      <td>0.272298</td>\n",
       "      <td>0.138511</td>\n",
       "      <td>0.304294</td>\n",
       "      <td>6.473902</td>\n",
       "      <td>1.827952e+04</td>\n",
       "      <td>12.284483</td>\n",
       "    </tr>\n",
       "    <tr>\n",
       "      <th>std</th>\n",
       "      <td>0.258827</td>\n",
       "      <td>0.055298</td>\n",
       "      <td>0.323058</td>\n",
       "      <td>0.052232</td>\n",
       "      <td>0.128628</td>\n",
       "      <td>0.276105</td>\n",
       "      <td>0.211113</td>\n",
       "      <td>0.352843</td>\n",
       "      <td>0.107103</td>\n",
       "      <td>0.148458</td>\n",
       "      <td>...</td>\n",
       "      <td>0.012875</td>\n",
       "      <td>0.392634</td>\n",
       "      <td>0.197023</td>\n",
       "      <td>0.226116</td>\n",
       "      <td>0.445161</td>\n",
       "      <td>0.345450</td>\n",
       "      <td>0.460127</td>\n",
       "      <td>1.026746</td>\n",
       "      <td>5.527578e+04</td>\n",
       "      <td>46.661240</td>\n",
       "    </tr>\n",
       "    <tr>\n",
       "      <th>min</th>\n",
       "      <td>0.000000</td>\n",
       "      <td>0.000000</td>\n",
       "      <td>0.000000</td>\n",
       "      <td>0.000000</td>\n",
       "      <td>0.000000</td>\n",
       "      <td>0.000000</td>\n",
       "      <td>0.000000</td>\n",
       "      <td>0.000000</td>\n",
       "      <td>0.000000</td>\n",
       "      <td>0.000000</td>\n",
       "      <td>...</td>\n",
       "      <td>0.000000</td>\n",
       "      <td>0.000000</td>\n",
       "      <td>0.000000</td>\n",
       "      <td>0.000000</td>\n",
       "      <td>0.000000</td>\n",
       "      <td>0.000000</td>\n",
       "      <td>0.000000</td>\n",
       "      <td>1.670000</td>\n",
       "      <td>1.200000e+01</td>\n",
       "      <td>1.000000</td>\n",
       "    </tr>\n",
       "    <tr>\n",
       "      <th>25%</th>\n",
       "      <td>0.000000</td>\n",
       "      <td>0.000000</td>\n",
       "      <td>0.000000</td>\n",
       "      <td>0.000000</td>\n",
       "      <td>0.000000</td>\n",
       "      <td>0.000000</td>\n",
       "      <td>0.000000</td>\n",
       "      <td>0.000000</td>\n",
       "      <td>0.000000</td>\n",
       "      <td>0.000000</td>\n",
       "      <td>...</td>\n",
       "      <td>0.000000</td>\n",
       "      <td>0.000000</td>\n",
       "      <td>0.000000</td>\n",
       "      <td>0.000000</td>\n",
       "      <td>0.000000</td>\n",
       "      <td>0.000000</td>\n",
       "      <td>0.000000</td>\n",
       "      <td>5.880000</td>\n",
       "      <td>2.210000e+02</td>\n",
       "      <td>1.000000</td>\n",
       "    </tr>\n",
       "    <tr>\n",
       "      <th>50%</th>\n",
       "      <td>0.000000</td>\n",
       "      <td>0.000000</td>\n",
       "      <td>0.000000</td>\n",
       "      <td>0.000000</td>\n",
       "      <td>0.000000</td>\n",
       "      <td>0.000000</td>\n",
       "      <td>0.000000</td>\n",
       "      <td>0.000000</td>\n",
       "      <td>0.000000</td>\n",
       "      <td>0.000000</td>\n",
       "      <td>...</td>\n",
       "      <td>0.000000</td>\n",
       "      <td>0.000000</td>\n",
       "      <td>0.000000</td>\n",
       "      <td>0.000000</td>\n",
       "      <td>0.000000</td>\n",
       "      <td>0.000000</td>\n",
       "      <td>0.000000</td>\n",
       "      <td>6.570000</td>\n",
       "      <td>1.539000e+03</td>\n",
       "      <td>2.000000</td>\n",
       "    </tr>\n",
       "    <tr>\n",
       "      <th>75%</th>\n",
       "      <td>0.000000</td>\n",
       "      <td>0.000000</td>\n",
       "      <td>0.000000</td>\n",
       "      <td>0.000000</td>\n",
       "      <td>0.000000</td>\n",
       "      <td>0.000000</td>\n",
       "      <td>0.000000</td>\n",
       "      <td>0.000000</td>\n",
       "      <td>0.000000</td>\n",
       "      <td>0.000000</td>\n",
       "      <td>...</td>\n",
       "      <td>0.000000</td>\n",
       "      <td>0.000000</td>\n",
       "      <td>0.000000</td>\n",
       "      <td>0.000000</td>\n",
       "      <td>1.000000</td>\n",
       "      <td>0.000000</td>\n",
       "      <td>1.000000</td>\n",
       "      <td>7.180000</td>\n",
       "      <td>9.485500e+03</td>\n",
       "      <td>12.000000</td>\n",
       "    </tr>\n",
       "    <tr>\n",
       "      <th>max</th>\n",
       "      <td>1.000000</td>\n",
       "      <td>1.000000</td>\n",
       "      <td>1.000000</td>\n",
       "      <td>1.000000</td>\n",
       "      <td>1.000000</td>\n",
       "      <td>1.000000</td>\n",
       "      <td>1.000000</td>\n",
       "      <td>1.000000</td>\n",
       "      <td>1.000000</td>\n",
       "      <td>1.000000</td>\n",
       "      <td>...</td>\n",
       "      <td>1.000000</td>\n",
       "      <td>1.000000</td>\n",
       "      <td>1.000000</td>\n",
       "      <td>1.000000</td>\n",
       "      <td>1.000000</td>\n",
       "      <td>1.000000</td>\n",
       "      <td>1.000000</td>\n",
       "      <td>10.000000</td>\n",
       "      <td>1.013917e+06</td>\n",
       "      <td>1818.000000</td>\n",
       "    </tr>\n",
       "  </tbody>\n",
       "</table>\n",
       "<p>8 rows × 91 columns</p>\n",
       "</div>"
      ],
      "text/plain": [
       "          Adventure          Cars        Comedy      Dementia        Demons  \\\n",
       "count  12064.000000  12064.000000  12064.000000  12064.000000  12064.000000   \n",
       "mean       0.072198      0.003067      0.118369      0.002735      0.016827   \n",
       "std        0.258827      0.055298      0.323058      0.052232      0.128628   \n",
       "min        0.000000      0.000000      0.000000      0.000000      0.000000   \n",
       "25%        0.000000      0.000000      0.000000      0.000000      0.000000   \n",
       "50%        0.000000      0.000000      0.000000      0.000000      0.000000   \n",
       "75%        0.000000      0.000000      0.000000      0.000000      0.000000   \n",
       "max        1.000000      1.000000      1.000000      1.000000      1.000000   \n",
       "\n",
       "              Drama         Ecchi       Fantasy          Game         Harem  \\\n",
       "count  12064.000000  12064.000000  12064.000000  12064.000000  12064.000000   \n",
       "mean       0.083140      0.046751      0.145723      0.011605      0.022546   \n",
       "std        0.276105      0.211113      0.352843      0.107103      0.148458   \n",
       "min        0.000000      0.000000      0.000000      0.000000      0.000000   \n",
       "25%        0.000000      0.000000      0.000000      0.000000      0.000000   \n",
       "50%        0.000000      0.000000      0.000000      0.000000      0.000000   \n",
       "75%        0.000000      0.000000      0.000000      0.000000      0.000000   \n",
       "max        1.000000      1.000000      1.000000      1.000000      1.000000   \n",
       "\n",
       "           ...               Yaoi    type_Movie    type_Music      type_ONA  \\\n",
       "count      ...       12064.000000  12064.000000  12064.000000  12064.000000   \n",
       "mean       ...           0.000166      0.190401      0.040451      0.054045   \n",
       "std        ...           0.012875      0.392634      0.197023      0.226116   \n",
       "min        ...           0.000000      0.000000      0.000000      0.000000   \n",
       "25%        ...           0.000000      0.000000      0.000000      0.000000   \n",
       "50%        ...           0.000000      0.000000      0.000000      0.000000   \n",
       "75%        ...           0.000000      0.000000      0.000000      0.000000   \n",
       "max        ...           1.000000      1.000000      1.000000      1.000000   \n",
       "\n",
       "           type_OVA  type_Special       type_TV        rating       members  \\\n",
       "count  12064.000000  12064.000000  12064.000000  12064.000000  1.206400e+04   \n",
       "mean       0.272298      0.138511      0.304294      6.473902  1.827952e+04   \n",
       "std        0.445161      0.345450      0.460127      1.026746  5.527578e+04   \n",
       "min        0.000000      0.000000      0.000000      1.670000  1.200000e+01   \n",
       "25%        0.000000      0.000000      0.000000      5.880000  2.210000e+02   \n",
       "50%        0.000000      0.000000      0.000000      6.570000  1.539000e+03   \n",
       "75%        1.000000      0.000000      1.000000      7.180000  9.485500e+03   \n",
       "max        1.000000      1.000000      1.000000     10.000000  1.013917e+06   \n",
       "\n",
       "           episodes  \n",
       "count  12064.000000  \n",
       "mean      12.284483  \n",
       "std       46.661240  \n",
       "min        1.000000  \n",
       "25%        1.000000  \n",
       "50%        2.000000  \n",
       "75%       12.000000  \n",
       "max     1818.000000  \n",
       "\n",
       "[8 rows x 91 columns]"
      ]
     },
     "execution_count": 23,
     "metadata": {},
     "output_type": "execute_result"
    }
   ],
   "source": [
    "asx.describe()"
   ]
  },
  {
   "cell_type": "code",
   "execution_count": 24,
   "metadata": {},
   "outputs": [
    {
     "data": {
      "text/plain": [
       "Index([u' Adventure', u' Cars', u' Comedy', u' Dementia', u' Demons',\n",
       "       u' Drama', u' Ecchi', u' Fantasy', u' Game', u' Harem', u' Hentai',\n",
       "       u' Historical', u' Horror', u' Josei', u' Kids', u' Magic',\n",
       "       u' Martial Arts', u' Mecha', u' Military', u' Music', u' Mystery',\n",
       "       u' Parody', u' Police', u' Psychological', u' Romance', u' Samurai',\n",
       "       u' School', u' Sci-Fi', u' Seinen', u' Shoujo', u' Shoujo Ai',\n",
       "       u' Shounen', u' Shounen Ai', u' Slice of Life', u' Space', u' Sports',\n",
       "       u' Super Power', u' Supernatural', u' Thriller', u' Vampire', u' Yaoi',\n",
       "       u' Yuri', u'Action', u'Adventure', u'Cars', u'Comedy', u'Dementia',\n",
       "       u'Demons', u'Drama', u'Ecchi', u'Fantasy', u'Game', u'Harem', u'Hentai',\n",
       "       u'Historical', u'Horror', u'Josei', u'Kids', u'Magic', u'Martial Arts',\n",
       "       u'Mecha', u'Military', u'Music', u'Mystery', u'Parody', u'Police',\n",
       "       u'Psychological', u'Romance', u'Samurai', u'School', u'Sci-Fi',\n",
       "       u'Seinen', u'Shoujo', u'Shounen', u'Slice of Life', u'Space', u'Sports',\n",
       "       u'Super Power', u'Supernatural', u'Thriller', u'Vampire', u'Yaoi',\n",
       "       u'type_Movie', u'type_Music', u'type_ONA', u'type_OVA', u'type_Special',\n",
       "       u'type_TV', u'rating', u'members', u'episodes'],\n",
       "      dtype='object')"
      ]
     },
     "execution_count": 24,
     "metadata": {},
     "output_type": "execute_result"
    }
   ],
   "source": [
    "newdf.columns"
   ]
  },
  {
   "cell_type": "code",
   "execution_count": 25,
   "metadata": {
    "collapsed": true
   },
   "outputs": [],
   "source": [
    "df[\"name\"] = df[\"name\"].map(lambda name:re.sub('[^A-Za-z0-9]+', \" \", name))"
   ]
  },
  {
   "cell_type": "code",
   "execution_count": 26,
   "metadata": {},
   "outputs": [
    {
     "data": {
      "text/html": [
       "<div>\n",
       "<style>\n",
       "    .dataframe thead tr:only-child th {\n",
       "        text-align: right;\n",
       "    }\n",
       "\n",
       "    .dataframe thead th {\n",
       "        text-align: left;\n",
       "    }\n",
       "\n",
       "    .dataframe tbody tr th {\n",
       "        vertical-align: top;\n",
       "    }\n",
       "</style>\n",
       "<table border=\"1\" class=\"dataframe\">\n",
       "  <thead>\n",
       "    <tr style=\"text-align: right;\">\n",
       "      <th></th>\n",
       "      <th>anime_id</th>\n",
       "      <th>name</th>\n",
       "      <th>genre</th>\n",
       "      <th>type</th>\n",
       "      <th>episodes</th>\n",
       "      <th>rating</th>\n",
       "      <th>members</th>\n",
       "    </tr>\n",
       "  </thead>\n",
       "  <tbody>\n",
       "    <tr>\n",
       "      <th>0</th>\n",
       "      <td>32281</td>\n",
       "      <td>Kimi no Na wa</td>\n",
       "      <td>Drama, Romance, School, Supernatural</td>\n",
       "      <td>Movie</td>\n",
       "      <td>1.0</td>\n",
       "      <td>9.37</td>\n",
       "      <td>200630</td>\n",
       "    </tr>\n",
       "    <tr>\n",
       "      <th>1</th>\n",
       "      <td>5114</td>\n",
       "      <td>Fullmetal Alchemist Brotherhood</td>\n",
       "      <td>Action, Adventure, Drama, Fantasy, Magic, Mili...</td>\n",
       "      <td>TV</td>\n",
       "      <td>64.0</td>\n",
       "      <td>9.26</td>\n",
       "      <td>793665</td>\n",
       "    </tr>\n",
       "    <tr>\n",
       "      <th>2</th>\n",
       "      <td>28977</td>\n",
       "      <td>Gintama</td>\n",
       "      <td>Action, Comedy, Historical, Parody, Samurai, S...</td>\n",
       "      <td>TV</td>\n",
       "      <td>51.0</td>\n",
       "      <td>9.25</td>\n",
       "      <td>114262</td>\n",
       "    </tr>\n",
       "    <tr>\n",
       "      <th>3</th>\n",
       "      <td>9253</td>\n",
       "      <td>Steins Gate</td>\n",
       "      <td>Sci-Fi, Thriller</td>\n",
       "      <td>TV</td>\n",
       "      <td>24.0</td>\n",
       "      <td>9.17</td>\n",
       "      <td>673572</td>\n",
       "    </tr>\n",
       "    <tr>\n",
       "      <th>4</th>\n",
       "      <td>9969</td>\n",
       "      <td>Gintama 039</td>\n",
       "      <td>Action, Comedy, Historical, Parody, Samurai, S...</td>\n",
       "      <td>TV</td>\n",
       "      <td>51.0</td>\n",
       "      <td>9.16</td>\n",
       "      <td>151266</td>\n",
       "    </tr>\n",
       "  </tbody>\n",
       "</table>\n",
       "</div>"
      ],
      "text/plain": [
       "   anime_id                             name  \\\n",
       "0     32281                   Kimi no Na wa    \n",
       "1      5114  Fullmetal Alchemist Brotherhood   \n",
       "2     28977                         Gintama    \n",
       "3      9253                      Steins Gate   \n",
       "4      9969                     Gintama 039    \n",
       "\n",
       "                                               genre   type  episodes  rating  \\\n",
       "0               Drama, Romance, School, Supernatural  Movie       1.0    9.37   \n",
       "1  Action, Adventure, Drama, Fantasy, Magic, Mili...     TV      64.0    9.26   \n",
       "2  Action, Comedy, Historical, Parody, Samurai, S...     TV      51.0    9.25   \n",
       "3                                   Sci-Fi, Thriller     TV      24.0    9.17   \n",
       "4  Action, Comedy, Historical, Parody, Samurai, S...     TV      51.0    9.16   \n",
       "\n",
       "   members  \n",
       "0   200630  \n",
       "1   793665  \n",
       "2   114262  \n",
       "3   673572  \n",
       "4   151266  "
      ]
     },
     "execution_count": 26,
     "metadata": {},
     "output_type": "execute_result"
    }
   ],
   "source": [
    "df.head()"
   ]
  },
  {
   "cell_type": "code",
   "execution_count": 27,
   "metadata": {
    "collapsed": true
   },
   "outputs": [],
   "source": [
    "max_abs_scaler = MaxAbsScaler()\n",
    "asx = max_abs_scaler.fit_transform(asx)"
   ]
  },
  {
   "cell_type": "code",
   "execution_count": 28,
   "metadata": {
    "collapsed": true
   },
   "outputs": [],
   "source": [
    "from sklearn.neighbors import NearestNeighbors"
   ]
  },
  {
   "cell_type": "code",
   "execution_count": 29,
   "metadata": {
    "collapsed": true
   },
   "outputs": [],
   "source": [
    "nbrs = NearestNeighbors(n_neighbors=5, algorithm='ball_tree').fit(asx)"
   ]
  },
  {
   "cell_type": "code",
   "execution_count": 30,
   "metadata": {
    "collapsed": true
   },
   "outputs": [],
   "source": [
    "distances, indices = nbrs.kneighbors(asx)"
   ]
  },
  {
   "cell_type": "code",
   "execution_count": 31,
   "metadata": {
    "collapsed": true
   },
   "outputs": [],
   "source": [
    "def idee_anime(x):\n",
    "    return df[df[\"name\"]== x].index.tolist()[0]"
   ]
  },
  {
   "cell_type": "code",
   "execution_count": 32,
   "metadata": {},
   "outputs": [
    {
     "data": {
      "text/plain": [
       "99"
      ]
     },
     "execution_count": 32,
     "metadata": {},
     "output_type": "execute_result"
    }
   ],
   "source": [
    "idee_anime('Barakamon')"
   ]
  },
  {
   "cell_type": "code",
   "execution_count": 33,
   "metadata": {
    "collapsed": true
   },
   "outputs": [],
   "source": [
    "all_names = list(df.name.values)"
   ]
  },
  {
   "cell_type": "code",
   "execution_count": 34,
   "metadata": {
    "collapsed": true
   },
   "outputs": [],
   "source": [
    "def get_name(partial):\n",
    "    for name in all_names:\n",
    "        if partial in name:\n",
    "            print(name,all_names.index(name))"
   ]
  },
  {
   "cell_type": "code",
   "execution_count": 35,
   "metadata": {
    "collapsed": true
   },
   "outputs": [],
   "source": [
    "def print_similar(query=None,id=None):\n",
    "    if id:\n",
    "        for id in indices[id][1:]:\n",
    "            print(df.iloc[id][\"name\"]),(df.iloc[id]['anime_id'])\n",
    "    if query:\n",
    "        found_id = get_name(query)\n",
    "        for id in indices[found_id][1:]:\n",
    "            print(df.iloc[id][\"name\"]),(df.iloc[id]['anime_id'])"
   ]
  },
  {
   "cell_type": "code",
   "execution_count": 36,
   "metadata": {},
   "outputs": [
    {
     "name": "stdout",
     "output_type": "stream",
     "text": [
      "('Boruto Naruto the Movie', 486)\n",
      "('Naruto Shippuuden', 615)\n",
      "('The Last Naruto the Movie', 719)\n",
      "('Naruto Shippuuden Movie 6 Road to Ninja', 784)\n",
      "('Naruto', 841)\n",
      "('Boruto Naruto the Movie Naruto ga Hokage ni Natta Hi', 1103)\n",
      "('Naruto Shippuuden Movie 5 Blood Prison', 1237)\n",
      "('Naruto x UT', 1343)\n",
      "('Naruto Shippuuden Movie 4 The Lost Tower', 1472)\n",
      "('Naruto Shippuuden Movie 3 Hi no Ishi wo Tsugu Mono', 1573)\n",
      "('Naruto Shippuuden Movie 1', 1827)\n",
      "('Naruto Shippuuden Movie 2 Kizuna', 1828)\n",
      "('Naruto Shippuuden Shippuu quot Konoha Gakuen quot Den', 2374)\n",
      "('Naruto Honoo no Chuunin Shiken Naruto vs Konohamaru ', 2416)\n",
      "('Naruto SD Rock Lee no Seishun Full Power Ninden', 2457)\n",
      "('Naruto Shippuuden Sunny Side Battle', 2458)\n",
      "('Naruto Movie 1 Dai Katsugeki Yuki Hime Shinobu Houjou Dattebayo ', 2756)\n",
      "('Naruto Soyokazeden Movie Naruto to Mashin to Mitsu no Onegai Dattebayo ', 2997)\n",
      "('Naruto Movie 2 Dai Gekitotsu Maboroshi no Chiteiiseki Dattebayo ', 3449)\n",
      "('Naruto Dai Katsugeki Yuki Hime Shinobu Houjou Dattebayo Special Konoha Annual Sports Festival', 3529)\n",
      "('Naruto Movie 3 Dai Koufun Mikazuki Jima no Animaru Panikku Dattebayo ', 3560)\n",
      "('Naruto The Cross Roads', 3561)\n",
      "('Naruto Narutimate Hero 3 Tsuini Gekitotsu Jounin vs Genin Musabetsu Dairansen taikai Kaisai ', 3838)\n",
      "('Naruto Takigakure no Shitou Ore ga Eiyuu Dattebayo ', 3984)\n",
      "('Naruto Akaki Yotsuba no Clover wo Sagase', 5111)\n"
     ]
    }
   ],
   "source": [
    "get_name('Naruto')"
   ]
  },
  {
   "cell_type": "code",
   "execution_count": 82,
   "metadata": {},
   "outputs": [
    {
     "name": "stdout",
     "output_type": "stream",
     "text": [
      "Street Fighter II: The Movie 1362\n",
      "Huang Feihong Yong Chuang Tianxia 30268\n",
      "The Snack World 32593\n",
      "Bleach Movie 2: The DiamondDust Rebellion - Mou Hitotsu no Hyourinmaru 2889\n"
     ]
    }
   ],
   "source": [
    "print_similar(id = 1828)"
   ]
  },
  {
   "cell_type": "code",
   "execution_count": 39,
   "metadata": {},
   "outputs": [
    {
     "data": {
      "text/plain": [
       "Index([u'user_id', u'anime_id', u'rating'], dtype='object')"
      ]
     },
     "execution_count": 39,
     "metadata": {},
     "output_type": "execute_result"
    }
   ],
   "source": [
    "nrf.columns"
   ]
  },
  {
   "cell_type": "code",
   "execution_count": 40,
   "metadata": {
    "collapsed": true
   },
   "outputs": [],
   "source": [
    "nrf.reset_index(inplace = True )"
   ]
  },
  {
   "cell_type": "code",
   "execution_count": 41,
   "metadata": {
    "collapsed": true
   },
   "outputs": [],
   "source": [
    "prf = nrf.pivot_table(index = 'user_id', columns ='anime_id', values = 'rating', aggfunc = 'mean').fillna(0)"
   ]
  },
  {
   "cell_type": "code",
   "execution_count": 42,
   "metadata": {},
   "outputs": [
    {
     "data": {
      "text/html": [
       "<div>\n",
       "<style>\n",
       "    .dataframe thead tr:only-child th {\n",
       "        text-align: right;\n",
       "    }\n",
       "\n",
       "    .dataframe thead th {\n",
       "        text-align: left;\n",
       "    }\n",
       "\n",
       "    .dataframe tbody tr th {\n",
       "        vertical-align: top;\n",
       "    }\n",
       "</style>\n",
       "<table border=\"1\" class=\"dataframe\">\n",
       "  <thead>\n",
       "    <tr style=\"text-align: right;\">\n",
       "      <th>anime_id</th>\n",
       "      <th>1</th>\n",
       "      <th>5</th>\n",
       "      <th>6</th>\n",
       "      <th>7</th>\n",
       "      <th>8</th>\n",
       "      <th>15</th>\n",
       "      <th>16</th>\n",
       "      <th>17</th>\n",
       "      <th>18</th>\n",
       "      <th>19</th>\n",
       "      <th>...</th>\n",
       "      <th>34238</th>\n",
       "      <th>34239</th>\n",
       "      <th>34240</th>\n",
       "      <th>34252</th>\n",
       "      <th>34283</th>\n",
       "      <th>34324</th>\n",
       "      <th>34325</th>\n",
       "      <th>34349</th>\n",
       "      <th>34367</th>\n",
       "      <th>34475</th>\n",
       "    </tr>\n",
       "    <tr>\n",
       "      <th>user_id</th>\n",
       "      <th></th>\n",
       "      <th></th>\n",
       "      <th></th>\n",
       "      <th></th>\n",
       "      <th></th>\n",
       "      <th></th>\n",
       "      <th></th>\n",
       "      <th></th>\n",
       "      <th></th>\n",
       "      <th></th>\n",
       "      <th></th>\n",
       "      <th></th>\n",
       "      <th></th>\n",
       "      <th></th>\n",
       "      <th></th>\n",
       "      <th></th>\n",
       "      <th></th>\n",
       "      <th></th>\n",
       "      <th></th>\n",
       "      <th></th>\n",
       "      <th></th>\n",
       "    </tr>\n",
       "  </thead>\n",
       "  <tbody>\n",
       "    <tr>\n",
       "      <th>1</th>\n",
       "      <td>0.0</td>\n",
       "      <td>0.0</td>\n",
       "      <td>0.0</td>\n",
       "      <td>0.0</td>\n",
       "      <td>0.0</td>\n",
       "      <td>0.0</td>\n",
       "      <td>0.0</td>\n",
       "      <td>0.0</td>\n",
       "      <td>0.0</td>\n",
       "      <td>0.0</td>\n",
       "      <td>...</td>\n",
       "      <td>0.0</td>\n",
       "      <td>0.0</td>\n",
       "      <td>0.0</td>\n",
       "      <td>0.0</td>\n",
       "      <td>0.0</td>\n",
       "      <td>0.0</td>\n",
       "      <td>0.0</td>\n",
       "      <td>0.0</td>\n",
       "      <td>0.0</td>\n",
       "      <td>0.0</td>\n",
       "    </tr>\n",
       "    <tr>\n",
       "      <th>2</th>\n",
       "      <td>0.0</td>\n",
       "      <td>0.0</td>\n",
       "      <td>0.0</td>\n",
       "      <td>0.0</td>\n",
       "      <td>0.0</td>\n",
       "      <td>0.0</td>\n",
       "      <td>0.0</td>\n",
       "      <td>0.0</td>\n",
       "      <td>0.0</td>\n",
       "      <td>0.0</td>\n",
       "      <td>...</td>\n",
       "      <td>0.0</td>\n",
       "      <td>0.0</td>\n",
       "      <td>0.0</td>\n",
       "      <td>0.0</td>\n",
       "      <td>0.0</td>\n",
       "      <td>0.0</td>\n",
       "      <td>0.0</td>\n",
       "      <td>0.0</td>\n",
       "      <td>0.0</td>\n",
       "      <td>0.0</td>\n",
       "    </tr>\n",
       "    <tr>\n",
       "      <th>3</th>\n",
       "      <td>0.0</td>\n",
       "      <td>0.0</td>\n",
       "      <td>0.0</td>\n",
       "      <td>0.0</td>\n",
       "      <td>0.0</td>\n",
       "      <td>0.0</td>\n",
       "      <td>0.0</td>\n",
       "      <td>0.0</td>\n",
       "      <td>0.0</td>\n",
       "      <td>0.0</td>\n",
       "      <td>...</td>\n",
       "      <td>0.0</td>\n",
       "      <td>0.0</td>\n",
       "      <td>0.0</td>\n",
       "      <td>0.0</td>\n",
       "      <td>0.0</td>\n",
       "      <td>0.0</td>\n",
       "      <td>0.0</td>\n",
       "      <td>0.0</td>\n",
       "      <td>0.0</td>\n",
       "      <td>0.0</td>\n",
       "    </tr>\n",
       "    <tr>\n",
       "      <th>5</th>\n",
       "      <td>0.0</td>\n",
       "      <td>0.0</td>\n",
       "      <td>8.0</td>\n",
       "      <td>0.0</td>\n",
       "      <td>0.0</td>\n",
       "      <td>6.0</td>\n",
       "      <td>0.0</td>\n",
       "      <td>6.0</td>\n",
       "      <td>6.0</td>\n",
       "      <td>0.0</td>\n",
       "      <td>...</td>\n",
       "      <td>0.0</td>\n",
       "      <td>0.0</td>\n",
       "      <td>0.0</td>\n",
       "      <td>0.0</td>\n",
       "      <td>0.0</td>\n",
       "      <td>0.0</td>\n",
       "      <td>0.0</td>\n",
       "      <td>0.0</td>\n",
       "      <td>0.0</td>\n",
       "      <td>0.0</td>\n",
       "    </tr>\n",
       "    <tr>\n",
       "      <th>7</th>\n",
       "      <td>0.0</td>\n",
       "      <td>0.0</td>\n",
       "      <td>0.0</td>\n",
       "      <td>0.0</td>\n",
       "      <td>0.0</td>\n",
       "      <td>0.0</td>\n",
       "      <td>0.0</td>\n",
       "      <td>0.0</td>\n",
       "      <td>0.0</td>\n",
       "      <td>0.0</td>\n",
       "      <td>...</td>\n",
       "      <td>0.0</td>\n",
       "      <td>0.0</td>\n",
       "      <td>0.0</td>\n",
       "      <td>0.0</td>\n",
       "      <td>0.0</td>\n",
       "      <td>0.0</td>\n",
       "      <td>0.0</td>\n",
       "      <td>0.0</td>\n",
       "      <td>0.0</td>\n",
       "      <td>0.0</td>\n",
       "    </tr>\n",
       "  </tbody>\n",
       "</table>\n",
       "<p>5 rows × 9927 columns</p>\n",
       "</div>"
      ],
      "text/plain": [
       "anime_id  1      5      6      7      8      15     16     17     18     \\\n",
       "user_id                                                                   \n",
       "1           0.0    0.0    0.0    0.0    0.0    0.0    0.0    0.0    0.0   \n",
       "2           0.0    0.0    0.0    0.0    0.0    0.0    0.0    0.0    0.0   \n",
       "3           0.0    0.0    0.0    0.0    0.0    0.0    0.0    0.0    0.0   \n",
       "5           0.0    0.0    8.0    0.0    0.0    6.0    0.0    6.0    6.0   \n",
       "7           0.0    0.0    0.0    0.0    0.0    0.0    0.0    0.0    0.0   \n",
       "\n",
       "anime_id  19     ...    34238  34239  34240  34252  34283  34324  34325  \\\n",
       "user_id          ...                                                      \n",
       "1           0.0  ...      0.0    0.0    0.0    0.0    0.0    0.0    0.0   \n",
       "2           0.0  ...      0.0    0.0    0.0    0.0    0.0    0.0    0.0   \n",
       "3           0.0  ...      0.0    0.0    0.0    0.0    0.0    0.0    0.0   \n",
       "5           0.0  ...      0.0    0.0    0.0    0.0    0.0    0.0    0.0   \n",
       "7           0.0  ...      0.0    0.0    0.0    0.0    0.0    0.0    0.0   \n",
       "\n",
       "anime_id  34349  34367  34475  \n",
       "user_id                        \n",
       "1           0.0    0.0    0.0  \n",
       "2           0.0    0.0    0.0  \n",
       "3           0.0    0.0    0.0  \n",
       "5           0.0    0.0    0.0  \n",
       "7           0.0    0.0    0.0  \n",
       "\n",
       "[5 rows x 9927 columns]"
      ]
     },
     "execution_count": 42,
     "metadata": {},
     "output_type": "execute_result"
    }
   ],
   "source": [
    "prf.head()"
   ]
  },
  {
   "cell_type": "code",
   "execution_count": 43,
   "metadata": {
    "collapsed": true
   },
   "outputs": [],
   "source": [
    "Pt = prf.as_matrix()"
   ]
  },
  {
   "cell_type": "code",
   "execution_count": 44,
   "metadata": {},
   "outputs": [
    {
     "data": {
      "text/plain": [
       "array([[  0.,   0.,   0., ...,   0.,   0.,   0.],\n",
       "       [  0.,   0.,   0., ...,   0.,   0.,   0.],\n",
       "       [  0.,   0.,   0., ...,   0.,   0.,   0.],\n",
       "       ..., \n",
       "       [  0.,   0.,   0., ...,   0.,   0.,   0.],\n",
       "       [ 10.,  10.,  10., ...,   0.,   0.,   0.],\n",
       "       [  0.,   0.,   0., ...,   0.,   0.,   0.]])"
      ]
     },
     "execution_count": 44,
     "metadata": {},
     "output_type": "execute_result"
    }
   ],
   "source": [
    "Pt"
   ]
  },
  {
   "cell_type": "code",
   "execution_count": 45,
   "metadata": {
    "collapsed": true
   },
   "outputs": [],
   "source": [
    "user_mean = np.mean(Pt, axis = 1)"
   ]
  },
  {
   "cell_type": "code",
   "execution_count": 46,
   "metadata": {
    "collapsed": true
   },
   "outputs": [],
   "source": [
    "Ptmean = Pt - user_mean.reshape(-1, 1)"
   ]
  },
  {
   "cell_type": "code",
   "execution_count": 47,
   "metadata": {},
   "outputs": [
    {
     "data": {
      "text/plain": [
       "array([[ -4.02941473e-03,  -4.02941473e-03,  -4.02941473e-03, ...,\n",
       "         -4.02941473e-03,  -4.02941473e-03,  -4.02941473e-03],\n",
       "       [ -1.00735368e-03,  -1.00735368e-03,  -1.00735368e-03, ...,\n",
       "         -1.00735368e-03,  -1.00735368e-03,  -1.00735368e-03],\n",
       "       [ -7.01118163e-02,  -7.01118163e-02,  -7.01118163e-02, ...,\n",
       "         -7.01118163e-02,  -7.01118163e-02,  -7.01118163e-02],\n",
       "       ..., \n",
       "       [ -1.00735368e-03,  -1.00735368e-03,  -1.00735368e-03, ...,\n",
       "         -1.00735368e-03,  -1.00735368e-03,  -1.00735368e-03],\n",
       "       [  9.84587489e+00,   9.84587489e+00,   9.84587489e+00, ...,\n",
       "         -1.54125113e-01,  -1.54125113e-01,  -1.54125113e-01],\n",
       "       [ -1.81323663e-03,  -1.81323663e-03,  -1.81323663e-03, ...,\n",
       "         -1.81323663e-03,  -1.81323663e-03,  -1.81323663e-03]])"
      ]
     },
     "execution_count": 47,
     "metadata": {},
     "output_type": "execute_result"
    }
   ],
   "source": [
    "Ptmean"
   ]
  },
  {
   "cell_type": "code",
   "execution_count": 48,
   "metadata": {
    "collapsed": true
   },
   "outputs": [],
   "source": [
    "from scipy.sparse.linalg import svds"
   ]
  },
  {
   "cell_type": "code",
   "execution_count": 49,
   "metadata": {
    "collapsed": true
   },
   "outputs": [],
   "source": [
    "U, sigma, Vt = svds(Ptmean, k = 50)"
   ]
  },
  {
   "cell_type": "code",
   "execution_count": 50,
   "metadata": {
    "collapsed": true
   },
   "outputs": [],
   "source": [
    "sigma = np.diag(sigma)"
   ]
  },
  {
   "cell_type": "code",
   "execution_count": 51,
   "metadata": {
    "collapsed": true
   },
   "outputs": [],
   "source": [
    "all_user_predicted_ratings = np.dot(np.dot(U, sigma), Vt) + user_mean.reshape(-1, 1)"
   ]
  },
  {
   "cell_type": "code",
   "execution_count": 52,
   "metadata": {
    "collapsed": true
   },
   "outputs": [],
   "source": [
    "preds_df = pd.DataFrame(all_user_predicted_ratings, columns = prf.columns)"
   ]
  },
  {
   "cell_type": "code",
   "execution_count": 53,
   "metadata": {},
   "outputs": [
    {
     "data": {
      "text/html": [
       "<div>\n",
       "<style>\n",
       "    .dataframe thead tr:only-child th {\n",
       "        text-align: right;\n",
       "    }\n",
       "\n",
       "    .dataframe thead th {\n",
       "        text-align: left;\n",
       "    }\n",
       "\n",
       "    .dataframe tbody tr th {\n",
       "        vertical-align: top;\n",
       "    }\n",
       "</style>\n",
       "<table border=\"1\" class=\"dataframe\">\n",
       "  <thead>\n",
       "    <tr style=\"text-align: right;\">\n",
       "      <th>anime_id</th>\n",
       "      <th>1</th>\n",
       "      <th>5</th>\n",
       "      <th>6</th>\n",
       "      <th>7</th>\n",
       "      <th>8</th>\n",
       "      <th>15</th>\n",
       "      <th>16</th>\n",
       "      <th>17</th>\n",
       "      <th>18</th>\n",
       "      <th>19</th>\n",
       "      <th>...</th>\n",
       "      <th>34238</th>\n",
       "      <th>34239</th>\n",
       "      <th>34240</th>\n",
       "      <th>34252</th>\n",
       "      <th>34283</th>\n",
       "      <th>34324</th>\n",
       "      <th>34325</th>\n",
       "      <th>34349</th>\n",
       "      <th>34367</th>\n",
       "      <th>34475</th>\n",
       "    </tr>\n",
       "  </thead>\n",
       "  <tbody>\n",
       "    <tr>\n",
       "      <th>0</th>\n",
       "      <td>0.002306</td>\n",
       "      <td>0.014578</td>\n",
       "      <td>-0.083352</td>\n",
       "      <td>0.004708</td>\n",
       "      <td>-0.022710</td>\n",
       "      <td>0.059466</td>\n",
       "      <td>0.232322</td>\n",
       "      <td>0.018805</td>\n",
       "      <td>0.194276</td>\n",
       "      <td>-0.221527</td>\n",
       "      <td>...</td>\n",
       "      <td>0.004407</td>\n",
       "      <td>-0.001780</td>\n",
       "      <td>0.030275</td>\n",
       "      <td>-0.000833</td>\n",
       "      <td>-0.000105</td>\n",
       "      <td>0.000812</td>\n",
       "      <td>-0.000270</td>\n",
       "      <td>0.000385</td>\n",
       "      <td>-0.000818</td>\n",
       "      <td>-0.000778</td>\n",
       "    </tr>\n",
       "    <tr>\n",
       "      <th>1</th>\n",
       "      <td>0.050180</td>\n",
       "      <td>0.021032</td>\n",
       "      <td>-0.086023</td>\n",
       "      <td>0.008975</td>\n",
       "      <td>-0.001642</td>\n",
       "      <td>0.127829</td>\n",
       "      <td>-0.038173</td>\n",
       "      <td>0.041363</td>\n",
       "      <td>0.085634</td>\n",
       "      <td>0.023456</td>\n",
       "      <td>...</td>\n",
       "      <td>0.003023</td>\n",
       "      <td>-0.001422</td>\n",
       "      <td>-0.005380</td>\n",
       "      <td>-0.001798</td>\n",
       "      <td>-0.000689</td>\n",
       "      <td>-0.002321</td>\n",
       "      <td>-0.001211</td>\n",
       "      <td>-0.001777</td>\n",
       "      <td>-0.001660</td>\n",
       "      <td>-0.002036</td>\n",
       "    </tr>\n",
       "    <tr>\n",
       "      <th>2</th>\n",
       "      <td>-1.345952</td>\n",
       "      <td>-0.915825</td>\n",
       "      <td>-0.817502</td>\n",
       "      <td>-0.143544</td>\n",
       "      <td>-0.025295</td>\n",
       "      <td>0.368651</td>\n",
       "      <td>0.172969</td>\n",
       "      <td>0.088800</td>\n",
       "      <td>0.009949</td>\n",
       "      <td>-0.049407</td>\n",
       "      <td>...</td>\n",
       "      <td>0.009475</td>\n",
       "      <td>-0.005223</td>\n",
       "      <td>0.399049</td>\n",
       "      <td>-0.007122</td>\n",
       "      <td>-0.001688</td>\n",
       "      <td>-0.001263</td>\n",
       "      <td>0.024510</td>\n",
       "      <td>-0.005979</td>\n",
       "      <td>-0.007080</td>\n",
       "      <td>-0.002125</td>\n",
       "    </tr>\n",
       "    <tr>\n",
       "      <th>3</th>\n",
       "      <td>1.858856</td>\n",
       "      <td>0.558372</td>\n",
       "      <td>3.426861</td>\n",
       "      <td>-0.052840</td>\n",
       "      <td>0.438827</td>\n",
       "      <td>3.332342</td>\n",
       "      <td>1.125798</td>\n",
       "      <td>1.022065</td>\n",
       "      <td>1.713151</td>\n",
       "      <td>2.553547</td>\n",
       "      <td>...</td>\n",
       "      <td>0.008300</td>\n",
       "      <td>-0.016827</td>\n",
       "      <td>0.225034</td>\n",
       "      <td>-0.015890</td>\n",
       "      <td>-0.010128</td>\n",
       "      <td>-0.005449</td>\n",
       "      <td>0.007346</td>\n",
       "      <td>-0.017286</td>\n",
       "      <td>-0.015813</td>\n",
       "      <td>-0.014836</td>\n",
       "    </tr>\n",
       "    <tr>\n",
       "      <th>4</th>\n",
       "      <td>-0.198755</td>\n",
       "      <td>-0.212025</td>\n",
       "      <td>0.355089</td>\n",
       "      <td>-0.140779</td>\n",
       "      <td>0.025105</td>\n",
       "      <td>0.612440</td>\n",
       "      <td>0.041398</td>\n",
       "      <td>0.252502</td>\n",
       "      <td>0.280293</td>\n",
       "      <td>1.122737</td>\n",
       "      <td>...</td>\n",
       "      <td>0.043114</td>\n",
       "      <td>-0.023692</td>\n",
       "      <td>0.682685</td>\n",
       "      <td>-0.020941</td>\n",
       "      <td>-0.008229</td>\n",
       "      <td>-0.011214</td>\n",
       "      <td>0.004809</td>\n",
       "      <td>-0.013440</td>\n",
       "      <td>-0.012636</td>\n",
       "      <td>-0.022405</td>\n",
       "    </tr>\n",
       "  </tbody>\n",
       "</table>\n",
       "<p>5 rows × 9927 columns</p>\n",
       "</div>"
      ],
      "text/plain": [
       "anime_id     1         5         6         7         8         15     \\\n",
       "0         0.002306  0.014578 -0.083352  0.004708 -0.022710  0.059466   \n",
       "1         0.050180  0.021032 -0.086023  0.008975 -0.001642  0.127829   \n",
       "2        -1.345952 -0.915825 -0.817502 -0.143544 -0.025295  0.368651   \n",
       "3         1.858856  0.558372  3.426861 -0.052840  0.438827  3.332342   \n",
       "4        -0.198755 -0.212025  0.355089 -0.140779  0.025105  0.612440   \n",
       "\n",
       "anime_id     16        17        18        19       ...        34238  \\\n",
       "0         0.232322  0.018805  0.194276 -0.221527    ...     0.004407   \n",
       "1        -0.038173  0.041363  0.085634  0.023456    ...     0.003023   \n",
       "2         0.172969  0.088800  0.009949 -0.049407    ...     0.009475   \n",
       "3         1.125798  1.022065  1.713151  2.553547    ...     0.008300   \n",
       "4         0.041398  0.252502  0.280293  1.122737    ...     0.043114   \n",
       "\n",
       "anime_id     34239     34240     34252     34283     34324     34325  \\\n",
       "0        -0.001780  0.030275 -0.000833 -0.000105  0.000812 -0.000270   \n",
       "1        -0.001422 -0.005380 -0.001798 -0.000689 -0.002321 -0.001211   \n",
       "2        -0.005223  0.399049 -0.007122 -0.001688 -0.001263  0.024510   \n",
       "3        -0.016827  0.225034 -0.015890 -0.010128 -0.005449  0.007346   \n",
       "4        -0.023692  0.682685 -0.020941 -0.008229 -0.011214  0.004809   \n",
       "\n",
       "anime_id     34349     34367     34475  \n",
       "0         0.000385 -0.000818 -0.000778  \n",
       "1        -0.001777 -0.001660 -0.002036  \n",
       "2        -0.005979 -0.007080 -0.002125  \n",
       "3        -0.017286 -0.015813 -0.014836  \n",
       "4        -0.013440 -0.012636 -0.022405  \n",
       "\n",
       "[5 rows x 9927 columns]"
      ]
     },
     "execution_count": 53,
     "metadata": {},
     "output_type": "execute_result"
    }
   ],
   "source": [
    "preds_df.head()"
   ]
  },
  {
   "cell_type": "code",
   "execution_count": 54,
   "metadata": {
    "collapsed": true
   },
   "outputs": [],
   "source": [
    "def recommend(userID,num_recommendations=5):\n",
    "    \n",
    "    user_row_number = userID - 1 \n",
    "    sorted_user_predictions = preds_df.iloc[user_row_number].sort_values(ascending=False)\n",
    "    \n",
    "    user_data = nrf[nrf.user_id == (userID)]\n",
    "    user_full = (user_data.merge(df, how = 'left', left_on = 'anime_id', right_on ='anime_id').\n",
    "                     sort_values(['rating_x'], ascending=False))\n",
    "                 \n",
    "    print 'User {0} has already rated {1} animes.'.format(userID, user_full.shape[0])\n",
    "    print 'Recommending the following {0} animes not already rated.'.format(num_recommendations)\n",
    "                 \n",
    "    \n",
    "    recommendations = (df[~df['anime_id'].isin(user_full['anime_id'])].\n",
    "         merge(pd.DataFrame(sorted_user_predictions).reset_index(), how = 'left',\n",
    "               left_on = 'anime_id',\n",
    "               right_on = 'anime_id').\n",
    "         rename(columns = {user_row_number: 'Predictions'}).\n",
    "         sort_values('Predictions', ascending = False).\n",
    "                       iloc[:num_recommendations, :-1]\n",
    "    \n",
    "                      )\n",
    "\n",
    "    return user_full, recommendations"
   ]
  },
  {
   "cell_type": "code",
   "execution_count": 55,
   "metadata": {},
   "outputs": [
    {
     "name": "stdout",
     "output_type": "stream",
     "text": [
      "User 153 has already rated 42 animes.\n",
      "Recommending the following 5 animes not already rated.\n"
     ]
    }
   ],
   "source": [
    "a_r, pr = recommend(153)"
   ]
  },
  {
   "cell_type": "code",
   "execution_count": 56,
   "metadata": {},
   "outputs": [
    {
     "data": {
      "text/html": [
       "<div>\n",
       "<style>\n",
       "    .dataframe thead tr:only-child th {\n",
       "        text-align: right;\n",
       "    }\n",
       "\n",
       "    .dataframe thead th {\n",
       "        text-align: left;\n",
       "    }\n",
       "\n",
       "    .dataframe tbody tr th {\n",
       "        vertical-align: top;\n",
       "    }\n",
       "</style>\n",
       "<table border=\"1\" class=\"dataframe\">\n",
       "  <thead>\n",
       "    <tr style=\"text-align: right;\">\n",
       "      <th></th>\n",
       "      <th>index</th>\n",
       "      <th>user_id</th>\n",
       "      <th>anime_id</th>\n",
       "      <th>rating_x</th>\n",
       "      <th>name</th>\n",
       "      <th>genre</th>\n",
       "      <th>type</th>\n",
       "      <th>episodes</th>\n",
       "      <th>rating_y</th>\n",
       "      <th>members</th>\n",
       "    </tr>\n",
       "  </thead>\n",
       "  <tbody>\n",
       "    <tr>\n",
       "      <th>22</th>\n",
       "      <td>11986</td>\n",
       "      <td>153</td>\n",
       "      <td>9989</td>\n",
       "      <td>10.0</td>\n",
       "      <td>Ano Hi Mita Hana no Namae wo Bokutachi wa Mada...</td>\n",
       "      <td>Drama, Slice of Life, Supernatural</td>\n",
       "      <td>TV</td>\n",
       "      <td>11.0</td>\n",
       "      <td>8.62</td>\n",
       "      <td>463835</td>\n",
       "    </tr>\n",
       "    <tr>\n",
       "      <th>40</th>\n",
       "      <td>12004</td>\n",
       "      <td>153</td>\n",
       "      <td>14833</td>\n",
       "      <td>10.0</td>\n",
       "      <td>Maoyuu Maou Yuusha</td>\n",
       "      <td>Adventure, Demons, Fantasy, Historical, Romance</td>\n",
       "      <td>TV</td>\n",
       "      <td>12.0</td>\n",
       "      <td>7.44</td>\n",
       "      <td>164445</td>\n",
       "    </tr>\n",
       "    <tr>\n",
       "      <th>24</th>\n",
       "      <td>11988</td>\n",
       "      <td>153</td>\n",
       "      <td>10213</td>\n",
       "      <td>9.0</td>\n",
       "      <td>Maji de Watashi ni Koi Shinasai</td>\n",
       "      <td>Comedy, Ecchi, Harem, Martial Arts, Romance, S...</td>\n",
       "      <td>TV</td>\n",
       "      <td>12.0</td>\n",
       "      <td>7.02</td>\n",
       "      <td>116683</td>\n",
       "    </tr>\n",
       "    <tr>\n",
       "      <th>25</th>\n",
       "      <td>11989</td>\n",
       "      <td>153</td>\n",
       "      <td>10456</td>\n",
       "      <td>9.0</td>\n",
       "      <td>Kyoukaisenjou no Horizon</td>\n",
       "      <td>Action, Fantasy</td>\n",
       "      <td>TV</td>\n",
       "      <td>13.0</td>\n",
       "      <td>7.29</td>\n",
       "      <td>90977</td>\n",
       "    </tr>\n",
       "    <tr>\n",
       "      <th>18</th>\n",
       "      <td>11982</td>\n",
       "      <td>153</td>\n",
       "      <td>9041</td>\n",
       "      <td>9.0</td>\n",
       "      <td>IS Infinite Stratos</td>\n",
       "      <td>Action, Comedy, Harem, Mecha, Sci-Fi</td>\n",
       "      <td>TV</td>\n",
       "      <td>12.0</td>\n",
       "      <td>7.12</td>\n",
       "      <td>254543</td>\n",
       "    </tr>\n",
       "  </tbody>\n",
       "</table>\n",
       "</div>"
      ],
      "text/plain": [
       "    index  user_id  anime_id  rating_x  \\\n",
       "22  11986      153      9989      10.0   \n",
       "40  12004      153     14833      10.0   \n",
       "24  11988      153     10213       9.0   \n",
       "25  11989      153     10456       9.0   \n",
       "18  11982      153      9041       9.0   \n",
       "\n",
       "                                                 name  \\\n",
       "22  Ano Hi Mita Hana no Namae wo Bokutachi wa Mada...   \n",
       "40                                 Maoyuu Maou Yuusha   \n",
       "24                   Maji de Watashi ni Koi Shinasai    \n",
       "25                           Kyoukaisenjou no Horizon   \n",
       "18                                IS Infinite Stratos   \n",
       "\n",
       "                                                genre type  episodes  \\\n",
       "22                 Drama, Slice of Life, Supernatural   TV      11.0   \n",
       "40    Adventure, Demons, Fantasy, Historical, Romance   TV      12.0   \n",
       "24  Comedy, Ecchi, Harem, Martial Arts, Romance, S...   TV      12.0   \n",
       "25                                    Action, Fantasy   TV      13.0   \n",
       "18               Action, Comedy, Harem, Mecha, Sci-Fi   TV      12.0   \n",
       "\n",
       "    rating_y  members  \n",
       "22      8.62   463835  \n",
       "40      7.44   164445  \n",
       "24      7.02   116683  \n",
       "25      7.29    90977  \n",
       "18      7.12   254543  "
      ]
     },
     "execution_count": 56,
     "metadata": {},
     "output_type": "execute_result"
    }
   ],
   "source": [
    "a_r.head()"
   ]
  },
  {
   "cell_type": "code",
   "execution_count": 57,
   "metadata": {},
   "outputs": [
    {
     "data": {
      "text/html": [
       "<div>\n",
       "<style>\n",
       "    .dataframe thead tr:only-child th {\n",
       "        text-align: right;\n",
       "    }\n",
       "\n",
       "    .dataframe thead th {\n",
       "        text-align: left;\n",
       "    }\n",
       "\n",
       "    .dataframe tbody tr th {\n",
       "        vertical-align: top;\n",
       "    }\n",
       "</style>\n",
       "<table border=\"1\" class=\"dataframe\">\n",
       "  <thead>\n",
       "    <tr style=\"text-align: right;\">\n",
       "      <th></th>\n",
       "      <th>anime_id</th>\n",
       "      <th>name</th>\n",
       "      <th>genre</th>\n",
       "      <th>type</th>\n",
       "      <th>episodes</th>\n",
       "      <th>rating</th>\n",
       "      <th>members</th>\n",
       "    </tr>\n",
       "  </thead>\n",
       "  <tbody>\n",
       "    <tr>\n",
       "      <th>14</th>\n",
       "      <td>199</td>\n",
       "      <td>Sen to Chihiro no Kamikakushi</td>\n",
       "      <td>Adventure, Drama, Supernatural</td>\n",
       "      <td>Movie</td>\n",
       "      <td>1.0</td>\n",
       "      <td>8.93</td>\n",
       "      <td>466254</td>\n",
       "    </tr>\n",
       "    <tr>\n",
       "      <th>102</th>\n",
       "      <td>205</td>\n",
       "      <td>Samurai Champloo</td>\n",
       "      <td>Action, Adventure, Comedy, Historical, Samurai...</td>\n",
       "      <td>TV</td>\n",
       "      <td>26.0</td>\n",
       "      <td>8.50</td>\n",
       "      <td>390076</td>\n",
       "    </tr>\n",
       "    <tr>\n",
       "      <th>440</th>\n",
       "      <td>22319</td>\n",
       "      <td>Tokyo Ghoul</td>\n",
       "      <td>Action, Drama, Horror, Mystery, Psychological,...</td>\n",
       "      <td>TV</td>\n",
       "      <td>12.0</td>\n",
       "      <td>8.07</td>\n",
       "      <td>618056</td>\n",
       "    </tr>\n",
       "    <tr>\n",
       "      <th>748</th>\n",
       "      <td>226</td>\n",
       "      <td>Elfen Lied</td>\n",
       "      <td>Action, Drama, Horror, Psychological, Romance,...</td>\n",
       "      <td>TV</td>\n",
       "      <td>13.0</td>\n",
       "      <td>7.85</td>\n",
       "      <td>623511</td>\n",
       "    </tr>\n",
       "    <tr>\n",
       "      <th>34</th>\n",
       "      <td>431</td>\n",
       "      <td>Howl no Ugoku Shiro</td>\n",
       "      <td>Adventure, Drama, Fantasy, Romance</td>\n",
       "      <td>Movie</td>\n",
       "      <td>1.0</td>\n",
       "      <td>8.74</td>\n",
       "      <td>333186</td>\n",
       "    </tr>\n",
       "  </tbody>\n",
       "</table>\n",
       "</div>"
      ],
      "text/plain": [
       "     anime_id                           name  \\\n",
       "14        199  Sen to Chihiro no Kamikakushi   \n",
       "102       205               Samurai Champloo   \n",
       "440     22319                    Tokyo Ghoul   \n",
       "748       226                     Elfen Lied   \n",
       "34        431            Howl no Ugoku Shiro   \n",
       "\n",
       "                                                 genre   type  episodes  \\\n",
       "14                      Adventure, Drama, Supernatural  Movie       1.0   \n",
       "102  Action, Adventure, Comedy, Historical, Samurai...     TV      26.0   \n",
       "440  Action, Drama, Horror, Mystery, Psychological,...     TV      12.0   \n",
       "748  Action, Drama, Horror, Psychological, Romance,...     TV      13.0   \n",
       "34                  Adventure, Drama, Fantasy, Romance  Movie       1.0   \n",
       "\n",
       "     rating  members  \n",
       "14     8.93   466254  \n",
       "102    8.50   390076  \n",
       "440    8.07   618056  \n",
       "748    7.85   623511  \n",
       "34     8.74   333186  "
      ]
     },
     "execution_count": 57,
     "metadata": {},
     "output_type": "execute_result"
    }
   ],
   "source": [
    "pr.head()"
   ]
  },
  {
   "cell_type": "code",
   "execution_count": null,
   "metadata": {
    "collapsed": true
   },
   "outputs": [],
   "source": []
  },
  {
   "cell_type": "raw",
   "metadata": {},
   "source": []
  },
  {
   "cell_type": "code",
   "execution_count": null,
   "metadata": {
    "collapsed": true
   },
   "outputs": [],
   "source": []
  },
  {
   "cell_type": "code",
   "execution_count": null,
   "metadata": {
    "collapsed": true
   },
   "outputs": [],
   "source": []
  },
  {
   "cell_type": "code",
   "execution_count": null,
   "metadata": {
    "collapsed": true
   },
   "outputs": [],
   "source": []
  },
  {
   "cell_type": "code",
   "execution_count": null,
   "metadata": {
    "collapsed": true
   },
   "outputs": [],
   "source": []
  },
  {
   "cell_type": "code",
   "execution_count": null,
   "metadata": {
    "collapsed": true
   },
   "outputs": [],
   "source": []
  },
  {
   "cell_type": "code",
   "execution_count": null,
   "metadata": {
    "collapsed": true
   },
   "outputs": [],
   "source": []
  },
  {
   "cell_type": "code",
   "execution_count": null,
   "metadata": {
    "collapsed": true
   },
   "outputs": [],
   "source": []
  }
 ],
 "metadata": {
  "kernelspec": {
   "display_name": "Python 2",
   "language": "python",
   "name": "python2"
  },
  "language_info": {
   "codemirror_mode": {
    "name": "ipython",
    "version": 2
   },
   "file_extension": ".py",
   "mimetype": "text/x-python",
   "name": "python",
   "nbconvert_exporter": "python",
   "pygments_lexer": "ipython2",
   "version": "2.7.13"
  }
 },
 "nbformat": 4,
 "nbformat_minor": 2
}
